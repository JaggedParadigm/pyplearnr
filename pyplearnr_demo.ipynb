{
 "cells": [
  {
   "cell_type": "markdown",
   "metadata": {},
   "source": [
    "# pyplearnr demo\n",
    "Here I demonstrate pyplearnr, a wrapper for model validation and selection using nested k-fold cross-validation.\n",
    "\n",
    "## Titanic dataset example\n",
    "Here I use the Titanic dataset I've cleaned and pickled in a separate tutorial.\n",
    "\n",
    "### Import data"
   ]
  },
  {
   "cell_type": "code",
   "execution_count": 1,
   "metadata": {
    "collapsed": false
   },
   "outputs": [
    {
     "name": "stdout",
     "output_type": "stream",
     "text": [
      "<class 'pandas.core.frame.DataFrame'>\n",
      "Int64Index: 890 entries, 0 to 890\n",
      "Data columns (total 9 columns):\n",
      "Survived    890 non-null int64\n",
      "Pclass      890 non-null int64\n",
      "Sex         890 non-null object\n",
      "Age         890 non-null float64\n",
      "SibSp       890 non-null int64\n",
      "Parch       890 non-null int64\n",
      "Fare        890 non-null float64\n",
      "Embarked    890 non-null object\n",
      "Title       890 non-null object\n",
      "dtypes: float64(2), int64(4), object(3)\n",
      "memory usage: 69.5+ KB\n"
     ]
    }
   ],
   "source": [
    "import pandas as pd\n",
    "\n",
    "df = pd.read_pickle('trimmed_titanic_data.pkl')\n",
    "\n",
    "df.info()"
   ]
  },
  {
   "cell_type": "markdown",
   "metadata": {},
   "source": [
    "By \"cleaned\" I mean I've derived titles (e.g. \"Mr.\", \"Mrs.\", \"Dr.\", etc) from the passenger names, imputed the missing Age values using polynomial regression with grid-searched 10-fold cross-validation, filled in the 3 missing Embarked values with the mode, and removed all fields that could be considered an id for that individual.\n",
    "\n",
    "Thus, there is no missing/null data.\n",
    "\n",
    "## Set categorical features as type 'category'\n",
    "In order to one-hot encode categorical data, its best to set the features that are considered categorical:"
   ]
  },
  {
   "cell_type": "code",
   "execution_count": 2,
   "metadata": {
    "collapsed": false
   },
   "outputs": [
    {
     "name": "stdout",
     "output_type": "stream",
     "text": [
      "<class 'pandas.core.frame.DataFrame'>\n",
      "Int64Index: 890 entries, 0 to 890\n",
      "Data columns (total 9 columns):\n",
      "Survived    890 non-null category\n",
      "Pclass      890 non-null category\n",
      "Sex         890 non-null category\n",
      "Age         890 non-null float64\n",
      "SibSp       890 non-null int64\n",
      "Parch       890 non-null int64\n",
      "Fare        890 non-null float64\n",
      "Embarked    890 non-null category\n",
      "Title       890 non-null category\n",
      "dtypes: category(5), float64(2), int64(2)\n",
      "memory usage: 39.3 KB\n"
     ]
    }
   ],
   "source": [
    "simulation_df = df.copy()\n",
    "\n",
    "categorical_features = ['Survived','Pclass','Sex','Embarked','Title']\n",
    "\n",
    "for feature in categorical_features:\n",
    "    simulation_df[feature] = simulation_df[feature].astype('category')\n",
    "    \n",
    "simulation_df.info()"
   ]
  },
  {
   "cell_type": "markdown",
   "metadata": {},
   "source": [
    "## One-hot encode categorical features"
   ]
  },
  {
   "cell_type": "code",
   "execution_count": 3,
   "metadata": {
    "collapsed": false
   },
   "outputs": [
    {
     "name": "stdout",
     "output_type": "stream",
     "text": [
      "<class 'pandas.core.frame.DataFrame'>\n",
      "Int64Index: 890 entries, 0 to 890\n",
      "Data columns (total 17 columns):\n",
      "Age               890 non-null float64\n",
      "SibSp             890 non-null int64\n",
      "Parch             890 non-null int64\n",
      "Fare              890 non-null float64\n",
      "Survived_1        890 non-null uint8\n",
      "Pclass_2          890 non-null uint8\n",
      "Pclass_3          890 non-null uint8\n",
      "Sex_male          890 non-null uint8\n",
      "Embarked_Q        890 non-null uint8\n",
      "Embarked_S        890 non-null uint8\n",
      "Title_Dr          890 non-null uint8\n",
      "Title_Military    890 non-null uint8\n",
      "Title_Miss        890 non-null uint8\n",
      "Title_Mr          890 non-null uint8\n",
      "Title_Mrs         890 non-null uint8\n",
      "Title_Noble       890 non-null uint8\n",
      "Title_Rev         890 non-null uint8\n",
      "dtypes: float64(2), int64(2), uint8(13)\n",
      "memory usage: 46.1 KB\n"
     ]
    }
   ],
   "source": [
    "simulation_df = pd.get_dummies(simulation_df,drop_first=True)\n",
    "\n",
    "simulation_df.info()"
   ]
  },
  {
   "cell_type": "markdown",
   "metadata": {},
   "source": [
    "Now we have 17 features.\n",
    "\n",
    "### Split into input/output data"
   ]
  },
  {
   "cell_type": "code",
   "execution_count": 4,
   "metadata": {
    "collapsed": true
   },
   "outputs": [],
   "source": [
    "# Set output feature\n",
    "output_feature = 'Survived_1'\n",
    "\n",
    "# Get all column names\n",
    "column_names = list(simulation_df.columns)\n",
    "\n",
    "# Get input features\n",
    "input_features = [x for x in column_names if x != output_feature]\n",
    "\n",
    "# Split into features and responses\n",
    "X = simulation_df[input_features].copy()\n",
    "y = simulation_df[output_feature].copy()"
   ]
  },
  {
   "cell_type": "markdown",
   "metadata": {},
   "source": [
    "### Null model"
   ]
  },
  {
   "cell_type": "code",
   "execution_count": 5,
   "metadata": {
    "collapsed": false
   },
   "outputs": [
    {
     "data": {
      "text/plain": [
       "array([ 0.61573034,  0.38426966])"
      ]
     },
     "execution_count": 5,
     "metadata": {},
     "output_type": "execute_result"
    }
   ],
   "source": [
    "simulation_df['Survived_1'].value_counts().values/float(simulation_df['Survived_1'].value_counts().values.sum())"
   ]
  },
  {
   "cell_type": "markdown",
   "metadata": {},
   "source": [
    "Thus, null accuracy of ~62% if we always predict death.\n",
    "\n",
    "### Import pyplearnr and initialize optimized pipeline collection"
   ]
  },
  {
   "cell_type": "code",
   "execution_count": 6,
   "metadata": {
    "collapsed": false
   },
   "outputs": [],
   "source": [
    "%matplotlib inline\n",
    "\n",
    "import pyplearnr as ppl"
   ]
  },
  {
   "cell_type": "markdown",
   "metadata": {},
   "source": [
    "### KNN with and without pre-processing and various options\n",
    "#### Basic KNN\n",
    "Here we do a K-nearest neighbors (KNN) classification with stratified and nested 3-by-3-fold cross-validation over the 1 to 30 nearest neighbors and the use of either \"uniform\" or \"distance\" weights:"
   ]
  },
  {
   "cell_type": "code",
   "execution_count": 7,
   "metadata": {
    "collapsed": false
   },
   "outputs": [
    {
     "name": "stdout",
     "output_type": "stream",
     "text": [
      "Number of pipelines: 60 \n",
      "\n",
      "Outer Fold: 2 \n",
      "\n",
      "51 Pipeline(steps=[('estimator', KNeighborsClassifier(algorithm='auto', leaf_size=30, metric='minkowski',\n",
      "           metric_params=None, n_jobs=1, n_neighbors=26, p=2,\n",
      "           weights='distance'))])\n",
      "55 Pipeline(steps=[('estimator', KNeighborsClassifier(algorithm='auto', leaf_size=30, metric='minkowski',\n",
      "           metric_params=None, n_jobs=1, n_neighbors=28, p=2,\n",
      "           weights='distance'))])\n",
      "\n",
      "\n",
      "No model was chosen because there is no clear winner. Please use the same fit method with best_inner_fold_pipeline_inds keyword argument.\n",
      "\n",
      "Example:\tkfcv.fit(X.values, y.values, pipelines)\n",
      "\t\tkfcv.fit(X.values, y.values, pipelines, \n",
      "\t\t\t best_inner_fold_pipeline_inds = {0:9, 2:3})\n",
      "\n",
      "CPU times: user 5.03 s, sys: 49.5 ms, total: 5.07 s\n",
      "Wall time: 5.16 s\n"
     ]
    }
   ],
   "source": [
    "%%time \n",
    "\n",
    "# Initialize nested k-fold cross-validation object\n",
    "kfcv = ppl.NestedKFoldCrossValidation(outer_loop_fold_count=3, \n",
    "                                      inner_loop_fold_count=3,\n",
    "                                      shuffle_seed=2369,\n",
    "                                      outer_loop_split_seed=461,\n",
    "                                      inner_loop_split_seeds=[284, 406, 303])\n",
    "\n",
    "# Design combinatorial pipeline schematic\n",
    "pipeline_schematic = [\n",
    "    {'estimator': {\n",
    "            'knn': {\n",
    "                'n_neighbors': range(1,31),\n",
    "                'weights': ['uniform','distance']\n",
    "    }}}\n",
    "]\n",
    "\n",
    "# Form scikit-learn pipelines using the PipelineBuilder\n",
    "pipelines = ppl.PipelineBuilder().build_pipeline_bundle(pipeline_schematic)\n",
    "\n",
    "print 'Number of pipelines: %d'%(len(pipelines)), '\\n'\n",
    "\n",
    "# Perform nested k-fold cross-validation\n",
    "kfcv.fit(X.values, y.values, pipelines, scoring_metric='auc', score_type='median')"
   ]
  },
  {
   "cell_type": "markdown",
   "metadata": {},
   "source": [
    "Pyplearnr has indicated that the contest of outer-fold 2 has resulted in a tie between two pipelines with the same median score over all inner-folds. We can resolve this by re-running the fit method with the best_inner_fold_pipeline_inds keyword argument. I'll choose the simplest (higher number of neighbors):"
   ]
  },
  {
   "cell_type": "code",
   "execution_count": 8,
   "metadata": {
    "collapsed": false
   },
   "outputs": [
    {
     "name": "stdout",
     "output_type": "stream",
     "text": [
      "55 Pipeline(steps=[('estimator', KNeighborsClassifier(algorithm='auto', leaf_size=30, metric='minkowski',\n",
      "           metric_params=None, n_jobs=1, n_neighbors=28, p=2,\n",
      "           weights='distance'))])\n",
      "21 Pipeline(steps=[('estimator', KNeighborsClassifier(algorithm='auto', leaf_size=30, metric='minkowski',\n",
      "           metric_params=None, n_jobs=1, n_neighbors=11, p=2,\n",
      "           weights='distance'))])\n",
      "31 Pipeline(steps=[('estimator', KNeighborsClassifier(algorithm='auto', leaf_size=30, metric='minkowski',\n",
      "           metric_params=None, n_jobs=1, n_neighbors=16, p=2,\n",
      "           weights='distance'))])\n",
      "\n",
      "\n",
      "No model was chosen because there is no clear winner. Please use the same fit method with one of the indices above.\n",
      "\n",
      "Example:\tkfcv.fit(X.values, y.values, pipelines)\n",
      "\t\tkfcv.fit(X.values, y.values, pipelines, best_outer_fold_pipeline=9)\n"
     ]
    }
   ],
   "source": [
    "kfcv.fit(X.values, y.values, pipelines, \n",
    "         best_inner_fold_pipeline_inds = {2:55})"
   ]
  },
  {
   "cell_type": "markdown",
   "metadata": {},
   "source": [
    "Whatever pipline wins the most outer-fold contests wins overall.\n",
    "\n",
    "In this case, pyplearnr has notified us that all inner-fold contests of each outer-fold have resulted in different winners. We can resolve this conflict by, again, re-running the fit method, but with the best_outer_fold_pipeline keyword argument:"
   ]
  },
  {
   "cell_type": "code",
   "execution_count": 9,
   "metadata": {
    "collapsed": false
   },
   "outputs": [
    {
     "name": "stdout",
     "output_type": "stream",
     "text": [
      "\n",
      "--------------------------------------------------------------------------------\n",
      "Best pipeline: 55\n",
      "--------------------------------------------------------------------------------\n",
      "----------------------  ------------------------------------\n",
      "Validation performance  Inner-loop scores\n",
      "----------------------  ------------------------------------\n",
      "                                    OF0       OF1       OF2\n",
      " min    0.6582            min    0.6749     0.669    0.6558\n",
      " 25%    0.6621            25%    0.6752    0.6956     0.673\n",
      " 50%    0.6659            50%    0.6755    0.7222    0.6903\n",
      " 75%    0.6903            75%    0.6911    0.7296    0.7149\n",
      " max    0.7146            max    0.7066    0.7371    0.7395\n",
      "----------------------  ------------------------------------\n",
      "mean    0.6796           mean    0.6857    0.7094    0.6952\n",
      " std   0.03059            std   0.01818   0.03576   0.04207\n",
      "----------------------  ------------------------------------\n",
      " OF0    0.7146            IF0    0.6755    0.7222    0.7395\n",
      " OF1    0.6659            IF1    0.7066    0.7371    0.6558\n",
      " OF2    0.6582            IF2    0.6749     0.669    0.6903\n",
      "----------------------  ------------------------------------\n",
      "--------------------------------------------------------------------------------\n",
      "Pipeline steps\n",
      "---------------\n",
      "estimator:\n",
      "KNeighborsClassifier(algorithm='auto', leaf_size=30, metric='minkowski',\n",
      "   metric_params=None, n_jobs=1, n_neighbors=28, p=2,\n",
      "   weights='distance')\n",
      "\n",
      "--------------------------------------------------------------------------------\n",
      "Nested k-fold cross-validation parameters\n",
      "-----------------------------------------\n",
      "scoring metric:\t\t\tauc\n",
      "\n",
      "scoring type:\t\t\tmedian\n",
      "\n",
      "outer-fold count:\t\t3\n",
      "inner-fold count:\t\t3\n",
      "\n",
      "shuffle seed:\t\t\t2369\n",
      "outer-loop split seed:\t\t461\n",
      "inner-loop split seeds:\t\t284, 406, 303\n",
      "--------------------------------------------------------------------------------\n",
      "\n",
      "\n"
     ]
    }
   ],
   "source": [
    "kfcv.fit(X.values, y.values, pipelines, best_outer_fold_pipeline=55)"
   ]
  },
  {
   "cell_type": "markdown",
   "metadata": {},
   "source": [
    "The output report lists the winning pipeline index, its validation (outer-fold test) scores and statistics, inner-fold (IF) test scores and statistics for each outer-fold (OF), a layout of the pipeline steps, and parameters.\n",
    "\n",
    "Additionally, the report contains the outer- and inner-loop fold counts, seeds, scoring metric, and scoring type. These, along with the same data and pipelines, can be used as inputs to the nested k-fold cross-validation object initialization and its fit method to uniquely duplicate the results of this run.\n",
    "\n",
    "We can get a visual report of this pipeline's validation scores and the inner-loop test scores for each outer-fold:"
   ]
  },
  {
   "cell_type": "code",
   "execution_count": 10,
   "metadata": {
    "collapsed": false
   },
   "outputs": [
    {
     "data": {
      "image/png": "[encoded data removed]",
      "text/plain": [
       "<matplotlib.figure.Figure at 0x1162c1c50>"
      ]
     },
     "metadata": {},
     "output_type": "display_data"
    }
   ],
   "source": [
    "kfcv.plot_best_pipeline_scores()"
   ]
  },
  {
   "cell_type": "markdown",
   "metadata": {},
   "source": [
    "Additionally we can visualize the performance of all pipelines over all folds:"
   ]
  },
  {
   "cell_type": "code",
   "execution_count": 16,
   "metadata": {
    "collapsed": true
   },
   "outputs": [],
   "source": [
    "%load_ext autoreload"
   ]
  },
  {
   "cell_type": "code",
   "execution_count": 18,
   "metadata": {
    "collapsed": false
   },
   "outputs": [
    {
     "data": {
      "image/png": "[encoded data removed]",
      "text/plain": [
       "<matplotlib.figure.Figure at 0x11a3af110>"
      ]
     },
     "metadata": {},
     "output_type": "display_data"
    }
   ],
   "source": [
    "%autoreload\n",
    "\n",
    "kfcv.plot_contest(all_folds=True, markersize=3, figsize=(5,10), fontsize=8) #, highlight_best=True"
   ]
  },
  {
   "cell_type": "markdown",
   "metadata": {},
   "source": [
    "Additionally, we can visualize the test fold scores in all folds separately:"
   ]
  },
  {
   "cell_type": "code",
   "execution_count": 14,
   "metadata": {
    "collapsed": false,
    "scrolled": false
   },
   "outputs": [
    {
     "data": {
      "image/png": "[encoded data removed]",
      "text/plain": [
       "<matplotlib.figure.Figure at 0x11a300490>"
      ]
     },
     "metadata": {},
     "output_type": "display_data"
    },
    {
     "data": {
      "image/png": "[encoded data removed]",
      "text/plain": [
       "<matplotlib.figure.Figure at 0x119f71b10>"
      ]
     },
     "metadata": {},
     "output_type": "display_data"
    },
    {
     "data": {
      "image/png": "[encoded data removed]",
      "text/plain": [
       "<matplotlib.figure.Figure at 0x11a3525d0>"
      ]
     },
     "metadata": {},
     "output_type": "display_data"
    }
   ],
   "source": [
    "kfcv.plot_contest(markersize=2, figsize=(5,10), fontsize=8)"
   ]
  },
  {
   "cell_type": "markdown",
   "metadata": {},
   "source": [
    "The validation score range is within the"
   ]
  },
  {
   "cell_type": "markdown",
   "metadata": {},
   "source": [
    "This pipeline's performance was better in fold 0, though similar to that in folds 1 and 2.\n",
    "\n",
    "We can also look at the fine details of the inner-fold contests of each outer-fold in order:"
   ]
  },
  {
   "cell_type": "code",
   "execution_count": null,
   "metadata": {
    "collapsed": false
   },
   "outputs": [],
   "source": [
    "kfcv.plot_contest()"
   ]
  },
  {
   "cell_type": "markdown",
   "metadata": {},
   "source": [
    "The combined scores for all inner-loop contests for each pipeline can also be plotted:"
   ]
  },
  {
   "cell_type": "code",
   "execution_count": null,
   "metadata": {
    "collapsed": false
   },
   "outputs": [],
   "source": [
    "kfcv.plot_contest(all_folds=True)"
   ]
  },
  {
   "cell_type": "markdown",
   "metadata": {},
   "source": [
    "# Different estimators"
   ]
  },
  {
   "cell_type": "code",
   "execution_count": null,
   "metadata": {
    "collapsed": true
   },
   "outputs": [],
   "source": [
    "%%time \n",
    "\n",
    "import numpy as np\n",
    "\n",
    "# Initialize nested k-fold cross-validation object\n",
    "kfcv = ppl.NestedKFoldCrossValidation(outer_loop_fold_count=3, \n",
    "                                      inner_loop_fold_count=3)\n",
    "\n",
    "# Design combinatorial pipeline schematic\n",
    "pipeline_schematic = [\n",
    "    {'estimator': {\n",
    "            'knn': {\n",
    "                'n_neighbors': range(1,31),\n",
    "                'weights': ['uniform','distance']\n",
    "                },\n",
    "            'svm': {\n",
    "                'C': logspace() \n",
    "            }\n",
    "        }\n",
    "    }\n",
    "]\n",
    "\n",
    "# Form scikit-learn pipelines using the PipelineBuilder\n",
    "pipelines = ppl.PipelineBuilder().build_pipeline_bundle(pipeline_schematic)\n",
    "\n",
    "print 'Number of pipelines: %d'%(len(pipelines)), '\\n'\n",
    "\n",
    "# Perform nested k-fold cross-validation\n",
    "kfcv.fit(X.values, y.values, pipelines, scoring_metric='auc')"
   ]
  },
  {
   "cell_type": "markdown",
   "metadata": {},
   "source": [
    "Pyplearnr has indicated that there is a tie in between one of the 60 pipelines in the inner-loop contest of outer-folds 0. We can specify the winner (preferably the simplest) by re-running the fit method but with the best_inner_fold_pipeline_inds keyword argument. \n",
    "\n",
    "Here I choose pipeline 39 for outer-fold 0 (higher number of neighbors is simpler for KNN):"
   ]
  },
  {
   "cell_type": "code",
   "execution_count": null,
   "metadata": {
    "collapsed": false
   },
   "outputs": [],
   "source": [
    "kfcv.fit(X.values, y.values, pipelines, \n",
    "    best_inner_fold_pipeline_inds = {2:1})"
   ]
  },
  {
   "cell_type": "markdown",
   "metadata": {},
   "source": [
    "Pyplearnr has now found a tie in the final outer-loop contest. Between pipelines 3, 4, and 39. Here I use the best_outer_fold_pipeline with the fit method to resolve this conflict:"
   ]
  },
  {
   "cell_type": "code",
   "execution_count": null,
   "metadata": {
    "collapsed": false
   },
   "outputs": [],
   "source": [
    "kfcv.fit(X.values, y.values, pipelines, best_outer_fold_pipeline=59)"
   ]
  },
  {
   "cell_type": "markdown",
   "metadata": {},
   "source": [
    "The output report lists the winning pipeline index, its validation (outer-loop test) scores and statistics, inner-loop test scores and statistics for each outer loop, a layout of the pipeline steps, and parameters that uniquely define this particular run of the procedure. \n",
    "\n",
    "Pyplearnr has chosen the best pipeline as that containing a k-nearest neighbors classifier with k=11.\n",
    "\n",
    "The outer- and inner-loop fold counts, seeds, scoring metric, and scoring types, along with the same data and pipelines, can be used to uniquely duplicate the results of this run:"
   ]
  },
  {
   "cell_type": "code",
   "execution_count": null,
   "metadata": {
    "collapsed": false
   },
   "outputs": [],
   "source": [
    "%%time \n",
    "\n",
    "# Initialize nested k-fold cross-validation object\n",
    "kfcv = ppl.NestedKFoldCrossValidation(outer_loop_fold_count=3, \n",
    "                                      inner_loop_fold_count=3,\n",
    "                                      shuffle_seed=2949,\n",
    "                                      outer_loop_split_seed=70,\n",
    "                                      inner_loop_split_seeds=[527, 68, 472])\n",
    "\n",
    "# Design combinatorial pipeline schematic\n",
    "pipeline_schematic = [\n",
    "    {'estimator': {\n",
    "            'knn': {\n",
    "                'n_neighbors': range(1,31),\n",
    "                'weights': ['uniform','distance']\n",
    "    }}}\n",
    "]\n",
    "\n",
    "# Form scikit-learn pipelines using the PipelineBuilder\n",
    "pipelines = ppl.PipelineBuilder().build_pipeline_bundle(pipeline_schematic)\n",
    "\n",
    "print 'Number of pipelines: %d'%(len(pipelines)), '\\n'\n",
    "\n",
    "# Perform nested k-fold cross-validation\n",
    "kfcv.fit(X.values, y.values, pipelines, scoring_metric='auc')"
   ]
  },
  {
   "cell_type": "code",
   "execution_count": null,
   "metadata": {
    "collapsed": false
   },
   "outputs": [],
   "source": [
    "kfcv.fit(X.values, y.values, pipelines, best_outer_fold_pipeline=17)"
   ]
  },
  {
   "cell_type": "markdown",
   "metadata": {},
   "source": [
    "Two visual reports are available: 1) plot_best_pipeline_scores and 2) plot_contest.\n",
    "\n",
    "The plot_best_pipeline_scores method plots the winning pipeline in a box-and-whisker plot "
   ]
  },
  {
   "cell_type": "code",
   "execution_count": null,
   "metadata": {
    "collapsed": false
   },
   "outputs": [],
   "source": [
    "%matplotlib inline\n",
    "\n",
    "kfcv.plot_best_pipeline_scores(number_size=18, markersize=14)"
   ]
  },
  {
   "cell_type": "markdown",
   "metadata": {},
   "source": [
    "Note how the estimator\\_\\_weights parameter isn't set for the KNN estimator.\n",
    "\n",
    "### KNN with scaling\n",
    "The currently supported scaling options are standard, normal, min-max, and binary using scikit-learn's StandardScaler, Normalizer, MinMaxScaler, and Binarizer, respectively. These are set by the pipeline initialization kwarg 'scale_type' like this:"
   ]
  },
  {
   "cell_type": "code",
   "execution_count": null,
   "metadata": {
    "collapsed": false
   },
   "outputs": [],
   "source": [
    "%%time\n",
    "\n",
    "estimator = 'knn'\n",
    "\n",
    "scaling_options = ['standard','normal','min-max','binary']\n",
    "\n",
    "for scaling_option in scaling_options:\n",
    "    model_name = '%s_%s'%(scaling_option,estimator_name)\n",
    "    \n",
    "    optimized_pipeline_kwargs = {\n",
    "        'scale_type': scaling_option\n",
    "    }\n",
    "\n",
    "    # Initialize pipeline\n",
    "    optimized_pipeline = ppl.OptimizedPipeline(estimator,**optimized_pipeline_kwargs)\n",
    "\n",
    "    # Set pipeline fitting parameters\n",
    "    fit_kwargs = {\n",
    "        'random_state': 6,\n",
    "        'use_default_param_dist': True,\n",
    "        'suppress_output': True\n",
    "        \n",
    "    }\n",
    "\n",
    "    # Fit data\n",
    "    optimized_pipeline.fit(X,y,**fit_kwargs)\n",
    "\n",
    "    # Save \n",
    "    optimized_pipelines[model_name] = optimized_pipeline"
   ]
  },
  {
   "cell_type": "markdown",
   "metadata": {},
   "source": [
    "Let's compare the pipelines so far:"
   ]
  },
  {
   "cell_type": "code",
   "execution_count": null,
   "metadata": {
    "collapsed": false
   },
   "outputs": [],
   "source": [
    "pipeline_keys = optimized_pipelines.keys()\n",
    "\n",
    "test_scores = [optimized_pipelines[key].test_score_ for key in pipeline_keys]\n",
    "\n",
    "ax = pd.Series(test_scores,index=pipeline_keys).sort_values().plot(kind='barh',color='black')"
   ]
  },
  {
   "cell_type": "markdown",
   "metadata": {},
   "source": [
    "Binary scaling fed into a KNN classifier appears to have the best training score.\n",
    "\n",
    "#### KNN with custom min-max and binary scaling settings\n",
    "MinMaxScaler scales each feature value to between 0 and 1 by default. Different scaling ranges can be gridded over by setting the 'scaler\\_\\_feature_range' keyword argument in param_dist.\n",
    "\n",
    "Binarizer sets each value to 0 or 1 depending on a threshold. The default for pyplearnr is 0.5. This can be changed by setting 'scaler\\_\\_threshold' using param_dist.\n",
    "\n",
    "Here is an example of setting both:"
   ]
  },
  {
   "cell_type": "code",
   "execution_count": null,
   "metadata": {
    "collapsed": false
   },
   "outputs": [],
   "source": [
    "%%time\n",
    "\n",
    "reload(ppl)\n",
    "\n",
    "estimator = 'knn'\n",
    "\n",
    "scaling_options = ['min_max','binary']\n",
    "\n",
    "param_dists = {\n",
    "    'min_max': {\n",
    "        'scaler__feature_range': [(1,2),(3,4)]\n",
    "    },\n",
    "    'binary': {\n",
    "        'scaler__threshold': np.arange(0,1,0.1)\n",
    "    }\n",
    "}\n",
    "\n",
    "for scaling_option in scaling_options:\n",
    "    model_name = 'custom_%s_%s'%(scaling_option,estimator_name)\n",
    "    \n",
    "    optimized_pipeline_kwargs = {\n",
    "        'scale_type': scaling_option\n",
    "    }\n",
    "\n",
    "    # Initialize pipeline\n",
    "    optimized_pipeline = ppl.OptimizedPipeline(estimator,**optimized_pipeline_kwargs)\n",
    "    \n",
    "    # Set pipeline fitting parameters\n",
    "    fit_kwargs = {\n",
    "        'random_state': 6,\n",
    "        'use_default_param_dist': True,\n",
    "        'suppress_output': True,\n",
    "        'param_dist': param_dists[scaling_option]\n",
    "        \n",
    "    }\n",
    "\n",
    "    # Fit data\n",
    "    optimized_pipeline.fit(X,y,**fit_kwargs)\n",
    "\n",
    "    # Save \n",
    "    optimized_pipelines[model_name] = optimized_pipeline\n",
    "    \n",
    "# Visualize results\n",
    "pipeline_keys = optimized_pipelines.keys()\n",
    "\n",
    "test_scores = [optimized_pipelines[key].test_score_ for key in pipeline_keys]\n",
    "\n",
    "ax = pd.Series(test_scores,index=pipeline_keys).sort_values().plot(kind='barh',color='black')"
   ]
  },
  {
   "cell_type": "markdown",
   "metadata": {},
   "source": [
    "Switching the range for min_max scaling boosted it to rank 1 for pipeline training scores:"
   ]
  },
  {
   "cell_type": "code",
   "execution_count": null,
   "metadata": {
    "collapsed": false
   },
   "outputs": [],
   "source": [
    "print optimized_pipelines['custom_min_max_knn']"
   ]
  },
  {
   "cell_type": "markdown",
   "metadata": {},
   "source": [
    "The range of 1 to 2 for the MinMaxScaler appeared to be the best."
   ]
  },
  {
   "cell_type": "markdown",
   "metadata": {},
   "source": [
    "### KNN with feature selection using SelectKBest with f_classif\n",
    "Currently only one form of feature selection, SelectKBest with f_classif, is supported. This is set using the 'feature_selection_type' keyword argument."
   ]
  },
  {
   "cell_type": "code",
   "execution_count": null,
   "metadata": {
    "collapsed": false
   },
   "outputs": [],
   "source": [
    "%%time\n",
    "\n",
    "reload(ppl)\n",
    "\n",
    "estimator = 'knn'\n",
    "\n",
    "model_name = 'select_%s'%(estimator_name)\n",
    "\n",
    "optimized_pipeline_kwargs = {\n",
    "    'feature_selection_type': 'select_k_best'\n",
    "}\n",
    "\n",
    "# Initialize pipeline\n",
    "optimized_pipeline = ppl.OptimizedPipeline(estimator,**optimized_pipeline_kwargs)\n",
    "\n",
    "# Set pipeline fitting parameters\n",
    "fit_kwargs = {\n",
    "    'random_state': 6,\n",
    "    'use_default_param_dist': True,\n",
    "    'suppress_output': True\n",
    "}\n",
    "\n",
    "# Fit data\n",
    "optimized_pipeline.fit(X,y,**fit_kwargs)\n",
    "\n",
    "# Save \n",
    "optimized_pipelines[model_name] = optimized_pipeline\n",
    "    \n",
    "# Visualize results\n",
    "pipeline_keys = optimized_pipelines.keys()\n",
    "\n",
    "test_scores = [optimized_pipelines[key].test_score_ for key in pipeline_keys]\n",
    "\n",
    "ax = pd.Series(test_scores,index=pipeline_keys).sort_values().plot(kind='barh',color='black')"
   ]
  },
  {
   "cell_type": "markdown",
   "metadata": {},
   "source": [
    "Feature selection and KNN did had a mid-level training score:"
   ]
  },
  {
   "cell_type": "code",
   "execution_count": null,
   "metadata": {
    "collapsed": false
   },
   "outputs": [],
   "source": [
    "print optimized_pipelines['select_knn']"
   ]
  },
  {
   "cell_type": "markdown",
   "metadata": {},
   "source": [
    "SelectKBest with f_classif chose 5 features as the best to use in the model.\n",
    "\n",
    "The features selected by SelectKBest can be accessed normally, using the mask obtained from the get_support() method on the columns:"
   ]
  },
  {
   "cell_type": "code",
   "execution_count": null,
   "metadata": {
    "collapsed": false
   },
   "outputs": [],
   "source": [
    "feature_selection_mask = optimized_pipelines['select_knn'].pipeline.named_steps['feature_selection'].get_support()\n",
    "\n",
    "print np.array(X.columns)[feature_selection_mask]"
   ]
  },
  {
   "cell_type": "markdown",
   "metadata": {},
   "source": [
    "Thus, Pclass 3, being male, and the titles Miss, Mr, and Mrs were considered the most important features by SelectKBest using f_classif.\n",
    "\n",
    "#### Setting custom feature selection\n",
    "The default number of features is 1 to all of them. This can be gridded over different values by setting 'feature_selection\\_\\_k' in param_dist:"
   ]
  },
  {
   "cell_type": "code",
   "execution_count": null,
   "metadata": {
    "collapsed": false
   },
   "outputs": [],
   "source": [
    "%%time\n",
    "\n",
    "reload(ppl)\n",
    "\n",
    "estimator = 'knn'\n",
    "\n",
    "model_name = 'custom_select_%s'%(estimator_name)\n",
    "\n",
    "optimized_pipeline_kwargs = {\n",
    "    'feature_selection_type': 'select_k_best'\n",
    "}\n",
    "\n",
    "# Initialize pipeline\n",
    "optimized_pipeline = ppl.OptimizedPipeline(estimator,**optimized_pipeline_kwargs)\n",
    "\n",
    "param_dist = {\n",
    "    'feature_selection__k': [5,7,8]\n",
    "}\n",
    "\n",
    "# Set pipeline fitting parameters\n",
    "fit_kwargs = {\n",
    "    'random_state': 6,\n",
    "    'use_default_param_dist': True,\n",
    "    'suppress_output': True,\n",
    "    'param_dist': param_dist\n",
    "}\n",
    "\n",
    "# Fit data\n",
    "optimized_pipeline.fit(X,y,**fit_kwargs)\n",
    "\n",
    "# Save \n",
    "optimized_pipelines[model_name] = optimized_pipeline\n",
    "    \n",
    "# Visualize results\n",
    "pipeline_keys = optimized_pipelines.keys()\n",
    "\n",
    "test_scores = [optimized_pipelines[key].test_score_ for key in pipeline_keys]\n",
    "\n",
    "ax = pd.Series(test_scores,index=pipeline_keys).sort_values().plot(kind='barh',color='black')"
   ]
  },
  {
   "cell_type": "code",
   "execution_count": null,
   "metadata": {
    "collapsed": false
   },
   "outputs": [],
   "source": [
    "print optimized_pipelines['custom_select_knn']"
   ]
  },
  {
   "cell_type": "markdown",
   "metadata": {},
   "source": [
    "### KNN using feature interactions\n",
    "Feature products of different degrees can be used as additional features by setting the 'feature_interaction' OptimizedPipeline keyword argument to True:"
   ]
  },
  {
   "cell_type": "code",
   "execution_count": null,
   "metadata": {
    "collapsed": false
   },
   "outputs": [],
   "source": [
    "%%time\n",
    "\n",
    "reload(ppl)\n",
    "\n",
    "estimator = 'knn'\n",
    "\n",
    "model_name = 'interaction_%s'%(estimator_name)\n",
    "\n",
    "optimized_pipeline_kwargs = {\n",
    "    'feature_interactions': True\n",
    "}\n",
    "\n",
    "# Initialize pipeline\n",
    "optimized_pipeline = ppl.OptimizedPipeline(estimator,**optimized_pipeline_kwargs)\n",
    "\n",
    "# Set pipeline fitting parameters\n",
    "fit_kwargs = {\n",
    "    'random_state': 6,\n",
    "    'use_default_param_dist': True,\n",
    "    'suppress_output': True\n",
    "}\n",
    "\n",
    "# Fit data\n",
    "optimized_pipeline.fit(X,y,**fit_kwargs)\n",
    "\n",
    "# Save \n",
    "optimized_pipelines[model_name] = optimized_pipeline\n",
    "    \n",
    "# Visualize results\n",
    "pipeline_keys = optimized_pipelines.keys()\n",
    "\n",
    "test_scores = [optimized_pipelines[key].test_score_ for key in pipeline_keys]\n",
    "\n",
    "ax = pd.Series(test_scores,index=pipeline_keys).sort_values().plot(kind='barh',color='black')"
   ]
  },
  {
   "cell_type": "code",
   "execution_count": null,
   "metadata": {
    "collapsed": false
   },
   "outputs": [],
   "source": [
    "print optimized_pipelines['interaction_knn']"
   ]
  },
  {
   "cell_type": "markdown",
   "metadata": {},
   "source": [
    "The optimal number of interactions (number of features multiplied by each other at once) was found to be 1.\n",
    "\n",
    "#### KNN using custom number of feature interactions\n",
    "The 'feature_interactions__degree' dictates the number of interactions. The default setting is to try no interactions (degree 1) and 2 interactions. Setting this in param_dist allows custom numbers:"
   ]
  },
  {
   "cell_type": "code",
   "execution_count": null,
   "metadata": {
    "collapsed": false
   },
   "outputs": [],
   "source": [
    "%%time\n",
    "\n",
    "reload(ppl)\n",
    "\n",
    "estimator = 'knn'\n",
    "\n",
    "model_name = 'custom_interaction_%s'%(estimator_name)\n",
    "\n",
    "optimized_pipeline_kwargs = {\n",
    "    'feature_interactions': True\n",
    "}\n",
    "\n",
    "# Initialize pipeline\n",
    "optimized_pipeline = ppl.OptimizedPipeline(estimator,**optimized_pipeline_kwargs)\n",
    "\n",
    "param_dist = {\n",
    "    'feature_interactions__degree': [2,3,4]\n",
    "}\n",
    "\n",
    "# Set pipeline fitting parameters\n",
    "fit_kwargs = {\n",
    "    'random_state': 6,\n",
    "    'use_default_param_dist': True,\n",
    "    'suppress_output': True,\n",
    "    'param_dist': param_dist\n",
    "}\n",
    "\n",
    "# Fit data\n",
    "optimized_pipeline.fit(X,y,**fit_kwargs)\n",
    "\n",
    "# Save \n",
    "optimized_pipelines[model_name] = optimized_pipeline\n",
    "    \n",
    "# Visualize results\n",
    "pipeline_keys = optimized_pipelines.keys()\n",
    "\n",
    "test_scores = [optimized_pipelines[key].test_score_ for key in pipeline_keys]\n",
    "\n",
    "ax = pd.Series(test_scores,index=pipeline_keys).sort_values().plot(kind='barh',color='black')"
   ]
  },
  {
   "cell_type": "code",
   "execution_count": null,
   "metadata": {
    "collapsed": false
   },
   "outputs": [],
   "source": [
    "print optimized_pipelines['custom_interaction_knn']"
   ]
  },
  {
   "cell_type": "markdown",
   "metadata": {},
   "source": [
    "### KNN with pre-processing transforms\n",
    "Currently Principal Component Analysis (PCA) and t-distributed stochastic neighbor embedding (t-SNE) are supported as pre-processing options.\n",
    "\n",
    "#### KNN with PCA pre-processing"
   ]
  },
  {
   "cell_type": "code",
   "execution_count": null,
   "metadata": {
    "collapsed": false
   },
   "outputs": [],
   "source": [
    "%%time\n",
    "\n",
    "reload(ppl)\n",
    "\n",
    "estimator = 'knn'\n",
    "\n",
    "model_name = 'pca_%s'%(estimator_name)\n",
    "\n",
    "optimized_pipeline_kwargs = {\n",
    "    'transform_type': 'pca'\n",
    "}\n",
    "\n",
    "# Initialize pipeline\n",
    "optimized_pipeline = ppl.OptimizedPipeline(estimator,**optimized_pipeline_kwargs)\n",
    "\n",
    "# Set pipeline fitting parameters\n",
    "fit_kwargs = {\n",
    "    'random_state': 6,\n",
    "    'use_default_param_dist': True,\n",
    "    'suppress_output': True\n",
    "}\n",
    "\n",
    "# Fit data\n",
    "optimized_pipeline.fit(X,y,**fit_kwargs)\n",
    "\n",
    "# Save \n",
    "optimized_pipelines[model_name] = optimized_pipeline\n",
    "    \n",
    "# Visualize results\n",
    "pipeline_keys = optimized_pipelines.keys()\n",
    "\n",
    "test_scores = [optimized_pipelines[key].test_score_ for key in pipeline_keys]\n",
    "\n",
    "ax = pd.Series(test_scores,index=pipeline_keys).sort_values().plot(kind='barh',color='black')"
   ]
  },
  {
   "cell_type": "code",
   "execution_count": null,
   "metadata": {
    "collapsed": false
   },
   "outputs": [],
   "source": [
    "print optimized_pipelines['pca_knn']"
   ]
  },
  {
   "cell_type": "markdown",
   "metadata": {},
   "source": [
    "We can look at the transformed data after PCA normally:"
   ]
  },
  {
   "cell_type": "code",
   "execution_count": null,
   "metadata": {
    "collapsed": false
   },
   "outputs": [],
   "source": [
    "transformed_data = optimized_pipelines['pca_knn'].pipeline.named_steps['transform'].transform(X.values)\n",
    "\n",
    "column_names = ['PCA_%d'%(feature_ind+1) for feature_ind in range(transformed_data.shape[1])]\n",
    "\n",
    "pca_df = pd.DataFrame(transformed_data,columns=column_names)\n",
    "\n",
    "pca_df.plot(x='PCA_1',y='PCA_2',style='ro')"
   ]
  },
  {
   "cell_type": "markdown",
   "metadata": {},
   "source": [
    "This is currently a very manual process and would be difficult with more and more processing steps. I'm thinking of automating this with a class containing all optimized pipelines in the future.\n",
    "\n",
    "Any of the parameters displayed in the pipeline section of the report (iterated_power, random_state, whiten, n_components, etc) can be set in param_dist by 'transform\\__setting' as done previously."
   ]
  },
  {
   "cell_type": "markdown",
   "metadata": {},
   "source": [
    "#### KNN with t-SNE pre-processing\n",
    "The t-SNE algorithm can be used as a pre-processing algorithm as well by setting the 'transform_type' keyword argument to 't-sne':"
   ]
  },
  {
   "cell_type": "code",
   "execution_count": null,
   "metadata": {
    "collapsed": false
   },
   "outputs": [],
   "source": [
    "%%time\n",
    "\n",
    "reload(ppl)\n",
    "\n",
    "estimator = 'knn'\n",
    "\n",
    "model_name = 't-sne_%s'%(estimator_name)\n",
    "\n",
    "optimized_pipeline_kwargs = {\n",
    "    'transform_type': 't-sne'\n",
    "}\n",
    "\n",
    "# Initialize pipeline\n",
    "optimized_pipeline = ppl.OptimizedPipeline(estimator,**optimized_pipeline_kwargs)\n",
    "\n",
    "# Set pipeline fitting parameters\n",
    "fit_kwargs = {\n",
    "    'random_state': 6,\n",
    "    'use_default_param_dist': True,\n",
    "    'suppress_output': True\n",
    "}\n",
    "\n",
    "# Fit data\n",
    "optimized_pipeline.fit(X,y,**fit_kwargs)\n",
    "\n",
    "# Save \n",
    "optimized_pipelines[model_name] = optimized_pipeline\n",
    "    \n",
    "# Visualize results\n",
    "pipeline_keys = optimized_pipelines.keys()\n",
    "\n",
    "test_scores = [optimized_pipelines[key].test_score_ for key in pipeline_keys]\n",
    "\n",
    "ax = pd.Series(test_scores,index=pipeline_keys).sort_values().plot(kind='barh',color='black')"
   ]
  },
  {
   "cell_type": "markdown",
   "metadata": {},
   "source": [
    "This t-SNE step takes longer than most in pyplearnr unfortunately. It also resulted in the worst score. I'll try to optimize this in the future.\n",
    "\n",
    "### Reducing the number of grid combinations\n",
    "Setting the 'num_parameter_combos' fit() method keyword argument to an integer will limit the number of grid combinations to perform using RandomizedSearchCV instead of GridSearchCV:"
   ]
  },
  {
   "cell_type": "code",
   "execution_count": null,
   "metadata": {
    "collapsed": false
   },
   "outputs": [],
   "source": [
    "%%time\n",
    "\n",
    "reload(ppl)\n",
    "\n",
    "estimator = 'knn'\n",
    "\n",
    "model_name = 'less_combos_%s'%(estimator_name)\n",
    "\n",
    "optimized_pipeline_kwargs = {}\n",
    "\n",
    "# Initialize pipeline\n",
    "optimized_pipeline = ppl.OptimizedPipeline(estimator,**optimized_pipeline_kwargs)\n",
    "\n",
    "# Set pipeline fitting parameters\n",
    "fit_kwargs = {\n",
    "    'random_state': 6,\n",
    "    'use_default_param_dist': True,\n",
    "    'suppress_output': True,\n",
    "    'num_parameter_combos': 5\n",
    "}\n",
    "\n",
    "# Fit data\n",
    "optimized_pipeline.fit(X,y,**fit_kwargs)\n",
    "\n",
    "# Save \n",
    "optimized_pipelines[model_name] = optimized_pipeline\n",
    "    \n",
    "# Visualize results\n",
    "pipeline_keys = optimized_pipelines.keys()\n",
    "\n",
    "test_scores = [optimized_pipelines[key].test_score_ for key in pipeline_keys]\n",
    "\n",
    "ax = pd.Series(test_scores,index=pipeline_keys).sort_values().plot(kind='barh',color='black')"
   ]
  },
  {
   "cell_type": "markdown",
   "metadata": {},
   "source": [
    "This is a good way to speed up computations and give you an idea as to how long a particular pipeline takes to train. \n",
    "\n",
    "Here's the corresponding report:"
   ]
  },
  {
   "cell_type": "code",
   "execution_count": null,
   "metadata": {
    "collapsed": false
   },
   "outputs": [],
   "source": [
    "print optimized_pipelines['less_combos_knn']"
   ]
  },
  {
   "cell_type": "markdown",
   "metadata": {},
   "source": [
    "The best parameter combination, of those attempted by RandomizedSearchCV, was 12 nearest neighbors with the 'uniform' weight."
   ]
  },
  {
   "cell_type": "markdown",
   "metadata": {},
   "source": [
    "### Other models\n",
    "\n",
    "This code currently supports K-nearest neighbors, logistic regression, support vector machines, multilayer perceptrons, random forest, and adaboost:"
   ]
  },
  {
   "cell_type": "code",
   "execution_count": null,
   "metadata": {
    "collapsed": false,
    "scrolled": false
   },
   "outputs": [],
   "source": [
    "%%time\n",
    "\n",
    "classifiers = ['knn','logistic_regression','svm',\n",
    "               'multilayer_perceptron','random_forest','adaboost']\n",
    "\n",
    "for estimator in classifiers:\n",
    "    # Set pipeline keyword arguments\n",
    "    optimized_pipeline_kwargs = {}\n",
    "\n",
    "    # Initialize pipeline\n",
    "    optimized_pipeline = ppl.OptimizedPipeline(estimator,**optimized_pipeline_kwargs)\n",
    "    \n",
    "    # Set pipeline fitting parameters\n",
    "    fit_kwargs = {\n",
    "        'random_state': 6,\n",
    "        'suppress_output': True,\n",
    "        'use_default_param_dist': True\n",
    "    }\n",
    "    \n",
    "    # Fit data\n",
    "    optimized_pipeline.fit(X,y,**fit_kwargs)\n",
    "    \n",
    "    # Save \n",
    "    optimized_pipelines[estimator] = optimized_pipeline\n",
    "    \n",
    "# Visualize results\n",
    "pipeline_keys = optimized_pipelines.keys()\n",
    "\n",
    "test_scores = [optimized_pipelines[key].test_score_ for key in pipeline_keys]\n",
    "\n",
    "ax = pd.Series(test_scores,index=pipeline_keys).sort_values().plot(kind='barh',color='black')"
   ]
  },
  {
   "cell_type": "markdown",
   "metadata": {},
   "source": [
    "Logistic regression, random forest, multilayer perceptron, and adaboost outperform KNN, even with all of the attempted pre-processing so far.\n",
    "\n",
    "### Putting it all together\n",
    "Different combinations of these options can be strung together simultaneously to iterate over multiple models:"
   ]
  },
  {
   "cell_type": "code",
   "execution_count": null,
   "metadata": {
    "collapsed": false,
    "scrolled": true
   },
   "outputs": [],
   "source": [
    "%%time\n",
    "\n",
    "import itertools\n",
    "\n",
    "estimators = ['knn','logistic_regression','svm',\n",
    "              'multilayer_perceptron','random_forest','adaboost']\n",
    "\n",
    "feature_interaction_options = [True,False]\n",
    "feature_selection_options = [None,'select_k_best']\n",
    "scaling_options = [None,'standard','normal','min_max','binary']\n",
    "transformations = [None,'pca']\n",
    "\n",
    "pipeline_steps = [feature_interaction_options,feature_selection_options,scaling_options,\n",
    "                  transformations,estimators]\n",
    "\n",
    "pipeline_options = list(itertools.product(*pipeline_steps))\n",
    "\n",
    "optimized_pipelines = {}\n",
    "\n",
    "for pipeline_step_combo in pipeline_options:\n",
    "    model_name = []\n",
    "    \n",
    "    feature_interactions = pipeline_step_combo[0]\n",
    "    \n",
    "    if feature_interactions:\n",
    "        model_name.append('interactions')\n",
    "        \n",
    "    feature_selection_type = pipeline_step_combo[1]\n",
    "    \n",
    "    if feature_selection_type:\n",
    "        model_name.append('select')\n",
    "    \n",
    "    scale_type = pipeline_step_combo[2]\n",
    "    \n",
    "    if scale_type:\n",
    "        model_name.append(scale_type)\n",
    "        \n",
    "    transform_type = pipeline_step_combo[3]\n",
    "    \n",
    "    if transform_type:\n",
    "        model_name.append(transform_type)\n",
    "        \n",
    "    estimator = pipeline_step_combo[4]\n",
    "    \n",
    "    model_name.append(estimator)\n",
    "    \n",
    "    model_name = '_'.join(model_name)\n",
    "    \n",
    "    print model_name\n",
    "    \n",
    "    # Set pipeline keyword arguments\n",
    "    optimized_pipeline_kwargs = {\n",
    "        'feature_selection_type': feature_selection_type,\n",
    "        'scale_type': scale_type,\n",
    "        'feature_interactions': feature_interactions,\n",
    "        'transform_type': transform_type\n",
    "        }\n",
    "\n",
    "    # Initialize pipeline\n",
    "    optimized_pipeline = ppl.OptimizedPipeline(estimator,**optimized_pipeline_kwargs)\n",
    "\n",
    "    # Set pipeline fitting parameters\n",
    "    fit_kwargs = {\n",
    "        'cv': 10,\n",
    "        'num_parameter_combos': None,\n",
    "        'n_jobs': -1,\n",
    "        'random_state': None,\n",
    "        'suppress_output': True,\n",
    "        'use_default_param_dist': True,\n",
    "        'param_dist': None,\n",
    "        'test_size': 0.2 # 20% saved as test set\n",
    "    }\n",
    "\n",
    "    # Fit data\n",
    "    optimized_pipeline.fit(X,y,**fit_kwargs)\n",
    "\n",
    "    # Save optimized pipeline\n",
    "    optimized_pipelines[model_name] = optimized_pipeline"
   ]
  },
  {
   "cell_type": "code",
   "execution_count": null,
   "metadata": {
    "collapsed": false,
    "scrolled": false
   },
   "outputs": [],
   "source": [
    "# Visualize results\n",
    "pipeline_keys = optimized_pipelines.keys()\n",
    "\n",
    "test_scores = [optimized_pipelines[key].test_score_ for key in pipeline_keys]\n",
    "\n",
    "ax = pd.Series(test_scores,index=pipeline_keys).sort_values().plot(kind='barh',color='black',figsize=(10,40))"
   ]
  },
  {
   "cell_type": "code",
   "execution_count": null,
   "metadata": {
    "collapsed": false
   },
   "outputs": [],
   "source": [
    "print optimized_pipelines['min_max_pca_multilayer_perceptron']"
   ]
  },
  {
   "cell_type": "code",
   "execution_count": null,
   "metadata": {
    "collapsed": false
   },
   "outputs": [],
   "source": [
    "len(optimized_pipelines.keys())"
   ]
  },
  {
   "cell_type": "markdown",
   "metadata": {},
   "source": [
    "Out of 240 different possible pipelines, best pipeline, with a test score of 0.899, appears to be min-max scaling between 0 and 1 funneled into a PCA and then into a multilayer perceptron with one hidden layer of size 5.\n",
    "\n",
    "It took roughly 3 hours to find it."
   ]
  },
  {
   "cell_type": "markdown",
   "metadata": {},
   "source": [
    "### Predicting survival with the optimal model\n",
    "All one has to do to make a prediction is use the .predict method of the pipeline in the .pipeline field.\n",
    "\n",
    "Here's an example of predicting whether I would survive on the Titanic. I'm 32, would probably have one family member with me, might be Pclass1 (I'd hope), male, have a Ph.D (if that's what they mean by Dr.). I'm using the median Fare for Pclass 1 and randomly chose a city to have embarked from:"
   ]
  },
  {
   "cell_type": "code",
   "execution_count": null,
   "metadata": {
    "collapsed": false
   },
   "outputs": [],
   "source": [
    "personal_stats = [32,1,0,df[df['Pclass']==1]['Fare'].median(),0,0,1,1,0,1,0,0,0,0,0,0]\n",
    "\n",
    "zip(personal_stats,X.columns)"
   ]
  },
  {
   "cell_type": "code",
   "execution_count": null,
   "metadata": {
    "collapsed": false
   },
   "outputs": [],
   "source": [
    "optimized_pipelines['min_max_pca_multilayer_perceptron'].pipeline.predict(personal_stats)"
   ]
  },
  {
   "cell_type": "markdown",
   "metadata": {},
   "source": [
    "Looks like I died!\n",
    "\n",
    "Let's look at my predicted probability of surviving:"
   ]
  },
  {
   "cell_type": "code",
   "execution_count": null,
   "metadata": {
    "collapsed": false
   },
   "outputs": [],
   "source": [
    "optimized_pipelines['min_max_pca_multilayer_perceptron'].pipeline.predict_proba(personal_stats)"
   ]
  },
  {
   "cell_type": "markdown",
   "metadata": {},
   "source": [
    "I would have a 0.77% chance of survival."
   ]
  },
  {
   "cell_type": "markdown",
   "metadata": {},
   "source": [
    "## Summary\n",
    "I've shown how to use pyplearnr to try out 240 different pipeline combinations validated with stratified 10-folds cross-validation using a combination of simple keyword arguments with some additional customization options. Also, I've shown how to access the model parameters, predict survival, and check the actual predicted probability according to the optimized pipeline.\n",
    "\n",
    "Please let me know if you have any questions or suggestions about how to improve this tool, my code, the approach I'm taking, etc."
   ]
  }
 ],
 "metadata": {
  "anaconda-cloud": {},
  "kernelspec": {
   "display_name": "Python [default]",
   "language": "python",
   "name": "python2"
  },
  "language_info": {
   "codemirror_mode": {
    "name": "ipython",
    "version": 2
   },
   "file_extension": ".py",
   "mimetype": "text/x-python",
   "name": "python",
   "nbconvert_exporter": "python",
   "pygments_lexer": "ipython2",
   "version": "2.7.12"
  }
 },
 "nbformat": 4,
 "nbformat_minor": 0
}
