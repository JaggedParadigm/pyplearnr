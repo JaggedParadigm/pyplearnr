{
 "cells": [
  {
   "cell_type": "markdown",
   "metadata": {},
   "source": [
    "# Pyplearnr demo\n",
    "Here I demonstrate pyplearnr, a wrapper for scikit-learn that performs model validation and selection using nested k-fold cross-validation.\n",
    "\n",
    "# Titanic dataset example\n",
    "Here I use the Titanic dataset I've cleaned and pickled in a separate tutorial.\n",
    "\n",
    "# Prepare data\n",
    "## Import data"
   ]
  },
  {
   "cell_type": "code",
   "execution_count": 1,
   "metadata": {
    "collapsed": false
   },
   "outputs": [],
   "source": [
    "import os"
   ]
  },
  {
   "cell_type": "code",
   "execution_count": 2,
   "metadata": {
    "collapsed": false
   },
   "outputs": [
    {
     "name": "stdout",
     "output_type": "stream",
     "text": [
      "<class 'pandas.core.frame.DataFrame'>\n",
      "Int64Index: 890 entries, 0 to 890\n",
      "Data columns (total 9 columns):\n",
      "Survived    890 non-null int64\n",
      "Pclass      890 non-null int64\n",
      "Sex         890 non-null object\n",
      "Age         890 non-null float64\n",
      "SibSp       890 non-null int64\n",
      "Parch       890 non-null int64\n",
      "Fare        890 non-null float64\n",
      "Embarked    890 non-null object\n",
      "Title       890 non-null object\n",
      "dtypes: float64(2), int64(4), object(3)\n",
      "memory usage: 69.5+ KB\n"
     ]
    }
   ],
   "source": [
    "import pandas as pd\n",
    "import numpy as np\n",
    "\n",
    "df = pd.read_pickle('trimmed_titanic_data.pkl')\n",
    "\n",
    "df.info()"
   ]
  },
  {
   "cell_type": "markdown",
   "metadata": {},
   "source": [
    "By \"cleaned\" I mean I've derived titles (e.g. \"Mr.\", \"Mrs.\", \"Dr.\", etc) from the passenger names, imputed the missing Age values using polynomial regression with grid-searched 10-fold cross-validation, filled in the 3 missing Embarked values with the mode, and removed all fields that could be considered an id for that individual.\n",
    "\n",
    "Thus, no data are missing or null.\n",
    "\n",
    "## Set categorical features as type 'category'\n",
    "In order to one-hot encode categorical data, its best to set the features that are considered categorical:"
   ]
  },
  {
   "cell_type": "code",
   "execution_count": 3,
   "metadata": {
    "collapsed": false
   },
   "outputs": [
    {
     "data": {
      "text/html": [
       "<div>\n",
       "<style>\n",
       "    .dataframe thead tr:only-child th {\n",
       "        text-align: right;\n",
       "    }\n",
       "\n",
       "    .dataframe thead th {\n",
       "        text-align: left;\n",
       "    }\n",
       "\n",
       "    .dataframe tbody tr th {\n",
       "        vertical-align: top;\n",
       "    }\n",
       "</style>\n",
       "<table border=\"1\" class=\"dataframe\">\n",
       "  <thead>\n",
       "    <tr style=\"text-align: right;\">\n",
       "      <th></th>\n",
       "      <th>Survived</th>\n",
       "      <th>Pclass</th>\n",
       "      <th>Sex</th>\n",
       "      <th>Age</th>\n",
       "      <th>SibSp</th>\n",
       "      <th>Parch</th>\n",
       "      <th>Fare</th>\n",
       "      <th>Embarked</th>\n",
       "      <th>Title</th>\n",
       "    </tr>\n",
       "  </thead>\n",
       "  <tbody>\n",
       "    <tr>\n",
       "      <th>0</th>\n",
       "      <td>0</td>\n",
       "      <td>3</td>\n",
       "      <td>male</td>\n",
       "      <td>22.000000</td>\n",
       "      <td>1</td>\n",
       "      <td>0</td>\n",
       "      <td>7.2500</td>\n",
       "      <td>S</td>\n",
       "      <td>Mr</td>\n",
       "    </tr>\n",
       "    <tr>\n",
       "      <th>1</th>\n",
       "      <td>1</td>\n",
       "      <td>1</td>\n",
       "      <td>female</td>\n",
       "      <td>38.000000</td>\n",
       "      <td>1</td>\n",
       "      <td>0</td>\n",
       "      <td>71.2833</td>\n",
       "      <td>C</td>\n",
       "      <td>Mrs</td>\n",
       "    </tr>\n",
       "    <tr>\n",
       "      <th>2</th>\n",
       "      <td>1</td>\n",
       "      <td>3</td>\n",
       "      <td>female</td>\n",
       "      <td>26.000000</td>\n",
       "      <td>0</td>\n",
       "      <td>0</td>\n",
       "      <td>7.9250</td>\n",
       "      <td>S</td>\n",
       "      <td>Miss</td>\n",
       "    </tr>\n",
       "    <tr>\n",
       "      <th>3</th>\n",
       "      <td>1</td>\n",
       "      <td>1</td>\n",
       "      <td>female</td>\n",
       "      <td>35.000000</td>\n",
       "      <td>1</td>\n",
       "      <td>0</td>\n",
       "      <td>53.1000</td>\n",
       "      <td>S</td>\n",
       "      <td>Mrs</td>\n",
       "    </tr>\n",
       "    <tr>\n",
       "      <th>4</th>\n",
       "      <td>0</td>\n",
       "      <td>3</td>\n",
       "      <td>male</td>\n",
       "      <td>35.000000</td>\n",
       "      <td>0</td>\n",
       "      <td>0</td>\n",
       "      <td>8.0500</td>\n",
       "      <td>S</td>\n",
       "      <td>Mr</td>\n",
       "    </tr>\n",
       "    <tr>\n",
       "      <th>5</th>\n",
       "      <td>0</td>\n",
       "      <td>3</td>\n",
       "      <td>male</td>\n",
       "      <td>35.050324</td>\n",
       "      <td>0</td>\n",
       "      <td>0</td>\n",
       "      <td>8.4583</td>\n",
       "      <td>Q</td>\n",
       "      <td>Mr</td>\n",
       "    </tr>\n",
       "    <tr>\n",
       "      <th>6</th>\n",
       "      <td>0</td>\n",
       "      <td>1</td>\n",
       "      <td>male</td>\n",
       "      <td>54.000000</td>\n",
       "      <td>0</td>\n",
       "      <td>0</td>\n",
       "      <td>51.8625</td>\n",
       "      <td>S</td>\n",
       "      <td>Mr</td>\n",
       "    </tr>\n",
       "    <tr>\n",
       "      <th>7</th>\n",
       "      <td>0</td>\n",
       "      <td>3</td>\n",
       "      <td>male</td>\n",
       "      <td>2.000000</td>\n",
       "      <td>3</td>\n",
       "      <td>1</td>\n",
       "      <td>21.0750</td>\n",
       "      <td>S</td>\n",
       "      <td>Child</td>\n",
       "    </tr>\n",
       "    <tr>\n",
       "      <th>8</th>\n",
       "      <td>1</td>\n",
       "      <td>3</td>\n",
       "      <td>female</td>\n",
       "      <td>27.000000</td>\n",
       "      <td>0</td>\n",
       "      <td>2</td>\n",
       "      <td>11.1333</td>\n",
       "      <td>S</td>\n",
       "      <td>Mrs</td>\n",
       "    </tr>\n",
       "    <tr>\n",
       "      <th>9</th>\n",
       "      <td>1</td>\n",
       "      <td>2</td>\n",
       "      <td>female</td>\n",
       "      <td>14.000000</td>\n",
       "      <td>1</td>\n",
       "      <td>0</td>\n",
       "      <td>30.0708</td>\n",
       "      <td>C</td>\n",
       "      <td>Mrs</td>\n",
       "    </tr>\n",
       "  </tbody>\n",
       "</table>\n",
       "</div>"
      ],
      "text/plain": [
       "   Survived  Pclass     Sex        Age  SibSp  Parch     Fare Embarked  Title\n",
       "0         0       3    male  22.000000      1      0   7.2500        S     Mr\n",
       "1         1       1  female  38.000000      1      0  71.2833        C    Mrs\n",
       "2         1       3  female  26.000000      0      0   7.9250        S   Miss\n",
       "3         1       1  female  35.000000      1      0  53.1000        S    Mrs\n",
       "4         0       3    male  35.000000      0      0   8.0500        S     Mr\n",
       "5         0       3    male  35.050324      0      0   8.4583        Q     Mr\n",
       "6         0       1    male  54.000000      0      0  51.8625        S     Mr\n",
       "7         0       3    male   2.000000      3      1  21.0750        S  Child\n",
       "8         1       3  female  27.000000      0      2  11.1333        S    Mrs\n",
       "9         1       2  female  14.000000      1      0  30.0708        C    Mrs"
      ]
     },
     "execution_count": 3,
     "metadata": {},
     "output_type": "execute_result"
    }
   ],
   "source": [
    "df.head(10)"
   ]
  },
  {
   "cell_type": "code",
   "execution_count": 4,
   "metadata": {
    "collapsed": false
   },
   "outputs": [
    {
     "name": "stdout",
     "output_type": "stream",
     "text": [
      "<class 'pandas.core.frame.DataFrame'>\n",
      "Int64Index: 890 entries, 0 to 890\n",
      "Data columns (total 9 columns):\n",
      "Survived    890 non-null category\n",
      "Pclass      890 non-null category\n",
      "Sex         890 non-null category\n",
      "Age         890 non-null float64\n",
      "SibSp       890 non-null int64\n",
      "Parch       890 non-null int64\n",
      "Fare        890 non-null float64\n",
      "Embarked    890 non-null category\n",
      "Title       890 non-null category\n",
      "dtypes: category(5), float64(2), int64(2)\n",
      "memory usage: 39.9 KB\n"
     ]
    }
   ],
   "source": [
    "simulation_df = df.copy()\n",
    "\n",
    "categorical_features = ['Survived','Pclass','Sex','Embarked','Title']\n",
    "\n",
    "for feature in categorical_features:\n",
    "    simulation_df[feature] = simulation_df[feature].astype('category')\n",
    "    \n",
    "simulation_df.info()"
   ]
  },
  {
   "cell_type": "markdown",
   "metadata": {},
   "source": [
    "## One-hot encode categorical features"
   ]
  },
  {
   "cell_type": "code",
   "execution_count": 5,
   "metadata": {
    "collapsed": false
   },
   "outputs": [
    {
     "name": "stdout",
     "output_type": "stream",
     "text": [
      "<class 'pandas.core.frame.DataFrame'>\n",
      "Int64Index: 890 entries, 0 to 890\n",
      "Data columns (total 17 columns):\n",
      "Age               890 non-null float64\n",
      "SibSp             890 non-null int64\n",
      "Parch             890 non-null int64\n",
      "Fare              890 non-null float64\n",
      "Survived_1        890 non-null uint8\n",
      "Pclass_2          890 non-null uint8\n",
      "Pclass_3          890 non-null uint8\n",
      "Sex_male          890 non-null uint8\n",
      "Embarked_Q        890 non-null uint8\n",
      "Embarked_S        890 non-null uint8\n",
      "Title_Dr          890 non-null uint8\n",
      "Title_Military    890 non-null uint8\n",
      "Title_Miss        890 non-null uint8\n",
      "Title_Mr          890 non-null uint8\n",
      "Title_Mrs         890 non-null uint8\n",
      "Title_Noble       890 non-null uint8\n",
      "Title_Rev         890 non-null uint8\n",
      "dtypes: float64(2), int64(2), uint8(13)\n",
      "memory usage: 46.1 KB\n"
     ]
    }
   ],
   "source": [
    "simulation_df = pd.get_dummies(simulation_df,drop_first=True)\n",
    "\n",
    "simulation_df.info()"
   ]
  },
  {
   "cell_type": "markdown",
   "metadata": {},
   "source": [
    "Now we have 17 features.\n",
    "\n",
    "## Split into input/output data"
   ]
  },
  {
   "cell_type": "code",
   "execution_count": 6,
   "metadata": {
    "collapsed": true
   },
   "outputs": [],
   "source": [
    "# Set output feature\n",
    "output_feature = 'Survived_1'\n",
    "\n",
    "# Get all column names\n",
    "column_names = list(simulation_df.columns)\n",
    "\n",
    "# Get input features\n",
    "input_features = [x for x in column_names if x != output_feature]\n",
    "\n",
    "# Split into features and responses\n",
    "X = simulation_df[input_features].copy()\n",
    "y = simulation_df[output_feature].copy()"
   ]
  },
  {
   "cell_type": "markdown",
   "metadata": {},
   "source": [
    "# Null model"
   ]
  },
  {
   "cell_type": "code",
   "execution_count": 7,
   "metadata": {
    "collapsed": false
   },
   "outputs": [
    {
     "data": {
      "text/plain": [
       "array([ 0.61573034,  0.38426966])"
      ]
     },
     "execution_count": 7,
     "metadata": {},
     "output_type": "execute_result"
    }
   ],
   "source": [
    "simulation_df['Survived_1'].value_counts().values/float(simulation_df['Survived_1'].value_counts().values.sum())"
   ]
  },
  {
   "cell_type": "markdown",
   "metadata": {},
   "source": [
    "Thus, null accuracy of ~62% if we always predict death.\n",
    "\n",
    "# Import pyplearnr and initialize optimized pipeline collection"
   ]
  },
  {
   "cell_type": "code",
   "execution_count": 8,
   "metadata": {
    "collapsed": false
   },
   "outputs": [],
   "source": [
    "%matplotlib inline\n",
    "\n",
    "import pyplearnr as ppl"
   ]
  },
  {
   "cell_type": "markdown",
   "metadata": {},
   "source": [
    "# KNN \n",
    "Here we do a k-nearest neighbors (KNN) classification with stratified and nested 3-by-3-fold cross-validation over the 1 to 30 nearest neighbors and the use of either \"uniform\" or \"distance\" weights:"
   ]
  },
  {
   "cell_type": "code",
   "execution_count": 9,
   "metadata": {
    "collapsed": false
   },
   "outputs": [
    {
     "name": "stdout",
     "output_type": "stream",
     "text": [
      "Outer Fold: 2 \n",
      "\n",
      "51 Pipeline(steps=[('estimator', KNeighborsClassifier(algorithm='auto', leaf_size=30, metric='minkowski',\n",
      "           metric_params=None, n_jobs=1, n_neighbors=26, p=2,\n",
      "           weights='distance'))])\n",
      "55 Pipeline(steps=[('estimator', KNeighborsClassifier(algorithm='auto', leaf_size=30, metric='minkowski',\n",
      "           metric_params=None, n_jobs=1, n_neighbors=28, p=2,\n",
      "           weights='distance'))])\n",
      "\n",
      "\n",
      "No model was chosen because there is no clear winner. Please use the same fit method with best_inner_fold_pipeline_inds keyword argument.\n",
      "\n",
      "Example:\tkfcv.fit(X.values, y.values, pipelines)\n",
      "\t\tkfcv.fit(X.values, y.values, pipelines, \n",
      "\t\t\t best_inner_fold_pipeline_inds = {0:9, 2:3})\n",
      "\n",
      "CPU times: user 5.76 s, sys: 47.1 ms, total: 5.81 s\n",
      "Wall time: 5.92 s\n"
     ]
    }
   ],
   "source": [
    "%%time \n",
    "\n",
    "# Initialize nested k-fold cross-validation object\n",
    "kfcv = ppl.NestedKFoldCrossValidation(outer_loop_fold_count=3, \n",
    "                                      inner_loop_fold_count=3,\n",
    "                                      shuffle_seed=2369,\n",
    "                                      outer_loop_split_seed=461,\n",
    "                                      inner_loop_split_seeds=[284, 406, 303])\n",
    "\n",
    "# Combinatorial pipeline schematic\n",
    "pipeline_schematic = [\n",
    "    {'estimator': {\n",
    "            'knn': {\n",
    "                'n_neighbors': range(1,31),\n",
    "                'weights': ['uniform','distance']\n",
    "    }}}\n",
    "]\n",
    "\n",
    "# Perform nested k-fold cross-validation\n",
    "kfcv.fit(X.values, y.values, pipeline_schematic=pipeline_schematic, \n",
    "         scoring_metric='auc', score_type='median')"
   ]
  },
  {
   "cell_type": "code",
   "execution_count": 9,
   "metadata": {
    "collapsed": false
   },
   "outputs": [
    {
     "name": "stdout",
     "output_type": "stream",
     "text": [
      "Outer Fold: 2 \n",
      "\n",
      "51 Pipeline(steps=[('estimator', KNeighborsClassifier(algorithm='auto', leaf_size=30, metric='minkowski',\n",
      "           metric_params=None, n_jobs=1, n_neighbors=26, p=2,\n",
      "           weights='distance'))])\n",
      "55 Pipeline(steps=[('estimator', KNeighborsClassifier(algorithm='auto', leaf_size=30, metric='minkowski',\n",
      "           metric_params=None, n_jobs=1, n_neighbors=28, p=2,\n",
      "           weights='distance'))])\n",
      "\n",
      "\n",
      "No model was chosen because there is no clear winner. Please use the same fit method with best_inner_fold_pipeline_inds keyword argument.\n",
      "\n",
      "Example:\tkfcv.fit(X.values, y.values, pipelines)\n",
      "\t\tkfcv.fit(X.values, y.values, pipelines, \n",
      "\t\t\t best_inner_fold_pipeline_inds = {0:9, 2:3})\n",
      "\n",
      "CPU times: user 5.74 s, sys: 121 ms, total: 5.86 s\n",
      "Wall time: 6.05 s\n"
     ]
    }
   ],
   "source": [
    "%%time \n",
    "\n",
    "# Initialize nested k-fold cross-validation object\n",
    "kfcv = ppl.NestedKFoldCrossValidation(outer_loop_fold_count=3, \n",
    "                                      inner_loop_fold_count=3,\n",
    "                                      shuffle_seed=2369,\n",
    "                                      outer_loop_split_seed=461,\n",
    "                                      inner_loop_split_seeds=[284, 406, 303])\n",
    "\n",
    "# Combinatorial pipeline schematic\n",
    "pipeline_schematic = [\n",
    "    {'estimator': {\n",
    "            'knn': {\n",
    "                'n_neighbors': range(1,31),\n",
    "                'weights': ['uniform','distance']\n",
    "    }}}\n",
    "]\n",
    "\n",
    "# Perform nested k-fold cross-validation\n",
    "kfcv.fit(X.values, y.values, pipeline_schematic=pipeline_schematic, \n",
    "         scoring_metric='auc', score_type='median')"
   ]
  },
  {
   "cell_type": "markdown",
   "metadata": {},
   "source": [
    "Pyplearnr has indicated that the contest of outer-fold 2 has resulted in a tie between two pipelines with the same median score over all inner-folds. We can resolve this by re-running the fit method with the best_inner_fold_pipeline_inds keyword argument. I'll choose the simplest (higher number of neighbors):"
   ]
  },
  {
   "cell_type": "code",
   "execution_count": null,
   "metadata": {
    "collapsed": false
   },
   "outputs": [],
   "source": [
    "kfcv.fit(X.values, y.values, pipeline_schematic=pipeline_schematic, \n",
    "         best_inner_fold_pipeline_inds={2:55})"
   ]
  },
  {
   "cell_type": "markdown",
   "metadata": {},
   "source": [
    "Whatever pipline wins the most outer-fold contests wins overall.\n",
    "\n",
    "In this case, pyplearnr has notified us that all inner-fold contests of each outer-fold have resulted in different winners. We can resolve this conflict by, again, re-running the fit method, but with the best_outer_fold_pipeline keyword argument:"
   ]
  },
  {
   "cell_type": "code",
   "execution_count": null,
   "metadata": {
    "collapsed": false
   },
   "outputs": [],
   "source": [
    "kfcv.fit(X.values, y.values, pipeline_schematic=pipeline_schematic, \n",
    "         best_outer_fold_pipeline=55)"
   ]
  },
  {
   "cell_type": "markdown",
   "metadata": {},
   "source": [
    "The output report lists the winning pipeline index, its validation (outer-fold test) scores and statistics, inner-fold (IF) test scores and statistics for each outer-fold (OF), a layout of the pipeline steps, and the corresponding step parameters.\n",
    "\n",
    "Additionally, the report contains the outer- and inner-fold counts, seeds, scoring metric, and scoring type. These, along with the same data and pipelines, can be used as inputs to the nested k-fold cross-validation object initialization and its fit method to uniquely duplicate the results of this run.\n",
    "\n",
    "We can get a visual report of this pipeline's validation scores and the inner-fold test scores for each outer-fold:"
   ]
  },
  {
   "cell_type": "code",
   "execution_count": null,
   "metadata": {
    "collapsed": false
   },
   "outputs": [],
   "source": [
    "kfcv.plot_best_pipeline_scores()"
   ]
  },
  {
   "cell_type": "markdown",
   "metadata": {},
   "source": [
    "Additionally we can visualize the performance of all pipelines over all folds:"
   ]
  },
  {
   "cell_type": "code",
   "execution_count": null,
   "metadata": {
    "collapsed": false
   },
   "outputs": [],
   "source": [
    "kfcv.plot_contest(all_folds=True, markersize=3, figsize=(5,10), fontsize=8)"
   ]
  },
  {
   "cell_type": "markdown",
   "metadata": {},
   "source": [
    "Additionally, we can visualize the test fold scores in all folds separately:"
   ]
  },
  {
   "cell_type": "code",
   "execution_count": null,
   "metadata": {
    "collapsed": false,
    "scrolled": false
   },
   "outputs": [],
   "source": [
    "kfcv.plot_contest(markersize=2, figsize=(5,10), fontsize=8)"
   ]
  },
  {
   "cell_type": "markdown",
   "metadata": {},
   "source": [
    "# KNN with different scaling\n",
    "We can investigate how scaling affects the scores for this dataset by including them in the combinatorial pipeline schematic:"
   ]
  },
  {
   "cell_type": "code",
   "execution_count": null,
   "metadata": {
    "collapsed": false
   },
   "outputs": [],
   "source": [
    "%%time \n",
    "\n",
    "# Initialize nested k-fold cross-validation object\n",
    "kfcv = ppl.NestedKFoldCrossValidation(outer_loop_fold_count=3, \n",
    "                                      inner_loop_fold_count=3,\n",
    "                                      shuffle_seed=2369,\n",
    "                                      outer_loop_split_seed=461,\n",
    "                                      inner_loop_split_seeds=[284, 406, 303])\n",
    "\n",
    "# Combinatorial pipeline schematic\n",
    "pipeline_schematic = [\n",
    "    {'scaler': {\n",
    "            'none': {},\n",
    "            'standard': {},\n",
    "            'normal': {},\n",
    "            'min_max': {},\n",
    "            'binary': {}\n",
    "        }},\n",
    "    {'estimator': {\n",
    "            'knn': {\n",
    "                'n_neighbors': range(1,31),\n",
    "                'weights': ['uniform','distance']\n",
    "    }}}\n",
    "]\n",
    "\n",
    "# Perform nested k-fold cross-validation\n",
    "kfcv.fit(X.values, y.values, pipeline_schematic=pipeline_schematic, \n",
    "         scoring_metric='auc', score_type='median')"
   ]
  },
  {
   "cell_type": "code",
   "execution_count": null,
   "metadata": {
    "collapsed": false
   },
   "outputs": [],
   "source": [
    "kfcv.fit(X.values, y.values, pipeline_schematic=pipeline_schematic, \n",
    "         scoring_metric='auc', score_type='median',\n",
    "         best_inner_fold_pipeline_inds={1:15})"
   ]
  },
  {
   "cell_type": "code",
   "execution_count": null,
   "metadata": {
    "collapsed": false
   },
   "outputs": [],
   "source": [
    "kfcv.fit(X.values, y.values, pipeline_schematic=pipeline_schematic, \n",
    "         scoring_metric='auc', score_type='median',\n",
    "         best_outer_fold_pipeline=27)"
   ]
  },
  {
   "cell_type": "markdown",
   "metadata": {},
   "source": [
    "Pyplearnr has chosen a pipeline that scales the feature data to between 0 and 1 before putting it through a KNN classifier set to consider 14 nearest neighbors weighted by distance.\n",
    "\n",
    "We can plot the contests again, but this time with the color_by keyword argument, to see if there are any patterns:"
   ]
  },
  {
   "cell_type": "code",
   "execution_count": null,
   "metadata": {
    "collapsed": false
   },
   "outputs": [],
   "source": [
    "kfcv.plot_contest(color_by='scaler', all_folds=True, \n",
    "                  markersize=1, figsize=(10,20), fontsize=4)"
   ]
  },
  {
   "cell_type": "markdown",
   "metadata": {},
   "source": [
    "As expected, those pipelines with a lack of scaling have the lowest scores. Additionally, the scikit-learn Normalizer scaler does worse than the others. \n",
    "\n",
    "The MinMaxScaler and StandardScaler do the best for this dataset with the KNN classifier."
   ]
  },
  {
   "cell_type": "markdown",
   "metadata": {},
   "source": [
    "# Different estimators\n",
    "Let's say we would like to compare the performance of multiple classifiers on this dataset. We can specify scikit-learn objects directly if they're not already supported by including them as a 'sklo' parameter for step options:"
   ]
  },
  {
   "cell_type": "code",
   "execution_count": null,
   "metadata": {
    "collapsed": false
   },
   "outputs": [],
   "source": [
    "%%time \n",
    "\n",
    "from sklearn.svm import LinearSVC\n",
    "from sklearn.ensemble import RandomForestClassifier, AdaBoostClassifier\n",
    "from sklearn.gaussian_process import GaussianProcessClassifier\n",
    "from sklearn.naive_bayes import GaussianNB\n",
    "from sklearn.discriminant_analysis import QuadraticDiscriminantAnalysis\n",
    "\n",
    "# Initialize nested k-fold cross-validation object\n",
    "kfcv = ppl.NestedKFoldCrossValidation(outer_loop_fold_count=3, \n",
    "                                      inner_loop_fold_count=3,\n",
    "                                      shuffle_seed=2369,\n",
    "                                      outer_loop_split_seed=461,\n",
    "                                      inner_loop_split_seeds=[284, 406, 303])\n",
    "\n",
    "# Combinatorial pipeline schematic\n",
    "pipeline_schematic = [\n",
    "    {'estimator': {\n",
    "            'knn': {\n",
    "                'n_neighbors': range(1,31),\n",
    "                'weights': ['uniform','distance']\n",
    "            },\n",
    "            'svm': {\n",
    "                    'sklo': LinearSVC,\n",
    "                    'loss': ['hinge', 'squared_hinge']\n",
    "                },\n",
    "            'logistic_regression': {},\n",
    "            'random_forest': {\n",
    "                'sklo': RandomForestClassifier,\n",
    "                'max_depth': range(2,6)\n",
    "            },\n",
    "            'gaussian': {\n",
    "                'sklo': GaussianProcessClassifier,                \n",
    "            },\n",
    "            'adaboost': {\n",
    "                'sklo': AdaBoostClassifier\n",
    "            },\n",
    "            'naive_bayes': {\n",
    "                'sklo': GaussianNB\n",
    "            },\n",
    "            'qda': {\n",
    "                'sklo': QuadraticDiscriminantAnalysis\n",
    "            }\n",
    "    }}\n",
    "]\n",
    "\n",
    "# Perform nested k-fold cross-validation\n",
    "kfcv.fit(X.values, y.values, pipeline_schematic=pipeline_schematic, \n",
    "         scoring_metric='auc', score_type='median')"
   ]
  },
  {
   "cell_type": "code",
   "execution_count": null,
   "metadata": {
    "collapsed": false
   },
   "outputs": [],
   "source": [
    "kfcv.fit(X.values, y.values, pipeline_schematic=pipeline_schematic, \n",
    "    best_inner_fold_pipeline_inds={2:60})"
   ]
  },
  {
   "cell_type": "markdown",
   "metadata": {},
   "source": [
    "The best model appears to be logistic regression."
   ]
  },
  {
   "cell_type": "code",
   "execution_count": null,
   "metadata": {
    "collapsed": false
   },
   "outputs": [],
   "source": [
    "kfcv.plot_best_pipeline_scores()"
   ]
  },
  {
   "cell_type": "markdown",
   "metadata": {},
   "source": [
    "The validation performance matches well with that in the inner-fold contests.\n",
    "\n",
    "Let's look at all of the inner-fold pipeline contests:"
   ]
  },
  {
   "cell_type": "code",
   "execution_count": null,
   "metadata": {
    "collapsed": false,
    "scrolled": false
   },
   "outputs": [],
   "source": [
    "kfcv.plot_contest(all_folds=True, color_by='estimator', \n",
    "                  color_map='jet', markersize=5, fontsize=10)"
   ]
  },
  {
   "cell_type": "markdown",
   "metadata": {},
   "source": [
    "Note, I've chosen different input parameters to make the plot look better."
   ]
  },
  {
   "cell_type": "markdown",
   "metadata": {},
   "source": [
    "# PCA with feature selection and KNN\n",
    "We'd like to see if there's any pattern in doing either standard or min_max scaling, PCA, selection of different numbers of the transformed output (essentially selecting the number of principal components to use to transform the data), and k-nearest neighbors over multiple values of k:"
   ]
  },
  {
   "cell_type": "code",
   "execution_count": null,
   "metadata": {
    "collapsed": false
   },
   "outputs": [],
   "source": [
    "%%time \n",
    "\n",
    "import numpy as np\n",
    "\n",
    "# Initialize nested k-fold cross-validation object\n",
    "kfcv = ppl.NestedKFoldCrossValidation(outer_loop_fold_count=3, \n",
    "                                      inner_loop_fold_count=3,\n",
    "                                      shuffle_seed=3243,\n",
    "                                      outer_loop_split_seed=45,\n",
    "                                      inner_loop_split_seeds=[62, 207, 516])\n",
    "\n",
    "# Combinatorial pipeline schematic\n",
    "feature_count = X.shape[1]\n",
    "\n",
    "pipeline_schematic = [\n",
    "    {'scaler': {\n",
    "            'min_max': {},\n",
    "            'standard': {}\n",
    "        }\n",
    "    },\n",
    "    {'transform': {\n",
    "            'pca': {\n",
    "                'n_components': [feature_count]\n",
    "            }\n",
    "        }         \n",
    "    },\n",
    "    {'feature_selection': {\n",
    "            'select_k_best': {\n",
    "                'k': range(1, feature_count+1)\n",
    "            }\n",
    "        }\n",
    "    },\n",
    "    {'estimator': {\n",
    "            'knn': {\n",
    "                'n_neighbors': range(1,31)\n",
    "                }\n",
    "        }\n",
    "    }\n",
    "]\n",
    "\n",
    "# Perform nested k-fold cross-validation\n",
    "kfcv.fit(X.values, y.values, pipeline_schematic=pipeline_schematic, scoring_metric='auc')"
   ]
  },
  {
   "cell_type": "code",
   "execution_count": null,
   "metadata": {
    "collapsed": false
   },
   "outputs": [],
   "source": [
    "kfcv.fit(X.values, y.values, \n",
    "         pipeline_schematic=pipeline_schematic, \n",
    "         best_outer_fold_pipeline=728)"
   ]
  },
  {
   "cell_type": "markdown",
   "metadata": {},
   "source": [
    "Our process has resulted in the selection of a pipeline with standard scaling, PCA, selection of 9 principal components, and feeding into a KNN classifier with 9 neighbors and use of unform weighting."
   ]
  },
  {
   "cell_type": "code",
   "execution_count": null,
   "metadata": {
    "collapsed": false
   },
   "outputs": [],
   "source": [
    "kfcv.plot_best_pipeline_scores()"
   ]
  },
  {
   "cell_type": "markdown",
   "metadata": {},
   "source": [
    "The validation performance is in line with the best pipeline's inner-fold testing performance for each outer-fold.\n",
    "\n",
    "We can look at the effect of parameter values by changing the color_by keyword argument to a string with the format \n",
    "'step\\__step_option\\__parameter_name\\__parameter_value'. To be clear, those are two underscores in-between step, step_options, parameter_name, and parameter_value\n",
    "\n",
    "Let's see if there are any patterns with regard to the number of principal components used:"
   ]
  },
  {
   "cell_type": "code",
   "execution_count": null,
   "metadata": {
    "collapsed": false,
    "scrolled": false
   },
   "outputs": [],
   "source": [
    "kfcv.plot_contest(all_folds=True, markersize=1, fontsize=2, figsize=(20,60), \n",
    "                  color_by='feature_selection__select_k_best__k', color_map='hot')"
   ]
  },
  {
   "cell_type": "markdown",
   "metadata": {},
   "source": [
    "Not sure I see much of a pattern other than the lower numbers of principal components used to transform the data tends to predominate at the lowest scores.\n",
    "\n",
    "Now let's look at the number of k-nearest neighbors for the classifier:"
   ]
  },
  {
   "cell_type": "code",
   "execution_count": null,
   "metadata": {
    "collapsed": false,
    "scrolled": false
   },
   "outputs": [],
   "source": [
    "kfcv.plot_contest(all_folds=True, markersize=1, fontsize=2, figsize=(20,60), \n",
    "                  color_by='estimator__knn__n_neighbors', color_map='hot')"
   ]
  },
  {
   "cell_type": "markdown",
   "metadata": {},
   "source": [
    "It appears there are rather mixed results, except the highest scores appear to occur with 1 to about 13 nearest neighbors. Although, they are still represented at the lowest levels as well."
   ]
  },
  {
   "cell_type": "markdown",
   "metadata": {},
   "source": [
    "# Reducing the number of pipeline combinations\n",
    "This process can become time-intensive quickly. So, in the spirit of RandomizedGridSearchCV, I've included a random_combinations keyword argument to specify the number of available combinations and a random_comboination_seed that will be calculated similarly to duplicate results:"
   ]
  },
  {
   "cell_type": "code",
   "execution_count": null,
   "metadata": {
    "collapsed": false
   },
   "outputs": [],
   "source": [
    "%%time \n",
    "\n",
    "import numpy as np\n",
    "\n",
    "# Initialize nested k-fold cross-validation object\n",
    "kfcv = ppl.NestedKFoldCrossValidation(outer_loop_fold_count=3, \n",
    "                                      inner_loop_fold_count=3,\n",
    "                                      shuffle_seed=3243,\n",
    "                                      outer_loop_split_seed=45,\n",
    "                                      inner_loop_split_seeds=[62, 207, 516],\n",
    "                                      random_combinations=50,\n",
    "                                      random_combination_seed=2374)\n",
    "\n",
    "# Design combinatorial pipeline schematic\n",
    "feature_count = X.shape[1]\n",
    "\n",
    "pipeline_schematic = [\n",
    "    {'scaler': {\n",
    "            'min_max': {},\n",
    "            'standard': {}\n",
    "        }\n",
    "    },\n",
    "    {'transform': {\n",
    "            'pca': {\n",
    "                'n_components': [feature_count]\n",
    "            }\n",
    "        }         \n",
    "    },\n",
    "    {'feature_selection': {\n",
    "            'select_k_best': {\n",
    "                'k': range(1, feature_count+1)\n",
    "            }\n",
    "        }\n",
    "    },\n",
    "    {'estimator': {\n",
    "            'knn': {\n",
    "                'n_neighbors': range(1,31)\n",
    "                }\n",
    "        }\n",
    "    }\n",
    "]\n",
    "\n",
    "# Perform nested k-fold cross-validation\n",
    "kfcv.fit(X.values, y.values, pipeline_schematic=pipeline_schematic, scoring_metric='auc')"
   ]
  },
  {
   "cell_type": "code",
   "execution_count": null,
   "metadata": {
    "collapsed": false
   },
   "outputs": [],
   "source": [
    "kfcv.fit(X.values, y.values, pipeline_schematic=pipeline_schematic, \n",
    "    best_inner_fold_pipeline_inds={2:681})"
   ]
  },
  {
   "cell_type": "code",
   "execution_count": null,
   "metadata": {
    "collapsed": false
   },
   "outputs": [],
   "source": [
    "kfcv.plot_best_pipeline_scores()"
   ]
  },
  {
   "cell_type": "markdown",
   "metadata": {},
   "source": [
    "The best pipeline has a slightly lower median validation score (0.7918 vs  0.7995) than that testing on all pipelines, though at about 1/20 of the time (7.32 s versus 2 min 36 s). "
   ]
  },
  {
   "cell_type": "code",
   "execution_count": null,
   "metadata": {
    "collapsed": false
   },
   "outputs": [],
   "source": [
    "kfcv.plot_contest(all_folds=True, markersize=5, fontsize=13, figsize=(30,15), \n",
    "                  color_by='estimator__knn__n_neighbors', color_map='hot', legend_loc='best')"
   ]
  },
  {
   "cell_type": "markdown",
   "metadata": {},
   "source": [
    "Having less pipelines certainly makes it easier to make these graphs look better."
   ]
  },
  {
   "cell_type": "markdown",
   "metadata": {},
   "source": [
    "# Accessing internal pipeline parameters\n",
    "The best pipeline is automatically placed in the pipeline field of the nested k-fold cross-validation object (kfcv).\n",
    "\n",
    "This object is a custom pyplearnr.OuterFoldTrainedPipeline object whose own pipeline field contains the actual trained sklearn.pipeline.Pipeline object. This object can be used to look at derived pipeline step parameters normally. Please see scikit-learn's documention of Pipeline objects for more information."
   ]
  },
  {
   "cell_type": "markdown",
   "metadata": {},
   "source": [
    "# Predicting survival with the optimal model\n",
    "All one has to do to make a prediction is use the .predict() method.\n",
    "\n",
    "Here's an example of predicting whether I would survive on the Titanic. I'm 33, would probably have one family member with me, might be Pclass1 (I'd hope), male, have a Ph.D (if that's what they mean by Dr.). I'm using the median Fare for Pclass 1 and arbitrary chose a city to have embarked from:"
   ]
  },
  {
   "cell_type": "code",
   "execution_count": null,
   "metadata": {
    "collapsed": false
   },
   "outputs": [],
   "source": [
    "personal_stats = np.array([33, 1, 0, df[df['Pclass']==1]['Fare'].median(), \n",
    "                  0, 0, 1, 1, 0, 1, 0, 0, 0, 0, 0, 0])\n",
    "\n",
    "zip(personal_stats,X.columns)"
   ]
  },
  {
   "cell_type": "code",
   "execution_count": null,
   "metadata": {
    "collapsed": false
   },
   "outputs": [],
   "source": [
    "kfcv.predict(personal_stats.reshape(1,-1))"
   ]
  },
  {
   "cell_type": "markdown",
   "metadata": {},
   "source": [
    "Looks like I survived!\n",
    "\n",
    "Let's look at my predicted probability of surviving:"
   ]
  },
  {
   "cell_type": "code",
   "execution_count": null,
   "metadata": {
    "collapsed": false
   },
   "outputs": [],
   "source": [
    "kfcv.predict_proba(personal_stats.reshape(1,-1))"
   ]
  },
  {
   "cell_type": "markdown",
   "metadata": {},
   "source": [
    "I would have a 60% chance of survival."
   ]
  },
  {
   "cell_type": "markdown",
   "metadata": {},
   "source": [
    "## Summary\n",
    "I've shown how to use pyplearnr to do model selection and validation among a diverse collection of pipelines, generated using a simple/intuitive/flexible combinatorial pipeline schematic input, using nested k-fold cross-validation.\n",
    "\n",
    "Also, I've shown how to visualize the best model performance and that of all models in the inner-fold contests of each outer-fold, predict survival, and check the actual predicted probability according to the optimized pipeline.\n",
    "\n",
    "I hope this proves to be a useful tool. \n",
    "\n",
    "Please let me know if you have any questions or suggestions about how to improve this tool, my code, the approach I'm taking, etc."
   ]
  }
 ],
 "metadata": {
  "anaconda-cloud": {},
  "kernelspec": {
   "display_name": "Python [conda env:pyplearnr_env]",
   "language": "python",
   "name": "conda-env-pyplearnr_env-py"
  },
  "language_info": {
   "codemirror_mode": {
    "name": "ipython",
    "version": 2
   },
   "file_extension": ".py",
   "mimetype": "text/x-python",
   "name": "python",
   "nbconvert_exporter": "python",
   "pygments_lexer": "ipython2",
   "version": "2.7.12"
  }
 },
 "nbformat": 4,
 "nbformat_minor": 0
}
