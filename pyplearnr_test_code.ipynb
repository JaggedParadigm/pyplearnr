{
 "cells": [
  {
   "cell_type": "markdown",
   "metadata": {},
   "source": [
    "# pyplearnr demo\n",
    "Here I demonstrate pyplearnr, a wrapper for building/training/validating scikit learn pipelines using GridSearchCV or RandomizedSearchCV.\n",
    "\n",
    "Quick keyword arguments give access to optional feature selection (e.g. SelectKBest), scaling (e.g. standard scaling), use of feature interactions, and data transformations (e.g. PCA, t-SNE) before being fed to a classifier/regressor.\n",
    "\n",
    "After building the pipeline, data can be used to perform a nested (stratified if classification) k-folds cross-validation and output an object containing data from the process, including the best model.\n",
    "\n",
    "Various default pipeline step parameters for the grid-search are available for quick iteration over different pipelines, with the option to ignore/override them in a flexible way.\n",
    "\n",
    "This is an on-going project that I intend to update with more models and pre-processing options and also with corresponding defaults.\n",
    "\n",
    "## Titanic dataset example\n",
    "Here I use the Titanic dataset I've cleaned and pickled in a separate tutorial.\n",
    "\n",
    "### Import data"
   ]
  },
  {
   "cell_type": "code",
   "execution_count": 2,
   "metadata": {
    "collapsed": false
   },
   "outputs": [
    {
     "name": "stdout",
     "output_type": "stream",
     "text": [
      "<class 'pandas.core.frame.DataFrame'>\n",
      "Int64Index: 890 entries, 0 to 890\n",
      "Data columns (total 9 columns):\n",
      "Survived    890 non-null int64\n",
      "Pclass      890 non-null int64\n",
      "Sex         890 non-null object\n",
      "Age         890 non-null float64\n",
      "SibSp       890 non-null int64\n",
      "Parch       890 non-null int64\n",
      "Fare        890 non-null float64\n",
      "Embarked    890 non-null object\n",
      "Title       890 non-null object\n",
      "dtypes: float64(2), int64(4), object(3)\n",
      "memory usage: 69.5+ KB\n"
     ]
    }
   ],
   "source": [
    "import pandas as pd\n",
    "\n",
    "df = pd.read_pickle('trimmed_titanic_data.pkl')\n",
    "\n",
    "df.info()"
   ]
  },
  {
   "cell_type": "markdown",
   "metadata": {},
   "source": [
    "By \"cleaned\" I mean I've derived titles (e.g. \"Mr.\", \"Mrs.\", \"Dr.\", etc) from the passenger names, imputed the missing Age values using polynomial regression with grid-searched 10-fold cross-validation, filled in the 3 missing Embarked values with the mode, and removed all fields that could be considered an id for that individual.\n",
    "\n",
    "Thus, there is no missing/null data.\n",
    "\n",
    "## Set categorical features as type 'category'\n",
    "In order to one-hot encode categorical data, its best to set the features that are considered categorical:"
   ]
  },
  {
   "cell_type": "code",
   "execution_count": 3,
   "metadata": {
    "collapsed": false
   },
   "outputs": [
    {
     "name": "stdout",
     "output_type": "stream",
     "text": [
      "<class 'pandas.core.frame.DataFrame'>\n",
      "Int64Index: 890 entries, 0 to 890\n",
      "Data columns (total 9 columns):\n",
      "Survived    890 non-null category\n",
      "Pclass      890 non-null category\n",
      "Sex         890 non-null category\n",
      "Age         890 non-null float64\n",
      "SibSp       890 non-null int64\n",
      "Parch       890 non-null int64\n",
      "Fare        890 non-null float64\n",
      "Embarked    890 non-null category\n",
      "Title       890 non-null category\n",
      "dtypes: category(5), float64(2), int64(2)\n",
      "memory usage: 39.3 KB\n"
     ]
    }
   ],
   "source": [
    "simulation_df = df.copy()\n",
    "\n",
    "categorical_features = ['Survived','Pclass','Sex','Embarked','Title']\n",
    "\n",
    "for feature in categorical_features:\n",
    "    simulation_df[feature] = simulation_df[feature].astype('category')\n",
    "    \n",
    "simulation_df.info()"
   ]
  },
  {
   "cell_type": "markdown",
   "metadata": {},
   "source": [
    "## One-hot encode categorical features"
   ]
  },
  {
   "cell_type": "code",
   "execution_count": 4,
   "metadata": {
    "collapsed": false
   },
   "outputs": [
    {
     "name": "stdout",
     "output_type": "stream",
     "text": [
      "<class 'pandas.core.frame.DataFrame'>\n",
      "Int64Index: 890 entries, 0 to 890\n",
      "Data columns (total 17 columns):\n",
      "Age               890 non-null float64\n",
      "SibSp             890 non-null int64\n",
      "Parch             890 non-null int64\n",
      "Fare              890 non-null float64\n",
      "Survived_1        890 non-null uint8\n",
      "Pclass_2          890 non-null uint8\n",
      "Pclass_3          890 non-null uint8\n",
      "Sex_male          890 non-null uint8\n",
      "Embarked_Q        890 non-null uint8\n",
      "Embarked_S        890 non-null uint8\n",
      "Title_Dr          890 non-null uint8\n",
      "Title_Military    890 non-null uint8\n",
      "Title_Miss        890 non-null uint8\n",
      "Title_Mr          890 non-null uint8\n",
      "Title_Mrs         890 non-null uint8\n",
      "Title_Noble       890 non-null uint8\n",
      "Title_Rev         890 non-null uint8\n",
      "dtypes: float64(2), int64(2), uint8(13)\n",
      "memory usage: 46.1 KB\n"
     ]
    }
   ],
   "source": [
    "simulation_df = pd.get_dummies(simulation_df,drop_first=True)\n",
    "\n",
    "simulation_df.info()"
   ]
  },
  {
   "cell_type": "markdown",
   "metadata": {},
   "source": [
    "Now we have 17 features.\n",
    "\n",
    "### Split into input/output data"
   ]
  },
  {
   "cell_type": "code",
   "execution_count": 5,
   "metadata": {
    "collapsed": true
   },
   "outputs": [],
   "source": [
    "# Set output feature\n",
    "output_feature = 'Survived_1'\n",
    "\n",
    "# Get all column names\n",
    "column_names = list(simulation_df.columns)\n",
    "\n",
    "# Get input features\n",
    "input_features = [x for x in column_names if x != output_feature]\n",
    "\n",
    "# Split into features and responses\n",
    "X = simulation_df[input_features].copy()\n",
    "y = simulation_df[output_feature].copy()"
   ]
  },
  {
   "cell_type": "markdown",
   "metadata": {},
   "source": [
    "### Null model"
   ]
  },
  {
   "cell_type": "code",
   "execution_count": 6,
   "metadata": {
    "collapsed": false
   },
   "outputs": [
    {
     "data": {
      "text/plain": [
       "array([ 0.61573034,  0.38426966])"
      ]
     },
     "execution_count": 6,
     "metadata": {},
     "output_type": "execute_result"
    }
   ],
   "source": [
    "simulation_df['Survived_1'].value_counts().values/float(simulation_df['Survived_1'].value_counts().values.sum())"
   ]
  },
  {
   "cell_type": "markdown",
   "metadata": {},
   "source": [
    "Thus, null accuracy of ~62% if always predict death.\n",
    "\n",
    "### Import pyplearnr and initialize optimized pipeline collection"
   ]
  },
  {
   "cell_type": "code",
   "execution_count": 7,
   "metadata": {
    "collapsed": false
   },
   "outputs": [],
   "source": [
    "%matplotlib inline\n",
    "\n",
    "import sys\n",
    "\n",
    "sys.path.append(\"./code\")\n",
    "\n",
    "import pyplearnr as ppl\n",
    "\n",
    "\n",
    "\n",
    "optimized_pipelines = {}"
   ]
  },
  {
   "cell_type": "code",
   "execution_count": 114,
   "metadata": {
    "collapsed": false,
    "scrolled": true
   },
   "outputs": [
    {
     "name": "stdout",
     "output_type": "stream",
     "text": [
      "8\n",
      "0\n",
      "\t0\n",
      "\t\t0\n",
      "\t\t\t0.995702005731 0.723465473146\n",
      "\t\t1\n",
      "\t\t\t0.995702005731 0.723465473146\n",
      "\t\t2\n",
      "\t\t\t0.836363636364 0.717924126172\n",
      "\t\t3\n",
      "\t\t\t0.995454545455 0.723465473146\n",
      "\t\t4\n",
      "\t\t\t0.995702005731 0.82363597613\n",
      "\t\t5\n",
      "\t\t\t0.995702005731 0.82363597613\n",
      "\t\t6\n",
      "\t\t\t0.872727272727 0.737531969309\n",
      "\t\t7\n",
      "\t\t\t0.995454545455 0.82363597613\n",
      "\t1\n",
      "\t\t0\n",
      "\t\t\t0.996248087778 0.744827586207\n",
      "\t\t1\n",
      "\t\t\t0.996248087778 0.744827586207\n",
      "\t\t2\n",
      "\t\t\t0.828638497653 0.728803245436\n",
      "\t\t3\n",
      "\t\t\t0.995305164319 0.744827586207\n",
      "\t\t4\n",
      "\t\t\t0.996248087778 0.799695740365\n",
      "\t\t5\n",
      "\t\t\t0.996248087778 0.799695740365\n",
      "\t\t6\n",
      "\t\t\t0.87558685446 0.783671399594\n",
      "\t\t7\n",
      "\t\t\t0.995305164319 0.799695740365\n",
      "\t2\n",
      "\t\t0\n",
      "\t\t\t0.990369680025 0.738314680711\n",
      "\t\t1\n",
      "\t\t\t0.990369680025 0.738314680711\n",
      "\t\t2\n",
      "\t\t\t0.831081081081 0.722295369761\n",
      "\t\t3\n",
      "\t\t\t0.990990990991 0.738314680711\n",
      "\t\t4\n",
      "\t\t\t0.992000621311 0.801184990125\n",
      "\t\t5\n",
      "\t\t\t0.992000621311 0.801184990125\n",
      "\t\t6\n",
      "\t\t\t0.871621621622 0.804476629361\n",
      "\t\t7\n",
      "\t\t\t0.990990990991 0.790980908492\n",
      "\t3\n",
      "\t\t0\n",
      "\t\t\t0.992059301113 0.749593495935\n",
      "\t\t1\n",
      "\t\t\t0.992059301113 0.749593495935\n",
      "\t\t2\n",
      "\t\t\t0.843601895735 0.705081300813\n",
      "\t\t3\n",
      "\t\t\t0.988151658768 0.753455284553\n",
      "\t\t4\n",
      "\t\t\t0.992059301113 0.789024390244\n",
      "\t\t5\n",
      "\t\t\t0.992059301113 0.789024390244\n",
      "\t\t6\n",
      "\t\t\t0.874407582938 0.756707317073\n",
      "\t\t7\n",
      "\t\t\t0.988151658768 0.792886178862\n",
      "\t4\n",
      "\t\t0\n",
      "\t\t\t0.992571934946 0.757366970532\n",
      "\t\t1\n",
      "\t\t\t0.992571934946 0.757366970532\n",
      "\t\t2\n",
      "\t\t\t0.809633027523 0.790650837397\n",
      "\t\t3\n",
      "\t\t\t0.990825688073 0.768602925588\n",
      "\t\t4\n",
      "\t\t\t0.993445058382 0.811956752173\n",
      "\t\t5\n",
      "\t\t\t0.993445058382 0.811956752173\n",
      "\t\t6\n",
      "\t\t\t0.873853211009 0.830400678397\n",
      "\t\t7\n",
      "\t\t\t0.990825688073 0.817574729701\n",
      "0.801184990125 4\n",
      "0.707055416612 0.992486047309\n",
      "1\n",
      "\t0\n",
      "\t\t0\n",
      "\t\t\t0.996294607971 0.635057471264\n",
      "\t\t1\n",
      "\t\t\t0.996294607971 0.635057471264\n",
      "\t\t2\n",
      "\t\t\t0.827272727273 0.644088669951\n",
      "\t\t3\n",
      "\t\t\t0.995454545455 0.640804597701\n",
      "\t\t4\n",
      "\t\t\t0.995702005731 0.711617405583\n",
      "\t\t5\n",
      "\t\t\t0.995702005731 0.711617405583\n",
      "\t\t6\n",
      "\t\t\t0.875 0.718698686371\n",
      "\t\t7\n",
      "\t\t\t0.995454545455 0.71736453202\n",
      "\t1\n",
      "\t\t0\n",
      "\t\t\t0.996281920594 0.707200811359\n",
      "\t\t1\n",
      "\t\t\t0.996281920594 0.707200811359\n",
      "\t\t2\n",
      "\t\t\t0.816513761468 0.673935091278\n",
      "\t\t3\n",
      "\t\t\t0.995412844037 0.707200811359\n",
      "\t\t4\n",
      "\t\t\t0.996281920594 0.773427991886\n",
      "\t\t5\n",
      "\t\t\t0.996281920594 0.773427991886\n",
      "\t\t6\n",
      "\t\t\t0.844036697248 0.795030425963\n",
      "\t\t7\n",
      "\t\t\t0.995412844037 0.773427991886\n",
      "\t2\n",
      "\t\t0\n",
      "\t\t\t0.99047661859 0.770572745227\n",
      "\t\t1\n",
      "\t\t\t0.99047661859 0.770572745227\n",
      "\t\t2\n",
      "\t\t\t0.812775330396 0.717467632214\n",
      "\t\t3\n",
      "\t\t\t0.988986784141 0.770572745227\n",
      "\t\t4\n",
      "\t\t\t0.990508727091 0.795808646039\n",
      "\t\t5\n",
      "\t\t\t0.990508727091 0.795808646039\n",
      "\t\t6\n",
      "\t\t\t0.848017621145 0.788896203643\n",
      "\t\t7\n",
      "\t\t\t0.988986784141 0.795808646039\n",
      "\t3\n",
      "\t\t0\n",
      "\t\t\t0.994860326428 0.716869918699\n",
      "\t\t1\n",
      "\t\t\t0.994860326428 0.716869918699\n",
      "\t\t2\n",
      "\t\t\t0.810185185185 0.680081300813\n",
      "\t\t3\n",
      "\t\t\t0.993055555556 0.720731707317\n",
      "\t\t4\n",
      "\t\t\t0.995762711864 0.776829268293\n",
      "\t\t5\n",
      "\t\t\t0.995762711864 0.776829268293\n",
      "\t\t6\n",
      "\t\t\t0.863425925926 0.736178861789\n",
      "\t\t7\n",
      "\t\t\t0.993055555556 0.774593495935\n",
      "\t4\n",
      "\t\t0\n",
      "\t\t\t0.991832620411 0.772418910324\n",
      "\t\t1\n",
      "\t\t\t0.991832620411 0.772418910324\n",
      "\t\t2\n",
      "\t\t\t0.795964125561 0.7380750477\n",
      "\t\t3\n",
      "\t\t\t0.991031390135 0.772418910324\n",
      "\t\t4\n",
      "\t\t\t0.993435080963 0.804536781853\n",
      "\t\t5\n",
      "\t\t\t0.993435080963 0.804536781853\n",
      "\t\t6\n",
      "\t\t\t0.856502242152 0.811532753869\n",
      "\t\t7\n",
      "\t\t\t0.991031390135 0.800720797117\n",
      "0.788896203643 6\n",
      "0.73566017316 0.858695652174\n",
      "2\n",
      "\t0\n",
      "\t\t0\n",
      "\t\t\t0.997101449275 0.675903119869\n",
      "\t\t1\n",
      "\t\t\t0.997101449275 0.675903119869\n",
      "\t\t2\n",
      "\t\t\t0.834821428571 0.679187192118\n",
      "\t\t3\n",
      "\t\t\t0.995535714286 0.681650246305\n",
      "\t\t4\n",
      "\t\t\t0.996318581781 0.676518883415\n",
      "\t\t5\n",
      "\t\t\t0.996318581781 0.676518883415\n",
      "\t\t6\n",
      "\t\t\t0.863839285714 0.715517241379\n",
      "\t\t7\n",
      "\t\t\t0.995535714286 0.682266009852\n",
      "\t1\n",
      "\t\t0\n",
      "\t\t\t0.994863993343 0.680992736077\n",
      "\t\t1\n",
      "\t\t\t0.994863993343 0.680992736077\n",
      "\t\t2\n",
      "\t\t\t0.823529411765 0.684624697337\n",
      "\t\t3\n",
      "\t\t\t0.993212669683 0.680992736077\n",
      "\t\t4\n",
      "\t\t\t0.994863993343 0.78702582728\n",
      "\t\t5\n",
      "\t\t\t0.994863993343 0.78702582728\n",
      "\t\t6\n",
      "\t\t\t0.848416289593 0.757465698144\n",
      "\t\t7\n",
      "\t\t\t0.993212669683 0.78702582728\n",
      "\t2\n",
      "\t\t0\n",
      "\t\t\t0.994883040936 0.699145299145\n",
      "\t\t1\n",
      "\t\t\t0.994883040936 0.699145299145\n",
      "\t\t2\n",
      "\t\t\t0.824561403509 0.643376068376\n",
      "\t\t3\n",
      "\t\t\t0.993421052632 0.699145299145\n",
      "\t\t4\n",
      "\t\t\t0.994883040936 0.78311965812\n",
      "\t\t5\n",
      "\t\t\t0.994883040936 0.78311965812\n",
      "\t\t6\n",
      "\t\t\t0.837719298246 0.759188034188\n",
      "\t\t7\n",
      "\t\t\t0.993421052632 0.78311965812\n",
      "\t3\n",
      "\t\t0\n",
      "\t\t\t0.993181818182 0.733536585366\n",
      "\t\t1\n",
      "\t\t\t0.993181818182 0.733536585366\n",
      "\t\t2\n",
      "\t\t\t0.822727272727 0.653455284553\n",
      "\t\t3\n",
      "\t\t\t0.993181818182 0.733536585366\n",
      "\t\t4\n",
      "\t\t\t0.995714285714 0.760162601626\n",
      "\t\t5\n",
      "\t\t\t0.995714285714 0.760162601626\n",
      "\t\t6\n",
      "\t\t\t0.831818181818 0.715650406504\n",
      "\t\t7\n",
      "\t\t\t0.993181818182 0.760162601626\n",
      "\t4\n",
      "\t\t0\n",
      "\t\t\t0.991966453038 0.772418910324\n",
      "\t\t1\n",
      "\t\t\t0.991966453038 0.772418910324\n",
      "\t\t2\n",
      "\t\t\t0.821585903084 0.769980920076\n",
      "\t\t3\n",
      "\t\t\t0.988986784141 0.772418910324\n",
      "\t\t4\n",
      "\t\t\t0.991966453038 0.780050879796\n",
      "\t\t5\n",
      "\t\t\t0.991966453038 0.780050879796\n",
      "\t\t6\n",
      "\t\t\t0.843612334802 0.785244859021\n",
      "\t\t7\n",
      "\t\t\t0.988986784141 0.785668857325\n",
      "0.78311965812 7\n",
      "0.805200222469 0.991071428571\n",
      "3\n",
      "\t0\n",
      "\t\t0\n",
      "\t\t\t0.992467367418 0.66184318555\n",
      "\t\t1\n",
      "\t\t\t0.992467367418 0.66184318555\n",
      "\t\t2\n",
      "\t\t\t0.838862559242 0.653017241379\n",
      "\t\t3\n",
      "\t\t\t0.990521327014 0.667590311987\n",
      "\t\t4\n",
      "\t\t\t0.993440387619 0.711617405583\n",
      "\t\t5\n",
      "\t\t\t0.993440387619 0.711617405583\n",
      "\t\t6\n",
      "\t\t\t0.864928909953 0.730192939245\n",
      "\t\t7\n",
      "\t\t\t0.990521327014 0.708435960591\n",
      "\t1\n",
      "\t\t0\n",
      "\t\t\t0.993807266141 0.721751412429\n",
      "\t\t1\n",
      "\t\t\t0.993807266141 0.721751412429\n",
      "\t\t2\n",
      "\t\t\t0.819711538462 0.706618240517\n",
      "\t\t3\n",
      "\t\t\t0.992788461538 0.721751412429\n",
      "\t\t4\n",
      "\t\t\t0.994459833795 0.749697336562\n",
      "\t\t5\n",
      "\t\t\t0.994459833795 0.749697336562\n",
      "\t\t6\n",
      "\t\t\t0.855769230769 0.72104519774\n",
      "\t\t7\n",
      "\t\t\t0.992788461538 0.749697336562\n",
      "\t2\n",
      "\t\t0\n",
      "\t\t\t0.9962659679 0.645512820513\n",
      "\t\t1\n",
      "\t\t\t0.9962659679 0.645512820513\n",
      "\t\t2\n",
      "\t\t\t0.827906976744 0.635256410256\n",
      "\t\t3\n",
      "\t\t\t0.995348837209 0.645512820513\n",
      "\t\t4\n",
      "\t\t\t0.997183098592 0.805341880342\n",
      "\t\t5\n",
      "\t\t\t0.997183098592 0.805341880342\n",
      "\t\t6\n",
      "\t\t\t0.853488372093 0.815384615385\n",
      "\t\t7\n",
      "\t\t\t0.995348837209 0.805341880342\n",
      "\t3\n",
      "\t\t0\n",
      "\t\t\t0.991753246753 0.756550951848\n",
      "\t\t1\n",
      "\t\t\t0.991753246753 0.756550951848\n",
      "\t\t2\n",
      "\t\t\t0.815909090909 0.729339305711\n",
      "\t\t3\n",
      "\t\t\t0.990909090909 0.745912653975\n",
      "\t\t4\n",
      "\t\t\t0.992857142857 0.809406494961\n",
      "\t\t5\n",
      "\t\t\t0.992857142857 0.809406494961\n",
      "\t\t6\n",
      "\t\t\t0.840909090909 0.750503919373\n",
      "\t\t7\n",
      "\t\t\t0.990909090909 0.788129899216\n",
      "\t4\n",
      "\t\t0\n",
      "\t\t\t0.994854562638 0.749947000212\n",
      "\t\t1\n",
      "\t\t\t0.994854562638 0.749947000212\n",
      "\t\t2\n",
      "\t\t\t0.822429906542 0.77199491202\n",
      "\t\t3\n",
      "\t\t\t0.992990654206 0.749947000212\n",
      "\t\t4\n",
      "\t\t\t0.994382022472 0.76881492474\n",
      "\t\t5\n",
      "\t\t\t0.994382022472 0.76881492474\n",
      "\t\t6\n",
      "\t\t\t0.852803738318 0.783230867077\n",
      "\t\t7\n",
      "\t\t\t0.992990654206 0.76881492474\n",
      "0.76881492474 4\n",
      "0.769579288026 0.992509363296\n",
      "4\n",
      "\t0\n",
      "\t\t0\n",
      "\t\t\t0.992563841188 0.670771756979\n",
      "\t\t1\n",
      "\t\t\t0.992563841188 0.670771756979\n",
      "\t\t2\n",
      "\t\t\t0.81880733945 0.691297208539\n",
      "\t\t3\n",
      "\t\t\t0.990825688073 0.676518883415\n",
      "\t\t4\n",
      "\t\t\t0.993432917745 0.720545977011\n",
      "\t\t5\n",
      "\t\t\t0.993432917745 0.720545977011\n",
      "\t\t6\n",
      "\t\t\t0.869266055046 0.7276272578\n",
      "\t\t7\n",
      "\t\t\t0.990825688073 0.732040229885\n",
      "\t1\n",
      "\t\t0\n",
      "\t\t\t0.992523978452 0.703894269572\n",
      "\t\t1\n",
      "\t\t\t0.992523978452 0.703894269572\n",
      "\t\t2\n",
      "\t\t\t0.820930232558 0.695621468927\n",
      "\t\t3\n",
      "\t\t\t0.990697674419 0.703894269572\n",
      "\t\t4\n",
      "\t\t\t0.992024701091 0.729317998386\n",
      "\t\t5\n",
      "\t\t\t0.992024701091 0.729317998386\n",
      "\t\t6\n",
      "\t\t\t0.851162790698 0.752421307506\n",
      "\t\t7\n",
      "\t\t\t0.990697674419 0.729317998386\n",
      "\t2\n",
      "\t\t0\n",
      "\t\t\t0.991806461634 0.668803418803\n",
      "\t\t1\n",
      "\t\t\t0.991806461634 0.668803418803\n",
      "\t\t2\n",
      "\t\t\t0.815315315315 0.687393162393\n",
      "\t\t3\n",
      "\t\t\t0.990990990991 0.668803418803\n",
      "\t\t4\n",
      "\t\t\t0.99343740292 0.798290598291\n",
      "\t\t5\n",
      "\t\t\t0.99343740292 0.798290598291\n",
      "\t\t6\n",
      "\t\t\t0.835585585586 0.79358974359\n",
      "\t\t7\n",
      "\t\t\t0.990990990991 0.803846153846\n",
      "\t3\n",
      "\t\t0\n",
      "\t\t\t0.988243465734 0.700354609929\n",
      "\t\t1\n",
      "\t\t\t0.988243465734 0.700354609929\n",
      "\t\t2\n",
      "\t\t\t0.823008849558 0.712544326241\n",
      "\t\t3\n",
      "\t\t\t0.986725663717 0.705673758865\n",
      "\t\t4\n",
      "\t\t\t0.989066680387 0.73204787234\n",
      "\t\t5\n",
      "\t\t\t0.989066680387 0.73204787234\n",
      "\t\t6\n",
      "\t\t\t0.847345132743 0.696586879433\n",
      "\t\t7\n",
      "\t\t\t0.986725663717 0.721631205674\n",
      "\t4\n",
      "\t\t0\n",
      "\t\t\t0.99161480511 0.722074739637\n",
      "\t\t1\n",
      "\t\t\t0.99161480511 0.722074739637\n",
      "\t\t2\n",
      "\t\t\t0.816279069767 0.649172963039\n",
      "\t\t3\n",
      "\t\t\t0.990697674419 0.722074739637\n",
      "\t\t4\n",
      "\t\t\t0.992957746479 0.724525219522\n",
      "\t\t5\n",
      "\t\t\t0.992957746479 0.724525219522\n",
      "\t\t6\n",
      "\t\t\t0.844186046512 0.718092709822\n",
      "\t\t7\n",
      "\t\t\t0.990697674419 0.724525219522\n",
      "0.729317998386 4\n",
      "0.813502673797 0.989501049895\n",
      "1 Pipeline(steps=(('scaler', Normalizer(copy=True, norm='l2')), ('estimator', KNeighborsClassifier(algorithm='auto', leaf_size=30, metric='minkowski',\n",
      "           metric_params=None, n_jobs=1, n_neighbors=1, p=2,\n",
      "           weights='distance'))))\n",
      "2 Pipeline(steps=(('scaler', Normalizer(copy=True, norm='l2')), ('estimator', KNeighborsClassifier(algorithm='auto', leaf_size=30, metric='minkowski',\n",
      "           metric_params=None, n_jobs=1, n_neighbors=2, p=2,\n",
      "           weights='uniform'))))\n",
      "3 Pipeline(steps=(('scaler', Normalizer(copy=True, norm='l2')), ('estimator', KNeighborsClassifier(algorithm='auto', leaf_size=30, metric='minkowski',\n",
      "           metric_params=None, n_jobs=1, n_neighbors=2, p=2,\n",
      "           weights='distance'))))\n",
      "\n",
      "\n",
      "No model was chosen because there is no clear winner. Please use the set_winning_pipeline method with one of the indices above.\n",
      "CPU times: user 3.41 s, sys: 262 ms, total: 3.67 s\n",
      "Wall time: 3.83 s\n"
     ]
    }
   ],
   "source": [
    "%%time \n",
    "\n",
    "reload(ppl)\n",
    "\n",
    "import numpy as np\n",
    "\n",
    "kfcv = ppl.NestedKFoldCrossValidation(outer_loop_fold_count=5, inner_loop_fold_count=5, shuffle_flag=True)\n",
    "\n",
    "pipeline_bundle_schematic = [\n",
    "    {'scaler': {\n",
    "        'standard': {},\n",
    "        'normal': {}\n",
    "    }},\n",
    "    {'estimator': {\n",
    "        'knn': {\n",
    "            'n_neighbors': range(1,3),\n",
    "            'weights': ['uniform', 'distance']\n",
    "        }\n",
    "#         'svm': {\n",
    "#             'C': np.array([1.00000000e-05, 1.00000000e+00])\n",
    "#         }\n",
    "    }}\n",
    "]\n",
    "\n",
    "pipelines = ppl.PipelineBundle().build_pipeline_bundle(pipeline_bundle_schematic)\n",
    "print len(pipelines)\n",
    "# pipelines = [pipelines[5], pipelines[3]]\n",
    "\n",
    "kfcv.fit(X.values, y.values, pipelines)"
   ]
  },
  {
   "cell_type": "code",
   "execution_count": 14,
   "metadata": {
    "collapsed": false
   },
   "outputs": [
    {
     "name": "stdout",
     "output_type": "stream",
     "text": [
      "['__abstractmethods__', '__class__', '__delattr__', '__dict__', '__doc__', '__format__', '__getattribute__', '__getstate__', '__hash__', '__init__', '__module__', '__new__', '__reduce__', '__reduce_ex__', '__repr__', '__setattr__', '__setstate__', '__sizeof__', '__str__', '__subclasshook__', '__weakref__', '_abc_cache', '_abc_negative_cache', '_abc_negative_cache_version', '_abc_registry', '_estimator_type', '_final_estimator', '_fit', '_get_param_names', '_get_params', '_inverse_transform', '_pairwise', '_replace_step', '_set_params', '_transform', '_validate_names', '_validate_steps', 'classes_', 'decision_function', 'fit', 'fit_predict', 'fit_transform', 'get_params', 'inverse_transform', 'named_steps', 'predict', 'predict_log_proba', 'predict_proba', 'score', 'set_params', 'steps', 'transform']\n"
     ]
    },
    {
     "ename": "AttributeError",
     "evalue": "'Pipeline' object has no attribute 'score_'",
     "output_type": "error",
     "traceback": [
      "\u001b[0;31m---------------------------------------------------------------------------\u001b[0m",
      "\u001b[0;31mAttributeError\u001b[0m                            Traceback (most recent call last)",
      "\u001b[0;32m<ipython-input-14-5a3e06be7cb9>\u001b[0m in \u001b[0;36m<module>\u001b[0;34m()\u001b[0m\n\u001b[1;32m      1\u001b[0m \u001b[0;32mprint\u001b[0m \u001b[0mdir\u001b[0m\u001b[0;34m(\u001b[0m\u001b[0mkfcv\u001b[0m\u001b[0;34m.\u001b[0m\u001b[0mpipelines\u001b[0m\u001b[0;34m[\u001b[0m\u001b[0;36m0\u001b[0m\u001b[0;34m]\u001b[0m\u001b[0;34m)\u001b[0m\u001b[0;34m\u001b[0m\u001b[0m\n\u001b[0;32m----> 2\u001b[0;31m \u001b[0;32mprint\u001b[0m \u001b[0mkfcv\u001b[0m\u001b[0;34m.\u001b[0m\u001b[0mpipelines\u001b[0m\u001b[0;34m[\u001b[0m\u001b[0;36m0\u001b[0m\u001b[0;34m]\u001b[0m\u001b[0;34m.\u001b[0m\u001b[0mscore_\u001b[0m\u001b[0;34m\u001b[0m\u001b[0m\n\u001b[0m",
      "\u001b[0;31mAttributeError\u001b[0m: 'Pipeline' object has no attribute 'score_'"
     ]
    }
   ],
   "source": [
    "print dir(kfcv.pipelines[0])\n",
    "print kfcv.pipelines[0].score_"
   ]
  },
  {
   "cell_type": "code",
   "execution_count": null,
   "metadata": {
    "collapsed": false
   },
   "outputs": [],
   "source": [
    "len(pipelines)"
   ]
  },
  {
   "cell_type": "code",
   "execution_count": null,
   "metadata": {
    "collapsed": false
   },
   "outputs": [],
   "source": [
    "for x in pipelines:\n",
    "    for step in x.steps:\n",
    "        print step\n",
    "    print '\\n'"
   ]
  },
  {
   "cell_type": "code",
   "execution_count": null,
   "metadata": {
    "collapsed": false
   },
   "outputs": [],
   "source": [
    "%%time\n",
    "import itertools\n",
    "\n",
    "estimators = ['logistic_regression','svm']\n",
    "feature_selection_options = [None,'select_k_best']\n",
    "scaling_options = [None,'standard','normal','min_max','binary']\n",
    "transformations = [None,'pca']\n",
    "\n",
    "pipeline_steps = [feature_selection_options,scaling_options,\n",
    "                  transformations,estimators]\n",
    "\n",
    "pipeline_options = itertools.product(*pipeline_steps)\n",
    "\n",
    "PipelineBundle.get_default_pipeline_step_parameters(feature_count)\n",
    "\n",
    "for x in pipeline_options:\n",
    "    print x"
   ]
  },
  {
   "cell_type": "code",
   "execution_count": null,
   "metadata": {
    "collapsed": false
   },
   "outputs": [],
   "source": [
    "%%time\n",
    "\n",
    "import itertools\n",
    "\n",
    "estimators = ['knn','logistic_regression','svm',\n",
    "              'multilayer_perceptron','random_forest','adaboost']\n",
    "\n",
    "feature_interaction_options = [True,False]\n",
    "feature_selection_options = [None,'select_k_best']\n",
    "scaling_options = [None,'standard','normal','min_max','binary']\n",
    "transformations = [None,'pca']\n",
    "\n",
    "pipeline_steps = [feature_interaction_options,feature_selection_options,scaling_options,\n",
    "                  transformations,estimators]\n",
    "\n",
    "pipeline_options = list(itertools.product(*pipeline_steps))\n",
    "\n",
    "optimized_pipelines = {}\n",
    "\n",
    "for pipeline_step_combo in pipeline_options:\n",
    "    model_name = []\n",
    "    \n",
    "    feature_interactions = pipeline_step_combo[0]\n",
    "    \n",
    "    if feature_interactions:\n",
    "        model_name.append('interactions')\n",
    "        \n",
    "    feature_selection_type = pipeline_step_combo[1]\n",
    "    \n",
    "    if feature_selection_type:\n",
    "        model_name.append('select')\n",
    "    \n",
    "    scale_type = pipeline_step_combo[2]\n",
    "    \n",
    "    if scale_type:\n",
    "        model_name.append(scale_type)\n",
    "        \n",
    "    transform_type = pipeline_step_combo[3]\n",
    "    \n",
    "    if transform_type:\n",
    "        model_name.append(transform_type)\n",
    "        \n",
    "    estimator = pipeline_step_combo[4]\n",
    "    \n",
    "    model_name.append(estimator)\n",
    "    \n",
    "    model_name = '_'.join(model_name)\n",
    "    \n",
    "    print model_name\n",
    "    \n",
    "    # Set pipeline keyword arguments\n",
    "    optimized_pipeline_kwargs = {\n",
    "        'feature_selection_type': feature_selection_type,\n",
    "        'scale_type': scale_type,\n",
    "        'feature_interactions': feature_interactions,\n",
    "        'transform_type': transform_type\n",
    "        }\n",
    "\n",
    "    # Initialize pipeline\n",
    "    optimized_pipeline = ppl.OptimizedPipeline(estimator,**optimized_pipeline_kwargs)\n",
    "\n",
    "    # Set pipeline fitting parameters\n",
    "    fit_kwargs = {\n",
    "        'cv': 10,\n",
    "        'num_parameter_combos': None,\n",
    "        'n_jobs': -1,\n",
    "        'random_state': None,\n",
    "        'suppress_output': True,\n",
    "        'use_default_param_dist': True,\n",
    "        'param_dist': None,\n",
    "        'test_size': 0.2 # 20% saved as test set\n",
    "    }\n",
    "\n",
    "    # Fit data\n",
    "    optimized_pipeline.fit(X,y,**fit_kwargs)\n",
    "\n",
    "    # Save optimized pipeline\n",
    "    optimized_pipelines[model_name] = optimized_pipeline"
   ]
  },
  {
   "cell_type": "markdown",
   "metadata": {},
   "source": [
    "### KNN with and without pre-processing and various options\n",
    "#### Basic KNN\n",
    "Here we do a K-nearest neighbors (KNN) classification with stratified 10-fold (default) cross-validation with a grid search over the default of 1 to 30 nearest neighbors and the use of either \"uniform\" or \"distance\" weights:"
   ]
  },
  {
   "cell_type": "code",
   "execution_count": null,
   "metadata": {
    "collapsed": false
   },
   "outputs": [],
   "source": [
    "%%time\n",
    "\n",
    "estimator = 'knn'\n",
    "\n",
    "# Set pipeline keyword arguments\n",
    "optimized_pipeline_kwargs = {\n",
    "    'feature_selection_type': None,\n",
    "    'scale_type': None,\n",
    "    'transform_type': None\n",
    "    }\n",
    "\n",
    "# Initialize pipeline\n",
    "optimized_pipeline = ppl.PipelineOptimization(estimator,**optimized_pipeline_kwargs)\n",
    "\n",
    "# Set pipeline fitting parameters\n",
    "fit_kwargs = {\n",
    "    'cv': 10,\n",
    "    'num_parameter_combos': None,\n",
    "    'n_jobs': -1,\n",
    "    'random_state': 6,\n",
    "    'suppress_output': True,\n",
    "    'use_default_param_dist': True,\n",
    "    'param_dist': None,\n",
    "    'test_size': 0.2 # 20% saved as test set\n",
    "}\n",
    "\n",
    "# Fit data\n",
    "optimized_pipeline.fit(X,y,**fit_kwargs)\n",
    "\n",
    "# Save \n",
    "optimized_pipelines[estimator] = optimized_pipeline"
   ]
  },
  {
   "cell_type": "markdown",
   "metadata": {},
   "source": [
    "Note the default OptimizedPipeline parameters and those for its fit() method.\n",
    "\n",
    "The OptimizedPipeline class contains all of the data associated with the nested stratified k-folds cross-validation.\n",
    "\n",
    "After use of the fit() method, this includes the data, its test/train splits (based on the test_size percentage keyword argument), the GridSearchCV or RandomizedGridSearchCV object, the Pipeline object that has been retrained using all of the data with the best parameters, test/train scores, and validation metrics/reports.\n",
    "\n",
    "A report can be printed immediately after the fit by setting the suppress_output keyword argument to True. \n",
    "\n",
    "Printing the OptimizedPipeline instance also shows the report:"
   ]
  },
  {
   "cell_type": "code",
   "execution_count": null,
   "metadata": {
    "collapsed": false
   },
   "outputs": [],
   "source": [
    "print optimized_pipeline"
   ]
  },
  {
   "cell_type": "markdown",
   "metadata": {},
   "source": [
    "The report lists the steps in the pipeline, their optimized settings, the test/training accuracy (or L2 regression score), the grid search parameters, and the best parameters.\n",
    "\n",
    "If the estimator used is a classifier it also includes the confusion matrix, normalized confusion matrix, and a classification report containing precision/recall/f1-score for each class.\n",
    "\n",
    "Turns out that the best settings for this optimized pipeline are 12 neighbors and the use of the 'uniform' weight.\n",
    "\n",
    "Note how I've set the random_state keyword agument to 6 so that the models can be compared using the same test/train split.\n",
    "\n",
    "#### Default pipeline step grid parameters\n",
    "The default parameters to grid-search over for k-nearest neighbors are 1 to 30 neighbors and either the 'uniform' or 'distance' weight.\n",
    "\n",
    "The defaults for the pre-processing steps, classifiers, and regressors can be viewed by using the get_default_pipeline_step_parameters() method with the number of features as the input:"
   ]
  },
  {
   "cell_type": "code",
   "execution_count": null,
   "metadata": {
    "collapsed": false,
    "scrolled": false
   },
   "outputs": [],
   "source": [
    "pre_processing_grid_parameters,classifier_grid_parameters,regression_grid_parameters = \\\n",
    "optimized_pipeline.get_default_pipeline_step_parameters(X.shape[0])\n",
    "\n",
    "classifier_grid_parameters['knn']"
   ]
  },
  {
   "cell_type": "markdown",
   "metadata": {},
   "source": [
    "#### KNN with custom pipeline step grid parameters\n",
    "These default parameters can be ignored by setting the use_default_param_dist keyword argument to False. \n",
    "\n",
    "The param_dist keyword argument can be used to keep default parameters (if use_default_param_dist set to True) or to be used as the sole source of parameters (if use_default_param_dist set to False). \n",
    "\n",
    "Here is a demonstration of generation of default parameters with those in param_dist being overridden:"
   ]
  },
  {
   "cell_type": "code",
   "execution_count": null,
   "metadata": {
    "collapsed": false
   },
   "outputs": [],
   "source": [
    "%%time\n",
    "\n",
    "estimator_name = 'knn'\n",
    "\n",
    "model_name = 'custom_override_%s'%(estimator_name)\n",
    "\n",
    "# Set custom parameters\n",
    "param_dist = {\n",
    "    'estimator__n_neighbors': range(30,500)\n",
    "}\n",
    "\n",
    "# Initialize pipeline\n",
    "optimized_pipeline = ppl.OptimizedPipeline(estimator)\n",
    "\n",
    "# Set pipeline fitting parameters\n",
    "fit_kwargs = {\n",
    "    'random_state': 6,\n",
    "    'param_dist': param_dist,\n",
    "}\n",
    "\n",
    "# Fit data\n",
    "optimized_pipeline.fit(X,y,**fit_kwargs)\n",
    "\n",
    "# Save \n",
    "optimized_pipelines[model_name] = optimized_pipeline"
   ]
  },
  {
   "cell_type": "markdown",
   "metadata": {},
   "source": [
    "Note how the n_neighbors parameter was 30 to 499 instead of 1 to 30.\n",
    "\n",
    "Here's an example of only using param_dist for parameters:"
   ]
  },
  {
   "cell_type": "code",
   "execution_count": null,
   "metadata": {
    "collapsed": false
   },
   "outputs": [],
   "source": [
    "%%time\n",
    "\n",
    "model_name = 'from_scratch_%s'%(estimator_name)\n",
    "\n",
    "# Set custom parameters\n",
    "param_dist = {\n",
    "    'estimator__n_neighbors': range(10,30)\n",
    "}\n",
    "\n",
    "estimator = 'knn'\n",
    "\n",
    "# Initialize pipeline\n",
    "optimized_pipeline = ppl.OptimizedPipeline(estimator)\n",
    "\n",
    "# Set pipeline fitting parameters\n",
    "fit_kwargs = {\n",
    "    'random_state': 6,\n",
    "    'use_default_param_dist': False,\n",
    "    'param_dist': param_dist,\n",
    "}\n",
    "\n",
    "# Fit data\n",
    "optimized_pipeline.fit(X,y,**fit_kwargs)\n",
    "\n",
    "# Save \n",
    "optimized_pipelines[model_name] = optimized_pipeline"
   ]
  },
  {
   "cell_type": "markdown",
   "metadata": {},
   "source": [
    "Note how the estimator\\_\\_weights parameter isn't set for the KNN estimator.\n",
    "\n",
    "### KNN with scaling\n",
    "The currently supported scaling options are standard, normal, min-max, and binary using scikit-learn's StandardScaler, Normalizer, MinMaxScaler, and Binarizer, respectively. These are set by the pipeline initialization kwarg 'scale_type' like this:"
   ]
  },
  {
   "cell_type": "code",
   "execution_count": null,
   "metadata": {
    "collapsed": false
   },
   "outputs": [],
   "source": [
    "%%time\n",
    "\n",
    "estimator = 'knn'\n",
    "\n",
    "scaling_options = ['standard','normal','min-max','binary']\n",
    "\n",
    "for scaling_option in scaling_options:\n",
    "    model_name = '%s_%s'%(scaling_option,estimator_name)\n",
    "    \n",
    "    optimized_pipeline_kwargs = {\n",
    "        'scale_type': scaling_option\n",
    "    }\n",
    "\n",
    "    # Initialize pipeline\n",
    "    optimized_pipeline = ppl.OptimizedPipeline(estimator,**optimized_pipeline_kwargs)\n",
    "\n",
    "    # Set pipeline fitting parameters\n",
    "    fit_kwargs = {\n",
    "        'random_state': 6,\n",
    "        'use_default_param_dist': True,\n",
    "        'suppress_output': True\n",
    "        \n",
    "    }\n",
    "\n",
    "    # Fit data\n",
    "    optimized_pipeline.fit(X,y,**fit_kwargs)\n",
    "\n",
    "    # Save \n",
    "    optimized_pipelines[model_name] = optimized_pipeline"
   ]
  },
  {
   "cell_type": "markdown",
   "metadata": {},
   "source": [
    "Let's compare the pipelines so far:"
   ]
  },
  {
   "cell_type": "code",
   "execution_count": null,
   "metadata": {
    "collapsed": false
   },
   "outputs": [],
   "source": [
    "pipeline_keys = optimized_pipelines.keys()\n",
    "\n",
    "test_scores = [optimized_pipelines[key].test_score_ for key in pipeline_keys]\n",
    "\n",
    "ax = pd.Series(test_scores,index=pipeline_keys).sort_values().plot(kind='barh',color='black')"
   ]
  },
  {
   "cell_type": "markdown",
   "metadata": {},
   "source": [
    "Binary scaling fed into a KNN classifier appears to have the best training score.\n",
    "\n",
    "#### KNN with custom min-max and binary scaling settings\n",
    "MinMaxScaler scales each feature value to between 0 and 1 by default. Different scaling ranges can be gridded over by setting the 'scaler\\_\\_feature_range' keyword argument in param_dist.\n",
    "\n",
    "Binarizer sets each value to 0 or 1 depending on a threshold. The default for pyplearnr is 0.5. This can be changed by setting 'scaler\\_\\_threshold' using param_dist.\n",
    "\n",
    "Here is an example of setting both:"
   ]
  },
  {
   "cell_type": "code",
   "execution_count": null,
   "metadata": {
    "collapsed": false
   },
   "outputs": [],
   "source": [
    "%%time\n",
    "\n",
    "reload(ppl)\n",
    "\n",
    "estimator = 'knn'\n",
    "\n",
    "scaling_options = ['min_max','binary']\n",
    "\n",
    "param_dists = {\n",
    "    'min_max': {\n",
    "        'scaler__feature_range': [(1,2),(3,4)]\n",
    "    },\n",
    "    'binary': {\n",
    "        'scaler__threshold': np.arange(0,1,0.1)\n",
    "    }\n",
    "}\n",
    "\n",
    "for scaling_option in scaling_options:\n",
    "    model_name = 'custom_%s_%s'%(scaling_option,estimator_name)\n",
    "    \n",
    "    optimized_pipeline_kwargs = {\n",
    "        'scale_type': scaling_option\n",
    "    }\n",
    "\n",
    "    # Initialize pipeline\n",
    "    optimized_pipeline = ppl.OptimizedPipeline(estimator,**optimized_pipeline_kwargs)\n",
    "    \n",
    "    # Set pipeline fitting parameters\n",
    "    fit_kwargs = {\n",
    "        'random_state': 6,\n",
    "        'use_default_param_dist': True,\n",
    "        'suppress_output': True,\n",
    "        'param_dist': param_dists[scaling_option]\n",
    "        \n",
    "    }\n",
    "\n",
    "    # Fit data\n",
    "    optimized_pipeline.fit(X,y,**fit_kwargs)\n",
    "\n",
    "    # Save \n",
    "    optimized_pipelines[model_name] = optimized_pipeline\n",
    "    \n",
    "# Visualize results\n",
    "pipeline_keys = optimized_pipelines.keys()\n",
    "\n",
    "test_scores = [optimized_pipelines[key].test_score_ for key in pipeline_keys]\n",
    "\n",
    "ax = pd.Series(test_scores,index=pipeline_keys).sort_values().plot(kind='barh',color='black')"
   ]
  },
  {
   "cell_type": "markdown",
   "metadata": {},
   "source": [
    "Switching the range for min_max scaling boosted it to rank 1 for pipeline training scores:"
   ]
  },
  {
   "cell_type": "code",
   "execution_count": null,
   "metadata": {
    "collapsed": false
   },
   "outputs": [],
   "source": [
    "print optimized_pipelines['custom_min_max_knn']"
   ]
  },
  {
   "cell_type": "markdown",
   "metadata": {},
   "source": [
    "The range of 1 to 2 for the MinMaxScaler appeared to be the best."
   ]
  },
  {
   "cell_type": "markdown",
   "metadata": {},
   "source": [
    "### KNN with feature selection using SelectKBest with f_classif\n",
    "Currently only one form of feature selection, SelectKBest with f_classif, is supported. This is set using the 'feature_selection_type' keyword argument."
   ]
  },
  {
   "cell_type": "code",
   "execution_count": null,
   "metadata": {
    "collapsed": false
   },
   "outputs": [],
   "source": [
    "%%time\n",
    "\n",
    "reload(ppl)\n",
    "\n",
    "estimator = 'knn'\n",
    "\n",
    "model_name = 'select_%s'%(estimator_name)\n",
    "\n",
    "optimized_pipeline_kwargs = {\n",
    "    'feature_selection_type': 'select_k_best'\n",
    "}\n",
    "\n",
    "# Initialize pipeline\n",
    "optimized_pipeline = ppl.OptimizedPipeline(estimator,**optimized_pipeline_kwargs)\n",
    "\n",
    "# Set pipeline fitting parameters\n",
    "fit_kwargs = {\n",
    "    'random_state': 6,\n",
    "    'use_default_param_dist': True,\n",
    "    'suppress_output': True\n",
    "}\n",
    "\n",
    "# Fit data\n",
    "optimized_pipeline.fit(X,y,**fit_kwargs)\n",
    "\n",
    "# Save \n",
    "optimized_pipelines[model_name] = optimized_pipeline\n",
    "    \n",
    "# Visualize results\n",
    "pipeline_keys = optimized_pipelines.keys()\n",
    "\n",
    "test_scores = [optimized_pipelines[key].test_score_ for key in pipeline_keys]\n",
    "\n",
    "ax = pd.Series(test_scores,index=pipeline_keys).sort_values().plot(kind='barh',color='black')"
   ]
  },
  {
   "cell_type": "markdown",
   "metadata": {},
   "source": [
    "Feature selection and KNN did had a mid-level training score:"
   ]
  },
  {
   "cell_type": "code",
   "execution_count": null,
   "metadata": {
    "collapsed": false
   },
   "outputs": [],
   "source": [
    "print optimized_pipelines['select_knn']"
   ]
  },
  {
   "cell_type": "markdown",
   "metadata": {},
   "source": [
    "SelectKBest with f_classif chose 5 features as the best to use in the model.\n",
    "\n",
    "The features selected by SelectKBest can be accessed normally, using the mask obtained from the get_support() method on the columns:"
   ]
  },
  {
   "cell_type": "code",
   "execution_count": null,
   "metadata": {
    "collapsed": false
   },
   "outputs": [],
   "source": [
    "feature_selection_mask = optimized_pipelines['select_knn'].pipeline.named_steps['feature_selection'].get_support()\n",
    "\n",
    "print np.array(X.columns)[feature_selection_mask]"
   ]
  },
  {
   "cell_type": "markdown",
   "metadata": {},
   "source": [
    "Thus, Pclass 3, being male, and the titles Miss, Mr, and Mrs were considered the most important features by SelectKBest using f_classif.\n",
    "\n",
    "#### Setting custom feature selection\n",
    "The default number of features is 1 to all of them. This can be gridded over different values by setting 'feature_selection\\_\\_k' in param_dist:"
   ]
  },
  {
   "cell_type": "code",
   "execution_count": null,
   "metadata": {
    "collapsed": false
   },
   "outputs": [],
   "source": [
    "%%time\n",
    "\n",
    "reload(ppl)\n",
    "\n",
    "estimator = 'knn'\n",
    "\n",
    "model_name = 'custom_select_%s'%(estimator_name)\n",
    "\n",
    "optimized_pipeline_kwargs = {\n",
    "    'feature_selection_type': 'select_k_best'\n",
    "}\n",
    "\n",
    "# Initialize pipeline\n",
    "optimized_pipeline = ppl.OptimizedPipeline(estimator,**optimized_pipeline_kwargs)\n",
    "\n",
    "param_dist = {\n",
    "    'feature_selection__k': [5,7,8]\n",
    "}\n",
    "\n",
    "# Set pipeline fitting parameters\n",
    "fit_kwargs = {\n",
    "    'random_state': 6,\n",
    "    'use_default_param_dist': True,\n",
    "    'suppress_output': True,\n",
    "    'param_dist': param_dist\n",
    "}\n",
    "\n",
    "# Fit data\n",
    "optimized_pipeline.fit(X,y,**fit_kwargs)\n",
    "\n",
    "# Save \n",
    "optimized_pipelines[model_name] = optimized_pipeline\n",
    "    \n",
    "# Visualize results\n",
    "pipeline_keys = optimized_pipelines.keys()\n",
    "\n",
    "test_scores = [optimized_pipelines[key].test_score_ for key in pipeline_keys]\n",
    "\n",
    "ax = pd.Series(test_scores,index=pipeline_keys).sort_values().plot(kind='barh',color='black')"
   ]
  },
  {
   "cell_type": "code",
   "execution_count": null,
   "metadata": {
    "collapsed": false
   },
   "outputs": [],
   "source": [
    "print optimized_pipelines['custom_select_knn']"
   ]
  },
  {
   "cell_type": "markdown",
   "metadata": {},
   "source": [
    "### KNN using feature interactions\n",
    "Feature products of different degrees can be used as additional features by setting the 'feature_interaction' OptimizedPipeline keyword argument to True:"
   ]
  },
  {
   "cell_type": "code",
   "execution_count": null,
   "metadata": {
    "collapsed": false
   },
   "outputs": [],
   "source": [
    "%%time\n",
    "\n",
    "reload(ppl)\n",
    "\n",
    "estimator = 'knn'\n",
    "\n",
    "model_name = 'interaction_%s'%(estimator_name)\n",
    "\n",
    "optimized_pipeline_kwargs = {\n",
    "    'feature_interactions': True\n",
    "}\n",
    "\n",
    "# Initialize pipeline\n",
    "optimized_pipeline = ppl.OptimizedPipeline(estimator,**optimized_pipeline_kwargs)\n",
    "\n",
    "# Set pipeline fitting parameters\n",
    "fit_kwargs = {\n",
    "    'random_state': 6,\n",
    "    'use_default_param_dist': True,\n",
    "    'suppress_output': True\n",
    "}\n",
    "\n",
    "# Fit data\n",
    "optimized_pipeline.fit(X,y,**fit_kwargs)\n",
    "\n",
    "# Save \n",
    "optimized_pipelines[model_name] = optimized_pipeline\n",
    "    \n",
    "# Visualize results\n",
    "pipeline_keys = optimized_pipelines.keys()\n",
    "\n",
    "test_scores = [optimized_pipelines[key].test_score_ for key in pipeline_keys]\n",
    "\n",
    "ax = pd.Series(test_scores,index=pipeline_keys).sort_values().plot(kind='barh',color='black')"
   ]
  },
  {
   "cell_type": "code",
   "execution_count": null,
   "metadata": {
    "collapsed": false
   },
   "outputs": [],
   "source": [
    "print optimized_pipelines['interaction_knn']"
   ]
  },
  {
   "cell_type": "markdown",
   "metadata": {},
   "source": [
    "The optimal number of interactions (number of features multiplied by each other at once) was found to be 1.\n",
    "\n",
    "#### KNN using custom number of feature interactions\n",
    "The 'feature_interactions__degree' dictates the number of interactions. The default setting is to try no interactions (degree 1) and 2 interactions. Setting this in param_dist allows custom numbers:"
   ]
  },
  {
   "cell_type": "code",
   "execution_count": null,
   "metadata": {
    "collapsed": false
   },
   "outputs": [],
   "source": [
    "%%time\n",
    "\n",
    "reload(ppl)\n",
    "\n",
    "estimator = 'knn'\n",
    "\n",
    "model_name = 'custom_interaction_%s'%(estimator_name)\n",
    "\n",
    "optimized_pipeline_kwargs = {\n",
    "    'feature_interactions': True\n",
    "}\n",
    "\n",
    "# Initialize pipeline\n",
    "optimized_pipeline = ppl.OptimizedPipeline(estimator,**optimized_pipeline_kwargs)\n",
    "\n",
    "param_dist = {\n",
    "    'feature_interactions__degree': [2,3,4]\n",
    "}\n",
    "\n",
    "# Set pipeline fitting parameters\n",
    "fit_kwargs = {\n",
    "    'random_state': 6,\n",
    "    'use_default_param_dist': True,\n",
    "    'suppress_output': True,\n",
    "    'param_dist': param_dist\n",
    "}\n",
    "\n",
    "# Fit data\n",
    "optimized_pipeline.fit(X,y,**fit_kwargs)\n",
    "\n",
    "# Save \n",
    "optimized_pipelines[model_name] = optimized_pipeline\n",
    "    \n",
    "# Visualize results\n",
    "pipeline_keys = optimized_pipelines.keys()\n",
    "\n",
    "test_scores = [optimized_pipelines[key].test_score_ for key in pipeline_keys]\n",
    "\n",
    "ax = pd.Series(test_scores,index=pipeline_keys).sort_values().plot(kind='barh',color='black')"
   ]
  },
  {
   "cell_type": "code",
   "execution_count": null,
   "metadata": {
    "collapsed": false
   },
   "outputs": [],
   "source": [
    "print optimized_pipelines['custom_interaction_knn']"
   ]
  },
  {
   "cell_type": "markdown",
   "metadata": {},
   "source": [
    "### KNN with pre-processing transforms\n",
    "Currently Principal Component Analysis (PCA) and t-distributed stochastic neighbor embedding (t-SNE) are supported as pre-processing options.\n",
    "\n",
    "#### KNN with PCA pre-processing"
   ]
  },
  {
   "cell_type": "code",
   "execution_count": null,
   "metadata": {
    "collapsed": false
   },
   "outputs": [],
   "source": [
    "%%time\n",
    "\n",
    "reload(ppl)\n",
    "\n",
    "estimator = 'knn'\n",
    "\n",
    "model_name = 'pca_%s'%(estimator_name)\n",
    "\n",
    "optimized_pipeline_kwargs = {\n",
    "    'transform_type': 'pca'\n",
    "}\n",
    "\n",
    "# Initialize pipeline\n",
    "optimized_pipeline = ppl.OptimizedPipeline(estimator,**optimized_pipeline_kwargs)\n",
    "\n",
    "# Set pipeline fitting parameters\n",
    "fit_kwargs = {\n",
    "    'random_state': 6,\n",
    "    'use_default_param_dist': True,\n",
    "    'suppress_output': True\n",
    "}\n",
    "\n",
    "# Fit data\n",
    "optimized_pipeline.fit(X,y,**fit_kwargs)\n",
    "\n",
    "# Save \n",
    "optimized_pipelines[model_name] = optimized_pipeline\n",
    "    \n",
    "# Visualize results\n",
    "pipeline_keys = optimized_pipelines.keys()\n",
    "\n",
    "test_scores = [optimized_pipelines[key].test_score_ for key in pipeline_keys]\n",
    "\n",
    "ax = pd.Series(test_scores,index=pipeline_keys).sort_values().plot(kind='barh',color='black')"
   ]
  },
  {
   "cell_type": "code",
   "execution_count": null,
   "metadata": {
    "collapsed": false
   },
   "outputs": [],
   "source": [
    "print optimized_pipelines['pca_knn']"
   ]
  },
  {
   "cell_type": "markdown",
   "metadata": {},
   "source": [
    "We can look at the transformed data after PCA normally:"
   ]
  },
  {
   "cell_type": "code",
   "execution_count": null,
   "metadata": {
    "collapsed": false
   },
   "outputs": [],
   "source": [
    "transformed_data = optimized_pipelines['pca_knn'].pipeline.named_steps['transform'].transform(X.values)\n",
    "\n",
    "column_names = ['PCA_%d'%(feature_ind+1) for feature_ind in range(transformed_data.shape[1])]\n",
    "\n",
    "pca_df = pd.DataFrame(transformed_data,columns=column_names)\n",
    "\n",
    "pca_df.plot(x='PCA_1',y='PCA_2',style='ro')"
   ]
  },
  {
   "cell_type": "markdown",
   "metadata": {},
   "source": [
    "This is currently a very manual process and would be difficult with more and more processing steps. I'm thinking of automating this with a class containing all optimized pipelines in the future.\n",
    "\n",
    "Any of the parameters displayed in the pipeline section of the report (iterated_power, random_state, whiten, n_components, etc) can be set in param_dist by 'transform\\__setting' as done previously."
   ]
  },
  {
   "cell_type": "markdown",
   "metadata": {},
   "source": [
    "#### KNN with t-SNE pre-processing\n",
    "The t-SNE algorithm can be used as a pre-processing algorithm as well by setting the 'transform_type' keyword argument to 't-sne':"
   ]
  },
  {
   "cell_type": "code",
   "execution_count": null,
   "metadata": {
    "collapsed": false
   },
   "outputs": [],
   "source": [
    "%%time\n",
    "\n",
    "reload(ppl)\n",
    "\n",
    "estimator = 'knn'\n",
    "\n",
    "model_name = 't-sne_%s'%(estimator_name)\n",
    "\n",
    "optimized_pipeline_kwargs = {\n",
    "    'transform_type': 't-sne'\n",
    "}\n",
    "\n",
    "# Initialize pipeline\n",
    "optimized_pipeline = ppl.OptimizedPipeline(estimator,**optimized_pipeline_kwargs)\n",
    "\n",
    "# Set pipeline fitting parameters\n",
    "fit_kwargs = {\n",
    "    'random_state': 6,\n",
    "    'use_default_param_dist': True,\n",
    "    'suppress_output': True\n",
    "}\n",
    "\n",
    "# Fit data\n",
    "optimized_pipeline.fit(X,y,**fit_kwargs)\n",
    "\n",
    "# Save \n",
    "optimized_pipelines[model_name] = optimized_pipeline\n",
    "    \n",
    "# Visualize results\n",
    "pipeline_keys = optimized_pipelines.keys()\n",
    "\n",
    "test_scores = [optimized_pipelines[key].test_score_ for key in pipeline_keys]\n",
    "\n",
    "ax = pd.Series(test_scores,index=pipeline_keys).sort_values().plot(kind='barh',color='black')"
   ]
  },
  {
   "cell_type": "markdown",
   "metadata": {},
   "source": [
    "This t-SNE step takes longer than most in pyplearnr unfortunately. It also resulted in the worst score. I'll try to optimize this in the future.\n",
    "\n",
    "### Reducing the number of grid combinations\n",
    "Setting the 'num_parameter_combos' fit() method keyword argument to an integer will limit the number of grid combinations to perform using RandomizedSearchCV instead of GridSearchCV:"
   ]
  },
  {
   "cell_type": "code",
   "execution_count": null,
   "metadata": {
    "collapsed": false
   },
   "outputs": [],
   "source": [
    "%%time\n",
    "\n",
    "reload(ppl)\n",
    "\n",
    "estimator = 'knn'\n",
    "\n",
    "model_name = 'less_combos_%s'%(estimator_name)\n",
    "\n",
    "optimized_pipeline_kwargs = {}\n",
    "\n",
    "# Initialize pipeline\n",
    "optimized_pipeline = ppl.OptimizedPipeline(estimator,**optimized_pipeline_kwargs)\n",
    "\n",
    "# Set pipeline fitting parameters\n",
    "fit_kwargs = {\n",
    "    'random_state': 6,\n",
    "    'use_default_param_dist': True,\n",
    "    'suppress_output': True,\n",
    "    'num_parameter_combos': 5\n",
    "}\n",
    "\n",
    "# Fit data\n",
    "optimized_pipeline.fit(X,y,**fit_kwargs)\n",
    "\n",
    "# Save \n",
    "optimized_pipelines[model_name] = optimized_pipeline\n",
    "    \n",
    "# Visualize results\n",
    "pipeline_keys = optimized_pipelines.keys()\n",
    "\n",
    "test_scores = [optimized_pipelines[key].test_score_ for key in pipeline_keys]\n",
    "\n",
    "ax = pd.Series(test_scores,index=pipeline_keys).sort_values().plot(kind='barh',color='black')"
   ]
  },
  {
   "cell_type": "markdown",
   "metadata": {},
   "source": [
    "This is a good way to speed up computations and give you an idea as to how long a particular pipeline takes to train. \n",
    "\n",
    "Here's the corresponding report:"
   ]
  },
  {
   "cell_type": "code",
   "execution_count": null,
   "metadata": {
    "collapsed": false
   },
   "outputs": [],
   "source": [
    "print optimized_pipelines['less_combos_knn']"
   ]
  },
  {
   "cell_type": "markdown",
   "metadata": {},
   "source": [
    "The best parameter combination, of those attempted by RandomizedSearchCV, was 12 nearest neighbors with the 'uniform' weight."
   ]
  },
  {
   "cell_type": "markdown",
   "metadata": {},
   "source": [
    "### Other models\n",
    "\n",
    "This code currently supports K-nearest neighbors, logistic regression, support vector machines, multilayer perceptrons, random forest, and adaboost:"
   ]
  },
  {
   "cell_type": "code",
   "execution_count": null,
   "metadata": {
    "collapsed": false,
    "scrolled": false
   },
   "outputs": [],
   "source": [
    "%%time\n",
    "\n",
    "classifiers = ['knn','logistic_regression','svm',\n",
    "               'multilayer_perceptron','random_forest','adaboost']\n",
    "\n",
    "for estimator in classifiers:\n",
    "    # Set pipeline keyword arguments\n",
    "    optimized_pipeline_kwargs = {}\n",
    "\n",
    "    # Initialize pipeline\n",
    "    optimized_pipeline = ppl.OptimizedPipeline(estimator,**optimized_pipeline_kwargs)\n",
    "    \n",
    "    # Set pipeline fitting parameters\n",
    "    fit_kwargs = {\n",
    "        'random_state': 6,\n",
    "        'suppress_output': True,\n",
    "        'use_default_param_dist': True\n",
    "    }\n",
    "    \n",
    "    # Fit data\n",
    "    optimized_pipeline.fit(X,y,**fit_kwargs)\n",
    "    \n",
    "    # Save \n",
    "    optimized_pipelines[estimator] = optimized_pipeline\n",
    "    \n",
    "# Visualize results\n",
    "pipeline_keys = optimized_pipelines.keys()\n",
    "\n",
    "test_scores = [optimized_pipelines[key].test_score_ for key in pipeline_keys]\n",
    "\n",
    "ax = pd.Series(test_scores,index=pipeline_keys).sort_values().plot(kind='barh',color='black')"
   ]
  },
  {
   "cell_type": "markdown",
   "metadata": {},
   "source": [
    "Logistic regression, random forest, multilayer perceptron, and adaboost outperform KNN, even with all of the attempted pre-processing so far.\n",
    "\n",
    "### Putting it all together\n",
    "Different combinations of these options can be strung together simultaneously to iterate over multiple models:"
   ]
  },
  {
   "cell_type": "code",
   "execution_count": null,
   "metadata": {
    "collapsed": false,
    "scrolled": true
   },
   "outputs": [],
   "source": [
    "%%time\n",
    "\n",
    "import itertools\n",
    "\n",
    "estimators = ['knn','logistic_regression','svm',\n",
    "              'multilayer_perceptron','random_forest','adaboost']\n",
    "\n",
    "feature_interaction_options = [True,False]\n",
    "feature_selection_options = [None,'select_k_best']\n",
    "scaling_options = [None,'standard','normal','min_max','binary']\n",
    "transformations = [None,'pca']\n",
    "\n",
    "pipeline_steps = [feature_interaction_options,feature_selection_options,scaling_options,\n",
    "                  transformations,estimators]\n",
    "\n",
    "pipeline_options = list(itertools.product(*pipeline_steps))\n",
    "\n",
    "optimized_pipelines = {}\n",
    "\n",
    "for pipeline_step_combo in pipeline_options:\n",
    "    model_name = []\n",
    "    \n",
    "    feature_interactions = pipeline_step_combo[0]\n",
    "    \n",
    "    if feature_interactions:\n",
    "        model_name.append('interactions')\n",
    "        \n",
    "    feature_selection_type = pipeline_step_combo[1]\n",
    "    \n",
    "    if feature_selection_type:\n",
    "        model_name.append('select')\n",
    "    \n",
    "    scale_type = pipeline_step_combo[2]\n",
    "    \n",
    "    if scale_type:\n",
    "        model_name.append(scale_type)\n",
    "        \n",
    "    transform_type = pipeline_step_combo[3]\n",
    "    \n",
    "    if transform_type:\n",
    "        model_name.append(transform_type)\n",
    "        \n",
    "    estimator = pipeline_step_combo[4]\n",
    "    \n",
    "    model_name.append(estimator)\n",
    "    \n",
    "    model_name = '_'.join(model_name)\n",
    "    \n",
    "    print model_name\n",
    "    \n",
    "    # Set pipeline keyword arguments\n",
    "    optimized_pipeline_kwargs = {\n",
    "        'feature_selection_type': feature_selection_type,\n",
    "        'scale_type': scale_type,\n",
    "        'feature_interactions': feature_interactions,\n",
    "        'transform_type': transform_type\n",
    "        }\n",
    "\n",
    "    # Initialize pipeline\n",
    "    optimized_pipeline = ppl.OptimizedPipeline(estimator,**optimized_pipeline_kwargs)\n",
    "\n",
    "    # Set pipeline fitting parameters\n",
    "    fit_kwargs = {\n",
    "        'cv': 10,\n",
    "        'num_parameter_combos': None,\n",
    "        'n_jobs': -1,\n",
    "        'random_state': None,\n",
    "        'suppress_output': True,\n",
    "        'use_default_param_dist': True,\n",
    "        'param_dist': None,\n",
    "        'test_size': 0.2 # 20% saved as test set\n",
    "    }\n",
    "\n",
    "    # Fit data\n",
    "    optimized_pipeline.fit(X,y,**fit_kwargs)\n",
    "\n",
    "    # Save optimized pipeline\n",
    "    optimized_pipelines[model_name] = optimized_pipeline"
   ]
  },
  {
   "cell_type": "code",
   "execution_count": null,
   "metadata": {
    "collapsed": false,
    "scrolled": false
   },
   "outputs": [],
   "source": [
    "# Visualize results\n",
    "pipeline_keys = optimized_pipelines.keys()\n",
    "\n",
    "test_scores = [optimized_pipelines[key].test_score_ for key in pipeline_keys]\n",
    "\n",
    "ax = pd.Series(test_scores,index=pipeline_keys).sort_values().plot(kind='barh',color='black',figsize=(10,40))"
   ]
  },
  {
   "cell_type": "code",
   "execution_count": null,
   "metadata": {
    "collapsed": false
   },
   "outputs": [],
   "source": [
    "print optimized_pipelines['min_max_pca_multilayer_perceptron']"
   ]
  },
  {
   "cell_type": "code",
   "execution_count": null,
   "metadata": {
    "collapsed": false
   },
   "outputs": [],
   "source": [
    "len(optimized_pipelines.keys())"
   ]
  },
  {
   "cell_type": "markdown",
   "metadata": {},
   "source": [
    "Out of 240 different possible pipelines, best pipeline, with a test score of 0.899, appears to be min-max scaling between 0 and 1 funneled into a PCA and then into a multilayer perceptron with one hidden layer of size 5.\n",
    "\n",
    "It took roughly 3 hours to find it."
   ]
  },
  {
   "cell_type": "markdown",
   "metadata": {},
   "source": [
    "### Predicting survival with the optimal model\n",
    "All one has to do to make a prediction is use the .predict method of the pipeline in the .pipeline field.\n",
    "\n",
    "Here's an example of predicting whether I would survive on the Titanic. I'm 32, would probably have one family member with me, might be Pclass1 (I'd hope), male, have a Ph.D (if that's what they mean by Dr.). I'm using the median Fare for Pclass 1 and randomly chose a city to have embarked from:"
   ]
  },
  {
   "cell_type": "code",
   "execution_count": null,
   "metadata": {
    "collapsed": false
   },
   "outputs": [],
   "source": [
    "personal_stats = [32,1,0,df[df['Pclass']==1]['Fare'].median(),0,0,1,1,0,1,0,0,0,0,0,0]\n",
    "\n",
    "zip(personal_stats,X.columns)"
   ]
  },
  {
   "cell_type": "code",
   "execution_count": null,
   "metadata": {
    "collapsed": false
   },
   "outputs": [],
   "source": [
    "optimized_pipelines['min_max_pca_multilayer_perceptron'].pipeline.predict(personal_stats)"
   ]
  },
  {
   "cell_type": "markdown",
   "metadata": {},
   "source": [
    "Looks like I died!\n",
    "\n",
    "Let's look at my predicted probability of surviving:"
   ]
  },
  {
   "cell_type": "code",
   "execution_count": null,
   "metadata": {
    "collapsed": false
   },
   "outputs": [],
   "source": [
    "optimized_pipelines['min_max_pca_multilayer_perceptron'].pipeline.predict_proba(personal_stats)"
   ]
  },
  {
   "cell_type": "markdown",
   "metadata": {},
   "source": [
    "I would have a 0.77% chance of survival."
   ]
  },
  {
   "cell_type": "markdown",
   "metadata": {},
   "source": [
    "## Summary\n",
    "I've shown how to use pyplearnr to try out 240 different pipeline combinations validated with stratified 10-folds cross-validation using a combination of simple keyword arguments with some additional customization options. Also, I've shown how to access the model parameters, predict survival, and check the actual predicted probability according to the optimized pipeline.\n",
    "\n",
    "Please let me know if you have any questions or suggestions about how to improve this tool, my code, the approach I'm taking, etc."
   ]
  },
  {
   "cell_type": "code",
   "execution_count": null,
   "metadata": {
    "collapsed": false
   },
   "outputs": [],
   "source": [
    "%%time\n",
    "\n",
    "%matplotlib inline\n",
    "\n",
    "import pyplearnr as ppl\n",
    "\n",
    "repeated_k_folds = []\n",
    "\n",
    "for i in range(100):\n",
    "    # Alert user of step number\n",
    "    print('Step %d/%d'%(i+1,100))\n",
    "    \n",
    "    # Set custom parameters\n",
    "    param_dist = {}\n",
    "\n",
    "    estimator = 'knn'\n",
    "\n",
    "    # Initialize pipeline\n",
    "    optimized_pipeline = ppl.PipelineOptimization(estimator)\n",
    "\n",
    "    # Set pipeline fitting parameters\n",
    "    fit_kwargs = {\n",
    "        'use_default_param_dist': True,\n",
    "        'param_dist': param_dist,\n",
    "    }\n",
    "\n",
    "    # Fit data\n",
    "    optimized_pipeline.fit(X,y,**fit_kwargs)\n",
    "\n",
    "    # Save \n",
    "    repeated_k_folds.append(optimized_pipeline)"
   ]
  },
  {
   "cell_type": "code",
   "execution_count": null,
   "metadata": {
    "collapsed": false
   },
   "outputs": [],
   "source": [
    "data = {\n",
    "    'train scores': [pipeline_optimization.train_score_ \n",
    "                     for pipeline_optimization in repeated_k_folds],\n",
    "    'test scores': [pipeline_optimization.test_score_ \n",
    "                     for pipeline_optimization in repeated_k_folds],\n",
    "}"
   ]
  },
  {
   "cell_type": "code",
   "execution_count": null,
   "metadata": {
    "collapsed": false
   },
   "outputs": [],
   "source": [
    "repeated_kfcv_df = pd.DataFrame(data)"
   ]
  },
  {
   "cell_type": "code",
   "execution_count": null,
   "metadata": {
    "collapsed": false
   },
   "outputs": [],
   "source": [
    "repeated_kfcv_df['test scores'].plot(kind='hist',bins=8,color='grey')\n",
    "repeated_kfcv_df['train scores'].plot(kind='hist',bins=8,color='white')"
   ]
  },
  {
   "cell_type": "code",
   "execution_count": null,
   "metadata": {
    "collapsed": false
   },
   "outputs": [],
   "source": [
    "%%time\n",
    "\n",
    "reload(ppl)\n",
    "\n",
    "%matplotlib inline\n",
    "\n",
    "import pyplearnr as ppl\n",
    "\n",
    "repeated_five_folds = []\n",
    "\n",
    "for i in range(100):\n",
    "    # Alert user of step number\n",
    "    print('Step %d/%d'%(i+1,100))\n",
    "    \n",
    "    # Set custom parameters\n",
    "    param_dist = {}\n",
    "\n",
    "    estimator = 'knn'\n",
    "\n",
    "    # Initialize pipeline\n",
    "    optimized_pipeline = ppl.PipelineOptimization(estimator)\n",
    "\n",
    "    # Set pipeline fitting parameters\n",
    "    fit_kwargs = {\n",
    "        'use_default_param_dist': True,\n",
    "        'param_dist': param_dist,\n",
    "        'cv': 5,\n",
    "        'suppress_output': True\n",
    "    }\n",
    "\n",
    "    # Fit data\n",
    "    optimized_pipeline.fit(X,y,**fit_kwargs)\n",
    "\n",
    "    # Save \n",
    "    repeated_five_folds.append(optimized_pipeline)"
   ]
  },
  {
   "cell_type": "code",
   "execution_count": null,
   "metadata": {
    "collapsed": true
   },
   "outputs": [],
   "source": [
    "data = {\n",
    "    'train scores': [pipeline_optimization.train_score_ \n",
    "                     for pipeline_optimization in repeated_five_folds],\n",
    "    'test scores': [pipeline_optimization.test_score_ \n",
    "                     for pipeline_optimization in repeated_five_folds],\n",
    "}\n",
    "\n",
    "repeated_fivefcv_df = pd.DataFrame(data)"
   ]
  },
  {
   "cell_type": "code",
   "execution_count": null,
   "metadata": {
    "collapsed": false
   },
   "outputs": [],
   "source": [
    "\n",
    "repeated_kfcv_df['test scores'].plot(kind='hist',bins=8,color='grey')\n",
    "repeated_fivefcv_df['test scores'].plot(kind='hist',bins=8,color='red')\n",
    "repeated_kfcv_df['train scores'].plot(kind='hist',bins=8,color='white')\n",
    "\n",
    "repeated_fivefcv_df['train scores'].plot(kind='hist',bins=8,color='blue')"
   ]
  },
  {
   "cell_type": "code",
   "execution_count": null,
   "metadata": {
    "collapsed": false
   },
   "outputs": [],
   "source": [
    "repeated_fivefcv_df['test scores'].plot(kind='hist',bins=8,color='red')\n",
    "repeated_kfcv_df['test scores'].plot(kind='hist',bins=8,color='grey')\n",
    "repeated_kfcv_df['train scores'].plot(kind='hist',bins=8,color='white')\n",
    "\n",
    "repeated_fivefcv_df['train scores'].plot(kind='hist',bins=8,color='blue')"
   ]
  },
  {
   "cell_type": "code",
   "execution_count": null,
   "metadata": {
    "collapsed": true
   },
   "outputs": [],
   "source": [
    "import sys\n",
    "\n",
    "sys.path.append('/Users/cmshymansky/documents/code/library/pairplotr')\n",
    "\n",
    "import pairplotr as ppr"
   ]
  },
  {
   "cell_type": "code",
   "execution_count": null,
   "metadata": {
    "collapsed": false
   },
   "outputs": [],
   "source": [
    "repeated_fivefcv_df.info()"
   ]
  },
  {
   "cell_type": "code",
   "execution_count": null,
   "metadata": {
    "collapsed": false
   },
   "outputs": [],
   "source": [
    "reload(ppr)\n",
    "\n",
    "ppr.compare_data(repeated_fivefcv_df,bins=8,marker_size=10,plot_medians=True)"
   ]
  },
  {
   "cell_type": "code",
   "execution_count": null,
   "metadata": {
    "collapsed": false
   },
   "outputs": [],
   "source": [
    "reload(ppr)\n",
    "\n",
    "ppr.compare_data(repeated_fivefcv_df,bins=8,marker_size=10,plot_medians=True)"
   ]
  },
  {
   "cell_type": "code",
   "execution_count": null,
   "metadata": {
    "collapsed": false
   },
   "outputs": [],
   "source": [
    "repeated_fivefcv_df['train scores'].describe()"
   ]
  },
  {
   "cell_type": "code",
   "execution_count": null,
   "metadata": {
    "collapsed": false
   },
   "outputs": [],
   "source": [
    "from matplotlib import pylab as plt\n",
    "\n",
    "ax = plt.subplot(111)\n",
    "print ax\n",
    "\n",
    "# repeated_fivefcv_df.plot(ax=ax,x='train scores',y='test scores',style='bo')\n",
    "repeated_kfcv_df.plot(ax=ax,x='train scores',y='test scores',style='ro')"
   ]
  },
  {
   "cell_type": "code",
   "execution_count": null,
   "metadata": {
    "collapsed": false
   },
   "outputs": [],
   "source": [
    "print dir(repeated_k_folds[0].grid_search)\n",
    "\n",
    "all_scores = []\n",
    "for x in repeated_k_folds[0].grid_search.grid_scores_:\n",
    "    all_scores.extend(list(x.cv_validation_scores))\n",
    "    print max(x.cv_validation_scores),x.best_score_"
   ]
  },
  {
   "cell_type": "code",
   "execution_count": null,
   "metadata": {
    "collapsed": false
   },
   "outputs": [],
   "source": [
    "\n",
    "print repeated_k_folds[0].grid_search.cv_results_"
   ]
  },
  {
   "cell_type": "code",
   "execution_count": null,
   "metadata": {
    "collapsed": false
   },
   "outputs": [],
   "source": [
    "pd.Series(all_scores).plot(kind='hist',color='grey',bins=8)"
   ]
  },
  {
   "cell_type": "code",
   "execution_count": null,
   "metadata": {
    "collapsed": true
   },
   "outputs": [],
   "source": [
    "def get_bootstrapped_datasets(orig_data_set, num_samples=100, points_per_sample=50):\n",
    "    import random\n",
    "\n",
    "    data_sets = []\n",
    "\n",
    "    for i in range(num_samples):\n",
    "        sample = [random.choice(orig_data_set) for x in range(points_per_sample)]\n",
    "        \n",
    "        data_sets.append(sample)\n",
    "\n",
    "    return data_sets\n",
    "\n",
    "def cdf(aList, x):\n",
    "    ''' 'aList' must be sorted (low to high) '''\n",
    "\n",
    "    returnVal=0\n",
    "    \n",
    "    for v in aList:\n",
    "        if v<=x:\n",
    "            returnVal+=1\n",
    "    \n",
    "    return returnVal/float(len(aList))\n",
    "\n",
    "def inv_cdf(aList, percentile):\n",
    "    ''' 'percentile' is between 0 and 1.\n",
    "        'aList' must be sorted (low to high)\n",
    "    '''\n",
    "    \n",
    "    returnVal = 0\n",
    "    \n",
    "    for i in xrange(len(aList)):\n",
    "        if cdf(aList, aList[i])>=percentile:\n",
    "            returnVal = aList[i]\n",
    "            break\n",
    "    \n",
    "    return returnVal\n",
    "\n",
    "def conf_interval(data_set, alpha=0.05):\n",
    "    data_set.sort()\n",
    "\n",
    "    low_end = inv_cdf(data_set, alpha)\n",
    "    high_end = inv_cdf(data_set, 1-alpha)\n",
    "\n",
    "    return (low_end, high_end)"
   ]
  },
  {
   "cell_type": "code",
   "execution_count": null,
   "metadata": {
    "collapsed": false
   },
   "outputs": [],
   "source": [
    "from matplotlib import pylab as plt\n",
    "\n",
    "bootstrapped_samples = get_bootstrapped_datasets(repeated_fivefcv_df['test scores'].values)\n",
    "\n",
    "avg_vals = [float(sum(l))/len(l) for l in bootstrapped_samples]\n",
    "\n",
    "conf_10000 = conf_interval(avg_vals)\n",
    "\n",
    "pd.Series(avg_vals).hist(bins=10, normed=True)\n",
    "\n",
    "plt.axvspan(conf_10000[0],conf_10000[1],alpha=0.5,color='red')"
   ]
  },
  {
   "cell_type": "code",
   "execution_count": null,
   "metadata": {
    "collapsed": false
   },
   "outputs": [],
   "source": [
    "from sklearn.learning_curve import learning_curve\n",
    "import numpy as np\n",
    "\n",
    "fig, ax = plt.subplots(1,1, figsize=(16, 6))\n",
    "fig.subplots_adjust(left=0.0625, right=0.95, wspace=0.1)\n",
    "\n",
    "\n",
    "N, train_lc, val_lc = learning_curve(optimized_pipeline.pipeline,\n",
    "                                     X, y, cv=5,\n",
    "                                     train_sizes=np.linspace(0.3, 1, 25))\n",
    "\n",
    "ax.plot(N, np.mean(train_lc, 1), color='blue', label='training score')\n",
    "ax.plot(N, np.mean(val_lc, 1), color='red', label='validation score')\n",
    "ax.hlines(np.mean([train_lc[-1], val_lc[-1]]), N[0], N[-1],\n",
    "             color='gray', linestyle='dashed')\n",
    "\n",
    "ax.set_ylim(0, 1)\n",
    "ax.set_xlim(N[0], N[-1])\n",
    "ax.set_xlabel('training size')\n",
    "ax.set_ylabel('score')\n",
    "ax.legend(loc='best')\n",
    "\n",
    "\n",
    "# ax[i].plot(N, np.mean(train_lc, 1), color='blue', label='training score')\n",
    "# ax[i].plot(N, np.mean(val_lc, 1), color='red', label='validation score')\n",
    "# ax[i].hlines(np.mean([train_lc[-1], val_lc[-1]]), N[0], N[-1],\n",
    "#              color='gray', linestyle='dashed')\n",
    "\n",
    "# ax[i].set_ylim(0, 1)\n",
    "# ax[i].set_xlim(N[0], N[-1])\n",
    "# ax[i].set_xlabel('training size')\n",
    "# ax[i].set_ylabel('score')\n",
    "# ax[i].set_title('degree = {0}'.format(degree), size=14)\n",
    "# ax[i].legend(loc='best')"
   ]
  },
  {
   "cell_type": "code",
   "execution_count": null,
   "metadata": {
    "collapsed": false
   },
   "outputs": [],
   "source": []
  },
  {
   "cell_type": "code",
   "execution_count": null,
   "metadata": {
    "collapsed": false
   },
   "outputs": [],
   "source": [
    "train_lc"
   ]
  },
  {
   "cell_type": "code",
   "execution_count": null,
   "metadata": {
    "collapsed": true
   },
   "outputs": [],
   "source": [
    "# Set output feature\n",
    "output_feature = 'diabetes'\n",
    "\n",
    "# Get input features\n",
    "input_features = [x for x in X_interaction.columns if x != output_feature]\n",
    "\n",
    "# Split into features and responses\n",
    "X = X_interaction.copy()\n",
    "y = test_df[output_feature].copy()\n"
   ]
  },
  {
   "cell_type": "code",
   "execution_count": null,
   "metadata": {
    "collapsed": false
   },
   "outputs": [],
   "source": [
    "reload(ppl)\n",
    "\n",
    "ppl.OptimizationBundle().get_options()"
   ]
  },
  {
   "cell_type": "code",
   "execution_count": null,
   "metadata": {
    "collapsed": false
   },
   "outputs": [],
   "source": [
    "%%time\n",
    "\n",
    "estimator = 'knn'\n",
    "\n",
    "# Initialize pipeline\n",
    "optimized_pipeline = ppl.PipelineOptimization(estimator)\n",
    "\n",
    "# Fit data\n",
    "optimized_pipeline.fit(X,y,random_state=6)"
   ]
  },
  {
   "cell_type": "code",
   "execution_count": null,
   "metadata": {
    "collapsed": false
   },
   "outputs": [],
   "source": [
    "import numpy as np\n",
    "\n",
    "from sklearn.cross_validation import train_test_split\n",
    "from sklearn.neighbors import KNeighborsClassifier\n",
    "from sklearn.pipeline import Pipeline\n",
    "\n",
    "import sklearn.metrics as sklearn_metrics\n",
    "\n",
    "X_array = X.copy().values\n",
    "y_array = y.copy().values\n",
    "\n",
    "param_grid = {\n",
    "    'estimator__n_neighbors': range(31), \n",
    "    'estimator__weights': ['uniform', 'distance']\n",
    "}\n",
    "\n",
    "X_train, X_val, y_train, y_val = \\\n",
    "    train_test_split(X_array,y_array,test_size=0.2,random_state=6,stratify=y_array)\n",
    "\n",
    "from sklearn.model_selection import StratifiedKFold\n",
    "\n",
    "kfolds_kwargs = dict(\n",
    "    n_splits=10, \n",
    "    shuffle=True, \n",
    "    random_state=6    \n",
    ")\n",
    "\n",
    "skf = StratifiedKFold(**kfolds_kwargs)\n",
    "\n",
    "fold_optimizations = {}\n",
    "for fold_ind, data_inds in enumerate(skf.split(X_train, y_train)):\n",
    "    fold_optimizations[fold_ind] = {}\n",
    "    \n",
    "    train_index, test_index = data_inds[0],data_inds[1]\n",
    "    \n",
    "    X_train_inner, X_test_inner = X_array[train_index], X_array[test_index]\n",
    "    y_train_inner, y_test_inner = y_array[train_index], y_array[test_index]\n",
    "    \n",
    "    pipeline = Pipeline([('estimator',KNeighborsClassifier(n_neighbors=11,weights='distance'))])\n",
    "    \n",
    "    pipeline.fit(X_train_inner,y_train_inner)\n",
    "    \n",
    "    y_pred_inner = pipeline.predict(X_test_inner)\n",
    "    \n",
    "    confusion_matrix = sklearn_metrics.confusion_matrix(y_test_inner, y_pred_inner)\n",
    "    \n",
    "    score = confusion_matrix.trace()/float(confusion_matrix.sum())\n",
    "    \n",
    "    fold_optimizations[fold_ind]['confusion_matrix'] = confusion_matrix\n",
    "    \n",
    "    fold_optimizations[fold_ind]['score'] = confusion_matrix.trace()/float(confusion_matrix.sum())\n",
    "    fold_optimizations[fold_ind]['pipeline'] = pipeline\n",
    "    \n",
    "print np.array([fold_optimizations[fold_ind]['score'] for fold_ind in fold_optimizations]).mean()\n",
    "\n",
    "y_pred = pipeline.predict(X_val)\n",
    "\n",
    "test_confusion_matrix = sklearn_metrics.confusion_matrix(y_val, y_pred)\n",
    "\n",
    "score = test_confusion_matrix.trace()/float(test_confusion_matrix.sum())\n",
    "\n",
    "print score\n",
    "    \n",
    "# TRAIN: [1 3] TEST: [0 2]\n",
    "# TRAIN: [0 2] TEST: [1 3]"
   ]
  },
  {
   "cell_type": "code",
   "execution_count": null,
   "metadata": {
    "collapsed": false
   },
   "outputs": [],
   "source": []
  },
  {
   "cell_type": "code",
   "execution_count": null,
   "metadata": {
    "collapsed": false
   },
   "outputs": [],
   "source": [
    "fold_optimizations"
   ]
  },
  {
   "cell_type": "code",
   "execution_count": null,
   "metadata": {
    "collapsed": false
   },
   "outputs": [],
   "source": [
    "print dir(optimized_pipeline.grid_search.best_estimator_)"
   ]
  },
  {
   "cell_type": "code",
   "execution_count": null,
   "metadata": {
    "collapsed": false
   },
   "outputs": [],
   "source": [
    "dir(folds[0].named_steps['estimator'])\n"
   ]
  },
  {
   "cell_type": "code",
   "execution_count": null,
   "metadata": {
    "collapsed": true
   },
   "outputs": [],
   "source": []
  }
 ],
 "metadata": {
  "anaconda-cloud": {},
  "kernelspec": {
   "display_name": "Python [default]",
   "language": "python",
   "name": "python2"
  },
  "language_info": {
   "codemirror_mode": {
    "name": "ipython",
    "version": 2
   },
   "file_extension": ".py",
   "mimetype": "text/x-python",
   "name": "python",
   "nbconvert_exporter": "python",
   "pygments_lexer": "ipython2",
   "version": "2.7.12"
  }
 },
 "nbformat": 4,
 "nbformat_minor": 0
}
