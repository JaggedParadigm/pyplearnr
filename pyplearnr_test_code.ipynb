{
 "cells": [
  {
   "cell_type": "markdown",
   "metadata": {},
   "source": [
    "# pyplearnr demo\n",
    "Here I demonstrate pyplearnr, a wrapper for building/training/validating scikit learn pipelines using GridSearchCV or RandomizedSearchCV.\n",
    "\n",
    "Quick keyword arguments give access to optional feature selection (e.g. SelectKBest), scaling (e.g. standard scaling), use of feature interactions, and data transformations (e.g. PCA, t-SNE) before being fed to a classifier/regressor.\n",
    "\n",
    "After building the pipeline, data can be used to perform a nested (stratified if classification) k-folds cross-validation and output an object containing data from the process, including the best model.\n",
    "\n",
    "Various default pipeline step parameters for the grid-search are available for quick iteration over different pipelines, with the option to ignore/override them in a flexible way.\n",
    "\n",
    "This is an on-going project that I intend to update with more models and pre-processing options and also with corresponding defaults.\n",
    "\n",
    "## Titanic dataset example\n",
    "Here I use the Titanic dataset I've cleaned and pickled in a separate tutorial.\n",
    "\n",
    "### Import data"
   ]
  },
  {
   "cell_type": "code",
   "execution_count": 2,
   "metadata": {
    "collapsed": false
   },
   "outputs": [
    {
     "name": "stdout",
     "output_type": "stream",
     "text": [
      "<class 'pandas.core.frame.DataFrame'>\n",
      "Int64Index: 890 entries, 0 to 890\n",
      "Data columns (total 9 columns):\n",
      "Survived    890 non-null int64\n",
      "Pclass      890 non-null int64\n",
      "Sex         890 non-null object\n",
      "Age         890 non-null float64\n",
      "SibSp       890 non-null int64\n",
      "Parch       890 non-null int64\n",
      "Fare        890 non-null float64\n",
      "Embarked    890 non-null object\n",
      "Title       890 non-null object\n",
      "dtypes: float64(2), int64(4), object(3)\n",
      "memory usage: 69.5+ KB\n"
     ]
    }
   ],
   "source": [
    "import pandas as pd\n",
    "\n",
    "df = pd.read_pickle('trimmed_titanic_data.pkl')\n",
    "\n",
    "df.info()"
   ]
  },
  {
   "cell_type": "markdown",
   "metadata": {},
   "source": [
    "By \"cleaned\" I mean I've derived titles (e.g. \"Mr.\", \"Mrs.\", \"Dr.\", etc) from the passenger names, imputed the missing Age values using polynomial regression with grid-searched 10-fold cross-validation, filled in the 3 missing Embarked values with the mode, and removed all fields that could be considered an id for that individual.\n",
    "\n",
    "Thus, there is no missing/null data.\n",
    "\n",
    "## Set categorical features as type 'category'\n",
    "In order to one-hot encode categorical data, its best to set the features that are considered categorical:"
   ]
  },
  {
   "cell_type": "code",
   "execution_count": 3,
   "metadata": {
    "collapsed": false
   },
   "outputs": [
    {
     "name": "stdout",
     "output_type": "stream",
     "text": [
      "<class 'pandas.core.frame.DataFrame'>\n",
      "Int64Index: 890 entries, 0 to 890\n",
      "Data columns (total 9 columns):\n",
      "Survived    890 non-null category\n",
      "Pclass      890 non-null category\n",
      "Sex         890 non-null category\n",
      "Age         890 non-null float64\n",
      "SibSp       890 non-null int64\n",
      "Parch       890 non-null int64\n",
      "Fare        890 non-null float64\n",
      "Embarked    890 non-null category\n",
      "Title       890 non-null category\n",
      "dtypes: category(5), float64(2), int64(2)\n",
      "memory usage: 39.3 KB\n"
     ]
    }
   ],
   "source": [
    "simulation_df = df.copy()\n",
    "\n",
    "categorical_features = ['Survived','Pclass','Sex','Embarked','Title']\n",
    "\n",
    "for feature in categorical_features:\n",
    "    simulation_df[feature] = simulation_df[feature].astype('category')\n",
    "    \n",
    "simulation_df.info()"
   ]
  },
  {
   "cell_type": "markdown",
   "metadata": {},
   "source": [
    "## One-hot encode categorical features"
   ]
  },
  {
   "cell_type": "code",
   "execution_count": 4,
   "metadata": {
    "collapsed": false
   },
   "outputs": [
    {
     "name": "stdout",
     "output_type": "stream",
     "text": [
      "<class 'pandas.core.frame.DataFrame'>\n",
      "Int64Index: 890 entries, 0 to 890\n",
      "Data columns (total 17 columns):\n",
      "Age               890 non-null float64\n",
      "SibSp             890 non-null int64\n",
      "Parch             890 non-null int64\n",
      "Fare              890 non-null float64\n",
      "Survived_1        890 non-null uint8\n",
      "Pclass_2          890 non-null uint8\n",
      "Pclass_3          890 non-null uint8\n",
      "Sex_male          890 non-null uint8\n",
      "Embarked_Q        890 non-null uint8\n",
      "Embarked_S        890 non-null uint8\n",
      "Title_Dr          890 non-null uint8\n",
      "Title_Military    890 non-null uint8\n",
      "Title_Miss        890 non-null uint8\n",
      "Title_Mr          890 non-null uint8\n",
      "Title_Mrs         890 non-null uint8\n",
      "Title_Noble       890 non-null uint8\n",
      "Title_Rev         890 non-null uint8\n",
      "dtypes: float64(2), int64(2), uint8(13)\n",
      "memory usage: 46.1 KB\n"
     ]
    }
   ],
   "source": [
    "simulation_df = pd.get_dummies(simulation_df,drop_first=True)\n",
    "\n",
    "simulation_df.info()"
   ]
  },
  {
   "cell_type": "markdown",
   "metadata": {},
   "source": [
    "Now we have 17 features.\n",
    "\n",
    "### Split into input/output data"
   ]
  },
  {
   "cell_type": "code",
   "execution_count": 5,
   "metadata": {
    "collapsed": true
   },
   "outputs": [],
   "source": [
    "# Set output feature\n",
    "output_feature = 'Survived_1'\n",
    "\n",
    "# Get all column names\n",
    "column_names = list(simulation_df.columns)\n",
    "\n",
    "# Get input features\n",
    "input_features = [x for x in column_names if x != output_feature]\n",
    "\n",
    "# Split into features and responses\n",
    "X = simulation_df[input_features].copy()\n",
    "y = simulation_df[output_feature].copy()"
   ]
  },
  {
   "cell_type": "markdown",
   "metadata": {},
   "source": [
    "### Null model"
   ]
  },
  {
   "cell_type": "code",
   "execution_count": 6,
   "metadata": {
    "collapsed": false
   },
   "outputs": [
    {
     "data": {
      "text/plain": [
       "array([ 0.61573034,  0.38426966])"
      ]
     },
     "execution_count": 6,
     "metadata": {},
     "output_type": "execute_result"
    }
   ],
   "source": [
    "simulation_df['Survived_1'].value_counts().values/float(simulation_df['Survived_1'].value_counts().values.sum())"
   ]
  },
  {
   "cell_type": "markdown",
   "metadata": {},
   "source": [
    "Thus, null accuracy of ~62% if always predict death.\n",
    "\n",
    "### Import pyplearnr and initialize optimized pipeline collection"
   ]
  },
  {
   "cell_type": "code",
   "execution_count": 7,
   "metadata": {
    "collapsed": false
   },
   "outputs": [],
   "source": [
    "%matplotlib inline\n",
    "\n",
    "import sys\n",
    "\n",
    "sys.path.append(\"./code\")\n",
    "\n",
    "import pyplearnr as ppl\n",
    "\n",
    "\n",
    "\n",
    "optimized_pipelines = {}"
   ]
  },
  {
   "cell_type": "code",
   "execution_count": 91,
   "metadata": {
    "collapsed": false,
    "scrolled": false
   },
   "outputs": [
    {
     "name": "stdout",
     "output_type": "stream",
     "text": [
      "12\n",
      "0\n",
      "\t0\n",
      "\t\t0\n",
      "\t\t\t0.992718446602 0.742484177215\n",
      "\t\t1\n",
      "\t\t\t0.992718446602 0.742484177215\n",
      "\t\t2\n",
      "\t\t\t0.788834951456 0.72616693038\n",
      "\t\t3\n",
      "\t\t\t0.992718446602 0.742484177215\n",
      "\t\t4\n",
      "\t\t\t0.5 0.5\n",
      "\t\t5\n",
      "\t\t\t0.637507020782 0.632021360759\n",
      "\t\t6\n",
      "\t\t\t0.9937682206 0.787875791139\n",
      "\t\t7\n",
      "\t\t\t0.9937682206 0.787875791139\n",
      "\t\t8\n",
      "\t\t\t0.830097087379 0.810621044304\n",
      "\t\t9\n",
      "\t\t\t0.992718446602 0.794204905063\n",
      "\t\t10\n",
      "\t\t\t0.5 0.5\n",
      "\t\t11\n",
      "\t\t\t0.799794057076 0.832179588608\n",
      "\t1\n",
      "\t\t0\n",
      "\t\t\t0.993273542601 0.724955673759\n",
      "\t\t1\n",
      "\t\t\t0.993273542601 0.724955673759\n",
      "\t\t2\n",
      "\t\t\t0.822869955157 0.665890957447\n",
      "\t\t3\n",
      "\t\t\t0.993273542601 0.724955673759\n",
      "\t\t4\n",
      "\t\t\t0.5 0.5\n",
      "\t\t5\n",
      "\t\t\t0.667157002514 0.619015957447\n",
      "\t\t6\n",
      "\t\t\t0.993422587418 0.751883865248\n",
      "\t\t7\n",
      "\t\t\t0.993422587418 0.751883865248\n",
      "\t\t8\n",
      "\t\t\t0.867713004484 0.745567375887\n",
      "\t\t9\n",
      "\t\t\t0.993273542601 0.751883865248\n",
      "\t\t10\n",
      "\t\t\t0.5 0.5\n",
      "\t\t11\n",
      "\t\t\t0.833478058011 0.746453900709\n",
      "\t2\n",
      "\t\t0\n",
      "\t\t\t0.9962659679 0.702298850575\n",
      "\t\t1\n",
      "\t\t\t0.9962659679 0.702298850575\n",
      "\t\t2\n",
      "\t\t\t0.825581395349 0.697074190178\n",
      "\t\t3\n",
      "\t\t\t0.995348837209 0.702298850575\n",
      "\t\t4\n",
      "\t\t\t0.5 0.5\n",
      "\t\t5\n",
      "\t\t\t0.651424828038 0.623824451411\n",
      "\t\t6\n",
      "\t\t\t0.994857517196 0.770741901776\n",
      "\t\t7\n",
      "\t\t\t0.994857517196 0.770741901776\n",
      "\t\t8\n",
      "\t\t\t0.853488372093 0.78275862069\n",
      "\t\t9\n",
      "\t\t\t0.995348837209 0.770741901776\n",
      "\t\t10\n",
      "\t\t\t0.5 0.5\n",
      "\t\t11\n",
      "\t\t\t0.819620045857 0.795193312435\n",
      "\t3\n",
      "\t\t0\n",
      "\t\t\t0.990206354406 0.755903866249\n",
      "\t\t1\n",
      "\t\t\t0.990206354406 0.755903866249\n",
      "\t\t2\n",
      "\t\t\t0.790697674419 0.706687565308\n",
      "\t\t3\n",
      "\t\t\t0.990697674419 0.752560083595\n",
      "\t\t4\n",
      "\t\t\t0.5 0.5\n",
      "\t\t5\n",
      "\t\t\t0.627186374058 0.685579937304\n",
      "\t\t6\n",
      "\t\t\t0.991123485097 0.794670846395\n",
      "\t\t7\n",
      "\t\t\t0.991123485097 0.794670846395\n",
      "\t\t8\n",
      "\t\t\t0.846511627907 0.750679205852\n",
      "\t\t9\n",
      "\t\t\t0.990697674419 0.800417972832\n",
      "\t\t10\n",
      "\t\t\t0.5 0.5\n",
      "\t\t11\n",
      "\t\t\t0.811300360301 0.810971786834\n",
      "\t4\n",
      "\t\t0\n",
      "\t\t\t0.994042448366 0.687842879087\n",
      "\t\t1\n",
      "\t\t\t0.994042448366 0.687842879087\n",
      "\t\t2\n",
      "\t\t\t0.81221719457 0.629910028528\n",
      "\t\t3\n",
      "\t\t\t0.993212669683 0.687842879087\n",
      "\t\t4\n",
      "\t\t\t0.5 0.5\n",
      "\t\t5\n",
      "\t\t\t0.661476228137 0.628812815449\n",
      "\t\t6\n",
      "\t\t\t0.993212669683 0.65668202765\n",
      "\t\t7\n",
      "\t\t\t0.993212669683 0.65668202765\n",
      "\t\t8\n",
      "\t\t\t0.846153846154 0.692780337942\n",
      "\t\t9\n",
      "\t\t\t0.993212669683 0.662058371736\n",
      "\t\t10\n",
      "\t\t\t0.5 0.5\n",
      "\t\t11\n",
      "\t\t\t0.830699218193 0.717467632214\n",
      "0 0.694722886082 0.722697089377 0.750671292672\n",
      "\t0.724955673759\n",
      "[ 0.70229885  0.74248418]\n",
      "1 0.694722886082 0.722697089377 0.750671292672\n",
      "\t0.724955673759\n",
      "[ 0.70229885  0.74248418]\n",
      "2 0.647360994596 0.685145934368 0.72293087414\n",
      "\t0.697074190178\n",
      "[ 0.66589096  0.70668757]\n",
      "3 0.695023257319 0.722028332846 0.749033408373\n",
      "\t0.724955673759\n",
      "[ 0.70229885  0.74248418]\n",
      "4 0.5 0.5 0.5\n",
      "\t0.5\n",
      "[ 0.5  0.5]\n",
      "5 0.610715927861 0.637850904474 0.664985881087\n",
      "\t0.628812815449\n",
      "[ 0.62382445  0.63202136]\n",
      "6 0.696370944565 0.752370886442 0.808370828318\n",
      "\t0.770741901776\n",
      "[ 0.75188387  0.78787579]\n",
      "7 0.696370944565 0.752370886442 0.808370828318\n",
      "\t0.770741901776\n",
      "[ 0.75188387  0.78787579]\n",
      "8 0.712231457898 0.756481316935 0.800731175972\n",
      "\t0.750679205852\n",
      "[ 0.74556738  0.78275862]\n",
      "9 0.699978107995 0.755861403331 0.811744698667\n",
      "\t0.770741901776\n",
      "[ 0.75188387  0.79420491]\n",
      "10 0.5 0.5 0.5\n",
      "\t0.5\n",
      "[ 0.5  0.5]\n",
      "11 0.733157873253 0.78045324416 0.827748615067\n",
      "\t0.795193312435\n",
      "[ 0.7464539   0.81097179]\n",
      "1\n",
      "\t0\n",
      "\t\t0\n",
      "\t\t\t0.9937682206 0.764124293785\n",
      "\t\t1\n",
      "\t\t\t0.9937682206 0.764124293785\n",
      "\t\t2\n",
      "\t\t\t0.800970873786 0.737994350282\n",
      "\t\t3\n",
      "\t\t\t0.992718446602 0.764124293785\n",
      "\t\t4\n",
      "\t\t\t0.5 0.5\n",
      "\t\t5\n",
      "\t\t\t0.649970579582 0.609059725585\n",
      "\t\t6\n",
      "\t\t\t0.9937682206 0.805589184826\n",
      "\t\t7\n",
      "\t\t\t0.9937682206 0.805589184826\n",
      "\t\t8\n",
      "\t\t\t0.834951456311 0.783797417272\n",
      "\t\t9\n",
      "\t\t\t0.992718446602 0.805589184826\n",
      "\t\t10\n",
      "\t\t\t0.5 0.5\n",
      "\t\t11\n",
      "\t\t\t0.80359865201 0.809221146086\n",
      "\t1\n",
      "\t\t0\n",
      "\t\t\t0.995726495726 0.688054078014\n",
      "\t\t1\n",
      "\t\t\t0.995726495726 0.688054078014\n",
      "\t\t2\n",
      "\t\t\t0.811926605505 0.681515957447\n",
      "\t\t3\n",
      "\t\t\t0.993119266055 0.688054078014\n",
      "\t\t4\n",
      "\t\t\t0.5 0.5\n",
      "\t\t5\n",
      "\t\t\t0.638673253352 0.63984929078\n",
      "\t\t6\n",
      "\t\t\t0.994857419169 0.725842198582\n",
      "\t\t7\n",
      "\t\t\t0.994857419169 0.725842198582\n",
      "\t\t8\n",
      "\t\t\t0.857798165138 0.719082446809\n",
      "\t\t9\n",
      "\t\t\t0.993119266055 0.725842198582\n",
      "\t\t10\n",
      "\t\t\t0.5 0.5\n",
      "\t\t11\n",
      "\t\t\t0.820519354923 0.751662234043\n",
      "\t2\n",
      "\t\t0\n",
      "\t\t\t0.991468253968 0.705642633229\n",
      "\t\t1\n",
      "\t\t\t0.991468253968 0.705642633229\n",
      "\t\t2\n",
      "\t\t\t0.814285714286 0.697074190178\n",
      "\t\t3\n",
      "\t\t\t0.990476190476 0.705642633229\n",
      "\t\t4\n",
      "\t\t\t0.5 0.5\n",
      "\t\t5\n",
      "\t\t\t0.644841269841 0.620480668757\n",
      "\t\t6\n",
      "\t\t\t0.991468253968 0.788923719958\n",
      "\t\t7\n",
      "\t\t\t0.991468253968 0.788923719958\n",
      "\t\t8\n",
      "\t\t\t0.842857142857 0.759770114943\n",
      "\t\t9\n",
      "\t\t\t0.990476190476 0.779832810867\n",
      "\t\t10\n",
      "\t\t\t0.5 0.5\n",
      "\t\t11\n",
      "\t\t\t0.809523809524 0.800940438871\n",
      "\t3\n",
      "\t\t0\n",
      "\t\t\t0.99623015873 0.696551724138\n",
      "\t\t1\n",
      "\t\t\t0.99623015873 0.696551724138\n",
      "\t\t2\n",
      "\t\t\t0.807142857143 0.659770114943\n",
      "\t\t3\n",
      "\t\t\t0.995238095238 0.696551724138\n",
      "\t\t4\n",
      "\t\t\t0.5 0.5\n",
      "\t\t5\n",
      "\t\t\t0.62876984127 0.64921630094\n",
      "\t\t6\n",
      "\t\t\t0.99623015873 0.783176593521\n",
      "\t\t7\n",
      "\t\t\t0.99623015873 0.783176593521\n",
      "\t\t8\n",
      "\t\t\t0.835714285714 0.764576802508\n",
      "\t\t9\n",
      "\t\t\t0.995238095238 0.783176593521\n",
      "\t\t10\n",
      "\t\t\t0.5 0.5\n",
      "\t\t11\n",
      "\t\t\t0.802777777778 0.825809822362\n",
      "\t4\n",
      "\t\t0\n",
      "\t\t\t0.993055555556 0.699692780338\n",
      "\t\t1\n",
      "\t\t\t0.993055555556 0.699692780338\n",
      "\t\t2\n",
      "\t\t\t0.826388888889 0.68202764977\n",
      "\t\t3\n",
      "\t\t\t0.993055555556 0.699692780338\n",
      "\t\t4\n",
      "\t\t\t0.5 0.5\n",
      "\t\t5\n",
      "\t\t\t0.649560577527 0.644941847707\n",
      "\t\t6\n",
      "\t\t\t0.993957940992 0.673359666447\n",
      "\t\t7\n",
      "\t\t\t0.993957940992 0.673359666447\n",
      "\t\t8\n",
      "\t\t\t0.868055555556 0.68147904323\n",
      "\t\t9\n",
      "\t\t\t0.993055555556 0.663155584815\n",
      "\t\t10\n",
      "\t\t\t0.5 0.5\n",
      "\t\t11\n",
      "\t\t\t0.819483678594 0.717467632214\n",
      "0 0.680342466274 0.710813101901 0.741283737528\n",
      "\t0.699692780338\n",
      "[ 0.69655172  0.70564263]\n",
      "1 0.680342466274 0.710813101901 0.741283737528\n",
      "\t0.699692780338\n",
      "[ 0.69655172  0.70564263]\n",
      "2 0.662569612017 0.691676452524 0.720783293031\n",
      "\t0.68202764977\n",
      "[ 0.68151596  0.69707419]\n",
      "3 0.680342466274 0.710813101901 0.741283737528\n",
      "\t0.699692780338\n",
      "[ 0.69655172  0.70564263]\n",
      "4 0.5 0.5 0.5\n",
      "\t0.5\n",
      "[ 0.5  0.5]\n",
      "5 0.615519907337 0.632709566754 0.649899226171\n",
      "\t0.63984929078\n",
      "[ 0.62048067  0.64494185]\n",
      "6 0.700563560192 0.755378272667 0.810192985142\n",
      "\t0.783176593521\n",
      "[ 0.7258422   0.78892372]\n",
      "7 0.700563560192 0.755378272667 0.810192985142\n",
      "\t0.783176593521\n",
      "[ 0.7258422   0.78892372]\n",
      "8 0.700631012429 0.741741164952 0.782851317475\n",
      "\t0.759770114943\n",
      "[ 0.71908245  0.7645768 ]\n",
      "9 0.694084852625 0.751519274522 0.808953696419\n",
      "\t0.779832810867\n",
      "[ 0.7258422   0.78317659]\n",
      "10 0.5 0.5 0.5\n",
      "\t0.5\n",
      "[ 0.5  0.5]\n",
      "11 0.73602292539 0.781020254715 0.82601758404\n",
      "\t0.800940438871\n",
      "[ 0.75166223  0.80922115]\n",
      "2\n",
      "\t0\n",
      "\t\t0\n",
      "\t\t\t0.991749153425 0.766646489104\n",
      "\t\t1\n",
      "\t\t\t0.991749153425 0.766646489104\n",
      "\t\t2\n",
      "\t\t\t0.820454545455 0.706618240517\n",
      "\t\t3\n",
      "\t\t\t0.990909090909 0.772598870056\n",
      "\t\t4\n",
      "\t\t\t0.5 0.5\n",
      "\t\t5\n",
      "\t\t\t0.668090648606 0.617534301856\n",
      "\t\t6\n",
      "\t\t\t0.990316488669 0.826876513317\n",
      "\t\t7\n",
      "\t\t\t0.990316488669 0.826876513317\n",
      "\t\t8\n",
      "\t\t\t0.877272727273 0.815173527038\n",
      "\t\t9\n",
      "\t\t\t0.990909090909 0.826876513317\n",
      "\t\t10\n",
      "\t\t\t0.5 0.5\n",
      "\t\t11\n",
      "\t\t\t0.84219848919 0.831214689266\n",
      "\t1\n",
      "\t\t0\n",
      "\t\t\t0.990270263206 0.732407037185\n",
      "\t\t1\n",
      "\t\t\t0.990270263206 0.732407037185\n",
      "\t\t2\n",
      "\t\t\t0.821100917431 0.737904838065\n",
      "\t\t3\n",
      "\t\t\t0.988532110092 0.738504598161\n",
      "\t\t4\n",
      "\t\t\t0.5 0.5\n",
      "\t\t5\n",
      "\t\t\t0.634955173946 0.652139144342\n",
      "\t\t6\n",
      "\t\t\t0.988845761782 0.797980807677\n",
      "\t\t7\n",
      "\t\t\t0.988845761782 0.797980807677\n",
      "\t\t8\n",
      "\t\t\t0.864678899083 0.799480207917\n",
      "\t\t9\n",
      "\t\t\t0.988532110092 0.816273490604\n",
      "\t\t10\n",
      "\t\t\t0.5 0.5\n",
      "\t\t11\n",
      "\t\t\t0.824551086019 0.885645741703\n",
      "\t2\n",
      "\t\t0\n",
      "\t\t\t0.994877683732 0.695611285266\n",
      "\t\t1\n",
      "\t\t\t0.994877683732 0.695611285266\n",
      "\t\t2\n",
      "\t\t\t0.837053571429 0.714315569488\n",
      "\t\t3\n",
      "\t\t\t0.993303571429 0.695611285266\n",
      "\t\t4\n",
      "\t\t\t0.5 0.5\n",
      "\t\t5\n",
      "\t\t\t0.668817093311 0.615673981191\n",
      "\t\t6\n",
      "\t\t\t0.992645540875 0.783176593521\n",
      "\t\t7\n",
      "\t\t\t0.992645540875 0.783176593521\n",
      "\t\t8\n",
      "\t\t\t0.868303571429 0.736781609195\n",
      "\t\t9\n",
      "\t\t\t0.993303571429 0.783176593521\n",
      "\t\t10\n",
      "\t\t\t0.5 0.5\n",
      "\t\t11\n",
      "\t\t\t0.841492052023 0.83249738767\n",
      "\t3\n",
      "\t\t0\n",
      "\t\t\t0.988181255161 0.738662486938\n",
      "\t\t1\n",
      "\t\t\t0.988181255161 0.738662486938\n",
      "\t\t2\n",
      "\t\t\t0.832589285714 0.722466039707\n",
      "\t\t3\n",
      "\t\t\t0.988839285714 0.738662486938\n",
      "\t\t4\n",
      "\t\t\t0.5 0.5\n",
      "\t\t5\n",
      "\t\t\t0.630999690339 0.685579937304\n",
      "\t\t6\n",
      "\t\t\t0.988968311313 0.818599791014\n",
      "\t\t7\n",
      "\t\t\t0.988968311313 0.818599791014\n",
      "\t\t8\n",
      "\t\t\t0.866071428571 0.822466039707\n",
      "\t\t9\n",
      "\t\t\t0.988839285714 0.82434691745\n",
      "\t\t10\n",
      "\t\t\t0.5 0.5\n",
      "\t\t11\n",
      "\t\t\t0.844382225434 0.815256008359\n",
      "\t4\n",
      "\t\t0\n",
      "\t\t\t0.992710997442 0.703971911345\n",
      "\t\t1\n",
      "\t\t\t0.992710997442 0.703971911345\n",
      "\t\t2\n",
      "\t\t\t0.839130434783 0.645490454246\n",
      "\t\t3\n",
      "\t\t\t0.991304347826 0.714724599517\n",
      "\t\t4\n",
      "\t\t\t0.5 0.5\n",
      "\t\t5\n",
      "\t\t\t0.661061381074 0.628812815449\n",
      "\t\t6\n",
      "\t\t\t0.990537084399 0.703423304806\n",
      "\t\t7\n",
      "\t\t\t0.990537084399 0.703423304806\n",
      "\t\t8\n",
      "\t\t\t0.882608695652 0.711542681589\n",
      "\t\t9\n",
      "\t\t\t0.991304347826 0.703423304806\n",
      "\t\t10\n",
      "\t\t\t0.5 0.5\n",
      "\t\t11\n",
      "\t\t\t0.851598465473 0.772218564845\n",
      "0 0.698948525103 0.727459841968 0.755971158833\n",
      "\t0.732407037185\n",
      "[ 0.70397191  0.73866249]\n",
      "1 0.698948525103 0.727459841968 0.755971158833\n",
      "\t0.732407037185\n",
      "[ 0.70397191  0.73866249]\n",
      "2 0.669940350503 0.705359028405 0.740777706306\n",
      "\t0.714315569488\n",
      "[ 0.70661824  0.72246604]\n",
      "3 0.703048214431 0.732020367988 0.760992521544\n",
      "\t0.738504598161\n",
      "[ 0.7147246   0.73866249]\n",
      "4 0.5 0.5 0.5\n",
      "\t0.5\n",
      "[ 0.5  0.5]\n",
      "5 0.610594621018 0.639948036029 0.669301451039\n",
      "\t0.628812815449\n",
      "[ 0.6175343   0.65213914]\n",
      "6 0.736756815907 0.786011402067 0.835265988227\n",
      "\t0.797980807677\n",
      "[ 0.78317659  0.81859979]\n",
      "7 0.736756815907 0.786011402067 0.835265988227\n",
      "\t0.797980807677\n",
      "[ 0.78317659  0.81859979]\n",
      "8 0.727259407276 0.777088813089 0.826918218903\n",
      "\t0.799480207917\n",
      "[ 0.73678161  0.81517353]\n",
      "9 0.738933406009 0.79081936394 0.842705321871\n",
      "\t0.816273490604\n",
      "[ 0.78317659  0.82434692]\n",
      "10 0.5 0.5 0.5\n",
      "\t0.5\n",
      "[ 0.5  0.5]\n",
      "11 0.786667696624 0.827366478369 0.868065260113\n",
      "\t0.831214689266\n",
      "[ 0.81525601  0.83249739]\n",
      "3\n",
      "\t0\n",
      "\t\t0\n",
      "\t\t\t0.994849559848 0.760694108152\n",
      "\t\t1\n",
      "\t\t\t0.994849559848 0.760694108152\n",
      "\t\t2\n",
      "\t\t\t0.811627906977 0.74303874092\n",
      "\t\t3\n",
      "\t\t\t0.995348837209 0.760694108152\n",
      "\t\t4\n",
      "\t\t\t0.5 0.5\n",
      "\t\t5\n",
      "\t\t\t0.634029693864 0.617534301856\n",
      "\t\t6\n",
      "\t\t\t0.995762711864 0.759786117837\n",
      "\t\t7\n",
      "\t\t\t0.995762711864 0.759786117837\n",
      "\t\t8\n",
      "\t\t\t0.839534883721 0.812651331719\n",
      "\t\t9\n",
      "\t\t\t0.995348837209 0.771690879742\n",
      "\t\t10\n",
      "\t\t\t0.5 0.5\n",
      "\t\t11\n",
      "\t\t\t0.809788464065 0.817695722357\n",
      "\t1\n",
      "\t\t0\n",
      "\t\t\t0.993900669937 0.750699720112\n",
      "\t\t1\n",
      "\t\t\t0.993900669937 0.750699720112\n",
      "\t\t2\n",
      "\t\t\t0.805164319249 0.735805677729\n",
      "\t\t3\n",
      "\t\t\t0.992957746479 0.750699720112\n",
      "\t\t4\n",
      "\t\t\t0.5 0.5\n",
      "\t\t5\n",
      "\t\t\t0.616164213747 0.658236705318\n",
      "\t\t6\n",
      "\t\t\t0.993439099014 0.826369452219\n",
      "\t\t7\n",
      "\t\t\t0.993439099014 0.826369452219\n",
      "\t\t8\n",
      "\t\t\t0.828638497653 0.809576169532\n",
      "\t\t9\n",
      "\t\t\t0.992957746479 0.826369452219\n",
      "\t\t10\n",
      "\t\t\t0.5 0.5\n",
      "\t\t11\n",
      "\t\t\t0.787868597352 0.875149940024\n",
      "\t2\n",
      "\t\t0\n",
      "\t\t\t0.994876003153 0.701896143073\n",
      "\t\t1\n",
      "\t\t\t0.994876003153 0.701896143073\n",
      "\t\t2\n",
      "\t\t\t0.818385650224 0.687028657617\n",
      "\t\t3\n",
      "\t\t\t0.993273542601 0.701896143073\n",
      "\t\t4\n",
      "\t\t\t0.5 0.5\n",
      "\t\t5\n",
      "\t\t\t0.649765446298 0.598362421892\n",
      "\t\t6\n",
      "\t\t\t0.994876003153 0.744236156001\n",
      "\t\t7\n",
      "\t\t\t0.994876003153 0.744236156001\n",
      "\t\t8\n",
      "\t\t\t0.849775784753 0.725059254471\n",
      "\t\t9\n",
      "\t\t\t0.993273542601 0.734432234432\n",
      "\t\t10\n",
      "\t\t\t0.5 0.5\n",
      "\t\t11\n",
      "\t\t\t0.815994882465 0.80349062702\n",
      "\t3\n",
      "\t\t0\n",
      "\t\t\t0.993441558442 0.71611952862\n",
      "\t\t1\n",
      "\t\t\t0.993441558442 0.71611952862\n",
      "\t\t2\n",
      "\t\t\t0.843181818182 0.7117003367\n",
      "\t\t3\n",
      "\t\t\t0.993181818182 0.71611952862\n",
      "\t\t4\n",
      "\t\t\t0.5 0.5\n",
      "\t\t5\n",
      "\t\t\t0.624025974026 0.626262626263\n",
      "\t\t6\n",
      "\t\t\t0.993441558442 0.742424242424\n",
      "\t\t7\n",
      "\t\t\t0.993441558442 0.742424242424\n",
      "\t\t8\n",
      "\t\t\t0.852272727273 0.735900673401\n",
      "\t\t9\n",
      "\t\t\t0.993181818182 0.733164983165\n",
      "\t\t10\n",
      "\t\t\t0.5 0.5\n",
      "\t\t11\n",
      "\t\t\t0.836363636364 0.728114478114\n",
      "\t4\n",
      "\t\t0\n",
      "\t\t\t0.997777777778 0.667434715822\n",
      "\t\t1\n",
      "\t\t\t0.997777777778 0.667434715822\n",
      "\t\t2\n",
      "\t\t\t0.837777777778 0.635286372614\n",
      "\t\t3\n",
      "\t\t\t0.997777777778 0.667434715822\n",
      "\t\t4\n",
      "\t\t\t0.5 0.5\n",
      "\t\t5\n",
      "\t\t\t0.640193236715 0.644941847707\n",
      "\t\t6\n",
      "\t\t\t0.998550724638 0.657230634189\n",
      "\t\t7\n",
      "\t\t\t0.998550724638 0.657230634189\n",
      "\t\t8\n",
      "\t\t\t0.864444444444 0.744349352644\n",
      "\t\t9\n",
      "\t\t\t0.997777777778 0.657230634189\n",
      "\t\t10\n",
      "\t\t\t0.5 0.5\n",
      "\t\t11\n",
      "\t\t\t0.829661835749 0.717467632214\n",
      "0 0.681611697299 0.719368843156 0.757125989012\n",
      "\t0.71611952862\n",
      "[ 0.70189614  0.75069972]\n",
      "1 0.681611697299 0.719368843156 0.757125989012\n",
      "\t0.71611952862\n",
      "[ 0.70189614  0.75069972]\n",
      "2 0.658999281813 0.702571957116 0.746144632419\n",
      "\t0.7117003367\n",
      "[ 0.68702866  0.73580568]\n",
      "3 0.681611697299 0.719368843156 0.757125989012\n",
      "\t0.71611952862\n",
      "[ 0.70189614  0.75069972]\n",
      "4 0.5 0.5 0.5\n",
      "\t0.5\n",
      "[ 0.5  0.5]\n",
      "5 0.605687454155 0.629067580607 0.652447707059\n",
      "\t0.626262626263\n",
      "[ 0.6175343   0.64494185]\n",
      "6 0.68570757314 0.746009320534 0.806311067928\n",
      "\t0.744236156001\n",
      "[ 0.74242424  0.75978612]\n",
      "7 0.68570757314 0.746009320534 0.806311067928\n",
      "\t0.744236156001\n",
      "[ 0.74242424  0.75978612]\n",
      "8 0.723302852889 0.765507356353 0.807711859817\n",
      "\t0.744349352644\n",
      "[ 0.73590067  0.80957617]\n",
      "9 0.68275590568 0.744577636749 0.806399367819\n",
      "\t0.734432234432\n",
      "[ 0.73316498  0.77169088]\n",
      "10 0.5 0.5 0.5\n",
      "\t0.5\n",
      "[ 0.5  0.5]\n",
      "11 0.722662180261 0.788383679946 0.854105179631\n",
      "\t0.80349062702\n",
      "[ 0.72811448  0.81769572]\n",
      "4\n",
      "\t0\n",
      "\t\t0\n",
      "\t\t\t0.992601549904 0.760694108152\n",
      "\t\t1\n",
      "\t\t\t0.992601549904 0.760694108152\n",
      "\t\t2\n",
      "\t\t\t0.821266968326 0.732949959645\n",
      "\t\t3\n",
      "\t\t\t0.990950226244 0.758171912833\n",
      "\t\t4\n",
      "\t\t\t0.5 0.5\n",
      "\t\t5\n",
      "\t\t\t0.658962656681 0.617534301856\n",
      "\t\t6\n",
      "\t\t\t0.990950226244 0.825968523002\n",
      "\t\t7\n",
      "\t\t\t0.990950226244 0.825968523002\n",
      "\t\t8\n",
      "\t\t\t0.848416289593 0.781275221953\n",
      "\t\t9\n",
      "\t\t\t0.990950226244 0.825968523002\n",
      "\t\t10\n",
      "\t\t\t0.5 0.5\n",
      "\t\t11\n",
      "\t\t\t0.83799474697 0.823648103309\n",
      "\t1\n",
      "\t\t0\n",
      "\t\t\t0.991722113503 0.716013594562\n",
      "\t\t1\n",
      "\t\t\t0.991722113503 0.716013594562\n",
      "\t\t2\n",
      "\t\t\t0.821917808219 0.737904838065\n",
      "\t\t3\n",
      "\t\t\t0.990867579909 0.716013594562\n",
      "\t\t4\n",
      "\t\t\t0.5 0.5\n",
      "\t\t5\n",
      "\t\t\t0.628323548598 0.660335865654\n",
      "\t\t6\n",
      "\t\t\t0.991722113503 0.824270291883\n",
      "\t\t7\n",
      "\t\t\t0.991722113503 0.824270291883\n",
      "\t\t8\n",
      "\t\t\t0.856164383562 0.793182726909\n",
      "\t\t9\n",
      "\t\t\t0.990867579909 0.830367852859\n",
      "\t\t10\n",
      "\t\t\t0.5 0.5\n",
      "\t\t11\n",
      "\t\t\t0.81703196347 0.887544982007\n",
      "\t2\n",
      "\t\t0\n",
      "\t\t\t0.994166912113 0.654815772463\n",
      "\t\t1\n",
      "\t\t\t0.994166912113 0.654815772463\n",
      "\t\t2\n",
      "\t\t\t0.825327510917 0.692523163111\n",
      "\t\t3\n",
      "\t\t\t0.993449781659 0.654815772463\n",
      "\t\t4\n",
      "\t\t\t0.5 0.5\n",
      "\t\t5\n",
      "\t\t\t0.66314717822 0.622279681103\n",
      "\t\t6\n",
      "\t\t\t0.992700636453 0.738741650506\n",
      "\t\t7\n",
      "\t\t\t0.992700636453 0.738741650506\n",
      "\t\t8\n",
      "\t\t\t0.884279475983 0.723874165051\n",
      "\t\t9\n",
      "\t\t\t0.993449781659 0.738741650506\n",
      "\t\t10\n",
      "\t\t\t0.5 0.5\n",
      "\t\t11\n",
      "\t\t\t0.843972902714 0.80349062702\n",
      "\t3\n",
      "\t\t0\n",
      "\t\t\t0.995555555556 0.687460815047\n",
      "\t\t1\n",
      "\t\t\t0.995555555556 0.687460815047\n",
      "\t\t2\n",
      "\t\t\t0.851111111111 0.675548589342\n",
      "\t\t3\n",
      "\t\t\t0.995555555556 0.687460815047\n",
      "\t\t4\n",
      "\t\t\t0.5 0.5\n",
      "\t\t5\n",
      "\t\t\t0.650724637681 0.622884012539\n",
      "\t\t6\n",
      "\t\t\t0.994879227053 0.759247648903\n",
      "\t\t7\n",
      "\t\t\t0.994879227053 0.759247648903\n",
      "\t\t8\n",
      "\t\t\t0.882222222222 0.715256008359\n",
      "\t\t9\n",
      "\t\t\t0.995555555556 0.750156739812\n",
      "\t\t10\n",
      "\t\t\t0.5 0.5\n",
      "\t\t11\n",
      "\t\t\t0.858647342995 0.731034482759\n",
      "\t4\n",
      "\t\t0\n",
      "\t\t\t0.994880633875 0.741792929293\n",
      "\t\t1\n",
      "\t\t\t0.994880633875 0.741792929293\n",
      "\t\t2\n",
      "\t\t\t0.83185840708 0.735900673401\n",
      "\t\t3\n",
      "\t\t\t0.993362831858 0.741792929293\n",
      "\t\t4\n",
      "\t\t\t0.5 0.5\n",
      "\t\t5\n",
      "\t\t\t0.629476229677 0.694023569024\n",
      "\t\t6\n",
      "\t\t\t0.994121732867 0.824284511785\n",
      "\t\t7\n",
      "\t\t\t0.994121732867 0.824284511785\n",
      "\t\t8\n",
      "\t\t\t0.862831858407 0.77861952862\n",
      "\t\t9\n",
      "\t\t\t0.993362831858 0.829966329966\n",
      "\t\t10\n",
      "\t\t\t0.5 0.5\n",
      "\t\t11\n",
      "\t\t\t0.829401625849 0.853324915825\n",
      "0 0.669885684 0.712155443903 0.754425203806\n",
      "\t0.716013594562\n",
      "[ 0.68746082  0.74179293]\n",
      "1 0.669885684 0.712155443903 0.754425203806\n",
      "\t0.716013594562\n",
      "[ 0.68746082  0.74179293]\n",
      "2 0.68604621739 0.714965444713 0.743884672035\n",
      "\t0.732949959645\n",
      "[ 0.69252316  0.73590067]\n",
      "3 0.670096307148 0.71165100484 0.753205702531\n",
      "\t0.716013594562\n",
      "[ 0.68746082  0.74179293]\n",
      "4 0.5 0.5 0.5\n",
      "\t0.5\n",
      "[ 0.5  0.5]\n",
      "5 0.610299643068 0.643411486035 0.676523329002\n",
      "\t0.622884012539\n",
      "[ 0.62227968  0.66033587]\n",
      "6 0.7523261778 0.794502525216 0.836678872631\n",
      "\t0.824270291883\n",
      "[ 0.75924765  0.82428451]\n",
      "7 0.7523261778 0.794502525216 0.836678872631\n",
      "\t0.824270291883\n",
      "[ 0.75924765  0.82428451]\n",
      "8 0.722402066121 0.758441530178 0.794480994236\n",
      "\t0.77861952862\n",
      "[ 0.72387417  0.78127522]\n",
      "9 0.748649243684 0.795040219229 0.841431194775\n",
      "\t0.825968523002\n",
      "[ 0.75015674  0.82996633]\n",
      "10 0.5 0.5 0.5\n",
      "\t0.5\n",
      "[ 0.5  0.5]\n",
      "11 0.760915874766 0.819808622184 0.878701369602\n",
      "\t0.823648103309\n",
      "[ 0.80349063  0.85332492]\n",
      "CPU times: user 6.47 s, sys: 493 ms, total: 6.96 s\n",
      "Wall time: 7.79 s\n"
     ]
    }
   ],
   "source": [
    "%%time \n",
    "\n",
    "reload(ppl)\n",
    "\n",
    "import numpy as np\n",
    "\n",
    "kfcv = ppl.NestedKFoldCrossValidation(outer_loop_fold_count=5, inner_loop_fold_count=5, shuffle_flag=True)\n",
    "\n",
    "pipeline_bundle_schematic = [\n",
    "    {'scaler': {\n",
    "        'standard': {},\n",
    "        'normal': {}\n",
    "    }},\n",
    "    {'estimator': {\n",
    "        'knn': {\n",
    "            'n_neighbors': range(1,3),\n",
    "            'weights': ['uniform', 'distance']\n",
    "        },\n",
    "        'svm': {\n",
    "            'C': np.array([1.00000000e-05, 1.00000000e+00])\n",
    "        }\n",
    "    }}\n",
    "]\n",
    "\n",
    "pipelines = ppl.PipelineBundle().build_pipeline_bundle(pipeline_bundle_schematic)\n",
    "print len(pipelines)\n",
    "# pipelines = [pipelines[5], pipelines[3]]\n",
    "\n",
    "kfcv.fit(X.values, y.values, pipelines)"
   ]
  },
  {
   "cell_type": "code",
   "execution_count": 14,
   "metadata": {
    "collapsed": false
   },
   "outputs": [
    {
     "name": "stdout",
     "output_type": "stream",
     "text": [
      "['__abstractmethods__', '__class__', '__delattr__', '__dict__', '__doc__', '__format__', '__getattribute__', '__getstate__', '__hash__', '__init__', '__module__', '__new__', '__reduce__', '__reduce_ex__', '__repr__', '__setattr__', '__setstate__', '__sizeof__', '__str__', '__subclasshook__', '__weakref__', '_abc_cache', '_abc_negative_cache', '_abc_negative_cache_version', '_abc_registry', '_estimator_type', '_final_estimator', '_fit', '_get_param_names', '_get_params', '_inverse_transform', '_pairwise', '_replace_step', '_set_params', '_transform', '_validate_names', '_validate_steps', 'classes_', 'decision_function', 'fit', 'fit_predict', 'fit_transform', 'get_params', 'inverse_transform', 'named_steps', 'predict', 'predict_log_proba', 'predict_proba', 'score', 'set_params', 'steps', 'transform']\n"
     ]
    },
    {
     "ename": "AttributeError",
     "evalue": "'Pipeline' object has no attribute 'score_'",
     "output_type": "error",
     "traceback": [
      "\u001b[0;31m---------------------------------------------------------------------------\u001b[0m",
      "\u001b[0;31mAttributeError\u001b[0m                            Traceback (most recent call last)",
      "\u001b[0;32m<ipython-input-14-5a3e06be7cb9>\u001b[0m in \u001b[0;36m<module>\u001b[0;34m()\u001b[0m\n\u001b[1;32m      1\u001b[0m \u001b[0;32mprint\u001b[0m \u001b[0mdir\u001b[0m\u001b[0;34m(\u001b[0m\u001b[0mkfcv\u001b[0m\u001b[0;34m.\u001b[0m\u001b[0mpipelines\u001b[0m\u001b[0;34m[\u001b[0m\u001b[0;36m0\u001b[0m\u001b[0;34m]\u001b[0m\u001b[0;34m)\u001b[0m\u001b[0;34m\u001b[0m\u001b[0m\n\u001b[0;32m----> 2\u001b[0;31m \u001b[0;32mprint\u001b[0m \u001b[0mkfcv\u001b[0m\u001b[0;34m.\u001b[0m\u001b[0mpipelines\u001b[0m\u001b[0;34m[\u001b[0m\u001b[0;36m0\u001b[0m\u001b[0;34m]\u001b[0m\u001b[0;34m.\u001b[0m\u001b[0mscore_\u001b[0m\u001b[0;34m\u001b[0m\u001b[0m\n\u001b[0m",
      "\u001b[0;31mAttributeError\u001b[0m: 'Pipeline' object has no attribute 'score_'"
     ]
    }
   ],
   "source": [
    "print dir(kfcv.pipelines[0])\n",
    "print kfcv.pipelines[0].score_"
   ]
  },
  {
   "cell_type": "code",
   "execution_count": null,
   "metadata": {
    "collapsed": false
   },
   "outputs": [],
   "source": [
    "len(pipelines)"
   ]
  },
  {
   "cell_type": "code",
   "execution_count": null,
   "metadata": {
    "collapsed": false
   },
   "outputs": [],
   "source": [
    "for x in pipelines:\n",
    "    for step in x.steps:\n",
    "        print step\n",
    "    print '\\n'"
   ]
  },
  {
   "cell_type": "code",
   "execution_count": null,
   "metadata": {
    "collapsed": false
   },
   "outputs": [],
   "source": [
    "%%time\n",
    "import itertools\n",
    "\n",
    "estimators = ['logistic_regression','svm']\n",
    "feature_selection_options = [None,'select_k_best']\n",
    "scaling_options = [None,'standard','normal','min_max','binary']\n",
    "transformations = [None,'pca']\n",
    "\n",
    "pipeline_steps = [feature_selection_options,scaling_options,\n",
    "                  transformations,estimators]\n",
    "\n",
    "pipeline_options = itertools.product(*pipeline_steps)\n",
    "\n",
    "PipelineBundle.get_default_pipeline_step_parameters(feature_count)\n",
    "\n",
    "for x in pipeline_options:\n",
    "    print x"
   ]
  },
  {
   "cell_type": "code",
   "execution_count": null,
   "metadata": {
    "collapsed": false
   },
   "outputs": [],
   "source": [
    "%%time\n",
    "\n",
    "import itertools\n",
    "\n",
    "estimators = ['knn','logistic_regression','svm',\n",
    "              'multilayer_perceptron','random_forest','adaboost']\n",
    "\n",
    "feature_interaction_options = [True,False]\n",
    "feature_selection_options = [None,'select_k_best']\n",
    "scaling_options = [None,'standard','normal','min_max','binary']\n",
    "transformations = [None,'pca']\n",
    "\n",
    "pipeline_steps = [feature_interaction_options,feature_selection_options,scaling_options,\n",
    "                  transformations,estimators]\n",
    "\n",
    "pipeline_options = list(itertools.product(*pipeline_steps))\n",
    "\n",
    "optimized_pipelines = {}\n",
    "\n",
    "for pipeline_step_combo in pipeline_options:\n",
    "    model_name = []\n",
    "    \n",
    "    feature_interactions = pipeline_step_combo[0]\n",
    "    \n",
    "    if feature_interactions:\n",
    "        model_name.append('interactions')\n",
    "        \n",
    "    feature_selection_type = pipeline_step_combo[1]\n",
    "    \n",
    "    if feature_selection_type:\n",
    "        model_name.append('select')\n",
    "    \n",
    "    scale_type = pipeline_step_combo[2]\n",
    "    \n",
    "    if scale_type:\n",
    "        model_name.append(scale_type)\n",
    "        \n",
    "    transform_type = pipeline_step_combo[3]\n",
    "    \n",
    "    if transform_type:\n",
    "        model_name.append(transform_type)\n",
    "        \n",
    "    estimator = pipeline_step_combo[4]\n",
    "    \n",
    "    model_name.append(estimator)\n",
    "    \n",
    "    model_name = '_'.join(model_name)\n",
    "    \n",
    "    print model_name\n",
    "    \n",
    "    # Set pipeline keyword arguments\n",
    "    optimized_pipeline_kwargs = {\n",
    "        'feature_selection_type': feature_selection_type,\n",
    "        'scale_type': scale_type,\n",
    "        'feature_interactions': feature_interactions,\n",
    "        'transform_type': transform_type\n",
    "        }\n",
    "\n",
    "    # Initialize pipeline\n",
    "    optimized_pipeline = ppl.OptimizedPipeline(estimator,**optimized_pipeline_kwargs)\n",
    "\n",
    "    # Set pipeline fitting parameters\n",
    "    fit_kwargs = {\n",
    "        'cv': 10,\n",
    "        'num_parameter_combos': None,\n",
    "        'n_jobs': -1,\n",
    "        'random_state': None,\n",
    "        'suppress_output': True,\n",
    "        'use_default_param_dist': True,\n",
    "        'param_dist': None,\n",
    "        'test_size': 0.2 # 20% saved as test set\n",
    "    }\n",
    "\n",
    "    # Fit data\n",
    "    optimized_pipeline.fit(X,y,**fit_kwargs)\n",
    "\n",
    "    # Save optimized pipeline\n",
    "    optimized_pipelines[model_name] = optimized_pipeline"
   ]
  },
  {
   "cell_type": "markdown",
   "metadata": {},
   "source": [
    "### KNN with and without pre-processing and various options\n",
    "#### Basic KNN\n",
    "Here we do a K-nearest neighbors (KNN) classification with stratified 10-fold (default) cross-validation with a grid search over the default of 1 to 30 nearest neighbors and the use of either \"uniform\" or \"distance\" weights:"
   ]
  },
  {
   "cell_type": "code",
   "execution_count": null,
   "metadata": {
    "collapsed": false
   },
   "outputs": [],
   "source": [
    "%%time\n",
    "\n",
    "estimator = 'knn'\n",
    "\n",
    "# Set pipeline keyword arguments\n",
    "optimized_pipeline_kwargs = {\n",
    "    'feature_selection_type': None,\n",
    "    'scale_type': None,\n",
    "    'transform_type': None\n",
    "    }\n",
    "\n",
    "# Initialize pipeline\n",
    "optimized_pipeline = ppl.PipelineOptimization(estimator,**optimized_pipeline_kwargs)\n",
    "\n",
    "# Set pipeline fitting parameters\n",
    "fit_kwargs = {\n",
    "    'cv': 10,\n",
    "    'num_parameter_combos': None,\n",
    "    'n_jobs': -1,\n",
    "    'random_state': 6,\n",
    "    'suppress_output': True,\n",
    "    'use_default_param_dist': True,\n",
    "    'param_dist': None,\n",
    "    'test_size': 0.2 # 20% saved as test set\n",
    "}\n",
    "\n",
    "# Fit data\n",
    "optimized_pipeline.fit(X,y,**fit_kwargs)\n",
    "\n",
    "# Save \n",
    "optimized_pipelines[estimator] = optimized_pipeline"
   ]
  },
  {
   "cell_type": "markdown",
   "metadata": {},
   "source": [
    "Note the default OptimizedPipeline parameters and those for its fit() method.\n",
    "\n",
    "The OptimizedPipeline class contains all of the data associated with the nested stratified k-folds cross-validation.\n",
    "\n",
    "After use of the fit() method, this includes the data, its test/train splits (based on the test_size percentage keyword argument), the GridSearchCV or RandomizedGridSearchCV object, the Pipeline object that has been retrained using all of the data with the best parameters, test/train scores, and validation metrics/reports.\n",
    "\n",
    "A report can be printed immediately after the fit by setting the suppress_output keyword argument to True. \n",
    "\n",
    "Printing the OptimizedPipeline instance also shows the report:"
   ]
  },
  {
   "cell_type": "code",
   "execution_count": null,
   "metadata": {
    "collapsed": false
   },
   "outputs": [],
   "source": [
    "print optimized_pipeline"
   ]
  },
  {
   "cell_type": "markdown",
   "metadata": {},
   "source": [
    "The report lists the steps in the pipeline, their optimized settings, the test/training accuracy (or L2 regression score), the grid search parameters, and the best parameters.\n",
    "\n",
    "If the estimator used is a classifier it also includes the confusion matrix, normalized confusion matrix, and a classification report containing precision/recall/f1-score for each class.\n",
    "\n",
    "Turns out that the best settings for this optimized pipeline are 12 neighbors and the use of the 'uniform' weight.\n",
    "\n",
    "Note how I've set the random_state keyword agument to 6 so that the models can be compared using the same test/train split.\n",
    "\n",
    "#### Default pipeline step grid parameters\n",
    "The default parameters to grid-search over for k-nearest neighbors are 1 to 30 neighbors and either the 'uniform' or 'distance' weight.\n",
    "\n",
    "The defaults for the pre-processing steps, classifiers, and regressors can be viewed by using the get_default_pipeline_step_parameters() method with the number of features as the input:"
   ]
  },
  {
   "cell_type": "code",
   "execution_count": null,
   "metadata": {
    "collapsed": false,
    "scrolled": false
   },
   "outputs": [],
   "source": [
    "pre_processing_grid_parameters,classifier_grid_parameters,regression_grid_parameters = \\\n",
    "optimized_pipeline.get_default_pipeline_step_parameters(X.shape[0])\n",
    "\n",
    "classifier_grid_parameters['knn']"
   ]
  },
  {
   "cell_type": "markdown",
   "metadata": {},
   "source": [
    "#### KNN with custom pipeline step grid parameters\n",
    "These default parameters can be ignored by setting the use_default_param_dist keyword argument to False. \n",
    "\n",
    "The param_dist keyword argument can be used to keep default parameters (if use_default_param_dist set to True) or to be used as the sole source of parameters (if use_default_param_dist set to False). \n",
    "\n",
    "Here is a demonstration of generation of default parameters with those in param_dist being overridden:"
   ]
  },
  {
   "cell_type": "code",
   "execution_count": null,
   "metadata": {
    "collapsed": false
   },
   "outputs": [],
   "source": [
    "%%time\n",
    "\n",
    "estimator_name = 'knn'\n",
    "\n",
    "model_name = 'custom_override_%s'%(estimator_name)\n",
    "\n",
    "# Set custom parameters\n",
    "param_dist = {\n",
    "    'estimator__n_neighbors': range(30,500)\n",
    "}\n",
    "\n",
    "# Initialize pipeline\n",
    "optimized_pipeline = ppl.OptimizedPipeline(estimator)\n",
    "\n",
    "# Set pipeline fitting parameters\n",
    "fit_kwargs = {\n",
    "    'random_state': 6,\n",
    "    'param_dist': param_dist,\n",
    "}\n",
    "\n",
    "# Fit data\n",
    "optimized_pipeline.fit(X,y,**fit_kwargs)\n",
    "\n",
    "# Save \n",
    "optimized_pipelines[model_name] = optimized_pipeline"
   ]
  },
  {
   "cell_type": "markdown",
   "metadata": {},
   "source": [
    "Note how the n_neighbors parameter was 30 to 499 instead of 1 to 30.\n",
    "\n",
    "Here's an example of only using param_dist for parameters:"
   ]
  },
  {
   "cell_type": "code",
   "execution_count": null,
   "metadata": {
    "collapsed": false
   },
   "outputs": [],
   "source": [
    "%%time\n",
    "\n",
    "model_name = 'from_scratch_%s'%(estimator_name)\n",
    "\n",
    "# Set custom parameters\n",
    "param_dist = {\n",
    "    'estimator__n_neighbors': range(10,30)\n",
    "}\n",
    "\n",
    "estimator = 'knn'\n",
    "\n",
    "# Initialize pipeline\n",
    "optimized_pipeline = ppl.OptimizedPipeline(estimator)\n",
    "\n",
    "# Set pipeline fitting parameters\n",
    "fit_kwargs = {\n",
    "    'random_state': 6,\n",
    "    'use_default_param_dist': False,\n",
    "    'param_dist': param_dist,\n",
    "}\n",
    "\n",
    "# Fit data\n",
    "optimized_pipeline.fit(X,y,**fit_kwargs)\n",
    "\n",
    "# Save \n",
    "optimized_pipelines[model_name] = optimized_pipeline"
   ]
  },
  {
   "cell_type": "markdown",
   "metadata": {},
   "source": [
    "Note how the estimator\\_\\_weights parameter isn't set for the KNN estimator.\n",
    "\n",
    "### KNN with scaling\n",
    "The currently supported scaling options are standard, normal, min-max, and binary using scikit-learn's StandardScaler, Normalizer, MinMaxScaler, and Binarizer, respectively. These are set by the pipeline initialization kwarg 'scale_type' like this:"
   ]
  },
  {
   "cell_type": "code",
   "execution_count": null,
   "metadata": {
    "collapsed": false
   },
   "outputs": [],
   "source": [
    "%%time\n",
    "\n",
    "estimator = 'knn'\n",
    "\n",
    "scaling_options = ['standard','normal','min-max','binary']\n",
    "\n",
    "for scaling_option in scaling_options:\n",
    "    model_name = '%s_%s'%(scaling_option,estimator_name)\n",
    "    \n",
    "    optimized_pipeline_kwargs = {\n",
    "        'scale_type': scaling_option\n",
    "    }\n",
    "\n",
    "    # Initialize pipeline\n",
    "    optimized_pipeline = ppl.OptimizedPipeline(estimator,**optimized_pipeline_kwargs)\n",
    "\n",
    "    # Set pipeline fitting parameters\n",
    "    fit_kwargs = {\n",
    "        'random_state': 6,\n",
    "        'use_default_param_dist': True,\n",
    "        'suppress_output': True\n",
    "        \n",
    "    }\n",
    "\n",
    "    # Fit data\n",
    "    optimized_pipeline.fit(X,y,**fit_kwargs)\n",
    "\n",
    "    # Save \n",
    "    optimized_pipelines[model_name] = optimized_pipeline"
   ]
  },
  {
   "cell_type": "markdown",
   "metadata": {},
   "source": [
    "Let's compare the pipelines so far:"
   ]
  },
  {
   "cell_type": "code",
   "execution_count": null,
   "metadata": {
    "collapsed": false
   },
   "outputs": [],
   "source": [
    "pipeline_keys = optimized_pipelines.keys()\n",
    "\n",
    "test_scores = [optimized_pipelines[key].test_score_ for key in pipeline_keys]\n",
    "\n",
    "ax = pd.Series(test_scores,index=pipeline_keys).sort_values().plot(kind='barh',color='black')"
   ]
  },
  {
   "cell_type": "markdown",
   "metadata": {},
   "source": [
    "Binary scaling fed into a KNN classifier appears to have the best training score.\n",
    "\n",
    "#### KNN with custom min-max and binary scaling settings\n",
    "MinMaxScaler scales each feature value to between 0 and 1 by default. Different scaling ranges can be gridded over by setting the 'scaler\\_\\_feature_range' keyword argument in param_dist.\n",
    "\n",
    "Binarizer sets each value to 0 or 1 depending on a threshold. The default for pyplearnr is 0.5. This can be changed by setting 'scaler\\_\\_threshold' using param_dist.\n",
    "\n",
    "Here is an example of setting both:"
   ]
  },
  {
   "cell_type": "code",
   "execution_count": null,
   "metadata": {
    "collapsed": false
   },
   "outputs": [],
   "source": [
    "%%time\n",
    "\n",
    "reload(ppl)\n",
    "\n",
    "estimator = 'knn'\n",
    "\n",
    "scaling_options = ['min_max','binary']\n",
    "\n",
    "param_dists = {\n",
    "    'min_max': {\n",
    "        'scaler__feature_range': [(1,2),(3,4)]\n",
    "    },\n",
    "    'binary': {\n",
    "        'scaler__threshold': np.arange(0,1,0.1)\n",
    "    }\n",
    "}\n",
    "\n",
    "for scaling_option in scaling_options:\n",
    "    model_name = 'custom_%s_%s'%(scaling_option,estimator_name)\n",
    "    \n",
    "    optimized_pipeline_kwargs = {\n",
    "        'scale_type': scaling_option\n",
    "    }\n",
    "\n",
    "    # Initialize pipeline\n",
    "    optimized_pipeline = ppl.OptimizedPipeline(estimator,**optimized_pipeline_kwargs)\n",
    "    \n",
    "    # Set pipeline fitting parameters\n",
    "    fit_kwargs = {\n",
    "        'random_state': 6,\n",
    "        'use_default_param_dist': True,\n",
    "        'suppress_output': True,\n",
    "        'param_dist': param_dists[scaling_option]\n",
    "        \n",
    "    }\n",
    "\n",
    "    # Fit data\n",
    "    optimized_pipeline.fit(X,y,**fit_kwargs)\n",
    "\n",
    "    # Save \n",
    "    optimized_pipelines[model_name] = optimized_pipeline\n",
    "    \n",
    "# Visualize results\n",
    "pipeline_keys = optimized_pipelines.keys()\n",
    "\n",
    "test_scores = [optimized_pipelines[key].test_score_ for key in pipeline_keys]\n",
    "\n",
    "ax = pd.Series(test_scores,index=pipeline_keys).sort_values().plot(kind='barh',color='black')"
   ]
  },
  {
   "cell_type": "markdown",
   "metadata": {},
   "source": [
    "Switching the range for min_max scaling boosted it to rank 1 for pipeline training scores:"
   ]
  },
  {
   "cell_type": "code",
   "execution_count": null,
   "metadata": {
    "collapsed": false
   },
   "outputs": [],
   "source": [
    "print optimized_pipelines['custom_min_max_knn']"
   ]
  },
  {
   "cell_type": "markdown",
   "metadata": {},
   "source": [
    "The range of 1 to 2 for the MinMaxScaler appeared to be the best."
   ]
  },
  {
   "cell_type": "markdown",
   "metadata": {},
   "source": [
    "### KNN with feature selection using SelectKBest with f_classif\n",
    "Currently only one form of feature selection, SelectKBest with f_classif, is supported. This is set using the 'feature_selection_type' keyword argument."
   ]
  },
  {
   "cell_type": "code",
   "execution_count": null,
   "metadata": {
    "collapsed": false
   },
   "outputs": [],
   "source": [
    "%%time\n",
    "\n",
    "reload(ppl)\n",
    "\n",
    "estimator = 'knn'\n",
    "\n",
    "model_name = 'select_%s'%(estimator_name)\n",
    "\n",
    "optimized_pipeline_kwargs = {\n",
    "    'feature_selection_type': 'select_k_best'\n",
    "}\n",
    "\n",
    "# Initialize pipeline\n",
    "optimized_pipeline = ppl.OptimizedPipeline(estimator,**optimized_pipeline_kwargs)\n",
    "\n",
    "# Set pipeline fitting parameters\n",
    "fit_kwargs = {\n",
    "    'random_state': 6,\n",
    "    'use_default_param_dist': True,\n",
    "    'suppress_output': True\n",
    "}\n",
    "\n",
    "# Fit data\n",
    "optimized_pipeline.fit(X,y,**fit_kwargs)\n",
    "\n",
    "# Save \n",
    "optimized_pipelines[model_name] = optimized_pipeline\n",
    "    \n",
    "# Visualize results\n",
    "pipeline_keys = optimized_pipelines.keys()\n",
    "\n",
    "test_scores = [optimized_pipelines[key].test_score_ for key in pipeline_keys]\n",
    "\n",
    "ax = pd.Series(test_scores,index=pipeline_keys).sort_values().plot(kind='barh',color='black')"
   ]
  },
  {
   "cell_type": "markdown",
   "metadata": {},
   "source": [
    "Feature selection and KNN did had a mid-level training score:"
   ]
  },
  {
   "cell_type": "code",
   "execution_count": null,
   "metadata": {
    "collapsed": false
   },
   "outputs": [],
   "source": [
    "print optimized_pipelines['select_knn']"
   ]
  },
  {
   "cell_type": "markdown",
   "metadata": {},
   "source": [
    "SelectKBest with f_classif chose 5 features as the best to use in the model.\n",
    "\n",
    "The features selected by SelectKBest can be accessed normally, using the mask obtained from the get_support() method on the columns:"
   ]
  },
  {
   "cell_type": "code",
   "execution_count": null,
   "metadata": {
    "collapsed": false
   },
   "outputs": [],
   "source": [
    "feature_selection_mask = optimized_pipelines['select_knn'].pipeline.named_steps['feature_selection'].get_support()\n",
    "\n",
    "print np.array(X.columns)[feature_selection_mask]"
   ]
  },
  {
   "cell_type": "markdown",
   "metadata": {},
   "source": [
    "Thus, Pclass 3, being male, and the titles Miss, Mr, and Mrs were considered the most important features by SelectKBest using f_classif.\n",
    "\n",
    "#### Setting custom feature selection\n",
    "The default number of features is 1 to all of them. This can be gridded over different values by setting 'feature_selection\\_\\_k' in param_dist:"
   ]
  },
  {
   "cell_type": "code",
   "execution_count": null,
   "metadata": {
    "collapsed": false
   },
   "outputs": [],
   "source": [
    "%%time\n",
    "\n",
    "reload(ppl)\n",
    "\n",
    "estimator = 'knn'\n",
    "\n",
    "model_name = 'custom_select_%s'%(estimator_name)\n",
    "\n",
    "optimized_pipeline_kwargs = {\n",
    "    'feature_selection_type': 'select_k_best'\n",
    "}\n",
    "\n",
    "# Initialize pipeline\n",
    "optimized_pipeline = ppl.OptimizedPipeline(estimator,**optimized_pipeline_kwargs)\n",
    "\n",
    "param_dist = {\n",
    "    'feature_selection__k': [5,7,8]\n",
    "}\n",
    "\n",
    "# Set pipeline fitting parameters\n",
    "fit_kwargs = {\n",
    "    'random_state': 6,\n",
    "    'use_default_param_dist': True,\n",
    "    'suppress_output': True,\n",
    "    'param_dist': param_dist\n",
    "}\n",
    "\n",
    "# Fit data\n",
    "optimized_pipeline.fit(X,y,**fit_kwargs)\n",
    "\n",
    "# Save \n",
    "optimized_pipelines[model_name] = optimized_pipeline\n",
    "    \n",
    "# Visualize results\n",
    "pipeline_keys = optimized_pipelines.keys()\n",
    "\n",
    "test_scores = [optimized_pipelines[key].test_score_ for key in pipeline_keys]\n",
    "\n",
    "ax = pd.Series(test_scores,index=pipeline_keys).sort_values().plot(kind='barh',color='black')"
   ]
  },
  {
   "cell_type": "code",
   "execution_count": null,
   "metadata": {
    "collapsed": false
   },
   "outputs": [],
   "source": [
    "print optimized_pipelines['custom_select_knn']"
   ]
  },
  {
   "cell_type": "markdown",
   "metadata": {},
   "source": [
    "### KNN using feature interactions\n",
    "Feature products of different degrees can be used as additional features by setting the 'feature_interaction' OptimizedPipeline keyword argument to True:"
   ]
  },
  {
   "cell_type": "code",
   "execution_count": null,
   "metadata": {
    "collapsed": false
   },
   "outputs": [],
   "source": [
    "%%time\n",
    "\n",
    "reload(ppl)\n",
    "\n",
    "estimator = 'knn'\n",
    "\n",
    "model_name = 'interaction_%s'%(estimator_name)\n",
    "\n",
    "optimized_pipeline_kwargs = {\n",
    "    'feature_interactions': True\n",
    "}\n",
    "\n",
    "# Initialize pipeline\n",
    "optimized_pipeline = ppl.OptimizedPipeline(estimator,**optimized_pipeline_kwargs)\n",
    "\n",
    "# Set pipeline fitting parameters\n",
    "fit_kwargs = {\n",
    "    'random_state': 6,\n",
    "    'use_default_param_dist': True,\n",
    "    'suppress_output': True\n",
    "}\n",
    "\n",
    "# Fit data\n",
    "optimized_pipeline.fit(X,y,**fit_kwargs)\n",
    "\n",
    "# Save \n",
    "optimized_pipelines[model_name] = optimized_pipeline\n",
    "    \n",
    "# Visualize results\n",
    "pipeline_keys = optimized_pipelines.keys()\n",
    "\n",
    "test_scores = [optimized_pipelines[key].test_score_ for key in pipeline_keys]\n",
    "\n",
    "ax = pd.Series(test_scores,index=pipeline_keys).sort_values().plot(kind='barh',color='black')"
   ]
  },
  {
   "cell_type": "code",
   "execution_count": null,
   "metadata": {
    "collapsed": false
   },
   "outputs": [],
   "source": [
    "print optimized_pipelines['interaction_knn']"
   ]
  },
  {
   "cell_type": "markdown",
   "metadata": {},
   "source": [
    "The optimal number of interactions (number of features multiplied by each other at once) was found to be 1.\n",
    "\n",
    "#### KNN using custom number of feature interactions\n",
    "The 'feature_interactions__degree' dictates the number of interactions. The default setting is to try no interactions (degree 1) and 2 interactions. Setting this in param_dist allows custom numbers:"
   ]
  },
  {
   "cell_type": "code",
   "execution_count": null,
   "metadata": {
    "collapsed": false
   },
   "outputs": [],
   "source": [
    "%%time\n",
    "\n",
    "reload(ppl)\n",
    "\n",
    "estimator = 'knn'\n",
    "\n",
    "model_name = 'custom_interaction_%s'%(estimator_name)\n",
    "\n",
    "optimized_pipeline_kwargs = {\n",
    "    'feature_interactions': True\n",
    "}\n",
    "\n",
    "# Initialize pipeline\n",
    "optimized_pipeline = ppl.OptimizedPipeline(estimator,**optimized_pipeline_kwargs)\n",
    "\n",
    "param_dist = {\n",
    "    'feature_interactions__degree': [2,3,4]\n",
    "}\n",
    "\n",
    "# Set pipeline fitting parameters\n",
    "fit_kwargs = {\n",
    "    'random_state': 6,\n",
    "    'use_default_param_dist': True,\n",
    "    'suppress_output': True,\n",
    "    'param_dist': param_dist\n",
    "}\n",
    "\n",
    "# Fit data\n",
    "optimized_pipeline.fit(X,y,**fit_kwargs)\n",
    "\n",
    "# Save \n",
    "optimized_pipelines[model_name] = optimized_pipeline\n",
    "    \n",
    "# Visualize results\n",
    "pipeline_keys = optimized_pipelines.keys()\n",
    "\n",
    "test_scores = [optimized_pipelines[key].test_score_ for key in pipeline_keys]\n",
    "\n",
    "ax = pd.Series(test_scores,index=pipeline_keys).sort_values().plot(kind='barh',color='black')"
   ]
  },
  {
   "cell_type": "code",
   "execution_count": null,
   "metadata": {
    "collapsed": false
   },
   "outputs": [],
   "source": [
    "print optimized_pipelines['custom_interaction_knn']"
   ]
  },
  {
   "cell_type": "markdown",
   "metadata": {},
   "source": [
    "### KNN with pre-processing transforms\n",
    "Currently Principal Component Analysis (PCA) and t-distributed stochastic neighbor embedding (t-SNE) are supported as pre-processing options.\n",
    "\n",
    "#### KNN with PCA pre-processing"
   ]
  },
  {
   "cell_type": "code",
   "execution_count": null,
   "metadata": {
    "collapsed": false
   },
   "outputs": [],
   "source": [
    "%%time\n",
    "\n",
    "reload(ppl)\n",
    "\n",
    "estimator = 'knn'\n",
    "\n",
    "model_name = 'pca_%s'%(estimator_name)\n",
    "\n",
    "optimized_pipeline_kwargs = {\n",
    "    'transform_type': 'pca'\n",
    "}\n",
    "\n",
    "# Initialize pipeline\n",
    "optimized_pipeline = ppl.OptimizedPipeline(estimator,**optimized_pipeline_kwargs)\n",
    "\n",
    "# Set pipeline fitting parameters\n",
    "fit_kwargs = {\n",
    "    'random_state': 6,\n",
    "    'use_default_param_dist': True,\n",
    "    'suppress_output': True\n",
    "}\n",
    "\n",
    "# Fit data\n",
    "optimized_pipeline.fit(X,y,**fit_kwargs)\n",
    "\n",
    "# Save \n",
    "optimized_pipelines[model_name] = optimized_pipeline\n",
    "    \n",
    "# Visualize results\n",
    "pipeline_keys = optimized_pipelines.keys()\n",
    "\n",
    "test_scores = [optimized_pipelines[key].test_score_ for key in pipeline_keys]\n",
    "\n",
    "ax = pd.Series(test_scores,index=pipeline_keys).sort_values().plot(kind='barh',color='black')"
   ]
  },
  {
   "cell_type": "code",
   "execution_count": null,
   "metadata": {
    "collapsed": false
   },
   "outputs": [],
   "source": [
    "print optimized_pipelines['pca_knn']"
   ]
  },
  {
   "cell_type": "markdown",
   "metadata": {},
   "source": [
    "We can look at the transformed data after PCA normally:"
   ]
  },
  {
   "cell_type": "code",
   "execution_count": null,
   "metadata": {
    "collapsed": false
   },
   "outputs": [],
   "source": [
    "transformed_data = optimized_pipelines['pca_knn'].pipeline.named_steps['transform'].transform(X.values)\n",
    "\n",
    "column_names = ['PCA_%d'%(feature_ind+1) for feature_ind in range(transformed_data.shape[1])]\n",
    "\n",
    "pca_df = pd.DataFrame(transformed_data,columns=column_names)\n",
    "\n",
    "pca_df.plot(x='PCA_1',y='PCA_2',style='ro')"
   ]
  },
  {
   "cell_type": "markdown",
   "metadata": {},
   "source": [
    "This is currently a very manual process and would be difficult with more and more processing steps. I'm thinking of automating this with a class containing all optimized pipelines in the future.\n",
    "\n",
    "Any of the parameters displayed in the pipeline section of the report (iterated_power, random_state, whiten, n_components, etc) can be set in param_dist by 'transform\\__setting' as done previously."
   ]
  },
  {
   "cell_type": "markdown",
   "metadata": {},
   "source": [
    "#### KNN with t-SNE pre-processing\n",
    "The t-SNE algorithm can be used as a pre-processing algorithm as well by setting the 'transform_type' keyword argument to 't-sne':"
   ]
  },
  {
   "cell_type": "code",
   "execution_count": null,
   "metadata": {
    "collapsed": false
   },
   "outputs": [],
   "source": [
    "%%time\n",
    "\n",
    "reload(ppl)\n",
    "\n",
    "estimator = 'knn'\n",
    "\n",
    "model_name = 't-sne_%s'%(estimator_name)\n",
    "\n",
    "optimized_pipeline_kwargs = {\n",
    "    'transform_type': 't-sne'\n",
    "}\n",
    "\n",
    "# Initialize pipeline\n",
    "optimized_pipeline = ppl.OptimizedPipeline(estimator,**optimized_pipeline_kwargs)\n",
    "\n",
    "# Set pipeline fitting parameters\n",
    "fit_kwargs = {\n",
    "    'random_state': 6,\n",
    "    'use_default_param_dist': True,\n",
    "    'suppress_output': True\n",
    "}\n",
    "\n",
    "# Fit data\n",
    "optimized_pipeline.fit(X,y,**fit_kwargs)\n",
    "\n",
    "# Save \n",
    "optimized_pipelines[model_name] = optimized_pipeline\n",
    "    \n",
    "# Visualize results\n",
    "pipeline_keys = optimized_pipelines.keys()\n",
    "\n",
    "test_scores = [optimized_pipelines[key].test_score_ for key in pipeline_keys]\n",
    "\n",
    "ax = pd.Series(test_scores,index=pipeline_keys).sort_values().plot(kind='barh',color='black')"
   ]
  },
  {
   "cell_type": "markdown",
   "metadata": {},
   "source": [
    "This t-SNE step takes longer than most in pyplearnr unfortunately. It also resulted in the worst score. I'll try to optimize this in the future.\n",
    "\n",
    "### Reducing the number of grid combinations\n",
    "Setting the 'num_parameter_combos' fit() method keyword argument to an integer will limit the number of grid combinations to perform using RandomizedSearchCV instead of GridSearchCV:"
   ]
  },
  {
   "cell_type": "code",
   "execution_count": null,
   "metadata": {
    "collapsed": false
   },
   "outputs": [],
   "source": [
    "%%time\n",
    "\n",
    "reload(ppl)\n",
    "\n",
    "estimator = 'knn'\n",
    "\n",
    "model_name = 'less_combos_%s'%(estimator_name)\n",
    "\n",
    "optimized_pipeline_kwargs = {}\n",
    "\n",
    "# Initialize pipeline\n",
    "optimized_pipeline = ppl.OptimizedPipeline(estimator,**optimized_pipeline_kwargs)\n",
    "\n",
    "# Set pipeline fitting parameters\n",
    "fit_kwargs = {\n",
    "    'random_state': 6,\n",
    "    'use_default_param_dist': True,\n",
    "    'suppress_output': True,\n",
    "    'num_parameter_combos': 5\n",
    "}\n",
    "\n",
    "# Fit data\n",
    "optimized_pipeline.fit(X,y,**fit_kwargs)\n",
    "\n",
    "# Save \n",
    "optimized_pipelines[model_name] = optimized_pipeline\n",
    "    \n",
    "# Visualize results\n",
    "pipeline_keys = optimized_pipelines.keys()\n",
    "\n",
    "test_scores = [optimized_pipelines[key].test_score_ for key in pipeline_keys]\n",
    "\n",
    "ax = pd.Series(test_scores,index=pipeline_keys).sort_values().plot(kind='barh',color='black')"
   ]
  },
  {
   "cell_type": "markdown",
   "metadata": {},
   "source": [
    "This is a good way to speed up computations and give you an idea as to how long a particular pipeline takes to train. \n",
    "\n",
    "Here's the corresponding report:"
   ]
  },
  {
   "cell_type": "code",
   "execution_count": null,
   "metadata": {
    "collapsed": false
   },
   "outputs": [],
   "source": [
    "print optimized_pipelines['less_combos_knn']"
   ]
  },
  {
   "cell_type": "markdown",
   "metadata": {},
   "source": [
    "The best parameter combination, of those attempted by RandomizedSearchCV, was 12 nearest neighbors with the 'uniform' weight."
   ]
  },
  {
   "cell_type": "markdown",
   "metadata": {},
   "source": [
    "### Other models\n",
    "\n",
    "This code currently supports K-nearest neighbors, logistic regression, support vector machines, multilayer perceptrons, random forest, and adaboost:"
   ]
  },
  {
   "cell_type": "code",
   "execution_count": null,
   "metadata": {
    "collapsed": false,
    "scrolled": false
   },
   "outputs": [],
   "source": [
    "%%time\n",
    "\n",
    "classifiers = ['knn','logistic_regression','svm',\n",
    "               'multilayer_perceptron','random_forest','adaboost']\n",
    "\n",
    "for estimator in classifiers:\n",
    "    # Set pipeline keyword arguments\n",
    "    optimized_pipeline_kwargs = {}\n",
    "\n",
    "    # Initialize pipeline\n",
    "    optimized_pipeline = ppl.OptimizedPipeline(estimator,**optimized_pipeline_kwargs)\n",
    "    \n",
    "    # Set pipeline fitting parameters\n",
    "    fit_kwargs = {\n",
    "        'random_state': 6,\n",
    "        'suppress_output': True,\n",
    "        'use_default_param_dist': True\n",
    "    }\n",
    "    \n",
    "    # Fit data\n",
    "    optimized_pipeline.fit(X,y,**fit_kwargs)\n",
    "    \n",
    "    # Save \n",
    "    optimized_pipelines[estimator] = optimized_pipeline\n",
    "    \n",
    "# Visualize results\n",
    "pipeline_keys = optimized_pipelines.keys()\n",
    "\n",
    "test_scores = [optimized_pipelines[key].test_score_ for key in pipeline_keys]\n",
    "\n",
    "ax = pd.Series(test_scores,index=pipeline_keys).sort_values().plot(kind='barh',color='black')"
   ]
  },
  {
   "cell_type": "markdown",
   "metadata": {},
   "source": [
    "Logistic regression, random forest, multilayer perceptron, and adaboost outperform KNN, even with all of the attempted pre-processing so far.\n",
    "\n",
    "### Putting it all together\n",
    "Different combinations of these options can be strung together simultaneously to iterate over multiple models:"
   ]
  },
  {
   "cell_type": "code",
   "execution_count": null,
   "metadata": {
    "collapsed": false,
    "scrolled": true
   },
   "outputs": [],
   "source": [
    "%%time\n",
    "\n",
    "import itertools\n",
    "\n",
    "estimators = ['knn','logistic_regression','svm',\n",
    "              'multilayer_perceptron','random_forest','adaboost']\n",
    "\n",
    "feature_interaction_options = [True,False]\n",
    "feature_selection_options = [None,'select_k_best']\n",
    "scaling_options = [None,'standard','normal','min_max','binary']\n",
    "transformations = [None,'pca']\n",
    "\n",
    "pipeline_steps = [feature_interaction_options,feature_selection_options,scaling_options,\n",
    "                  transformations,estimators]\n",
    "\n",
    "pipeline_options = list(itertools.product(*pipeline_steps))\n",
    "\n",
    "optimized_pipelines = {}\n",
    "\n",
    "for pipeline_step_combo in pipeline_options:\n",
    "    model_name = []\n",
    "    \n",
    "    feature_interactions = pipeline_step_combo[0]\n",
    "    \n",
    "    if feature_interactions:\n",
    "        model_name.append('interactions')\n",
    "        \n",
    "    feature_selection_type = pipeline_step_combo[1]\n",
    "    \n",
    "    if feature_selection_type:\n",
    "        model_name.append('select')\n",
    "    \n",
    "    scale_type = pipeline_step_combo[2]\n",
    "    \n",
    "    if scale_type:\n",
    "        model_name.append(scale_type)\n",
    "        \n",
    "    transform_type = pipeline_step_combo[3]\n",
    "    \n",
    "    if transform_type:\n",
    "        model_name.append(transform_type)\n",
    "        \n",
    "    estimator = pipeline_step_combo[4]\n",
    "    \n",
    "    model_name.append(estimator)\n",
    "    \n",
    "    model_name = '_'.join(model_name)\n",
    "    \n",
    "    print model_name\n",
    "    \n",
    "    # Set pipeline keyword arguments\n",
    "    optimized_pipeline_kwargs = {\n",
    "        'feature_selection_type': feature_selection_type,\n",
    "        'scale_type': scale_type,\n",
    "        'feature_interactions': feature_interactions,\n",
    "        'transform_type': transform_type\n",
    "        }\n",
    "\n",
    "    # Initialize pipeline\n",
    "    optimized_pipeline = ppl.OptimizedPipeline(estimator,**optimized_pipeline_kwargs)\n",
    "\n",
    "    # Set pipeline fitting parameters\n",
    "    fit_kwargs = {\n",
    "        'cv': 10,\n",
    "        'num_parameter_combos': None,\n",
    "        'n_jobs': -1,\n",
    "        'random_state': None,\n",
    "        'suppress_output': True,\n",
    "        'use_default_param_dist': True,\n",
    "        'param_dist': None,\n",
    "        'test_size': 0.2 # 20% saved as test set\n",
    "    }\n",
    "\n",
    "    # Fit data\n",
    "    optimized_pipeline.fit(X,y,**fit_kwargs)\n",
    "\n",
    "    # Save optimized pipeline\n",
    "    optimized_pipelines[model_name] = optimized_pipeline"
   ]
  },
  {
   "cell_type": "code",
   "execution_count": null,
   "metadata": {
    "collapsed": false,
    "scrolled": false
   },
   "outputs": [],
   "source": [
    "# Visualize results\n",
    "pipeline_keys = optimized_pipelines.keys()\n",
    "\n",
    "test_scores = [optimized_pipelines[key].test_score_ for key in pipeline_keys]\n",
    "\n",
    "ax = pd.Series(test_scores,index=pipeline_keys).sort_values().plot(kind='barh',color='black',figsize=(10,40))"
   ]
  },
  {
   "cell_type": "code",
   "execution_count": null,
   "metadata": {
    "collapsed": false
   },
   "outputs": [],
   "source": [
    "print optimized_pipelines['min_max_pca_multilayer_perceptron']"
   ]
  },
  {
   "cell_type": "code",
   "execution_count": null,
   "metadata": {
    "collapsed": false
   },
   "outputs": [],
   "source": [
    "len(optimized_pipelines.keys())"
   ]
  },
  {
   "cell_type": "markdown",
   "metadata": {},
   "source": [
    "Out of 240 different possible pipelines, best pipeline, with a test score of 0.899, appears to be min-max scaling between 0 and 1 funneled into a PCA and then into a multilayer perceptron with one hidden layer of size 5.\n",
    "\n",
    "It took roughly 3 hours to find it."
   ]
  },
  {
   "cell_type": "markdown",
   "metadata": {},
   "source": [
    "### Predicting survival with the optimal model\n",
    "All one has to do to make a prediction is use the .predict method of the pipeline in the .pipeline field.\n",
    "\n",
    "Here's an example of predicting whether I would survive on the Titanic. I'm 32, would probably have one family member with me, might be Pclass1 (I'd hope), male, have a Ph.D (if that's what they mean by Dr.). I'm using the median Fare for Pclass 1 and randomly chose a city to have embarked from:"
   ]
  },
  {
   "cell_type": "code",
   "execution_count": null,
   "metadata": {
    "collapsed": false
   },
   "outputs": [],
   "source": [
    "personal_stats = [32,1,0,df[df['Pclass']==1]['Fare'].median(),0,0,1,1,0,1,0,0,0,0,0,0]\n",
    "\n",
    "zip(personal_stats,X.columns)"
   ]
  },
  {
   "cell_type": "code",
   "execution_count": null,
   "metadata": {
    "collapsed": false
   },
   "outputs": [],
   "source": [
    "optimized_pipelines['min_max_pca_multilayer_perceptron'].pipeline.predict(personal_stats)"
   ]
  },
  {
   "cell_type": "markdown",
   "metadata": {},
   "source": [
    "Looks like I died!\n",
    "\n",
    "Let's look at my predicted probability of surviving:"
   ]
  },
  {
   "cell_type": "code",
   "execution_count": null,
   "metadata": {
    "collapsed": false
   },
   "outputs": [],
   "source": [
    "optimized_pipelines['min_max_pca_multilayer_perceptron'].pipeline.predict_proba(personal_stats)"
   ]
  },
  {
   "cell_type": "markdown",
   "metadata": {},
   "source": [
    "I would have a 0.77% chance of survival."
   ]
  },
  {
   "cell_type": "markdown",
   "metadata": {},
   "source": [
    "## Summary\n",
    "I've shown how to use pyplearnr to try out 240 different pipeline combinations validated with stratified 10-folds cross-validation using a combination of simple keyword arguments with some additional customization options. Also, I've shown how to access the model parameters, predict survival, and check the actual predicted probability according to the optimized pipeline.\n",
    "\n",
    "Please let me know if you have any questions or suggestions about how to improve this tool, my code, the approach I'm taking, etc."
   ]
  },
  {
   "cell_type": "code",
   "execution_count": null,
   "metadata": {
    "collapsed": false
   },
   "outputs": [],
   "source": [
    "%%time\n",
    "\n",
    "%matplotlib inline\n",
    "\n",
    "import pyplearnr as ppl\n",
    "\n",
    "repeated_k_folds = []\n",
    "\n",
    "for i in range(100):\n",
    "    # Alert user of step number\n",
    "    print('Step %d/%d'%(i+1,100))\n",
    "    \n",
    "    # Set custom parameters\n",
    "    param_dist = {}\n",
    "\n",
    "    estimator = 'knn'\n",
    "\n",
    "    # Initialize pipeline\n",
    "    optimized_pipeline = ppl.PipelineOptimization(estimator)\n",
    "\n",
    "    # Set pipeline fitting parameters\n",
    "    fit_kwargs = {\n",
    "        'use_default_param_dist': True,\n",
    "        'param_dist': param_dist,\n",
    "    }\n",
    "\n",
    "    # Fit data\n",
    "    optimized_pipeline.fit(X,y,**fit_kwargs)\n",
    "\n",
    "    # Save \n",
    "    repeated_k_folds.append(optimized_pipeline)"
   ]
  },
  {
   "cell_type": "code",
   "execution_count": null,
   "metadata": {
    "collapsed": false
   },
   "outputs": [],
   "source": [
    "data = {\n",
    "    'train scores': [pipeline_optimization.train_score_ \n",
    "                     for pipeline_optimization in repeated_k_folds],\n",
    "    'test scores': [pipeline_optimization.test_score_ \n",
    "                     for pipeline_optimization in repeated_k_folds],\n",
    "}"
   ]
  },
  {
   "cell_type": "code",
   "execution_count": null,
   "metadata": {
    "collapsed": false
   },
   "outputs": [],
   "source": [
    "repeated_kfcv_df = pd.DataFrame(data)"
   ]
  },
  {
   "cell_type": "code",
   "execution_count": null,
   "metadata": {
    "collapsed": false
   },
   "outputs": [],
   "source": [
    "repeated_kfcv_df['test scores'].plot(kind='hist',bins=8,color='grey')\n",
    "repeated_kfcv_df['train scores'].plot(kind='hist',bins=8,color='white')"
   ]
  },
  {
   "cell_type": "code",
   "execution_count": null,
   "metadata": {
    "collapsed": false
   },
   "outputs": [],
   "source": [
    "%%time\n",
    "\n",
    "reload(ppl)\n",
    "\n",
    "%matplotlib inline\n",
    "\n",
    "import pyplearnr as ppl\n",
    "\n",
    "repeated_five_folds = []\n",
    "\n",
    "for i in range(100):\n",
    "    # Alert user of step number\n",
    "    print('Step %d/%d'%(i+1,100))\n",
    "    \n",
    "    # Set custom parameters\n",
    "    param_dist = {}\n",
    "\n",
    "    estimator = 'knn'\n",
    "\n",
    "    # Initialize pipeline\n",
    "    optimized_pipeline = ppl.PipelineOptimization(estimator)\n",
    "\n",
    "    # Set pipeline fitting parameters\n",
    "    fit_kwargs = {\n",
    "        'use_default_param_dist': True,\n",
    "        'param_dist': param_dist,\n",
    "        'cv': 5,\n",
    "        'suppress_output': True\n",
    "    }\n",
    "\n",
    "    # Fit data\n",
    "    optimized_pipeline.fit(X,y,**fit_kwargs)\n",
    "\n",
    "    # Save \n",
    "    repeated_five_folds.append(optimized_pipeline)"
   ]
  },
  {
   "cell_type": "code",
   "execution_count": null,
   "metadata": {
    "collapsed": true
   },
   "outputs": [],
   "source": [
    "data = {\n",
    "    'train scores': [pipeline_optimization.train_score_ \n",
    "                     for pipeline_optimization in repeated_five_folds],\n",
    "    'test scores': [pipeline_optimization.test_score_ \n",
    "                     for pipeline_optimization in repeated_five_folds],\n",
    "}\n",
    "\n",
    "repeated_fivefcv_df = pd.DataFrame(data)"
   ]
  },
  {
   "cell_type": "code",
   "execution_count": null,
   "metadata": {
    "collapsed": false
   },
   "outputs": [],
   "source": [
    "\n",
    "repeated_kfcv_df['test scores'].plot(kind='hist',bins=8,color='grey')\n",
    "repeated_fivefcv_df['test scores'].plot(kind='hist',bins=8,color='red')\n",
    "repeated_kfcv_df['train scores'].plot(kind='hist',bins=8,color='white')\n",
    "\n",
    "repeated_fivefcv_df['train scores'].plot(kind='hist',bins=8,color='blue')"
   ]
  },
  {
   "cell_type": "code",
   "execution_count": null,
   "metadata": {
    "collapsed": false
   },
   "outputs": [],
   "source": [
    "repeated_fivefcv_df['test scores'].plot(kind='hist',bins=8,color='red')\n",
    "repeated_kfcv_df['test scores'].plot(kind='hist',bins=8,color='grey')\n",
    "repeated_kfcv_df['train scores'].plot(kind='hist',bins=8,color='white')\n",
    "\n",
    "repeated_fivefcv_df['train scores'].plot(kind='hist',bins=8,color='blue')"
   ]
  },
  {
   "cell_type": "code",
   "execution_count": null,
   "metadata": {
    "collapsed": true
   },
   "outputs": [],
   "source": [
    "import sys\n",
    "\n",
    "sys.path.append('/Users/cmshymansky/documents/code/library/pairplotr')\n",
    "\n",
    "import pairplotr as ppr"
   ]
  },
  {
   "cell_type": "code",
   "execution_count": null,
   "metadata": {
    "collapsed": false
   },
   "outputs": [],
   "source": [
    "repeated_fivefcv_df.info()"
   ]
  },
  {
   "cell_type": "code",
   "execution_count": null,
   "metadata": {
    "collapsed": false
   },
   "outputs": [],
   "source": [
    "reload(ppr)\n",
    "\n",
    "ppr.compare_data(repeated_fivefcv_df,bins=8,marker_size=10,plot_medians=True)"
   ]
  },
  {
   "cell_type": "code",
   "execution_count": null,
   "metadata": {
    "collapsed": false
   },
   "outputs": [],
   "source": [
    "reload(ppr)\n",
    "\n",
    "ppr.compare_data(repeated_fivefcv_df,bins=8,marker_size=10,plot_medians=True)"
   ]
  },
  {
   "cell_type": "code",
   "execution_count": null,
   "metadata": {
    "collapsed": false
   },
   "outputs": [],
   "source": [
    "repeated_fivefcv_df['train scores'].describe()"
   ]
  },
  {
   "cell_type": "code",
   "execution_count": null,
   "metadata": {
    "collapsed": false
   },
   "outputs": [],
   "source": [
    "from matplotlib import pylab as plt\n",
    "\n",
    "ax = plt.subplot(111)\n",
    "print ax\n",
    "\n",
    "# repeated_fivefcv_df.plot(ax=ax,x='train scores',y='test scores',style='bo')\n",
    "repeated_kfcv_df.plot(ax=ax,x='train scores',y='test scores',style='ro')"
   ]
  },
  {
   "cell_type": "code",
   "execution_count": null,
   "metadata": {
    "collapsed": false
   },
   "outputs": [],
   "source": [
    "print dir(repeated_k_folds[0].grid_search)\n",
    "\n",
    "all_scores = []\n",
    "for x in repeated_k_folds[0].grid_search.grid_scores_:\n",
    "    all_scores.extend(list(x.cv_validation_scores))\n",
    "    print max(x.cv_validation_scores),x.best_score_"
   ]
  },
  {
   "cell_type": "code",
   "execution_count": null,
   "metadata": {
    "collapsed": false
   },
   "outputs": [],
   "source": [
    "\n",
    "print repeated_k_folds[0].grid_search.cv_results_"
   ]
  },
  {
   "cell_type": "code",
   "execution_count": null,
   "metadata": {
    "collapsed": false
   },
   "outputs": [],
   "source": [
    "pd.Series(all_scores).plot(kind='hist',color='grey',bins=8)"
   ]
  },
  {
   "cell_type": "code",
   "execution_count": null,
   "metadata": {
    "collapsed": true
   },
   "outputs": [],
   "source": [
    "def get_bootstrapped_datasets(orig_data_set, num_samples=100, points_per_sample=50):\n",
    "    import random\n",
    "\n",
    "    data_sets = []\n",
    "\n",
    "    for i in range(num_samples):\n",
    "        sample = [random.choice(orig_data_set) for x in range(points_per_sample)]\n",
    "        \n",
    "        data_sets.append(sample)\n",
    "\n",
    "    return data_sets\n",
    "\n",
    "def cdf(aList, x):\n",
    "    ''' 'aList' must be sorted (low to high) '''\n",
    "\n",
    "    returnVal=0\n",
    "    \n",
    "    for v in aList:\n",
    "        if v<=x:\n",
    "            returnVal+=1\n",
    "    \n",
    "    return returnVal/float(len(aList))\n",
    "\n",
    "def inv_cdf(aList, percentile):\n",
    "    ''' 'percentile' is between 0 and 1.\n",
    "        'aList' must be sorted (low to high)\n",
    "    '''\n",
    "    \n",
    "    returnVal = 0\n",
    "    \n",
    "    for i in xrange(len(aList)):\n",
    "        if cdf(aList, aList[i])>=percentile:\n",
    "            returnVal = aList[i]\n",
    "            break\n",
    "    \n",
    "    return returnVal\n",
    "\n",
    "def conf_interval(data_set, alpha=0.05):\n",
    "    data_set.sort()\n",
    "\n",
    "    low_end = inv_cdf(data_set, alpha)\n",
    "    high_end = inv_cdf(data_set, 1-alpha)\n",
    "\n",
    "    return (low_end, high_end)"
   ]
  },
  {
   "cell_type": "code",
   "execution_count": null,
   "metadata": {
    "collapsed": false
   },
   "outputs": [],
   "source": [
    "from matplotlib import pylab as plt\n",
    "\n",
    "bootstrapped_samples = get_bootstrapped_datasets(repeated_fivefcv_df['test scores'].values)\n",
    "\n",
    "avg_vals = [float(sum(l))/len(l) for l in bootstrapped_samples]\n",
    "\n",
    "conf_10000 = conf_interval(avg_vals)\n",
    "\n",
    "pd.Series(avg_vals).hist(bins=10, normed=True)\n",
    "\n",
    "plt.axvspan(conf_10000[0],conf_10000[1],alpha=0.5,color='red')"
   ]
  },
  {
   "cell_type": "code",
   "execution_count": null,
   "metadata": {
    "collapsed": false
   },
   "outputs": [],
   "source": [
    "from sklearn.learning_curve import learning_curve\n",
    "import numpy as np\n",
    "\n",
    "fig, ax = plt.subplots(1,1, figsize=(16, 6))\n",
    "fig.subplots_adjust(left=0.0625, right=0.95, wspace=0.1)\n",
    "\n",
    "\n",
    "N, train_lc, val_lc = learning_curve(optimized_pipeline.pipeline,\n",
    "                                     X, y, cv=5,\n",
    "                                     train_sizes=np.linspace(0.3, 1, 25))\n",
    "\n",
    "ax.plot(N, np.mean(train_lc, 1), color='blue', label='training score')\n",
    "ax.plot(N, np.mean(val_lc, 1), color='red', label='validation score')\n",
    "ax.hlines(np.mean([train_lc[-1], val_lc[-1]]), N[0], N[-1],\n",
    "             color='gray', linestyle='dashed')\n",
    "\n",
    "ax.set_ylim(0, 1)\n",
    "ax.set_xlim(N[0], N[-1])\n",
    "ax.set_xlabel('training size')\n",
    "ax.set_ylabel('score')\n",
    "ax.legend(loc='best')\n",
    "\n",
    "\n",
    "# ax[i].plot(N, np.mean(train_lc, 1), color='blue', label='training score')\n",
    "# ax[i].plot(N, np.mean(val_lc, 1), color='red', label='validation score')\n",
    "# ax[i].hlines(np.mean([train_lc[-1], val_lc[-1]]), N[0], N[-1],\n",
    "#              color='gray', linestyle='dashed')\n",
    "\n",
    "# ax[i].set_ylim(0, 1)\n",
    "# ax[i].set_xlim(N[0], N[-1])\n",
    "# ax[i].set_xlabel('training size')\n",
    "# ax[i].set_ylabel('score')\n",
    "# ax[i].set_title('degree = {0}'.format(degree), size=14)\n",
    "# ax[i].legend(loc='best')"
   ]
  },
  {
   "cell_type": "code",
   "execution_count": null,
   "metadata": {
    "collapsed": false
   },
   "outputs": [],
   "source": []
  },
  {
   "cell_type": "code",
   "execution_count": null,
   "metadata": {
    "collapsed": false
   },
   "outputs": [],
   "source": [
    "train_lc"
   ]
  },
  {
   "cell_type": "code",
   "execution_count": null,
   "metadata": {
    "collapsed": true
   },
   "outputs": [],
   "source": [
    "# Set output feature\n",
    "output_feature = 'diabetes'\n",
    "\n",
    "# Get input features\n",
    "input_features = [x for x in X_interaction.columns if x != output_feature]\n",
    "\n",
    "# Split into features and responses\n",
    "X = X_interaction.copy()\n",
    "y = test_df[output_feature].copy()\n"
   ]
  },
  {
   "cell_type": "code",
   "execution_count": null,
   "metadata": {
    "collapsed": false
   },
   "outputs": [],
   "source": [
    "reload(ppl)\n",
    "\n",
    "ppl.OptimizationBundle().get_options()"
   ]
  },
  {
   "cell_type": "code",
   "execution_count": null,
   "metadata": {
    "collapsed": false
   },
   "outputs": [],
   "source": [
    "%%time\n",
    "\n",
    "estimator = 'knn'\n",
    "\n",
    "# Initialize pipeline\n",
    "optimized_pipeline = ppl.PipelineOptimization(estimator)\n",
    "\n",
    "# Fit data\n",
    "optimized_pipeline.fit(X,y,random_state=6)"
   ]
  },
  {
   "cell_type": "code",
   "execution_count": null,
   "metadata": {
    "collapsed": false
   },
   "outputs": [],
   "source": [
    "import numpy as np\n",
    "\n",
    "from sklearn.cross_validation import train_test_split\n",
    "from sklearn.neighbors import KNeighborsClassifier\n",
    "from sklearn.pipeline import Pipeline\n",
    "\n",
    "import sklearn.metrics as sklearn_metrics\n",
    "\n",
    "X_array = X.copy().values\n",
    "y_array = y.copy().values\n",
    "\n",
    "param_grid = {\n",
    "    'estimator__n_neighbors': range(31), \n",
    "    'estimator__weights': ['uniform', 'distance']\n",
    "}\n",
    "\n",
    "X_train, X_val, y_train, y_val = \\\n",
    "    train_test_split(X_array,y_array,test_size=0.2,random_state=6,stratify=y_array)\n",
    "\n",
    "from sklearn.model_selection import StratifiedKFold\n",
    "\n",
    "kfolds_kwargs = dict(\n",
    "    n_splits=10, \n",
    "    shuffle=True, \n",
    "    random_state=6    \n",
    ")\n",
    "\n",
    "skf = StratifiedKFold(**kfolds_kwargs)\n",
    "\n",
    "fold_optimizations = {}\n",
    "for fold_ind, data_inds in enumerate(skf.split(X_train, y_train)):\n",
    "    fold_optimizations[fold_ind] = {}\n",
    "    \n",
    "    train_index, test_index = data_inds[0],data_inds[1]\n",
    "    \n",
    "    X_train_inner, X_test_inner = X_array[train_index], X_array[test_index]\n",
    "    y_train_inner, y_test_inner = y_array[train_index], y_array[test_index]\n",
    "    \n",
    "    pipeline = Pipeline([('estimator',KNeighborsClassifier(n_neighbors=11,weights='distance'))])\n",
    "    \n",
    "    pipeline.fit(X_train_inner,y_train_inner)\n",
    "    \n",
    "    y_pred_inner = pipeline.predict(X_test_inner)\n",
    "    \n",
    "    confusion_matrix = sklearn_metrics.confusion_matrix(y_test_inner, y_pred_inner)\n",
    "    \n",
    "    score = confusion_matrix.trace()/float(confusion_matrix.sum())\n",
    "    \n",
    "    fold_optimizations[fold_ind]['confusion_matrix'] = confusion_matrix\n",
    "    \n",
    "    fold_optimizations[fold_ind]['score'] = confusion_matrix.trace()/float(confusion_matrix.sum())\n",
    "    fold_optimizations[fold_ind]['pipeline'] = pipeline\n",
    "    \n",
    "print np.array([fold_optimizations[fold_ind]['score'] for fold_ind in fold_optimizations]).mean()\n",
    "\n",
    "y_pred = pipeline.predict(X_val)\n",
    "\n",
    "test_confusion_matrix = sklearn_metrics.confusion_matrix(y_val, y_pred)\n",
    "\n",
    "score = test_confusion_matrix.trace()/float(test_confusion_matrix.sum())\n",
    "\n",
    "print score\n",
    "    \n",
    "# TRAIN: [1 3] TEST: [0 2]\n",
    "# TRAIN: [0 2] TEST: [1 3]"
   ]
  },
  {
   "cell_type": "code",
   "execution_count": null,
   "metadata": {
    "collapsed": false
   },
   "outputs": [],
   "source": []
  },
  {
   "cell_type": "code",
   "execution_count": null,
   "metadata": {
    "collapsed": false
   },
   "outputs": [],
   "source": [
    "fold_optimizations"
   ]
  },
  {
   "cell_type": "code",
   "execution_count": null,
   "metadata": {
    "collapsed": false
   },
   "outputs": [],
   "source": [
    "print dir(optimized_pipeline.grid_search.best_estimator_)"
   ]
  },
  {
   "cell_type": "code",
   "execution_count": null,
   "metadata": {
    "collapsed": false
   },
   "outputs": [],
   "source": [
    "dir(folds[0].named_steps['estimator'])\n"
   ]
  },
  {
   "cell_type": "code",
   "execution_count": null,
   "metadata": {
    "collapsed": true
   },
   "outputs": [],
   "source": []
  }
 ],
 "metadata": {
  "anaconda-cloud": {},
  "kernelspec": {
   "display_name": "Python [default]",
   "language": "python",
   "name": "python2"
  },
  "language_info": {
   "codemirror_mode": {
    "name": "ipython",
    "version": 2
   },
   "file_extension": ".py",
   "mimetype": "text/x-python",
   "name": "python",
   "nbconvert_exporter": "python",
   "pygments_lexer": "ipython2",
   "version": "2.7.12"
  }
 },
 "nbformat": 4,
 "nbformat_minor": 0
}
