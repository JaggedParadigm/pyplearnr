{
 "cells": [
  {
   "cell_type": "markdown",
   "metadata": {},
   "source": [
    "# Data Science Library demo\n",
    "Here I demonstrate the data science library I developed to quickly build scikit learn pipelines with optional scaling, feature interaction, and data transformation (e.g. PCA, t-SNE) steps. It runs the pipeline through nested stratified (if classification) k-folds cross-validation (via GridSearchCV  or RandomizedSearchCV) and outputs an object containing data from the process, including the best model.\n",
    "\n",
    "## Titanic dataset example\n",
    "Here I use the Titanic dataset I've cleaned and pickled in a separate tutorial.\n",
    "\n",
    "### Import data"
   ]
  },
  {
   "cell_type": "code",
   "execution_count": 1,
   "metadata": {
    "collapsed": false
   },
   "outputs": [
    {
     "name": "stdout",
     "output_type": "stream",
     "text": [
      "<class 'pandas.core.frame.DataFrame'>\n",
      "Int64Index: 890 entries, 0 to 890\n",
      "Data columns (total 9 columns):\n",
      "Survived    890 non-null int64\n",
      "Pclass      890 non-null int64\n",
      "Sex         890 non-null object\n",
      "Age         890 non-null float64\n",
      "SibSp       890 non-null int64\n",
      "Parch       890 non-null int64\n",
      "Fare        890 non-null float64\n",
      "Embarked    890 non-null object\n",
      "Title       890 non-null object\n",
      "dtypes: float64(2), int64(4), object(3)\n",
      "memory usage: 69.5+ KB\n"
     ]
    }
   ],
   "source": [
    "import pandas as pd\n",
    "\n",
    "df = pd.read_pickle('trimmed_titanic_data.pkl')\n",
    "\n",
    "df.info()"
   ]
  },
  {
   "cell_type": "markdown",
   "metadata": {},
   "source": [
    "By \"cleaned\" I mean I've derived titles (e.g. \"Mr.\", \"Mrs.\", \"Dr.\", etc) from the passenger names, imputed the missing Age values using polynomial regression with grid-searched 10-fold cross-validation, filled in the 3 missing Embarked values with the mode, and removed all fields that could be considered an id for that individual.\n",
    "\n",
    "Thus, there is no missing data.\n",
    "\n",
    "## Set categorical features as type 'category'"
   ]
  },
  {
   "cell_type": "code",
   "execution_count": 2,
   "metadata": {
    "collapsed": false
   },
   "outputs": [
    {
     "name": "stdout",
     "output_type": "stream",
     "text": [
      "<class 'pandas.core.frame.DataFrame'>\n",
      "Int64Index: 890 entries, 0 to 890\n",
      "Data columns (total 9 columns):\n",
      "Survived    890 non-null category\n",
      "Pclass      890 non-null category\n",
      "Sex         890 non-null category\n",
      "Age         890 non-null float64\n",
      "SibSp       890 non-null int64\n",
      "Parch       890 non-null int64\n",
      "Fare        890 non-null float64\n",
      "Embarked    890 non-null category\n",
      "Title       890 non-null category\n",
      "dtypes: category(5), float64(2), int64(2)\n",
      "memory usage: 39.3 KB\n"
     ]
    }
   ],
   "source": [
    "simulation_df = df.copy()\n",
    "\n",
    "categorical_features = ['Survived','Pclass','Sex','Embarked','Title']\n",
    "\n",
    "for feature in categorical_features:\n",
    "    simulation_df[feature] = simulation_df[feature].astype('category')\n",
    "    \n",
    "simulation_df.info()\n",
    "\n",
    "# df[\"A\"].astype('category')"
   ]
  },
  {
   "cell_type": "markdown",
   "metadata": {},
   "source": [
    "## One-hot encode categorical features"
   ]
  },
  {
   "cell_type": "code",
   "execution_count": 3,
   "metadata": {
    "collapsed": false
   },
   "outputs": [
    {
     "name": "stdout",
     "output_type": "stream",
     "text": [
      "<class 'pandas.core.frame.DataFrame'>\n",
      "Int64Index: 890 entries, 0 to 890\n",
      "Data columns (total 17 columns):\n",
      "Age               890 non-null float64\n",
      "SibSp             890 non-null int64\n",
      "Parch             890 non-null int64\n",
      "Fare              890 non-null float64\n",
      "Survived_1        890 non-null uint8\n",
      "Pclass_2          890 non-null uint8\n",
      "Pclass_3          890 non-null uint8\n",
      "Sex_male          890 non-null uint8\n",
      "Embarked_Q        890 non-null uint8\n",
      "Embarked_S        890 non-null uint8\n",
      "Title_Dr          890 non-null uint8\n",
      "Title_Military    890 non-null uint8\n",
      "Title_Miss        890 non-null uint8\n",
      "Title_Mr          890 non-null uint8\n",
      "Title_Mrs         890 non-null uint8\n",
      "Title_Noble       890 non-null uint8\n",
      "Title_Rev         890 non-null uint8\n",
      "dtypes: float64(2), int64(2), uint8(13)\n",
      "memory usage: 46.1 KB\n"
     ]
    }
   ],
   "source": [
    "simulation_df = pd.get_dummies(simulation_df,drop_first=True)\n",
    "\n",
    "simulation_df.info()"
   ]
  },
  {
   "cell_type": "markdown",
   "metadata": {},
   "source": [
    "Now we have 17 features.\n",
    "\n",
    "### Split into input/output data"
   ]
  },
  {
   "cell_type": "code",
   "execution_count": 4,
   "metadata": {
    "collapsed": true
   },
   "outputs": [],
   "source": [
    "# Set output feature\n",
    "output_feature = 'Survived_1'\n",
    "\n",
    "# Get all column names\n",
    "column_names = list(simulation_df.columns)\n",
    "\n",
    "# Get input features\n",
    "input_features = [x for x in column_names if x != output_feature]\n",
    "\n",
    "# Split into features and responses\n",
    "X = simulation_df[input_features].copy()\n",
    "y = simulation_df[output_feature].copy()"
   ]
  },
  {
   "cell_type": "markdown",
   "metadata": {},
   "source": [
    "### Null model"
   ]
  },
  {
   "cell_type": "code",
   "execution_count": 5,
   "metadata": {
    "collapsed": false
   },
   "outputs": [
    {
     "data": {
      "text/plain": [
       "array([ 0.61573034,  0.38426966])"
      ]
     },
     "execution_count": 5,
     "metadata": {},
     "output_type": "execute_result"
    }
   ],
   "source": [
    "simulation_df['Survived_1'].value_counts().values/float(simulation_df['Survived_1'].value_counts().values.sum())"
   ]
  },
  {
   "cell_type": "markdown",
   "metadata": {},
   "source": [
    "Thus, null accuracy of ~62% if always predict death.\n",
    "\n",
    "### Import data science library and initialize optimized pipeline collection"
   ]
  },
  {
   "cell_type": "code",
   "execution_count": 401,
   "metadata": {
    "collapsed": false
   },
   "outputs": [],
   "source": [
    "import data_science_lib as dsl\n",
    "\n",
    "optimized_pipelines = {}"
   ]
  },
  {
   "cell_type": "markdown",
   "metadata": {},
   "source": [
    "### Basic models w/ no pre-processing\n",
    "#### KNN\n",
    "Here we do a simple K-nearest neighbors (KNN) classification with straitified 10-fold (default) cross-validation with a grid search over the default of 1 to 30 nearest neighbors and the use of either \"uniform\" or \"distance\" weights:"
   ]
  },
  {
   "cell_type": "code",
   "execution_count": 402,
   "metadata": {
    "collapsed": false
   },
   "outputs": [
    {
     "name": "stdout",
     "output_type": "stream",
     "text": [
      "CPU times: user 1.8 s, sys: 274 ms, total: 2.08 s\n",
      "Wall time: 2.98 s\n"
     ]
    }
   ],
   "source": [
    "%%time\n",
    "\n",
    "reload(dsl)\n",
    "\n",
    "estimator = 'knn'\n",
    "\n",
    "# Set pipeline keyword arguments\n",
    "optimized_pipeline_kwargs = {\n",
    "    'feature_selection_type': None,\n",
    "    'scale_type': None,\n",
    "    'feature_interactions': False,\n",
    "    'transform_type': None\n",
    "    }\n",
    "\n",
    "# Initialize pipeline\n",
    "optimized_pipeline = dsl.OptimizedPipeline(estimator,**optimized_pipeline_kwargs)\n",
    "\n",
    "# Set pipeline fitting parameters\n",
    "fit_kwargs = {\n",
    "    'cv': 10,\n",
    "    'num_parameter_combos': None,\n",
    "    'n_jobs': -1,\n",
    "    'random_state': 6,\n",
    "    'suppress_output': True,\n",
    "    'use_default_param_dist': True,\n",
    "    'param_dist': None,\n",
    "    'test_size': 0.2 # 20% saved as test set\n",
    "}\n",
    "\n",
    "# Fit data\n",
    "optimized_pipeline.fit(X,y,**fit_kwargs)\n",
    "\n",
    "# Save \n",
    "optimized_pipelines[estimator] = optimized_pipeline"
   ]
  },
  {
   "cell_type": "markdown",
   "metadata": {},
   "source": [
    "The output of the train_model() method is an instance of my custom OptimizedPipeline class  containing all of the data associated with the nested stratified k-folds cross-validation.\n",
    "\n",
    "This includes the data, its test/train splits (based on the test_size percentage keyword argument), the GridSearchCV or RandomizedGridSearchCV object, the Pipeline object that has been retrained using all of the data with the best parameters, test/train scores, and validation metrics/reports.\n",
    "\n",
    "A report can be printed immediately after the fit by setting the suppress_output keyword argument to True. \n",
    "\n",
    "It lists the steps in the pipeline, their optimized settings, the test/training accuracy (or L2 regression score), the grid search parameters, and the best parameters.\n",
    "\n",
    "If the estimator used is a classifier it also includes the confusion matrix, normalized confusion matrix, and a classification report containing precision/recall/f1-score for each class.\n",
    "\n",
    "This same report is also accessible by printing the OptimizedPipeline class instance:"
   ]
  },
  {
   "cell_type": "code",
   "execution_count": 400,
   "metadata": {
    "collapsed": false
   },
   "outputs": [
    {
     "name": "stdout",
     "output_type": "stream",
     "text": [
      "\n",
      "Pipeline:\n",
      "\n",
      "1: estimator   KNeighborsClassifier           \n",
      "                                              \n",
      "               n_neighbors          = 12        \n",
      "               n_jobs               = 1         \n",
      "               algorithm            = auto      \n",
      "               metric               = minkowski \n",
      "               metric_params        = None      \n",
      "               p                    = 2         \n",
      "               weights              = uniform   \n",
      "               leaf_size            = 30        \n",
      "                                              \n",
      "\n",
      "Training set classification accuracy:\t0.729\n",
      "Test set classification accuracy:\t0.736\n",
      "\n",
      "Confusion matrix:\n",
      "\n",
      "[[99  7]\n",
      " [40 32]]\n",
      "\n",
      "Normalized confusion matrix:\n",
      "\n",
      "[[ 0.55617978  0.03932584]\n",
      " [ 0.2247191   0.17977528]]\n",
      "\n",
      "Classification report:\n",
      "\n",
      "             precision    recall  f1-score   support\n",
      "\n",
      "          0       0.71      0.93      0.81       106\n",
      "          1       0.82      0.44      0.58        72\n",
      "\n",
      "avg / total       0.76      0.74      0.71       178\n",
      "\n",
      "\n",
      "Grid search parameters:\n",
      "\n",
      "               scoring              = accuracy  \n",
      "               n_jobs               = -1        \n",
      "               verbose              = 0         \n",
      "               fit_params           = {}        \n",
      "               refit                = 1         \n",
      "               iid                  = 1         \n",
      "               error_score          = raise     \n",
      "               pre_dispatch         = 2*n_jobs  \n",
      "               param_grid           = {'estimator__n_neighbors': [1, 2, 3, 4, 5, 6, 7, 8, 9, 10, 11, 12, 13, 14, 15, 16, 17, 18, 19, 20, 21, 22, 23, 24, 25, 26, 27, 28, 29, 30], 'estimator__weights': ['uniform', 'distance']}\n",
      "               cv                   = 10        \n",
      "                                              \n",
      "Best parameters:                               \n",
      "                                              \n",
      "               estimator__n_neighbors = 12        \n",
      "               estimator__weights   = uniform   \n",
      "\n"
     ]
    }
   ],
   "source": [
    "print optimized_pipeline"
   ]
  },
  {
   "cell_type": "markdown",
   "metadata": {},
   "source": [
    "Turns out that the best settings are 12 neighbors and the use of the 'uniform' weight.\n",
    "\n",
    "Note how I've set the random_state keyword agument to 6 so that the models can be compared using the same test/train split.\n",
    "\n",
    "The default parameters to grid-search over for k-nearest neighbors is 1 to 30 neighbors and either the 'uniform' or 'distance' weight.\n",
    "\n",
    "The defaults for the pre-processing steps, classifiers, and regressors can be viewed by using the get_default_pipeline_step_parameters() method with the number of features as the input:"
   ]
  },
  {
   "cell_type": "code",
   "execution_count": 484,
   "metadata": {
    "collapsed": false,
    "scrolled": false
   },
   "outputs": [
    {
     "data": {
      "text/plain": [
       "{'n_neighbors': [1,\n",
       "  2,\n",
       "  3,\n",
       "  4,\n",
       "  5,\n",
       "  6,\n",
       "  7,\n",
       "  8,\n",
       "  9,\n",
       "  10,\n",
       "  11,\n",
       "  12,\n",
       "  13,\n",
       "  14,\n",
       "  15,\n",
       "  16,\n",
       "  17,\n",
       "  18,\n",
       "  19,\n",
       "  20,\n",
       "  21,\n",
       "  22,\n",
       "  23,\n",
       "  24,\n",
       "  25,\n",
       "  26,\n",
       "  27,\n",
       "  28,\n",
       "  29,\n",
       "  30],\n",
       " 'weights': ['uniform', 'distance']}"
      ]
     },
     "execution_count": 484,
     "metadata": {},
     "output_type": "execute_result"
    }
   ],
   "source": [
    "pre_processing_grid_parameters,classifier_grid_parameters,regression_grid_parameters = \\\n",
    "optimized_pipeline.get_default_pipeline_step_parameters(X.shape[0])\n",
    "\n",
    "classifier_grid_parameters['knn']"
   ]
  },
  {
   "cell_type": "markdown",
   "metadata": {},
   "source": [
    "These default parameters can be ignored by setting the use_default_param_dist keyword argument to False. \n",
    "\n",
    "The param_dist keyword argument can be used to keep default parameters (if use_default_param_dist set to True) or to be used as the sole source of parameters (if use_default_param_dist set to False). \n",
    "\n",
    "Here is a demonstration of generation of default parameters with those in param_dist being overridden:"
   ]
  },
  {
   "cell_type": "code",
   "execution_count": 403,
   "metadata": {
    "collapsed": false
   },
   "outputs": [
    {
     "name": "stdout",
     "output_type": "stream",
     "text": [
      "\n",
      "Pipeline:\n",
      "\n",
      "1: estimator   KNeighborsClassifier           \n",
      "                                              \n",
      "               n_neighbors          = 50        \n",
      "               n_jobs               = 1         \n",
      "               algorithm            = auto      \n",
      "               metric               = minkowski \n",
      "               metric_params        = None      \n",
      "               p                    = 2         \n",
      "               weights              = distance  \n",
      "               leaf_size            = 30        \n",
      "                                              \n",
      "\n",
      "Training set classification accuracy:\t0.739\n",
      "Test set classification accuracy:\t0.719\n",
      "\n",
      "Confusion matrix:\n",
      "\n",
      "[[95 11]\n",
      " [39 33]]\n",
      "\n",
      "Normalized confusion matrix:\n",
      "\n",
      "[[ 0.53370787  0.06179775]\n",
      " [ 0.21910112  0.18539326]]\n",
      "\n",
      "Classification report:\n",
      "\n",
      "             precision    recall  f1-score   support\n",
      "\n",
      "          0       0.71      0.90      0.79       106\n",
      "          1       0.75      0.46      0.57        72\n",
      "\n",
      "avg / total       0.73      0.72      0.70       178\n",
      "\n",
      "\n",
      "Grid search parameters:\n",
      "\n",
      "               scoring              = accuracy  \n",
      "               n_jobs               = -1        \n",
      "               verbose              = 0         \n",
      "               fit_params           = {}        \n",
      "               refit                = 1         \n",
      "               iid                  = 1         \n",
      "               error_score          = raise     \n",
      "               pre_dispatch         = 2*n_jobs  \n",
      "               param_grid           = {'estimator__n_neighbors': [30, 31, 32, 33, 34, 35, 36, 37, 38, 39, 40, 41, 42, 43, 44, 45, 46, 47, 48, 49, 50, 51, 52, 53, 54, 55, 56, 57, 58, 59, 60, 61, 62, 63, 64, 65, 66, 67, 68, 69, 70, 71, 72, 73, 74, 75, 76, 77, 78, 79, 80, 81, 82, 83, 84, 85, 86, 87, 88, 89, 90, 91, 92, 93, 94, 95, 96, 97, 98, 99, 100, 101, 102, 103, 104, 105, 106, 107, 108, 109, 110, 111, 112, 113, 114, 115, 116, 117, 118, 119, 120, 121, 122, 123, 124, 125, 126, 127, 128, 129, 130, 131, 132, 133, 134, 135, 136, 137, 138, 139, 140, 141, 142, 143, 144, 145, 146, 147, 148, 149, 150, 151, 152, 153, 154, 155, 156, 157, 158, 159, 160, 161, 162, 163, 164, 165, 166, 167, 168, 169, 170, 171, 172, 173, 174, 175, 176, 177, 178, 179, 180, 181, 182, 183, 184, 185, 186, 187, 188, 189, 190, 191, 192, 193, 194, 195, 196, 197, 198, 199, 200, 201, 202, 203, 204, 205, 206, 207, 208, 209, 210, 211, 212, 213, 214, 215, 216, 217, 218, 219, 220, 221, 222, 223, 224, 225, 226, 227, 228, 229, 230, 231, 232, 233, 234, 235, 236, 237, 238, 239, 240, 241, 242, 243, 244, 245, 246, 247, 248, 249, 250, 251, 252, 253, 254, 255, 256, 257, 258, 259, 260, 261, 262, 263, 264, 265, 266, 267, 268, 269, 270, 271, 272, 273, 274, 275, 276, 277, 278, 279, 280, 281, 282, 283, 284, 285, 286, 287, 288, 289, 290, 291, 292, 293, 294, 295, 296, 297, 298, 299, 300, 301, 302, 303, 304, 305, 306, 307, 308, 309, 310, 311, 312, 313, 314, 315, 316, 317, 318, 319, 320, 321, 322, 323, 324, 325, 326, 327, 328, 329, 330, 331, 332, 333, 334, 335, 336, 337, 338, 339, 340, 341, 342, 343, 344, 345, 346, 347, 348, 349, 350, 351, 352, 353, 354, 355, 356, 357, 358, 359, 360, 361, 362, 363, 364, 365, 366, 367, 368, 369, 370, 371, 372, 373, 374, 375, 376, 377, 378, 379, 380, 381, 382, 383, 384, 385, 386, 387, 388, 389, 390, 391, 392, 393, 394, 395, 396, 397, 398, 399, 400, 401, 402, 403, 404, 405, 406, 407, 408, 409, 410, 411, 412, 413, 414, 415, 416, 417, 418, 419, 420, 421, 422, 423, 424, 425, 426, 427, 428, 429, 430, 431, 432, 433, 434, 435, 436, 437, 438, 439, 440, 441, 442, 443, 444, 445, 446, 447, 448, 449, 450, 451, 452, 453, 454, 455, 456, 457, 458, 459, 460, 461, 462, 463, 464, 465, 466, 467, 468, 469, 470, 471, 472, 473, 474, 475, 476, 477, 478, 479, 480, 481, 482, 483, 484, 485, 486, 487, 488, 489, 490, 491, 492, 493, 494, 495, 496, 497, 498, 499], 'estimator__weights': ['uniform', 'distance']}\n",
      "               cv                   = 10        \n",
      "                                              \n",
      "Best parameters:                               \n",
      "                                              \n",
      "               estimator__n_neighbors = 50        \n",
      "               estimator__weights   = distance  \n",
      "\n",
      "CPU times: user 32.8 s, sys: 1.13 s, total: 33.9 s\n",
      "Wall time: 46.1 s\n"
     ]
    }
   ],
   "source": [
    "%%time\n",
    "\n",
    "reload(dsl)\n",
    "\n",
    "model_name = 'custom_override_%s'%(estimator_name)\n",
    "\n",
    "# Set custom parameters\n",
    "param_dist = {\n",
    "    'estimator__n_neighbors': range(30,500)\n",
    "}\n",
    "\n",
    "estimator = 'knn'\n",
    "\n",
    "# Set pipeline keyword arguments\n",
    "optimized_pipeline_kwargs = {\n",
    "    'feature_selection_type': None,\n",
    "    'scale_type': None,\n",
    "    'feature_interactions': False,\n",
    "    'transform_type': None\n",
    "    }\n",
    "\n",
    "# Initialize pipeline\n",
    "optimized_pipeline = dsl.OptimizedPipeline(estimator,**optimized_pipeline_kwargs)\n",
    "\n",
    "# Set pipeline fitting parameters\n",
    "fit_kwargs = {\n",
    "    'cv': 10,\n",
    "    'num_parameter_combos': None,\n",
    "    'n_jobs': -1,\n",
    "    'random_state': 6,\n",
    "    'suppress_output': False,\n",
    "    'use_default_param_dist': True,\n",
    "    'param_dist': param_dist,\n",
    "    'test_size': 0.2 # 20% saved as test set\n",
    "}\n",
    "\n",
    "# Fit data\n",
    "optimized_pipeline.fit(X,y,**fit_kwargs)\n",
    "\n",
    "# Save \n",
    "optimized_pipelines[model_name] = optimized_pipeline"
   ]
  },
  {
   "cell_type": "markdown",
   "metadata": {},
   "source": [
    "Note how the n_neighbors parameter was 30 to 499 instead of 1 to 30.\n",
    "\n",
    "Here's an example of only using param_dist for parameters:"
   ]
  },
  {
   "cell_type": "code",
   "execution_count": 404,
   "metadata": {
    "collapsed": false
   },
   "outputs": [
    {
     "name": "stdout",
     "output_type": "stream",
     "text": [
      "\n",
      "Pipeline:\n",
      "\n",
      "1: estimator   KNeighborsClassifier           \n",
      "                                              \n",
      "               n_neighbors          = 12        \n",
      "               n_jobs               = 1         \n",
      "               algorithm            = auto      \n",
      "               metric               = minkowski \n",
      "               metric_params        = None      \n",
      "               p                    = 2         \n",
      "               weights              = uniform   \n",
      "               leaf_size            = 30        \n",
      "                                              \n",
      "\n",
      "Training set classification accuracy:\t0.729\n",
      "Test set classification accuracy:\t0.736\n",
      "\n",
      "Confusion matrix:\n",
      "\n",
      "[[99  7]\n",
      " [40 32]]\n",
      "\n",
      "Normalized confusion matrix:\n",
      "\n",
      "[[ 0.55617978  0.03932584]\n",
      " [ 0.2247191   0.17977528]]\n",
      "\n",
      "Classification report:\n",
      "\n",
      "             precision    recall  f1-score   support\n",
      "\n",
      "          0       0.71      0.93      0.81       106\n",
      "          1       0.82      0.44      0.58        72\n",
      "\n",
      "avg / total       0.76      0.74      0.71       178\n",
      "\n",
      "\n",
      "Grid search parameters:\n",
      "\n",
      "               scoring              = accuracy  \n",
      "               n_jobs               = -1        \n",
      "               verbose              = 0         \n",
      "               fit_params           = {}        \n",
      "               refit                = 1         \n",
      "               iid                  = 1         \n",
      "               error_score          = raise     \n",
      "               pre_dispatch         = 2*n_jobs  \n",
      "               param_grid           = {'estimator__n_neighbors': [10, 11, 12, 13, 14, 15, 16, 17, 18, 19, 20, 21, 22, 23, 24, 25, 26, 27, 28, 29]}\n",
      "               cv                   = 10        \n",
      "                                              \n",
      "Best parameters:                               \n",
      "                                              \n",
      "               estimator__n_neighbors = 12        \n",
      "\n",
      "CPU times: user 655 ms, sys: 175 ms, total: 829 ms\n",
      "Wall time: 1.35 s\n"
     ]
    }
   ],
   "source": [
    "%%time\n",
    "\n",
    "reload(dsl)\n",
    "\n",
    "model_name = 'from_scratch_%s'%(estimator_name)\n",
    "\n",
    "# Set custom parameters\n",
    "param_dist = {\n",
    "    'estimator__n_neighbors': range(10,30)\n",
    "}\n",
    "\n",
    "estimator = 'knn'\n",
    "\n",
    "# Set pipeline keyword arguments\n",
    "optimized_pipeline_kwargs = {\n",
    "    'feature_selection_type': None,\n",
    "    'scale_type': None,\n",
    "    'feature_interactions': False,\n",
    "    'transform_type': None\n",
    "    }\n",
    "\n",
    "# Initialize pipeline\n",
    "optimized_pipeline = dsl.OptimizedPipeline(estimator,**optimized_pipeline_kwargs)\n",
    "\n",
    "# Set pipeline fitting parameters\n",
    "fit_kwargs = {\n",
    "    'cv': 10,\n",
    "    'num_parameter_combos': None,\n",
    "    'n_jobs': -1,\n",
    "    'random_state': 6,\n",
    "    'suppress_output': False,\n",
    "    'use_default_param_dist': False,\n",
    "    'param_dist': param_dist,\n",
    "    'test_size': 0.2 # 20% saved as test set\n",
    "}\n",
    "\n",
    "# Fit data\n",
    "optimized_pipeline.fit(X,y,**fit_kwargs)\n",
    "\n",
    "# Save \n",
    "optimized_pipelines[model_name] = optimized_pipeline"
   ]
  },
  {
   "cell_type": "markdown",
   "metadata": {},
   "source": [
    "Note how the estimator\\_\\_weights parameter isn't set for the KNN estimator.\n",
    "\n",
    "#### Other models\n",
    "\n",
    "This code currently supports K-nearest neighbors, logistic regression, support vector machines, multilayer perceptrons, random forest, and adaboost.\n",
    "We can loop through and pick the best model like this:"
   ]
  },
  {
   "cell_type": "code",
   "execution_count": 416,
   "metadata": {
    "collapsed": false,
    "scrolled": false
   },
   "outputs": [
    {
     "name": "stdout",
     "output_type": "stream",
     "text": [
      "CPU times: user 5.65 s, sys: 516 ms, total: 6.16 s\n",
      "Wall time: 41.3 s\n"
     ]
    }
   ],
   "source": [
    "%%time\n",
    "\n",
    "reload(dsl)\n",
    "\n",
    "classifiers = ['knn','logistic_regression','svm',\n",
    "               'multilayer_perceptron','random_forest','adaboost']\n",
    "\n",
    "for estimator in classifiers:\n",
    "    # Set pipeline keyword arguments\n",
    "    optimized_pipeline_kwargs = {\n",
    "        'feature_selection_type': None,\n",
    "        'scale_type': None,\n",
    "        'feature_interactions': False,\n",
    "        'transform_type': None\n",
    "        }\n",
    "\n",
    "    # Initialize pipeline\n",
    "    optimized_pipeline = dsl.OptimizedPipeline(estimator,**optimized_pipeline_kwargs)\n",
    "    \n",
    "    # Set pipeline fitting parameters\n",
    "    fit_kwargs = {\n",
    "        'cv': 10,\n",
    "        'num_parameter_combos': None,\n",
    "        'n_jobs': -1,\n",
    "        'random_state': 6,\n",
    "        'suppress_output': True,\n",
    "        'use_default_param_dist': True,\n",
    "        'param_dist': None,\n",
    "        'test_size': 0.2\n",
    "    }\n",
    "    \n",
    "    # Fit data\n",
    "    optimized_pipeline.fit(X,y,**fit_kwargs)\n",
    "    \n",
    "    # Save \n",
    "    optimized_pipelines[estimator] = optimized_pipeline"
   ]
  },
  {
   "cell_type": "code",
   "execution_count": 417,
   "metadata": {
    "collapsed": false
   },
   "outputs": [
    {
     "name": "stdout",
     "output_type": "stream",
     "text": [
      "model                  train score     test score     \n",
      "                                                      \n",
      "knn                    0.72893258427   0.73595505618  \n",
      "svm                    0.72893258427   0.752808988764 \n",
      "logistic_regression    0.828651685393  0.842696629213 \n",
      "adaboost               0.794943820225  0.837078651685 \n",
      "random_forest          0.818820224719  0.85393258427  \n",
      "multilayer_perceptron  0.821629213483  0.803370786517 \n"
     ]
    }
   ],
   "source": [
    "format_str = '{0:<22} {1:<15} {2:<15}'\n",
    "\n",
    "print format_str.format(*['model','train score','test score'])\n",
    "print format_str.format(*['','',''])\n",
    "for x in [[key,value.train_score_,value.test_score_] for key,value in optimized_pipelines.iteritems()]:\n",
    "    print format_str.format(*x)"
   ]
  },
  {
   "cell_type": "markdown",
   "metadata": {},
   "source": [
    "Random forest performed the best with a test score of ~0.854.\n",
    "\n",
    "Lets look at the report:"
   ]
  },
  {
   "cell_type": "code",
   "execution_count": 422,
   "metadata": {
    "collapsed": false
   },
   "outputs": [
    {
     "name": "stdout",
     "output_type": "stream",
     "text": [
      "\n",
      "Pipeline:\n",
      "\n",
      "1: estimator   RandomForestClassifier           \n",
      "                                              \n",
      "               warm_start           = 0         \n",
      "               oob_score            = 0         \n",
      "               n_jobs               = 1         \n",
      "               verbose              = 0         \n",
      "               max_leaf_nodes       = None      \n",
      "               bootstrap            = 1         \n",
      "               min_samples_leaf     = 1         \n",
      "               n_estimators         = 96        \n",
      "               min_samples_split    = 2         \n",
      "               min_weight_fraction_leaf = 0.0       \n",
      "               criterion            = gini      \n",
      "               random_state         = None      \n",
      "               min_impurity_split   = 1e-07     \n",
      "               max_features         = auto      \n",
      "               max_depth            = None      \n",
      "               class_weight         = None      \n",
      "                                              \n",
      "\n",
      "Training set classification accuracy:\t0.819\n",
      "Test set classification accuracy:\t0.854\n",
      "\n",
      "Confusion matrix:\n",
      "\n",
      "[[96 10]\n",
      " [16 56]]\n",
      "\n",
      "Normalized confusion matrix:\n",
      "\n",
      "[[ 0.53932584  0.05617978]\n",
      " [ 0.08988764  0.31460674]]\n",
      "\n",
      "Classification report:\n",
      "\n",
      "             precision    recall  f1-score   support\n",
      "\n",
      "          0       0.86      0.91      0.88       106\n",
      "          1       0.85      0.78      0.81        72\n",
      "\n",
      "avg / total       0.85      0.85      0.85       178\n",
      "\n",
      "\n",
      "Grid search parameters:\n",
      "\n",
      "               scoring              = accuracy  \n",
      "               n_jobs               = -1        \n",
      "               verbose              = 0         \n",
      "               fit_params           = {}        \n",
      "               refit                = 1         \n",
      "               iid                  = 1         \n",
      "               error_score          = raise     \n",
      "               pre_dispatch         = 2*n_jobs  \n",
      "               param_grid           = {'estimator__n_estimators': [90, 91, 92, 93, 94, 95, 96, 97, 98, 99]}\n",
      "               cv                   = 10        \n",
      "                                              \n",
      "Best parameters:                               \n",
      "                                              \n",
      "               estimator__n_estimators = 96        \n",
      "\n"
     ]
    }
   ],
   "source": [
    "print optimized_pipelines['random_forest']"
   ]
  },
  {
   "cell_type": "markdown",
   "metadata": {},
   "source": [
    "The optimal parameter was 96 for the n_estimators parameter for the RandomizedForestClassifier.\n",
    "\n",
    "### All models with standard scaling\n",
    "We can set the scaling type using the scale_type keyword argument:"
   ]
  },
  {
   "cell_type": "code",
   "execution_count": 419,
   "metadata": {
    "collapsed": false
   },
   "outputs": [
    {
     "name": "stdout",
     "output_type": "stream",
     "text": [
      "CPU times: user 6.83 s, sys: 687 ms, total: 7.52 s\n",
      "Wall time: 43 s\n"
     ]
    }
   ],
   "source": [
    "%%time\n",
    "\n",
    "reload(dsl)\n",
    "\n",
    "classifiers = ['knn','logistic_regression','svm',\n",
    "               'multilayer_perceptron','random_forest','adaboost']\n",
    "\n",
    "prefix = 'scale'\n",
    "\n",
    "for estimator in classifiers:\n",
    "    # Set pipeline keyword arguments\n",
    "    optimized_pipeline_kwargs = {\n",
    "        'feature_selection_type': None,\n",
    "        'scale_type': 'standard',\n",
    "        'feature_interactions': False,\n",
    "        'transform_type': None\n",
    "        }\n",
    "\n",
    "    # Initialize pipeline\n",
    "    optimized_pipeline = dsl.OptimizedPipeline(estimator,**optimized_pipeline_kwargs)\n",
    "    \n",
    "    # Set pipeline fitting parameters\n",
    "    fit_kwargs = {\n",
    "        'cv': 10,\n",
    "        'num_parameter_combos': None,\n",
    "        'n_jobs': -1,\n",
    "        'random_state': 6,\n",
    "        'suppress_output': True,\n",
    "        'use_default_param_dist': True,\n",
    "        'param_dist': None,\n",
    "        'test_size': 0.2\n",
    "    }\n",
    "    \n",
    "    # Fit data\n",
    "    optimized_pipeline.fit(X,y,**fit_kwargs)\n",
    "    \n",
    "    # Form name used to save optimized pipeline\n",
    "    pipeline_name = '%s_%s'%(prefix,estimator)\n",
    "    \n",
    "    # Save \n",
    "    optimized_pipelines[pipeline_name] = optimized_pipeline"
   ]
  },
  {
   "cell_type": "code",
   "execution_count": 421,
   "metadata": {
    "collapsed": false
   },
   "outputs": [
    {
     "name": "stdout",
     "output_type": "stream",
     "text": [
      "model                          train score     test score     \n",
      "                                                              \n",
      "knn                            0.72893258427   0.73595505618  \n",
      "svm                            0.72893258427   0.752808988764 \n",
      "scale_logistic_regression      0.828651685393  0.842696629213 \n",
      "scale_adaboost                 0.794943820225  0.837078651685 \n",
      "scale_multilayer_perceptron    0.830056179775  0.814606741573 \n",
      "logistic_regression            0.828651685393  0.842696629213 \n",
      "scale_random_forest            0.825842696629  0.837078651685 \n",
      "adaboost                       0.794943820225  0.837078651685 \n",
      "random_forest                  0.818820224719  0.85393258427  \n",
      "scale_knn                      0.825842696629  0.808988764045 \n",
      "multilayer_perceptron          0.821629213483  0.803370786517 \n",
      "scale_svm                      0.832865168539  0.814606741573 \n"
     ]
    }
   ],
   "source": [
    "format_str = '{0:<30} {1:<15} {2:<15}'\n",
    "\n",
    "print format_str.format(*['model','train score','test score'])\n",
    "print format_str.format(*['','',''])\n",
    "for x in [[key,value.train_score_,value.test_score_] for key,value in optimized_pipelines.iteritems()]:\n",
    "    print format_str.format(*x)"
   ]
  },
  {
   "cell_type": "markdown",
   "metadata": {},
   "source": [
    "Random forest without scaling still appears to have the best test score. Though that with scaling had closer test and train scores.\n",
    "\n",
    "### All models with SelectKBest feature selection\n",
    "Setting the feature_selection_type keyword argument will use SelectKBest with f_classif for feature selection: "
   ]
  },
  {
   "cell_type": "code",
   "execution_count": 423,
   "metadata": {
    "collapsed": false
   },
   "outputs": [
    {
     "name": "stdout",
     "output_type": "stream",
     "text": [
      "CPU times: user 1min 14s, sys: 4.46 s, total: 1min 18s\n",
      "Wall time: 10min 54s\n"
     ]
    }
   ],
   "source": [
    "%%time\n",
    "\n",
    "reload(dsl)\n",
    "\n",
    "classifiers = ['knn','logistic_regression','svm',\n",
    "               'multilayer_perceptron','random_forest','adaboost']\n",
    "\n",
    "prefix = 'select'\n",
    "\n",
    "for estimator in classifiers:\n",
    "    # Set pipeline keyword arguments\n",
    "    optimized_pipeline_kwargs = {\n",
    "        'feature_selection_type': 'select_k_best',\n",
    "        'scale_type': None,\n",
    "        'feature_interactions': False,\n",
    "        'transform_type': None\n",
    "        }\n",
    "\n",
    "    # Initialize pipeline\n",
    "    optimized_pipeline = dsl.OptimizedPipeline(estimator,**optimized_pipeline_kwargs)\n",
    "    \n",
    "    # Set pipeline fitting parameters\n",
    "    fit_kwargs = {\n",
    "        'cv': 10,\n",
    "        'num_parameter_combos': None,\n",
    "        'n_jobs': -1,\n",
    "        'random_state': 6,\n",
    "        'suppress_output': True,\n",
    "        'use_default_param_dist': True,\n",
    "        'param_dist': None,\n",
    "        'test_size': 0.2\n",
    "    }\n",
    "    \n",
    "    # Fit data\n",
    "    optimized_pipeline.fit(X,y,**fit_kwargs)\n",
    "    \n",
    "    # Form name used to save optimized pipeline\n",
    "    pipeline_name = '%s_%s'%(prefix,estimator)\n",
    "    \n",
    "    # Save \n",
    "    optimized_pipelines[pipeline_name] = optimized_pipeline"
   ]
  },
  {
   "cell_type": "code",
   "execution_count": 425,
   "metadata": {
    "collapsed": false
   },
   "outputs": [
    {
     "name": "stdout",
     "output_type": "stream",
     "text": [
      "model                          train score     test score      train-test     \n",
      "                                                                              \n",
      "knn                            0.72893258427   0.73595505618   -0.00702247191011\n",
      "select_random_forest           0.816011235955  0.820224719101  -0.00421348314607\n",
      "svm                            0.72893258427   0.752808988764  -0.0238764044944\n",
      "scale_logistic_regression      0.828651685393  0.842696629213  -0.0140449438202\n",
      "select_adaboost                0.800561797753  0.831460674157  -0.0308988764045\n",
      "select_logistic_regression     0.831460674157  0.848314606742  -0.0168539325843\n",
      "select_knn                     0.789325842697  0.758426966292  0.0308988764045\n",
      "select_multilayer_perceptron   0.828651685393  0.792134831461  0.0365168539326\n",
      "scale_adaboost                 0.794943820225  0.837078651685  -0.0421348314607\n",
      "scale_multilayer_perceptron    0.830056179775  0.814606741573  0.0154494382022\n",
      "logistic_regression            0.828651685393  0.842696629213  -0.0140449438202\n",
      "scale_random_forest            0.825842696629  0.837078651685  -0.0112359550562\n",
      "adaboost                       0.794943820225  0.837078651685  -0.0421348314607\n",
      "random_forest                  0.818820224719  0.85393258427   -0.0351123595506\n",
      "scale_knn                      0.825842696629  0.808988764045  0.0168539325843\n",
      "multilayer_perceptron          0.821629213483  0.803370786517  0.0182584269663\n",
      "select_svm                     0.782303370787  0.758426966292  0.0238764044944\n",
      "scale_svm                      0.832865168539  0.814606741573  0.0182584269663\n"
     ]
    }
   ],
   "source": [
    "format_str = '{0:<30} {1:<15} {2:<15} {3:<15}'\n",
    "\n",
    "print format_str.format(*['model','train score','test score','train-test'])\n",
    "print format_str.format(*['','','',''])\n",
    "for x in [[key,value.train_score_,value.test_score_,value.train_score_-value.test_score_] for key,value in optimized_pipelines.iteritems()]:\n",
    "    print format_str.format(*x)"
   ]
  },
  {
   "cell_type": "markdown",
   "metadata": {},
   "source": [
    "Again, random_forest performs the best. \n",
    "\n",
    "Though K-nearest neighbors appears to have the smallest difference between testing and training sets.\n",
    "\n",
    "### All models with feature interaction\n",
    "Setting the feature_interactions keyword argument to True will cause the use of feature interactions. The default is to only consider pairwise products, though this be set to higher by overriding using param_dist:"
   ]
  },
  {
   "cell_type": "code",
   "execution_count": 426,
   "metadata": {
    "collapsed": false
   },
   "outputs": [
    {
     "name": "stderr",
     "output_type": "stream",
     "text": [
      "/Users/cmshymansky/anaconda/lib/python2.7/site-packages/sklearn/metrics/classification.py:1113: UndefinedMetricWarning: Precision and F-score are ill-defined and being set to 0.0 in labels with no predicted samples.\n",
      "  'precision', 'predicted', average, warn_for)\n"
     ]
    },
    {
     "name": "stdout",
     "output_type": "stream",
     "text": [
      "CPU times: user 12.3 s, sys: 994 ms, total: 13.3 s\n",
      "Wall time: 1min 42s\n"
     ]
    }
   ],
   "source": [
    "%%time\n",
    "\n",
    "reload(dsl)\n",
    "\n",
    "classifiers = ['knn','logistic_regression','svm','multilayer_perceptron','random_forest','adaboost']\n",
    "\n",
    "prefix = 'interact'\n",
    "\n",
    "for estimator in classifiers:\n",
    "    # Set pipeline keyword arguments\n",
    "    optimized_pipeline_kwargs = {\n",
    "        'feature_selection_type': None,\n",
    "        'scale_type': None,\n",
    "        'feature_interactions': True,\n",
    "        'transform_type': None\n",
    "        }\n",
    "\n",
    "    # Initialize pipeline\n",
    "    optimized_pipeline = dsl.OptimizedPipeline(estimator,**optimized_pipeline_kwargs)\n",
    "    \n",
    "    # Set pipeline fitting parameters\n",
    "    fit_kwargs = {\n",
    "        'cv': 10,\n",
    "        'num_parameter_combos': None,\n",
    "        'n_jobs': -1,\n",
    "        'random_state': 6,\n",
    "        'suppress_output': True,\n",
    "        'use_default_param_dist': True,\n",
    "        'param_dist': None,\n",
    "        'test_size': 0.2\n",
    "    }\n",
    "    \n",
    "    # Fit data\n",
    "    optimized_pipeline.fit(X,y,**fit_kwargs)\n",
    "    \n",
    "    # Form name used to save optimized pipeline\n",
    "    pipeline_name = '%s_%s'%(prefix,estimator)\n",
    "    \n",
    "    # Save \n",
    "    optimized_pipelines[pipeline_name] = optimized_pipeline"
   ]
  },
  {
   "cell_type": "code",
   "execution_count": 427,
   "metadata": {
    "collapsed": false
   },
   "outputs": [
    {
     "name": "stdout",
     "output_type": "stream",
     "text": [
      "model                          train score     test score      train-test     \n",
      "                                                                              \n",
      "scale_logistic_regression      0.828651685393  0.842696629213  -0.0140449438202\n",
      "select_knn                     0.789325842697  0.758426966292  0.0308988764045\n",
      "scale_multilayer_perceptron    0.830056179775  0.814606741573  0.0154494382022\n",
      "logistic_regression            0.828651685393  0.842696629213  -0.0140449438202\n",
      "interact_multilayer_perceptron 0.827247191011  0.595505617978  0.231741573034 \n",
      "select_svm                     0.782303370787  0.758426966292  0.0238764044944\n",
      "interact_knn                   0.72893258427   0.73595505618   -0.00702247191011\n",
      "interact_logistic_regression   0.830056179775  0.792134831461  0.0379213483146\n",
      "multilayer_perceptron          0.821629213483  0.803370786517  0.0182584269663\n",
      "select_adaboost                0.800561797753  0.831460674157  -0.0308988764045\n",
      "scale_adaboost                 0.794943820225  0.837078651685  -0.0421348314607\n",
      "scale_random_forest            0.825842696629  0.837078651685  -0.0112359550562\n",
      "scale_knn                      0.825842696629  0.808988764045  0.0168539325843\n",
      "scale_svm                      0.832865168539  0.814606741573  0.0182584269663\n",
      "interact_svm                   0.726123595506  0.752808988764  -0.0266853932584\n",
      "knn                            0.72893258427   0.73595505618   -0.00702247191011\n",
      "select_random_forest           0.816011235955  0.820224719101  -0.00421348314607\n",
      "svm                            0.72893258427   0.752808988764  -0.0238764044944\n",
      "select_multilayer_perceptron   0.828651685393  0.792134831461  0.0365168539326\n",
      "interact_adaboost              0.806179775281  0.786516853933  0.0196629213483\n",
      "select_logistic_regression     0.831460674157  0.848314606742  -0.0168539325843\n",
      "adaboost                       0.794943820225  0.837078651685  -0.0421348314607\n",
      "random_forest                  0.818820224719  0.85393258427   -0.0351123595506\n",
      "interact_random_forest         0.817415730337  0.825842696629  -0.00842696629213\n"
     ]
    }
   ],
   "source": [
    "format_str = '{0:<30} {1:<15} {2:<15} {3:<15}'\n",
    "\n",
    "print format_str.format(*['model','train score','test score','train-test'])\n",
    "print format_str.format(*['','','',''])\n",
    "for x in [[key,value.train_score_,value.test_score_,value.train_score_-value.test_score_] \\\n",
    "          for key,value in optimized_pipelines.iteritems()]:\n",
    "    print format_str.format(*x)"
   ]
  },
  {
   "cell_type": "markdown",
   "metadata": {},
   "source": [
    "This doesn't appear to result in many gains in this case.\n",
    "\n",
    "### All models with transformed data\n",
    "Setting the transform_type to 'pca' or 't-sne' will apply Principal Component Analysis or t-distributed stochastic neighbor embedding, respectively, to the data before applying the estimator:"
   ]
  },
  {
   "cell_type": "code",
   "execution_count": 428,
   "metadata": {
    "collapsed": false
   },
   "outputs": [
    {
     "name": "stdout",
     "output_type": "stream",
     "text": [
      "CPU times: user 8.93 s, sys: 1.12 s, total: 10 s\n",
      "Wall time: 1min 6s\n"
     ]
    }
   ],
   "source": [
    "%%time\n",
    "\n",
    "reload(dsl)\n",
    "\n",
    "classifiers = ['knn','logistic_regression','svm',\n",
    "               'multilayer_perceptron','random_forest','adaboost']\n",
    "\n",
    "prefix = 'pca'\n",
    "\n",
    "for estimator in classifiers:\n",
    "    # Set pipeline keyword arguments\n",
    "    optimized_pipeline_kwargs = {\n",
    "        'feature_selection_type': None,\n",
    "        'scale_type': None,\n",
    "        'feature_interactions': None,\n",
    "        'transform_type': 'pca'\n",
    "        }\n",
    "\n",
    "    # Initialize pipeline\n",
    "    optimized_pipeline = dsl.OptimizedPipeline(estimator,**optimized_pipeline_kwargs)\n",
    "    \n",
    "    # Set pipeline fitting parameters\n",
    "    fit_kwargs = {\n",
    "        'cv': 10,\n",
    "        'num_parameter_combos': None,\n",
    "        'n_jobs': -1,\n",
    "        'random_state': 6,\n",
    "        'suppress_output': True,\n",
    "        'use_default_param_dist': True,\n",
    "        'param_dist': None,\n",
    "        'test_size': 0.2\n",
    "    }\n",
    "    \n",
    "    # Fit data\n",
    "    optimized_pipeline.fit(X,y,**fit_kwargs)\n",
    "    \n",
    "    # Form name used to save optimized pipeline\n",
    "    pipeline_name = '%s_%s'%(prefix,estimator)\n",
    "    \n",
    "    # Save \n",
    "    optimized_pipelines[pipeline_name] = optimized_pipeline"
   ]
  },
  {
   "cell_type": "code",
   "execution_count": 429,
   "metadata": {
    "collapsed": false
   },
   "outputs": [
    {
     "name": "stdout",
     "output_type": "stream",
     "text": [
      "model                          train score     test score      train-test     \n",
      "                                                                              \n",
      "scale_logistic_regression      0.828651685393  0.842696629213  -0.0140449438202\n",
      "pca_random_forest              0.817415730337  0.786516853933  0.0308988764045\n",
      "select_knn                     0.789325842697  0.758426966292  0.0308988764045\n",
      "pca_multilayer_perceptron      0.827247191011  0.797752808989  0.0294943820225\n",
      "scale_multilayer_perceptron    0.830056179775  0.814606741573  0.0154494382022\n",
      "logistic_regression            0.828651685393  0.842696629213  -0.0140449438202\n",
      "interact_multilayer_perceptron 0.827247191011  0.595505617978  0.231741573034 \n",
      "pca_logistic_regression        0.828651685393  0.842696629213  -0.0140449438202\n",
      "select_svm                     0.782303370787  0.758426966292  0.0238764044944\n",
      "pca_adaboost                   0.803370786517  0.808988764045  -0.00561797752809\n",
      "interact_knn                   0.72893258427   0.73595505618   -0.00702247191011\n",
      "interact_logistic_regression   0.830056179775  0.792134831461  0.0379213483146\n",
      "pca_svm                        0.72893258427   0.752808988764  -0.0238764044944\n",
      "multilayer_perceptron          0.821629213483  0.803370786517  0.0182584269663\n",
      "select_adaboost                0.800561797753  0.831460674157  -0.0308988764045\n",
      "scale_adaboost                 0.794943820225  0.837078651685  -0.0421348314607\n",
      "scale_random_forest            0.825842696629  0.837078651685  -0.0112359550562\n",
      "scale_knn                      0.825842696629  0.808988764045  0.0168539325843\n",
      "scale_svm                      0.832865168539  0.814606741573  0.0182584269663\n",
      "interact_svm                   0.726123595506  0.752808988764  -0.0266853932584\n",
      "knn                            0.72893258427   0.73595505618   -0.00702247191011\n",
      "select_random_forest           0.816011235955  0.820224719101  -0.00421348314607\n",
      "svm                            0.72893258427   0.752808988764  -0.0238764044944\n",
      "pca_knn                        0.72893258427   0.73595505618   -0.00702247191011\n",
      "select_multilayer_perceptron   0.828651685393  0.792134831461  0.0365168539326\n",
      "interact_adaboost              0.806179775281  0.786516853933  0.0196629213483\n",
      "select_logistic_regression     0.831460674157  0.848314606742  -0.0168539325843\n",
      "adaboost                       0.794943820225  0.837078651685  -0.0421348314607\n",
      "random_forest                  0.818820224719  0.85393258427   -0.0351123595506\n",
      "interact_random_forest         0.817415730337  0.825842696629  -0.00842696629213\n"
     ]
    }
   ],
   "source": [
    "format_str = '{0:<30} {1:<15} {2:<15} {3:<15}'\n",
    "\n",
    "print format_str.format(*['model','train score','test score','train-test'])\n",
    "print format_str.format(*['','','',''])\n",
    "for x in [[key,value.train_score_,value.test_score_,value.train_score_-value.test_score_] for key,value in optimized_pipelines.iteritems()]:\n",
    "    print format_str.format(*x)"
   ]
  },
  {
   "cell_type": "markdown",
   "metadata": {},
   "source": [
    "Here's the use of t-SNE:"
   ]
  },
  {
   "cell_type": "code",
   "execution_count": 430,
   "metadata": {
    "collapsed": false
   },
   "outputs": [
    {
     "name": "stdout",
     "output_type": "stream",
     "text": [
      "CPU times: user 2min 35s, sys: 11.7 s, total: 2min 47s\n",
      "Wall time: 1h 1min 21s\n"
     ]
    }
   ],
   "source": [
    "%%time\n",
    "\n",
    "reload(dsl)\n",
    "\n",
    "classifiers = ['knn','logistic_regression','svm','multilayer_perceptron','random_forest','adaboost']\n",
    "\n",
    "prefix = 't_sne'\n",
    "\n",
    "for estimator in classifiers:\n",
    "    # Set pipeline keyword arguments\n",
    "    optimized_pipeline_kwargs = {\n",
    "        'feature_selection_type': None,\n",
    "        'scale_type': None,\n",
    "        'feature_interactions': None,\n",
    "        'transform_type': 't-sne'\n",
    "        }\n",
    "\n",
    "    # Initialize pipeline\n",
    "    optimized_pipeline = dsl.OptimizedPipeline(estimator,**optimized_pipeline_kwargs)\n",
    "    \n",
    "    # Set pipeline fitting parameters\n",
    "    fit_kwargs = {\n",
    "        'cv': 10,\n",
    "        'num_parameter_combos': None,\n",
    "        'n_jobs': -1,\n",
    "        'random_state': 6,\n",
    "        'suppress_output': True,\n",
    "        'use_default_param_dist': True,\n",
    "        'param_dist': None,\n",
    "        'test_size': 0.2\n",
    "    }\n",
    "    \n",
    "    # Fit data\n",
    "    optimized_pipeline.fit(X,y,**fit_kwargs)\n",
    "    \n",
    "    # Form name used to save optimized pipeline\n",
    "    pipeline_name = '%s_%s'%(prefix,estimator)\n",
    "    \n",
    "    # Save \n",
    "    optimized_pipelines[pipeline_name] = optimized_pipeline"
   ]
  },
  {
   "cell_type": "code",
   "execution_count": 431,
   "metadata": {
    "collapsed": false
   },
   "outputs": [
    {
     "name": "stdout",
     "output_type": "stream",
     "text": [
      "model                          train score     test score      train-test     \n",
      "                                                                              \n",
      "scale_logistic_regression      0.828651685393  0.842696629213  -0.0140449438202\n",
      "pca_random_forest              0.817415730337  0.786516853933  0.0308988764045\n",
      "select_knn                     0.789325842697  0.758426966292  0.0308988764045\n",
      "pca_multilayer_perceptron      0.827247191011  0.797752808989  0.0294943820225\n",
      "scale_multilayer_perceptron    0.830056179775  0.814606741573  0.0154494382022\n",
      "logistic_regression            0.828651685393  0.842696629213  -0.0140449438202\n",
      "interact_multilayer_perceptron 0.827247191011  0.595505617978  0.231741573034 \n",
      "pca_logistic_regression        0.828651685393  0.842696629213  -0.0140449438202\n",
      "t_sne_adaboost                 0.542134831461  0.550561797753  -0.00842696629213\n",
      "select_svm                     0.782303370787  0.758426966292  0.0238764044944\n",
      "pca_adaboost                   0.803370786517  0.808988764045  -0.00561797752809\n",
      "interact_knn                   0.72893258427   0.73595505618   -0.00702247191011\n",
      "interact_logistic_regression   0.830056179775  0.792134831461  0.0379213483146\n",
      "pca_svm                        0.72893258427   0.752808988764  -0.0238764044944\n",
      "t_sne_svm                      0.616573033708  0.606741573034  0.00983146067416\n",
      "multilayer_perceptron          0.821629213483  0.803370786517  0.0182584269663\n",
      "select_adaboost                0.800561797753  0.831460674157  -0.0308988764045\n",
      "scale_adaboost                 0.794943820225  0.837078651685  -0.0421348314607\n",
      "scale_random_forest            0.825842696629  0.837078651685  -0.0112359550562\n",
      "scale_knn                      0.825842696629  0.808988764045  0.0168539325843\n",
      "scale_svm                      0.832865168539  0.814606741573  0.0182584269663\n",
      "interact_svm                   0.726123595506  0.752808988764  -0.0266853932584\n",
      "knn                            0.72893258427   0.73595505618   -0.00702247191011\n",
      "select_random_forest           0.816011235955  0.820224719101  -0.00421348314607\n",
      "svm                            0.72893258427   0.752808988764  -0.0238764044944\n",
      "t_sne_multilayer_perceptron    0.634831460674  0.61797752809   0.0168539325843\n",
      "pca_knn                        0.72893258427   0.73595505618   -0.00702247191011\n",
      "select_multilayer_perceptron   0.828651685393  0.792134831461  0.0365168539326\n",
      "t_sne_logistic_regression      0.60393258427   0.606741573034  -0.00280898876405\n",
      "interact_adaboost              0.806179775281  0.786516853933  0.0196629213483\n",
      "select_logistic_regression     0.831460674157  0.848314606742  -0.0168539325843\n",
      "adaboost                       0.794943820225  0.837078651685  -0.0421348314607\n",
      "random_forest                  0.818820224719  0.85393258427   -0.0351123595506\n",
      "t_sne_random_forest            0.549157303371  0.578651685393  -0.0294943820225\n",
      "t_sne_knn                      0.613764044944  0.584269662921  0.0294943820225\n",
      "interact_random_forest         0.817415730337  0.825842696629  -0.00842696629213\n"
     ]
    }
   ],
   "source": [
    "format_str = '{0:<30} {1:<15} {2:<15} {3:<15}'\n",
    "\n",
    "print format_str.format(*['model','train score','test score','train-test'])\n",
    "print format_str.format(*['','','',''])\n",
    "for x in [[key,value.train_score_,value.test_score_,value.train_score_-value.test_score_] for key,value in optimized_pipelines.iteritems()]:\n",
    "    print format_str.format(*x)"
   ]
  },
  {
   "cell_type": "markdown",
   "metadata": {},
   "source": [
    "Wow, that took forever.\n",
    "\n",
    "We can get a better idea on how long this will take by setting the num_parameter_combos keyword argument. Setting this will only allow that number of grid combinations to be used for each run:"
   ]
  },
  {
   "cell_type": "code",
   "execution_count": 437,
   "metadata": {
    "collapsed": false
   },
   "outputs": [
    {
     "name": "stdout",
     "output_type": "stream",
     "text": [
      "CPU times: user 2min 29s, sys: 9.81 s, total: 2min 39s\n",
      "Wall time: 7min 44s\n"
     ]
    }
   ],
   "source": [
    "%%time\n",
    "\n",
    "reload(dsl)\n",
    "\n",
    "classifiers = ['knn','logistic_regression','svm',\n",
    "               'multilayer_perceptron','random_forest','adaboost']\n",
    "\n",
    "prefix = 't_sne_less_combo'\n",
    "\n",
    "for estimator in classifiers:\n",
    "    # Set pipeline keyword arguments\n",
    "    optimized_pipeline_kwargs = {\n",
    "        'feature_selection_type': None,\n",
    "        'scale_type': None,\n",
    "        'feature_interactions': None,\n",
    "        'transform_type': 't-sne'\n",
    "        }\n",
    "\n",
    "    # Initialize pipeline\n",
    "    optimized_pipeline = dsl.OptimizedPipeline(estimator,**optimized_pipeline_kwargs)\n",
    "    \n",
    "    # Set pipeline fitting parameters\n",
    "    fit_kwargs = {\n",
    "        'cv': 10,\n",
    "        'num_parameter_combos': 1,\n",
    "        'n_jobs': -1,\n",
    "        'random_state': 6,\n",
    "        'suppress_output': True,\n",
    "        'use_default_param_dist': True,\n",
    "        'param_dist': None,\n",
    "        'test_size': 0.2\n",
    "    }\n",
    "    \n",
    "    # Fit data\n",
    "    optimized_pipeline.fit(X,y,**fit_kwargs)\n",
    "    \n",
    "    # Form name used to save optimized pipeline\n",
    "    pipeline_name = '%s_%s'%(prefix,estimator)\n",
    "    \n",
    "    # Save \n",
    "    optimized_pipelines[pipeline_name] = optimized_pipeline"
   ]
  },
  {
   "cell_type": "markdown",
   "metadata": {},
   "source": [
    "Applying t-sne to the data and then testing the 6 classifiers takes about 7 min. This could be optimized by pre-transforming the data once and then applying the classifiers. I'm thinking of creating some sort of container class that should be able to optimize this in the future.\n",
    "\n",
    "### SelectKBest, standard scaling, and all classifiers\n",
    "Finally, here we appply feature selection and standard scaling for all 6 classifiers:"
   ]
  },
  {
   "cell_type": "code",
   "execution_count": 442,
   "metadata": {
    "collapsed": false
   },
   "outputs": [
    {
     "name": "stdout",
     "output_type": "stream",
     "text": [
      "CPU times: user 1min 25s, sys: 4.91 s, total: 1min 30s\n",
      "Wall time: 11min 33s\n"
     ]
    }
   ],
   "source": [
    "%%time\n",
    "\n",
    "reload(dsl)\n",
    "\n",
    "classifiers = ['knn','logistic_regression','svm',\n",
    "               'multilayer_perceptron','random_forest','adaboost']\n",
    "\n",
    "prefix = 'select_standard'\n",
    "\n",
    "for estimator in classifiers:\n",
    "    # Set pipeline keyword arguments\n",
    "    optimized_pipeline_kwargs = {\n",
    "        'feature_selection_type': 'select_k_best',\n",
    "        'scale_type': 'standard',\n",
    "        'feature_interactions': None,\n",
    "        'transform_type': None\n",
    "        }\n",
    "\n",
    "    # Initialize pipeline\n",
    "    optimized_pipeline = dsl.OptimizedPipeline(estimator,**optimized_pipeline_kwargs)\n",
    "    \n",
    "    # Set pipeline fitting parameters\n",
    "    fit_kwargs = {\n",
    "        'cv': 10,\n",
    "        'num_parameter_combos': None,\n",
    "        'n_jobs': -1,\n",
    "        'random_state': 6,\n",
    "        'suppress_output': True,\n",
    "        'use_default_param_dist': True,\n",
    "        'param_dist': None,\n",
    "        'test_size': 0.2\n",
    "    }\n",
    "    \n",
    "    # Fit data\n",
    "    optimized_pipeline.fit(X,y,**fit_kwargs)\n",
    "    \n",
    "    # Form name used to save optimized pipeline\n",
    "    pipeline_name = '%s_%s'%(prefix,estimator)\n",
    "    \n",
    "    # Save \n",
    "    optimized_pipelines[pipeline_name] = optimized_pipeline"
   ]
  },
  {
   "cell_type": "code",
   "execution_count": 443,
   "metadata": {
    "collapsed": false
   },
   "outputs": [
    {
     "name": "stdout",
     "output_type": "stream",
     "text": [
      "model                                    train score     test score      train-test     \n",
      "                                                                                        \n",
      "t_sne_less_combo_logistic_regression     0.584269662921  0.674157303371  -0.0898876404494\n",
      "scale_logistic_regression                0.828651685393  0.842696629213  -0.0140449438202\n",
      "pca_random_forest                        0.817415730337  0.786516853933  0.0308988764045\n",
      "select_knn                               0.789325842697  0.758426966292  0.0308988764045\n",
      "pca_multilayer_perceptron                0.827247191011  0.797752808989  0.0294943820225\n",
      "scale_multilayer_perceptron              0.830056179775  0.814606741573  0.0154494382022\n",
      "logistic_regression                      0.828651685393  0.842696629213  -0.0140449438202\n",
      "select_standard_multilayer_perceptron    0.832865168539  0.803370786517  0.0294943820225\n",
      "interact_multilayer_perceptron           0.827247191011  0.595505617978  0.231741573034 \n",
      "pca_logistic_regression                  0.828651685393  0.842696629213  -0.0140449438202\n",
      "t_sne_adaboost                           0.542134831461  0.550561797753  -0.00842696629213\n",
      "t_sne_less_combo_adaboost                0.542134831461  0.550561797753  -0.00842696629213\n",
      "select_svm                               0.782303370787  0.758426966292  0.0238764044944\n",
      "pca_adaboost                             0.803370786517  0.808988764045  -0.00561797752809\n",
      "interact_knn                             0.72893258427   0.73595505618   -0.00702247191011\n",
      "t_sne_less_combo_random_forest           0.533707865169  0.573033707865  -0.0393258426966\n",
      "t_sne_less_combo_multilayer_perceptron   0.609550561798  0.567415730337  0.0421348314607\n",
      "interact_logistic_regression             0.830056179775  0.792134831461  0.0379213483146\n",
      "select_standard_svm                      0.837078651685  0.825842696629  0.0112359550562\n",
      "pca_svm                                  0.72893258427   0.752808988764  -0.0238764044944\n",
      "select_standard_logistic_regression      0.831460674157  0.848314606742  -0.0168539325843\n",
      "t_sne_svm                                0.616573033708  0.606741573034  0.00983146067416\n",
      "multilayer_perceptron                    0.821629213483  0.803370786517  0.0182584269663\n",
      "select_standard_random_forest            0.816011235955  0.842696629213  -0.0266853932584\n",
      "select_standard_knn                      0.828651685393  0.814606741573  0.0140449438202\n",
      "t_sne_less_combo_knn                     0.608146067416  0.589887640449  0.0182584269663\n",
      "select_adaboost                          0.800561797753  0.831460674157  -0.0308988764045\n",
      "select_standard_adaboost                 0.800561797753  0.831460674157  -0.0308988764045\n",
      "scale_adaboost                           0.794943820225  0.837078651685  -0.0421348314607\n",
      "t_sne_less_combo_svm                     0.616573033708  0.606741573034  0.00983146067416\n",
      "scale_random_forest                      0.825842696629  0.837078651685  -0.0112359550562\n",
      "scale_knn                                0.825842696629  0.808988764045  0.0168539325843\n",
      "scale_svm                                0.832865168539  0.814606741573  0.0182584269663\n",
      "interact_svm                             0.726123595506  0.752808988764  -0.0266853932584\n",
      "knn                                      0.72893258427   0.73595505618   -0.00702247191011\n",
      "select_random_forest                     0.816011235955  0.820224719101  -0.00421348314607\n",
      "svm                                      0.72893258427   0.752808988764  -0.0238764044944\n",
      "t_sne_multilayer_perceptron              0.634831460674  0.61797752809   0.0168539325843\n",
      "pca_knn                                  0.72893258427   0.73595505618   -0.00702247191011\n",
      "select_multilayer_perceptron             0.828651685393  0.792134831461  0.0365168539326\n",
      "t_sne_logistic_regression                0.60393258427   0.606741573034  -0.00280898876405\n",
      "interact_adaboost                        0.806179775281  0.786516853933  0.0196629213483\n",
      "select_logistic_regression               0.831460674157  0.848314606742  -0.0168539325843\n",
      "adaboost                                 0.794943820225  0.837078651685  -0.0421348314607\n",
      "random_forest                            0.818820224719  0.85393258427   -0.0351123595506\n",
      "t_sne_random_forest                      0.549157303371  0.578651685393  -0.0294943820225\n",
      "t_sne_knn                                0.613764044944  0.584269662921  0.0294943820225\n",
      "interact_random_forest                   0.817415730337  0.825842696629  -0.00842696629213\n"
     ]
    }
   ],
   "source": [
    "format_str = '{0:<40} {1:<15} {2:<15} {3:<15}'\n",
    "\n",
    "print format_str.format(*['model','train score','test score','train-test'])\n",
    "print format_str.format(*['','','',''])\n",
    "for x in [[key,value.train_score_,value.test_score_,value.train_score_-value.test_score_] for key,value in optimized_pipelines.iteritems()]:\n",
    "    print format_str.format(*x)"
   ]
  },
  {
   "cell_type": "code",
   "execution_count": 494,
   "metadata": {
    "collapsed": false
   },
   "outputs": [
    {
     "data": {
      "text/plain": [
       "48"
      ]
     },
     "execution_count": 494,
     "metadata": {},
     "output_type": "execute_result"
    }
   ],
   "source": [
    "len(optimized_pipelines)"
   ]
  },
  {
   "cell_type": "markdown",
   "metadata": {},
   "source": [
    "With 48 different pre-processing/transformation/classification combinations, this has become rather unwieldy. \n",
    "\n",
    "Here I make a quick dataframe of the test/train scores and visualize:"
   ]
  },
  {
   "cell_type": "code",
   "execution_count": 495,
   "metadata": {
    "collapsed": false
   },
   "outputs": [],
   "source": [
    "%matplotlib inline\n",
    "\n",
    "model_indices = optimized_pipelines.keys()\n",
    "train_scores = [value.train_score_ for key,value in optimized_pipelines.iteritems()]\n",
    "test_scores = [value.test_score_ for key,value in optimized_pipelines.iteritems()]\n",
    "\n",
    "score_df = pd.DataFrame({'training_score':train_scores,'test_score':test_scores},\n",
    "                        index=model_indices)\n",
    "\n",
    "score_df['test-train'] = score_df['test_score']-score_df['training_score']"
   ]
  },
  {
   "cell_type": "code",
   "execution_count": 508,
   "metadata": {
    "collapsed": false
   },
   "outputs": [
    {
     "data": {
      "text/plain": [
       "<matplotlib.axes._subplots.AxesSubplot at 0x1298b5ed0>"
      ]
     },
     "execution_count": 508,
     "metadata": {},
     "output_type": "execute_result"
    },
    {
     "data": {
      "image/png": "[encoded data removed]",
      "text/plain": [
       "<matplotlib.figure.Figure at 0x1298c8a50>"
      ]
     },
     "metadata": {},
     "output_type": "display_data"
    }
   ],
   "source": [
    "score_df['test_score'].sort_values().plot(kind='barh',figsize=(10,20))"
   ]
  },
  {
   "cell_type": "markdown",
   "metadata": {},
   "source": [
    "The best training score was acheived by the random forest classifier."
   ]
  },
  {
   "cell_type": "code",
   "execution_count": 510,
   "metadata": {
    "collapsed": false
   },
   "outputs": [
    {
     "data": {
      "text/plain": [
       "<matplotlib.axes._subplots.AxesSubplot at 0x129794590>"
      ]
     },
     "execution_count": 510,
     "metadata": {},
     "output_type": "execute_result"
    },
    {
     "data": {
      "image/png": "[encoded data removed]",
      "text/plain": [
       "<matplotlib.figure.Figure at 0x12a463390>"
      ]
     },
     "metadata": {},
     "output_type": "display_data"
    }
   ],
   "source": [
    "score_df['test-train'].sort_values().plot(kind='barh',figsize=(10,20))"
   ]
  },
  {
   "cell_type": "code",
   "execution_count": 511,
   "metadata": {
    "collapsed": false
   },
   "outputs": [
    {
     "data": {
      "text/plain": [
       "<matplotlib.text.Text at 0x12b8bcc10>"
      ]
     },
     "execution_count": 511,
     "metadata": {},
     "output_type": "execute_result"
    },
    {
     "data": {
      "image/png": "[encoded data removed]",
      "text/plain": [
       "<matplotlib.figure.Figure at 0x12b6c2e90>"
      ]
     },
     "metadata": {},
     "output_type": "display_data"
    }
   ],
   "source": [
    "ax = score_df.plot(x=['test_score'],y='test-train',style='o',legend=None)\n",
    "\n",
    "ax.set_xlabel('test score')\n",
    "ax.set_ylabel('test-train')"
   ]
  },
  {
   "cell_type": "markdown",
   "metadata": {},
   "source": [
    "So the best model was random forest.\n",
    "\n",
    "Here's the report for the model:"
   ]
  },
  {
   "cell_type": "code",
   "execution_count": 462,
   "metadata": {
    "collapsed": false
   },
   "outputs": [
    {
     "name": "stdout",
     "output_type": "stream",
     "text": [
      "\n",
      "Pipeline:\n",
      "\n",
      "1: estimator   RandomForestClassifier           \n",
      "                                              \n",
      "               warm_start           = 0         \n",
      "               oob_score            = 0         \n",
      "               n_jobs               = 1         \n",
      "               verbose              = 0         \n",
      "               max_leaf_nodes       = None      \n",
      "               bootstrap            = 1         \n",
      "               min_samples_leaf     = 1         \n",
      "               n_estimators         = 96        \n",
      "               min_samples_split    = 2         \n",
      "               min_weight_fraction_leaf = 0.0       \n",
      "               criterion            = gini      \n",
      "               random_state         = None      \n",
      "               min_impurity_split   = 1e-07     \n",
      "               max_features         = auto      \n",
      "               max_depth            = None      \n",
      "               class_weight         = None      \n",
      "                                              \n",
      "\n",
      "Training set classification accuracy:\t0.819\n",
      "Test set classification accuracy:\t0.854\n",
      "\n",
      "Confusion matrix:\n",
      "\n",
      "[[96 10]\n",
      " [16 56]]\n",
      "\n",
      "Normalized confusion matrix:\n",
      "\n",
      "[[ 0.53932584  0.05617978]\n",
      " [ 0.08988764  0.31460674]]\n",
      "\n",
      "Classification report:\n",
      "\n",
      "             precision    recall  f1-score   support\n",
      "\n",
      "          0       0.86      0.91      0.88       106\n",
      "          1       0.85      0.78      0.81        72\n",
      "\n",
      "avg / total       0.85      0.85      0.85       178\n",
      "\n",
      "\n",
      "Grid search parameters:\n",
      "\n",
      "               scoring              = accuracy  \n",
      "               n_jobs               = -1        \n",
      "               verbose              = 0         \n",
      "               fit_params           = {}        \n",
      "               refit                = 1         \n",
      "               iid                  = 1         \n",
      "               error_score          = raise     \n",
      "               pre_dispatch         = 2*n_jobs  \n",
      "               param_grid           = {'estimator__n_estimators': [90, 91, 92, 93, 94, 95, 96, 97, 98, 99]}\n",
      "               cv                   = 10        \n",
      "                                              \n",
      "Best parameters:                               \n",
      "                                              \n",
      "               estimator__n_estimators = 96        \n",
      "\n"
     ]
    }
   ],
   "source": [
    "print optimized_pipelines['random_forest']"
   ]
  }
 ],
 "metadata": {
  "anaconda-cloud": {},
  "kernelspec": {
   "display_name": "Python [default]",
   "language": "python",
   "name": "python2"
  },
  "language_info": {
   "codemirror_mode": {
    "name": "ipython",
    "version": 2
   },
   "file_extension": ".py",
   "mimetype": "text/x-python",
   "name": "python",
   "nbconvert_exporter": "python",
   "pygments_lexer": "ipython2",
   "version": "2.7.12"
  }
 },
 "nbformat": 4,
 "nbformat_minor": 0
}
