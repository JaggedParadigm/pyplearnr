{
 "cells": [
  {
   "cell_type": "markdown",
   "metadata": {},
   "source": [
    "# Data Science Library demo\n",
    "Here I demonstrate the data science library I developed to quickly build scikit learn pipelines with optional scaling, feature interaction, data transformation (e.g. PCA, t-SNE) steps. It runs the pipeline through a grid-search (all combinations or a specific number of them) stratified (if classification) k-folds cross-validation and outputs the best model.\n",
    "\n",
    "## Titanic dataset\n",
    "Here I use the Titanic dataset I've cleaned and pickled in a separate tutorial.\n",
    "\n",
    "### Import data"
   ]
  },
  {
   "cell_type": "code",
   "execution_count": 2,
   "metadata": {
    "collapsed": false
   },
   "outputs": [
    {
     "name": "stdout",
     "output_type": "stream",
     "text": [
      "<class 'pandas.core.frame.DataFrame'>\n",
      "RangeIndex: 891 entries, 0 to 890\n",
      "Data columns (total 9 columns):\n",
      "Survived    891 non-null int64\n",
      "Pclass      891 non-null int64\n",
      "Sex         891 non-null object\n",
      "Age         891 non-null float64\n",
      "SibSp       891 non-null int64\n",
      "Parch       891 non-null int64\n",
      "Fare        891 non-null float64\n",
      "Embarked    891 non-null object\n",
      "Title       891 non-null object\n",
      "dtypes: float64(2), int64(4), object(3)\n",
      "memory usage: 62.7+ KB\n"
     ]
    }
   ],
   "source": [
    "import pandas as pd\n",
    "\n",
    "df = pd.read_pickle('trimmed_titanic_data.pkl')\n",
    "\n",
    "df.info()"
   ]
  },
  {
   "cell_type": "markdown",
   "metadata": {},
   "source": [
    "By \"cleaned\" I mean I've derived titles (e.g. \"Mr.\", \"Mrs.\", \"Dr.\", etc) from the passenger names, imputed the missing Age values using polynomial regression with grid-searched 10-fold cross-validation, filled in the 3 missing Embarked values with the mode, and removed all fields that could be considered an id for that individual.\n",
    "\n",
    "Thus, there is no missing data.\n",
    "\n",
    "## One-hot encode categorical features"
   ]
  },
  {
   "cell_type": "code",
   "execution_count": 3,
   "metadata": {
    "collapsed": false
   },
   "outputs": [
    {
     "name": "stdout",
     "output_type": "stream",
     "text": [
      "<class 'pandas.core.frame.DataFrame'>\n",
      "RangeIndex: 891 entries, 0 to 890\n",
      "Data columns (total 16 columns):\n",
      "Survived          891 non-null int64\n",
      "Pclass            891 non-null int64\n",
      "Age               891 non-null float64\n",
      "SibSp             891 non-null int64\n",
      "Parch             891 non-null int64\n",
      "Fare              891 non-null float64\n",
      "Sex_male          891 non-null uint8\n",
      "Embarked_Q        891 non-null uint8\n",
      "Embarked_S        891 non-null uint8\n",
      "Title_Dr          891 non-null uint8\n",
      "Title_Military    891 non-null uint8\n",
      "Title_Miss        891 non-null uint8\n",
      "Title_Mr          891 non-null uint8\n",
      "Title_Mrs         891 non-null uint8\n",
      "Title_Noble       891 non-null uint8\n",
      "Title_Rev         891 non-null uint8\n",
      "dtypes: float64(2), int64(4), uint8(10)\n",
      "memory usage: 50.5 KB\n"
     ]
    }
   ],
   "source": [
    "simulation_df = df.copy()\n",
    "\n",
    "simulation_df = pd.get_dummies(simulation_df,drop_first=True)\n",
    "\n",
    "simulation_df.info()"
   ]
  },
  {
   "cell_type": "markdown",
   "metadata": {},
   "source": [
    "Now we have 16 features.\n",
    "\n",
    "### Split into input/output data"
   ]
  },
  {
   "cell_type": "code",
   "execution_count": 4,
   "metadata": {
    "collapsed": true
   },
   "outputs": [],
   "source": [
    "# Set output feature\n",
    "output_feature = 'Survived'\n",
    "\n",
    "# Get all column names\n",
    "column_names = list(simulation_df.columns)\n",
    "\n",
    "# Exclude one of every categorical variable since the other one-hot encodings cover everything\n",
    "input_features = [x for x in column_names if x != output_feature]\n",
    "\n",
    "# Split into features and responses\n",
    "X = simulation_df[input_features].copy()\n",
    "y = simulation_df[output_feature].copy()"
   ]
  },
  {
   "cell_type": "markdown",
   "metadata": {},
   "source": [
    "### Null model"
   ]
  },
  {
   "cell_type": "code",
   "execution_count": 5,
   "metadata": {
    "collapsed": false
   },
   "outputs": [
    {
     "data": {
      "text/plain": [
       "array([ 0.61616162,  0.38383838])"
      ]
     },
     "execution_count": 5,
     "metadata": {},
     "output_type": "execute_result"
    }
   ],
   "source": [
    "simulation_df['Survived'].value_counts().values/float(simulation_df['Survived'].value_counts().values.sum())"
   ]
  },
  {
   "cell_type": "markdown",
   "metadata": {},
   "source": [
    "Thus, null accuracy of ~62% if always predict death.\n",
    "\n",
    "### Import data science library and initialize model collections"
   ]
  },
  {
   "cell_type": "code",
   "execution_count": 97,
   "metadata": {
    "collapsed": false
   },
   "outputs": [],
   "source": [
    "import data_science_lib as dsl\n",
    "\n",
    "models = {}"
   ]
  },
  {
   "cell_type": "markdown",
   "metadata": {},
   "source": [
    "### KNN\n",
    "Here I do a simple K-nearest neighbors (KNN) classification with 10-fold (default) cross-validation with a grid search over the default of 1 to 30 nearest neighbors and the use of either \"uniform\" or \"distance\" weights:"
   ]
  },
  {
   "cell_type": "code",
   "execution_count": 98,
   "metadata": {
    "collapsed": false
   },
   "outputs": [
    {
     "name": "stdout",
     "output_type": "stream",
     "text": [
      "Grid parameters:\n",
      "estimator__n_neighbors : [1, 2, 3, 4, 5, 6, 7, 8, 9, 10, 11, 12, 13, 14, 15, 16, 17, 18, 19, 20, 21, 22, 23, 24, 25, 26, 27, 28, 29, 30]\n",
      "estimator__weights : ['uniform', 'distance']\n",
      "\n",
      "Training set classification accuracy:  0.731741573034\n",
      "\n",
      "Test set classification accuracy:  0.748603351955\n",
      "Confusion matrix: \n",
      "\n",
      " [[96 17]\n",
      " [28 38]]\n",
      "\n",
      "Normalized confusion matrix: \n",
      "\n",
      " [[ 0.53631285  0.09497207]\n",
      " [ 0.15642458  0.2122905 ]]\n",
      "\n",
      "Classification report: \n",
      "\n",
      "              precision    recall  f1-score   support\n",
      "\n",
      "          0       0.77      0.85      0.81       113\n",
      "          1       0.69      0.58      0.63        66\n",
      "\n",
      "avg / total       0.74      0.75      0.74       179\n",
      "\n",
      "\n",
      "Best parameters:\n",
      "\n",
      "{'estimator__n_neighbors': 30, 'estimator__weights': 'distance'}\n",
      "\n",
      " Pipeline(steps=[('estimator', KNeighborsClassifier(algorithm='auto', leaf_size=30, metric='minkowski',\n",
      "           metric_params=None, n_jobs=1, n_neighbors=30, p=2,\n",
      "           weights='distance'))])\n",
      "CPU times: user 1.78 s, sys: 140 ms, total: 1.92 s\n",
      "Wall time: 2.3 s\n"
     ]
    }
   ],
   "source": [
    "%%time \n",
    "reload(dsl)\n",
    "        \n",
    "# Figure out best model\n",
    "models['knn'] = dsl.train_model(X,y,\n",
    "                                use_default_param_dist=True,\n",
    "                                random_state=6,\n",
    "                                suppress_output=False, # Can suppress print outs if desired\n",
    "                                estimator='knn',) "
   ]
  },
  {
   "cell_type": "markdown",
   "metadata": {},
   "source": [
    "Turns out that the best settings are 30 neighbors and the use of the 'distance' weight.\n",
    "\n",
    "Note how I've set the random_state to 6 so that the models can be compared using the same test/train split.\n",
    "\n",
    "The output of the train_model() method is a Pipeline object with the optimal parameters found during the grid search and trained on all data.\n",
    "\n",
    "Additional fields have been added to the pipeline object. These extra parameters are the type of score ('regression' or 'classification'), '.score_type', the training score (L2 norm for regression and classification accuracy for classification), '.train_score', the corresponding test score, '.test_score'. \n",
    "\n",
    "For classification problems, additional parameters also include the confusion matrix, '.confusion_matrix', normalized confusion matrix, '.normalized_confusion_matrix', and the classification report, '.classification_report'.\n",
    "\n",
    "Here are the outputs of these additional parameters:"
   ]
  },
  {
   "cell_type": "code",
   "execution_count": 99,
   "metadata": {
    "collapsed": false
   },
   "outputs": [
    {
     "name": "stdout",
     "output_type": "stream",
     "text": [
      "classification\n",
      "0.731741573034\n",
      "0.748603351955\n",
      "{'estimator__n_neighbors': 30, 'estimator__weights': 'distance'}\n",
      "[[96 17]\n",
      " [28 38]]\n",
      "[[ 0.53631285  0.09497207]\n",
      " [ 0.15642458  0.2122905 ]]\n",
      "             precision    recall  f1-score   support\n",
      "\n",
      "          0       0.77      0.85      0.81       113\n",
      "          1       0.69      0.58      0.63        66\n",
      "\n",
      "avg / total       0.74      0.75      0.74       179\n",
      "\n"
     ]
    }
   ],
   "source": [
    "pipeline = models['knn']\n",
    "\n",
    "# Score type and training/test scores\n",
    "print(pipeline.score_type)\n",
    "\n",
    "print(pipeline.train_score)\n",
    "\n",
    "print(pipeline.test_score)\n",
    "\n",
    "# Best parameters\n",
    "print(pipeline.best_parameters)\n",
    "\n",
    "# Confusion matrix, if classification\n",
    "print(pipeline.confusion_matrix) \n",
    "\n",
    "# Confusion matrix divided by its total sum\n",
    "print(pipeline.normalized_confusion_matrix)\n",
    "\n",
    "# Classification report\n",
    "print(pipeline.classification_report)"
   ]
  },
  {
   "cell_type": "markdown",
   "metadata": {},
   "source": [
    "### Standard scale, knn\n",
    "Here I do a standard scaling of the input and then train with a KNN estimator:"
   ]
  },
  {
   "cell_type": "code",
   "execution_count": 100,
   "metadata": {
    "collapsed": false
   },
   "outputs": [
    {
     "name": "stdout",
     "output_type": "stream",
     "text": [
      "Grid parameters:\n",
      "estimator__n_neighbors : [1, 2, 3, 4, 5, 6, 7, 8, 9, 10, 11, 12, 13, 14, 15, 16, 17, 18, 19, 20, 21, 22, 23, 24, 25, 26, 27, 28, 29, 30]\n",
      "estimator__weights : ['uniform', 'distance']\n",
      "\n",
      "Training set classification accuracy:  0.832865168539\n",
      "\n",
      "Test set classification accuracy:  0.821229050279\n",
      "Confusion matrix: \n",
      "\n",
      " [[100  13]\n",
      " [ 19  47]]\n",
      "\n",
      "Normalized confusion matrix: \n",
      "\n",
      " [[ 0.55865922  0.0726257 ]\n",
      " [ 0.10614525  0.26256983]]\n",
      "\n",
      "Classification report: \n",
      "\n",
      "              precision    recall  f1-score   support\n",
      "\n",
      "          0       0.84      0.88      0.86       113\n",
      "          1       0.78      0.71      0.75        66\n",
      "\n",
      "avg / total       0.82      0.82      0.82       179\n",
      "\n",
      "\n",
      "Best parameters:\n",
      "\n",
      "{'estimator__n_neighbors': 7, 'estimator__weights': 'uniform'}\n",
      "\n",
      " Pipeline(steps=[('scaler', StandardScaler(copy=True, with_mean=True, with_std=True)), ('estimator', KNeighborsClassifier(algorithm='auto', leaf_size=30, metric='minkowski',\n",
      "           metric_params=None, n_jobs=1, n_neighbors=7, p=2,\n",
      "           weights='uniform'))])\n",
      "CPU times: user 2.4 s, sys: 159 ms, total: 2.56 s\n",
      "Wall time: 3.06 s\n"
     ]
    }
   ],
   "source": [
    "%%time \n",
    "reload(dsl)\n",
    "        \n",
    "# Figure out best model\n",
    "models['scaled_knn'] = dsl.train_model(X,y,\n",
    "                                       use_default_param_dist=True,\n",
    "                                       random_state=6,\n",
    "                                       suppress_output=False,\n",
    "                                       scale_type='standard',\n",
    "                                       estimator='knn') # Can suppress print outs if desired"
   ]
  },
  {
   "cell_type": "markdown",
   "metadata": {},
   "source": [
    "Scaling improved the test score by about 8%.\n",
    "\n",
    "### Feature selection, scaling, and KNN\n",
    "We can also do combinatorial feature selection with scikit learn's SelectKBest:"
   ]
  },
  {
   "cell_type": "code",
   "execution_count": 101,
   "metadata": {
    "collapsed": false
   },
   "outputs": [
    {
     "name": "stdout",
     "output_type": "stream",
     "text": [
      "Grid parameters:\n",
      "estimator__n_neighbors : [1, 2, 3, 4, 5, 6, 7, 8, 9, 10, 11, 12, 13, 14, 15, 16, 17, 18, 19, 20, 21, 22, 23, 24, 25, 26, 27, 28, 29, 30]\n",
      "feature_selection__k : [1, 2, 3, 4, 5, 6, 7, 8, 9, 10, 11, 12, 13, 14, 15]\n",
      "estimator__weights : ['uniform', 'distance']\n",
      "\n",
      "Training set classification accuracy:  0.835674157303\n",
      "\n",
      "Test set classification accuracy:  0.832402234637\n",
      "Confusion matrix: \n",
      "\n",
      " [[102  11]\n",
      " [ 19  47]]\n",
      "\n",
      "Normalized confusion matrix: \n",
      "\n",
      " [[ 0.5698324   0.06145251]\n",
      " [ 0.10614525  0.26256983]]\n",
      "\n",
      "Classification report: \n",
      "\n",
      "              precision    recall  f1-score   support\n",
      "\n",
      "          0       0.84      0.90      0.87       113\n",
      "          1       0.81      0.71      0.76        66\n",
      "\n",
      "avg / total       0.83      0.83      0.83       179\n",
      "\n",
      "\n",
      "Best parameters:\n",
      "\n",
      "{'estimator__n_neighbors': 7, 'feature_selection__k': 12, 'estimator__weights': 'uniform'}\n",
      "\n",
      " Pipeline(steps=[('feature_selection', SelectKBest(k=12, score_func=<function f_classif at 0x10d9847d0>)), ('scaler', StandardScaler(copy=True, with_mean=True, with_std=True)), ('estimator', KNeighborsClassifier(algorithm='auto', leaf_size=30, metric='minkowski',\n",
      "           metric_params=None, n_jobs=1, n_neighbors=7, p=2,\n",
      "           weights='uniform'))])\n",
      "CPU times: user 42.5 s, sys: 2.02 s, total: 44.6 s\n",
      "Wall time: 50.7 s\n"
     ]
    }
   ],
   "source": [
    "%%time \n",
    "reload(dsl)\n",
    "        \n",
    "# Figure out best model\n",
    "models['feature_select_scaled_knn'] = dsl.train_model(X,y,\n",
    "                                                      use_default_param_dist=True,\n",
    "                                                      random_state=6,\n",
    "                                                      suppress_output=False,\n",
    "                                                      feature_selection_type='select_k_best',\n",
    "                                                      scale_type='standard',\n",
    "                                                      estimator='knn') # Can suppress print outs if desired"
   ]
  },
  {
   "cell_type": "markdown",
   "metadata": {},
   "source": [
    "This appeared to improve the test score by about 1% and took quite a bit longer because we searched over every single combination of the scaling, feature selection, and estimator parameters. \n",
    "\n",
    "We can speed this up a bit by specifying a smaller number of parameter combinations using the num_parameter_combos keyword argument:"
   ]
  },
  {
   "cell_type": "code",
   "execution_count": 103,
   "metadata": {
    "collapsed": false
   },
   "outputs": [
    {
     "name": "stdout",
     "output_type": "stream",
     "text": [
      "Grid parameters:\n",
      "estimator__n_neighbors : [1, 2, 3, 4, 5, 6, 7, 8, 9, 10, 11, 12, 13, 14, 15, 16, 17, 18, 19, 20, 21, 22, 23, 24, 25, 26, 27, 28, 29, 30]\n",
      "feature_selection__k : [1, 2, 3, 4, 5, 6, 7, 8, 9, 10, 11, 12, 13, 14, 15]\n",
      "estimator__weights : ['uniform', 'distance']\n",
      "\n",
      "Training set classification accuracy:  0.830056179775\n",
      "\n",
      "Test set classification accuracy:  0.832402234637\n",
      "Confusion matrix: \n",
      "\n",
      " [[103  10]\n",
      " [ 20  46]]\n",
      "\n",
      "Normalized confusion matrix: \n",
      "\n",
      " [[ 0.57541899  0.05586592]\n",
      " [ 0.11173184  0.25698324]]\n",
      "\n",
      "Classification report: \n",
      "\n",
      "              precision    recall  f1-score   support\n",
      "\n",
      "          0       0.84      0.91      0.87       113\n",
      "          1       0.82      0.70      0.75        66\n",
      "\n",
      "avg / total       0.83      0.83      0.83       179\n",
      "\n",
      "\n",
      "Best parameters:\n",
      "\n",
      "{'estimator__n_neighbors': 8, 'feature_selection__k': 13, 'estimator__weights': 'uniform'}\n",
      "\n",
      " Pipeline(steps=[('feature_selection', SelectKBest(k=13, score_func=<function f_classif at 0x10d9847d0>)), ('scaler', StandardScaler(copy=True, with_mean=True, with_std=True)), ('estimator', KNeighborsClassifier(algorithm='auto', leaf_size=30, metric='minkowski',\n",
      "           metric_params=None, n_jobs=1, n_neighbors=8, p=2,\n",
      "           weights='uniform'))])\n",
      "CPU times: user 23.5 s, sys: 1.31 s, total: 24.8 s\n",
      "Wall time: 28.1 s\n"
     ]
    }
   ],
   "source": [
    "%%time \n",
    "reload(dsl)\n",
    "        \n",
    "# Figure out best model\n",
    "models['reduced_feature_select_scaled_knn'] = dsl.train_model(X,y,\n",
    "                                                              use_default_param_dist=True,\n",
    "                                                              random_state=6,\n",
    "                                                              suppress_output=False,\n",
    "                                                              feature_selection_type='select_k_best',\n",
    "                                                              scale_type='standard',\n",
    "                                                              estimator='knn',\n",
    "                                                              num_parameter_combos=500) # Can suppress print outs if desired"
   ]
  },
  {
   "cell_type": "markdown",
   "metadata": {},
   "source": [
    "The combinations used are random. In one run of the block code I found the same score for a slightly different combination of:\n",
    "\n",
    "{'estimator__n_neighbors': 8, 'feature_selection__k': 13, 'estimator__weights': 'uniform'}\n",
    "\n",
    "Most of the other runs had a lower score. \n",
    "\n",
    "We took half the time to run 500 combinations instead of the full 900.\n",
    "\n",
    "### Feature selection and KNN only\n",
    "We can try just feature selection and KNN:"
   ]
  },
  {
   "cell_type": "code",
   "execution_count": 105,
   "metadata": {
    "collapsed": false
   },
   "outputs": [
    {
     "name": "stdout",
     "output_type": "stream",
     "text": [
      "Grid parameters:\n",
      "estimator__n_neighbors : [1, 2, 3, 4, 5, 6, 7, 8, 9, 10, 11, 12, 13, 14, 15, 16, 17, 18, 19, 20, 21, 22, 23, 24, 25, 26, 27, 28, 29, 30]\n",
      "feature_selection__k : [1, 2, 3, 4, 5, 6, 7, 8, 9, 10, 11, 12, 13, 14, 15]\n",
      "estimator__weights : ['uniform', 'distance']\n",
      "\n",
      "Training set classification accuracy:  0.782303370787\n",
      "\n",
      "Test set classification accuracy:  0.837988826816\n",
      "Confusion matrix: \n",
      "\n",
      " [[100  13]\n",
      " [ 16  50]]\n",
      "\n",
      "Normalized confusion matrix: \n",
      "\n",
      " [[ 0.55865922  0.0726257 ]\n",
      " [ 0.08938547  0.27932961]]\n",
      "\n",
      "Classification report: \n",
      "\n",
      "              precision    recall  f1-score   support\n",
      "\n",
      "          0       0.86      0.88      0.87       113\n",
      "          1       0.79      0.76      0.78        66\n",
      "\n",
      "avg / total       0.84      0.84      0.84       179\n",
      "\n",
      "\n",
      "Best parameters:\n",
      "\n",
      "{'estimator__n_neighbors': 5, 'feature_selection__k': 6, 'estimator__weights': 'distance'}\n",
      "\n",
      " Pipeline(steps=[('feature_selection', SelectKBest(k=6, score_func=<function f_classif at 0x10d9847d0>)), ('estimator', KNeighborsClassifier(algorithm='auto', leaf_size=30, metric='minkowski',\n",
      "           metric_params=None, n_jobs=1, n_neighbors=5, p=2,\n",
      "           weights='distance'))])\n",
      "CPU times: user 34.7 s, sys: 1.4 s, total: 36.1 s\n",
      "Wall time: 44.1 s\n"
     ]
    }
   ],
   "source": [
    "%%time \n",
    "reload(dsl)\n",
    "        \n",
    "# Figure out best model\n",
    "models['feature_select_knn'] = dsl.train_model(X,y,\n",
    "                                               use_default_param_dist=True,\n",
    "                                               random_state=6,\n",
    "                                               suppress_output=False,\n",
    "                                               feature_selection_type='select_k_best',\n",
    "                                               estimator='knn') # Can suppress print outs if desired"
   ]
  },
  {
   "cell_type": "markdown",
   "metadata": {},
   "source": [
    "We've managed to find a slightly better score using no scaling."
   ]
  },
  {
   "cell_type": "markdown",
   "metadata": {},
   "source": [
    "## Feature interactions and KNN\n",
    "Feature interactions are also supported. The default is up to feature products (degree 2):"
   ]
  },
  {
   "cell_type": "code",
   "execution_count": 106,
   "metadata": {
    "collapsed": false
   },
   "outputs": [
    {
     "name": "stdout",
     "output_type": "stream",
     "text": [
      "Grid parameters:\n",
      "feature_interactions__degree : [1, 2]\n",
      "estimator__n_neighbors : [1, 2, 3, 4, 5, 6, 7, 8, 9, 10, 11, 12, 13, 14, 15, 16, 17, 18, 19, 20, 21, 22, 23, 24, 25, 26, 27, 28, 29, 30]\n",
      "estimator__weights : ['uniform', 'distance']\n",
      "\n",
      "Training set classification accuracy:  0.73595505618\n",
      "\n",
      "Test set classification accuracy:  0.743016759777\n",
      "Confusion matrix: \n",
      "\n",
      " [[97 16]\n",
      " [30 36]]\n",
      "\n",
      "Normalized confusion matrix: \n",
      "\n",
      " [[ 0.54189944  0.08938547]\n",
      " [ 0.16759777  0.20111732]]\n",
      "\n",
      "Classification report: \n",
      "\n",
      "              precision    recall  f1-score   support\n",
      "\n",
      "          0       0.76      0.86      0.81       113\n",
      "          1       0.69      0.55      0.61        66\n",
      "\n",
      "avg / total       0.74      0.74      0.74       179\n",
      "\n",
      "\n",
      "Best parameters:\n",
      "\n",
      "{'estimator__n_neighbors': 28, 'feature_interactions__degree': 2, 'estimator__weights': 'distance'}\n",
      "\n",
      " Pipeline(steps=[('feature_interactions', PolynomialFeatures(degree=2, include_bias=True, interaction_only=False)), ('estimator', KNeighborsClassifier(algorithm='auto', leaf_size=30, metric='minkowski',\n",
      "           metric_params=None, n_jobs=1, n_neighbors=28, p=2,\n",
      "           weights='distance'))])\n",
      "CPU times: user 5.26 s, sys: 207 ms, total: 5.47 s\n",
      "Wall time: 7.29 s\n"
     ]
    }
   ],
   "source": [
    "%%time \n",
    "reload(dsl)\n",
    "        \n",
    "# Figure out best model\n",
    "models['feature_interaction_knn'] = dsl.train_model(X,y,\n",
    "                                                    use_default_param_dist=True,\n",
    "                                                    random_state=6,\n",
    "                                                    suppress_output=False,                                                    \n",
    "                                                    estimator='knn',\n",
    "                                                    feature_interactions=True)"
   ]
  },
  {
   "cell_type": "markdown",
   "metadata": {},
   "source": [
    "This is slightly worse than just KNN (0.748603351955).\n",
    "\n",
    "### Standard scaling, feature interactions, and KNN"
   ]
  },
  {
   "cell_type": "code",
   "execution_count": 107,
   "metadata": {
    "collapsed": false
   },
   "outputs": [
    {
     "name": "stdout",
     "output_type": "stream",
     "text": [
      "Grid parameters:\n",
      "feature_interactions__degree : [1, 2]\n",
      "estimator__n_neighbors : [1, 2, 3, 4, 5, 6, 7, 8, 9, 10, 11, 12, 13, 14, 15, 16, 17, 18, 19, 20, 21, 22, 23, 24, 25, 26, 27, 28, 29, 30]\n",
      "estimator__weights : ['uniform', 'distance']\n",
      "\n",
      "Training set classification accuracy:  0.832865168539\n",
      "\n",
      "Test set classification accuracy:  0.821229050279\n",
      "Confusion matrix: \n",
      "\n",
      " [[100  13]\n",
      " [ 19  47]]\n",
      "\n",
      "Normalized confusion matrix: \n",
      "\n",
      " [[ 0.55865922  0.0726257 ]\n",
      " [ 0.10614525  0.26256983]]\n",
      "\n",
      "Classification report: \n",
      "\n",
      "              precision    recall  f1-score   support\n",
      "\n",
      "          0       0.84      0.88      0.86       113\n",
      "          1       0.78      0.71      0.75        66\n",
      "\n",
      "avg / total       0.82      0.82      0.82       179\n",
      "\n",
      "\n",
      "Best parameters:\n",
      "\n",
      "{'estimator__n_neighbors': 7, 'feature_interactions__degree': 1, 'estimator__weights': 'uniform'}\n",
      "\n",
      " Pipeline(steps=[('scaler', StandardScaler(copy=True, with_mean=True, with_std=True)), ('feature_interactions', PolynomialFeatures(degree=1, include_bias=True, interaction_only=False)), ('estimator', KNeighborsClassifier(algorithm='auto', leaf_size=30, metric='minkowski',\n",
      "           metric_params=None, n_jobs=1, n_neighbors=7, p=2,\n",
      "           weights='uniform'))])\n",
      "CPU times: user 6.47 s, sys: 213 ms, total: 6.69 s\n",
      "Wall time: 10.4 s\n"
     ]
    }
   ],
   "source": [
    "%%time \n",
    "reload(dsl)\n",
    "        \n",
    "# Figure out best model\n",
    "models['scaling_feature_interaction_knn'] = dsl.train_model(X,y,\n",
    "                                                    use_default_param_dist=True,\n",
    "                                                    random_state=6,\n",
    "                                                    suppress_output=False,                                                    \n",
    "                                                    scale_type='standard',\n",
    "                                                    estimator='knn',\n",
    "                                                    feature_interactions=True)"
   ]
  },
  {
   "cell_type": "markdown",
   "metadata": {},
   "source": [
    "This is exactly the same score (0.821229050279) with just scaling and KNN.\n",
    "\n",
    "### Feature selection, feature interactions, and KNN\n",
    "Now selection, feature interactions, and KNN"
   ]
  },
  {
   "cell_type": "code",
   "execution_count": 108,
   "metadata": {
    "collapsed": false
   },
   "outputs": [
    {
     "name": "stdout",
     "output_type": "stream",
     "text": [
      "Grid parameters:\n",
      "feature_interactions__degree : [1, 2]\n",
      "estimator__n_neighbors : [1, 2, 3, 4, 5, 6, 7, 8, 9, 10, 11, 12, 13, 14, 15, 16, 17, 18, 19, 20, 21, 22, 23, 24, 25, 26, 27, 28, 29, 30]\n",
      "estimator__weights : ['uniform', 'distance']\n",
      "\n",
      "Training set classification accuracy:  0.731741573034\n",
      "\n",
      "Test set classification accuracy:  0.748603351955\n",
      "Confusion matrix: \n",
      "\n",
      " [[97 16]\n",
      " [29 37]]\n",
      "\n",
      "Normalized confusion matrix: \n",
      "\n",
      " [[ 0.54189944  0.08938547]\n",
      " [ 0.16201117  0.20670391]]\n",
      "\n",
      "Classification report: \n",
      "\n",
      "              precision    recall  f1-score   support\n",
      "\n",
      "          0       0.77      0.86      0.81       113\n",
      "          1       0.70      0.56      0.62        66\n",
      "\n",
      "avg / total       0.74      0.75      0.74       179\n",
      "\n",
      "\n",
      "Best parameters:\n",
      "\n",
      "{'estimator__n_neighbors': 26, 'feature_interactions__degree': 2, 'estimator__weights': 'distance'}\n",
      "\n",
      " Pipeline(steps=[('feature_selection', SelectKBest(k=10, score_func=<function f_classif at 0x10d9847d0>)), ('feature_interactions', PolynomialFeatures(degree=2, include_bias=True, interaction_only=False)), ('estimator', KNeighborsClassifier(algorithm='auto', leaf_size=30, metric='minkowski',\n",
      "           metric_params=None, n_jobs=1, n_neighbors=26, p=2,\n",
      "           weights='distance'))])\n",
      "CPU times: user 6.05 s, sys: 352 ms, total: 6.41 s\n",
      "Wall time: 8.45 s\n"
     ]
    }
   ],
   "source": [
    "%%time \n",
    "reload(dsl)\n",
    "        \n",
    "# Figure out best model\n",
    "models['selection_feature_interaction_knn'] = dsl.train_model(X,y,\n",
    "                                                    use_default_param_dist=True,\n",
    "                                                    random_state=6,\n",
    "                                                    suppress_output=False,                                                    \n",
    "                                                    feature_selection_type='select_k_best',\n",
    "                                                    estimator='knn',\n",
    "                                                    feature_interactions=True)"
   ]
  },
  {
   "cell_type": "code",
   "execution_count": 49,
   "metadata": {
    "collapsed": false
   },
   "outputs": [
    {
     "name": "stdout",
     "output_type": "stream",
     "text": [
      "Grid parameters:\n",
      "feature_interactions__degree : [1, 2]\n",
      "estimator__n_neighbors : [1, 2, 3, 4, 5, 6, 7, 8, 9, 10, 11, 12, 13, 14, 15, 16, 17, 18, 19, 20, 21, 22, 23, 24, 25, 26, 27, 28, 29, 30]\n",
      "estimator__weights : ['uniform', 'distance']\n",
      "\n",
      "Training set classification accuracy:  0.820224719101\n",
      "\n",
      "Test set classification accuracy:  0.843575418994\n",
      "Confusion matrix: \n",
      "\n",
      "[[95  7]\n",
      " [21 56]]\n",
      "\n",
      "Normalized confusion matrix: \n",
      "\n",
      "[[ 0.53072626  0.03910615]\n",
      " [ 0.11731844  0.31284916]]\n",
      "\n",
      "Classification report: \n",
      "\n",
      "             precision    recall  f1-score   support\n",
      "\n",
      "          0       0.82      0.93      0.87       102\n",
      "          1       0.89      0.73      0.80        77\n",
      "\n",
      "avg / total       0.85      0.84      0.84       179\n",
      "\n",
      "\n",
      "Best parameters:\n",
      "\n",
      "{'estimator__n_neighbors': 4, 'feature_interactions__degree': 1, 'estimator__weights': 'uniform'}\n",
      "\n",
      "Pipeline(steps=[('scaler', StandardScaler(copy=True, with_mean=True, with_std=True)), ('feature_interactions', PolynomialFeatures(degree=1, include_bias=True, interaction_only=False)), ('estimator', KNeighborsClassifier(algorithm='auto', leaf_size=30, metric='minkowski',\n",
      "           metric_params=None, n_jobs=1, n_neighbors=4, p=2,\n",
      "           weights='uniform'))])\n",
      "CPU times: user 4.97 s, sys: 172 ms, total: 5.14 s\n",
      "Wall time: 10.3 s\n"
     ]
    }
   ],
   "source": [
    "%%time \n",
    "import data_science_lib\n",
    "reload(data_science_lib)\n",
    "        \n",
    "# Figure out best model\n",
    "pipeline = data_science_lib.train_model(X,y,\n",
    "           scale_type='standard',\n",
    "           feature_interactions=True,\n",
    "           estimator='knn',\n",
    "           num_parameter_combos=[],\n",
    "           use_default_param_dist=True)"
   ]
  },
  {
   "cell_type": "markdown",
   "metadata": {},
   "source": [
    "## Standard scaler, SelectKBest, and LogisticRegression"
   ]
  },
  {
   "cell_type": "code",
   "execution_count": 42,
   "metadata": {
    "collapsed": false
   },
   "outputs": [
    {
     "name": "stdout",
     "output_type": "stream",
     "text": [
      "Grid parameters:\n",
      "feature_selection__k : [1, 2, 3, 4, 5, 6, 7, 8, 9, 10, 11, 12, 13, 14, 15]\n",
      "estimator__C : [  1.00000000e-10   1.00000000e-05   1.00000000e+00   1.00000000e+05\n",
      "   1.00000000e+10]\n",
      "\n",
      "Training set classification accuracy:  0.818820224719\n",
      "\n",
      "Test set classification accuracy:  0.849162011173\n",
      "Confusion matrix: \n",
      "\n",
      "[[110  13]\n",
      " [ 14  42]]\n",
      "\n",
      "Normalized confusion matrix: \n",
      "\n",
      "[[ 0.61452514  0.0726257 ]\n",
      " [ 0.07821229  0.23463687]]\n",
      "\n",
      "Classification report: \n",
      "\n",
      "             precision    recall  f1-score   support\n",
      "\n",
      "          0       0.89      0.89      0.89       123\n",
      "          1       0.76      0.75      0.76        56\n",
      "\n",
      "avg / total       0.85      0.85      0.85       179\n",
      "\n",
      "\n",
      "Best parameters:\n",
      "\n",
      "{'feature_selection__k': 15, 'estimator__C': 1.0}\n",
      "\n",
      "Pipeline(steps=[('scaler', StandardScaler(copy=True, with_mean=True, with_std=True)), ('feature_selection', SelectKBest(k=15, score_func=<function f_classif at 0x119860e60>)), ('estimator', LogisticRegression(C=1.0, class_weight=None, dual=False, fit_intercept=True,\n",
      "          intercept_scaling=1, max_iter=100, multi_class='ovr', n_jobs=1,\n",
      "          penalty='l2', random_state=None, solver='liblinear', tol=0.0001,\n",
      "          verbose=0, warm_start=False))])\n",
      "CPU times: user 2.88 s, sys: 250 ms, total: 3.13 s\n",
      "Wall time: 3.98 s\n"
     ]
    }
   ],
   "source": [
    "%%time \n",
    "import data_science_lib\n",
    "reload(data_science_lib)\n",
    "        \n",
    "# Figure out best model\n",
    "pipeline = data_science_lib.train_model(X,y,\n",
    "           scale_type='standard',\n",
    "           feature_selection_type='select_k_best',\n",
    "           estimator='logistic_regression',\n",
    "           num_parameter_combos=[],\n",
    "           use_default_param_dist=True)"
   ]
  },
  {
   "cell_type": "code",
   "execution_count": 157,
   "metadata": {
    "collapsed": false
   },
   "outputs": [
    {
     "name": "stdout",
     "output_type": "stream",
     "text": [
      "t-SNE done! Time elapsed: 0.0451819896698 seconds\n"
     ]
    }
   ],
   "source": [
    "import time\n",
    "\n",
    "from sklearn.manifold import TSNE\n",
    "from sklearn.decomposition import PCA\n",
    "from sklearn.preprocessing import StandardScaler\n",
    "from sklearn.preprocessing import Normalizer\n",
    "\n",
    "n_sne = 7000\n",
    "\n",
    "time_start = time.time()\n",
    "tsne = TSNE(n_components=2, verbose=1, perplexity=40, n_iter=300)\n",
    "pca = PCA(n_components=2)\n",
    "\n",
    "# tsne_results = tsne.fit_transform(StandardScaler().fit(X).transform(X),y)\n",
    "# tsne_results = tsne.fit_transform(Normalizer().fit(X).transform(X),y)\n",
    "tsne_results = pca.fit_transform(StandardScaler().fit(X).transform(X),y)\n",
    "\n",
    "\n",
    "print 't-SNE done! Time elapsed: {} seconds'.format(time.time()-time_start)"
   ]
  },
  {
   "cell_type": "code",
   "execution_count": 158,
   "metadata": {
    "collapsed": false
   },
   "outputs": [
    {
     "data": {
      "text/html": [
       "<div>\n",
       "<table border=\"1\" class=\"dataframe\">\n",
       "  <thead>\n",
       "    <tr style=\"text-align: right;\">\n",
       "      <th></th>\n",
       "      <th>label</th>\n",
       "      <th>x-tsne</th>\n",
       "      <th>y-tsne</th>\n",
       "    </tr>\n",
       "  </thead>\n",
       "  <tbody>\n",
       "    <tr>\n",
       "      <th>0</th>\n",
       "      <td>0</td>\n",
       "      <td>-0.306172</td>\n",
       "      <td>0.031030</td>\n",
       "    </tr>\n",
       "    <tr>\n",
       "      <th>1</th>\n",
       "      <td>1</td>\n",
       "      <td>0.433225</td>\n",
       "      <td>-0.073753</td>\n",
       "    </tr>\n",
       "    <tr>\n",
       "      <th>2</th>\n",
       "      <td>1</td>\n",
       "      <td>-0.326756</td>\n",
       "      <td>0.028178</td>\n",
       "    </tr>\n",
       "    <tr>\n",
       "      <th>3</th>\n",
       "      <td>1</td>\n",
       "      <td>0.342864</td>\n",
       "      <td>-0.094208</td>\n",
       "    </tr>\n",
       "    <tr>\n",
       "      <th>4</th>\n",
       "      <td>0</td>\n",
       "      <td>-0.387780</td>\n",
       "      <td>0.055918</td>\n",
       "    </tr>\n",
       "    <tr>\n",
       "      <th>5</th>\n",
       "      <td>0</td>\n",
       "      <td>-0.378648</td>\n",
       "      <td>0.049827</td>\n",
       "    </tr>\n",
       "    <tr>\n",
       "      <th>6</th>\n",
       "      <td>0</td>\n",
       "      <td>0.120884</td>\n",
       "      <td>-0.113302</td>\n",
       "    </tr>\n",
       "    <tr>\n",
       "      <th>7</th>\n",
       "      <td>0</td>\n",
       "      <td>0.765266</td>\n",
       "      <td>0.161937</td>\n",
       "    </tr>\n",
       "    <tr>\n",
       "      <th>8</th>\n",
       "      <td>1</td>\n",
       "      <td>-0.239688</td>\n",
       "      <td>-0.010948</td>\n",
       "    </tr>\n",
       "    <tr>\n",
       "      <th>9</th>\n",
       "      <td>1</td>\n",
       "      <td>0.482419</td>\n",
       "      <td>-0.045008</td>\n",
       "    </tr>\n",
       "  </tbody>\n",
       "</table>\n",
       "</div>"
      ],
      "text/plain": [
       "   label    x-tsne    y-tsne\n",
       "0      0 -0.306172  0.031030\n",
       "1      1  0.433225 -0.073753\n",
       "2      1 -0.326756  0.028178\n",
       "3      1  0.342864 -0.094208\n",
       "4      0 -0.387780  0.055918\n",
       "5      0 -0.378648  0.049827\n",
       "6      0  0.120884 -0.113302\n",
       "7      0  0.765266  0.161937\n",
       "8      1 -0.239688 -0.010948\n",
       "9      1  0.482419 -0.045008"
      ]
     },
     "execution_count": 158,
     "metadata": {},
     "output_type": "execute_result"
    }
   ],
   "source": [
    "df_tsne.head(10)"
   ]
  },
  {
   "cell_type": "code",
   "execution_count": 159,
   "metadata": {
    "collapsed": false
   },
   "outputs": [
    {
     "data": {
      "image/png": "[encoded data removed]",
      "text/plain": [
       "<matplotlib.figure.Figure at 0x11e8cce50>"
      ]
     },
     "metadata": {},
     "output_type": "display_data"
    }
   ],
   "source": [
    "from matplotlib import pyplot as plt\n",
    "\n",
    "fig, axes = plt.subplots(2, 2, figsize=(20, 20))\n",
    "\n",
    "tsne_dict = {\n",
    "    'x-tsne': tsne_results[:,0],\n",
    "    'y-tsne': tsne_results[:,1],\n",
    "    'label': simulation_df['Survived']\n",
    "}\n",
    "\n",
    "df_tsne = pd.DataFrame(tsne_dict)\n",
    "\n",
    "features = ['x-tsne','y-tsne']\n",
    "colors = ['grey','orange']\n",
    "for x_ind in range(2):\n",
    "    for y_ind in range(2):\n",
    "        if x_ind <= y_ind:\n",
    "            if x_ind == y_ind:\n",
    "                for unique_label_ind,unique_label in enumerate(df_tsne['label'].unique()):\n",
    "                    feature_data = df_tsne[[features[x_ind],'label']]\n",
    "                    \n",
    "                    unique_label_data = feature_data[feature_data['label']==unique_label]\n",
    "\n",
    "                    unique_label_data.plot(ax=axes[x_ind][y_ind],kind='hist',color=colors[unique_label_ind])                \n",
    "            else:\n",
    "                for unique_label_ind,unique_label in enumerate(df_tsne['label'].unique()):\n",
    "                    unique_label_data = df_tsne[df_tsne['label']==unique_label]\n",
    "                    \n",
    "                    unique_label_data.plot(ax=axes[x_ind][y_ind],kind='scatter',\n",
    "                                           x=features[x_ind],y=features[y_ind],\n",
    "                                           color=colors[unique_label_ind],\n",
    "                                          s=200,alpha=0.5)\n",
    "                \n",
    "plt.show()\n",
    "# chart = ggplot( df_tsne, aes(x='x-tsne', y='y-tsne', color='label') ) \\\n",
    "#         + geom_point(size=70,alpha=0.1) \\\n",
    "#         + ggtitle(\"tSNE dimensions colored by digit\")\n",
    "# chart"
   ]
  },
  {
   "cell_type": "code",
   "execution_count": 139,
   "metadata": {
    "collapsed": false
   },
   "outputs": [
    {
     "name": "stdout",
     "output_type": "stream",
     "text": [
      "Grid parameters:\n",
      "estimator__hidden_layer_sizes : [[3], [4], [5], [6], [7], [8], [9], [10], [11], [12], [13], [14], [15]]\n",
      "\n",
      "Training set classification accuracy:  0.824438202247\n",
      "\n",
      "Test set classification accuracy:  0.837988826816\n",
      "Confusion matrix: \n",
      "\n",
      "[[96 11]\n",
      " [18 54]]\n",
      "\n",
      "Normalized confusion matrix: \n",
      "\n",
      "[[ 0.53631285  0.06145251]\n",
      " [ 0.10055866  0.30167598]]\n",
      "\n",
      "Classification report: \n",
      "\n",
      "             precision    recall  f1-score   support\n",
      "\n",
      "          0       0.84      0.90      0.87       107\n",
      "          1       0.83      0.75      0.79        72\n",
      "\n",
      "avg / total       0.84      0.84      0.84       179\n",
      "\n",
      "\n",
      "Best parameters:\n",
      "\n",
      "{'estimator__hidden_layer_sizes': [6]}\n",
      "\n",
      "Pipeline(steps=[('scaler', StandardScaler(copy=True, with_mean=True, with_std=True)), ('estimator', MLPClassifier(activation='relu', alpha=1e-05, batch_size='auto', beta_1=0.9,\n",
      "       beta_2=0.999, early_stopping=False, epsilon=1e-08,\n",
      "       hidden_layer_sizes=[6], learning_rate='constant',\n",
      "       learning_r...True, solver='lbfgs', tol=0.0001, validation_fraction=0.1,\n",
      "       verbose=False, warm_start=False))])\n",
      "CPU times: user 1.58 s, sys: 188 ms, total: 1.77 s\n",
      "Wall time: 8.92 s\n"
     ]
    }
   ],
   "source": [
    "%%time \n",
    "# %%time \n",
    "# import data_science_lib\n",
    "# reload(data_science_lib)\n",
    "        \n",
    "# # Figure out best model\n",
    "# pipeline = data_science_lib.train_model(X,y,\n",
    "#            scale_type='standard',\n",
    "#            feature_selection_type='select_k_best',\n",
    "#            estimator='logistic_regression',\n",
    "#            num_parameter_combos=[],\n",
    "#            use_default_param_dist=True)\n",
    "\n",
    "\n",
    "import data_science_lib\n",
    "reload(data_science_lib)\n",
    "        \n",
    "# Figure out best model\n",
    "pipeline = data_science_lib.train_model(X,y,\n",
    "                                        scale_type='standard',\n",
    "                                        transform_type='PCA',                                    \n",
    "                                        estimator='multilayer_perceptron',\n",
    "                                        num_parameter_combos=[],\n",
    "                                        use_default_param_dist=True)"
   ]
  },
  {
   "cell_type": "markdown",
   "metadata": {},
   "source": [
    "## Scale, feature select, support vector machine"
   ]
  },
  {
   "cell_type": "code",
   "execution_count": 33,
   "metadata": {
    "collapsed": false
   },
   "outputs": [
    {
     "name": "stdout",
     "output_type": "stream",
     "text": [
      "Grid parameters:\n",
      "feature_selection__k : [1, 2, 3, 4, 5, 6, 7, 8, 9, 10, 11, 12, 13, 14, 15]\n",
      "\n",
      "Training set classification accuracy:  0.817415730337\n",
      "\n",
      "Test set classification accuracy:  0.826815642458\n",
      "Confusion matrix: \n",
      "\n",
      "[[99 11]\n",
      " [20 49]]\n",
      "\n",
      "Normalized confusion matrix: \n",
      "\n",
      "[[ 0.55307263  0.06145251]\n",
      " [ 0.11173184  0.27374302]]\n",
      "\n",
      "Classification report: \n",
      "\n",
      "             precision    recall  f1-score   support\n",
      "\n",
      "          0       0.83      0.90      0.86       110\n",
      "          1       0.82      0.71      0.76        69\n",
      "\n",
      "avg / total       0.83      0.83      0.82       179\n",
      "\n",
      "\n",
      "Best parameters:\n",
      "\n",
      "{'feature_selection__k': 11}\n",
      "\n",
      "Pipeline(steps=[('scaler', StandardScaler(copy=True, with_mean=True, with_std=True)), ('feature_selection', SelectKBest(k=11, score_func=<function f_classif at 0x119860e60>)), ('estimator', SVC(C=1.0, cache_size=200, class_weight=None, coef0=0.0,\n",
      "  decision_function_shape=None, degree=3, gamma='auto', kernel='rbf',\n",
      "  max_iter=-1, probability=False, random_state=None, shrinking=True,\n",
      "  tol=0.001, verbose=False))])\n",
      "CPU times: user 808 ms, sys: 56.2 ms, total: 865 ms\n",
      "Wall time: 1.52 s\n"
     ]
    }
   ],
   "source": [
    "%%time \n",
    "import data_science_lib\n",
    "reload(data_science_lib)\n",
    "        \n",
    "# Figure out best model\n",
    "pipeline = data_science_lib.train_model(X,y,\n",
    "           scale_type='standard',\n",
    "           feature_selection_type='select_k_best',\n",
    "           estimator='svm',\n",
    "           num_parameter_combos=[],\n",
    "           use_default_param_dist=True)"
   ]
  },
  {
   "cell_type": "markdown",
   "metadata": {},
   "source": [
    "## Scale, PCA, feature select, svm"
   ]
  },
  {
   "cell_type": "code",
   "execution_count": 34,
   "metadata": {
    "collapsed": false
   },
   "outputs": [
    {
     "name": "stdout",
     "output_type": "stream",
     "text": [
      "Grid parameters:\n",
      "feature_selection__k : [1, 2, 3, 4, 5, 6, 7, 8, 9, 10, 11, 12, 13, 14, 15]\n",
      "\n",
      "Training set classification accuracy:  0.824438202247\n",
      "\n",
      "Test set classification accuracy:  0.854748603352\n",
      "Confusion matrix: \n",
      "\n",
      "[[112   9]\n",
      " [ 17  41]]\n",
      "\n",
      "Normalized confusion matrix: \n",
      "\n",
      "[[ 0.62569832  0.05027933]\n",
      " [ 0.09497207  0.22905028]]\n",
      "\n",
      "Classification report: \n",
      "\n",
      "             precision    recall  f1-score   support\n",
      "\n",
      "          0       0.87      0.93      0.90       121\n",
      "          1       0.82      0.71      0.76        58\n",
      "\n",
      "avg / total       0.85      0.85      0.85       179\n",
      "\n",
      "\n",
      "Best parameters:\n",
      "\n",
      "{'feature_selection__k': 6}\n",
      "\n",
      "Pipeline(steps=[('scaler', StandardScaler(copy=True, with_mean=True, with_std=True)), ('transform', PCA(copy=True, iterated_power='auto', n_components=None, random_state=None,\n",
      "  svd_solver='auto', tol=0.0, whiten=False)), ('feature_selection', SelectKBest(k=6, score_func=<function f_classif at 0x119860e60>))...,\n",
      "  max_iter=-1, probability=False, random_state=None, shrinking=True,\n",
      "  tol=0.001, verbose=False))])\n",
      "CPU times: user 1.04 s, sys: 72.6 ms, total: 1.11 s\n",
      "Wall time: 1.76 s\n"
     ]
    }
   ],
   "source": [
    "%%time \n",
    "import data_science_lib\n",
    "reload(data_science_lib)\n",
    "        \n",
    "# Figure out best model\n",
    "pipeline = data_science_lib.train_model(X,y,\n",
    "                                        scale_type='standard',\n",
    "                                        transform_type='pca',\n",
    "                                        feature_selection_type='select_k_best',\n",
    "                                        estimator='svm',\n",
    "                                        num_parameter_combos=[],\n",
    "                                        use_default_param_dist=True)"
   ]
  },
  {
   "cell_type": "markdown",
   "metadata": {},
   "source": [
    "## Scale, t-SNE, feature select, svm"
   ]
  },
  {
   "cell_type": "code",
   "execution_count": 145,
   "metadata": {
    "collapsed": false
   },
   "outputs": [
    {
     "name": "stdout",
     "output_type": "stream",
     "text": [
      "Grid parameters:\n",
      "feature_selection__k : [2, 3, 4, 5, 6, 7, 8, 9, 10, 11, 12, 13, 14, 15]\n",
      "\n",
      "Training set classification accuracy:  0.619382022472\n",
      "\n",
      "Test set classification accuracy:  0.608938547486\n",
      "Confusion matrix: \n",
      "\n",
      "[[109   0]\n",
      " [ 70   0]]\n",
      "\n",
      "Normalized confusion matrix: \n",
      "\n",
      "[[ 0.60893855  0.        ]\n",
      " [ 0.39106145  0.        ]]\n",
      "\n",
      "Classification report: \n",
      "\n",
      "             precision    recall  f1-score   support\n",
      "\n",
      "          0       0.61      1.00      0.76       109\n",
      "          1       0.00      0.00      0.00        70\n",
      "\n",
      "avg / total       0.37      0.61      0.46       179\n",
      "\n",
      "\n",
      "Best parameters:\n",
      "\n",
      "{'feature_selection__k': 2}\n",
      "\n",
      "Pipeline(steps=[('feature_selection', SelectKBest(k=2, score_func=<function f_classif at 0x119860e60>)), ('scaler', StandardScaler(copy=True, with_mean=True, with_std=True)), ('transform', pipeline_TSNE(angle=0.5, early_exaggeration=4.0, init='pca',\n",
      "       learning_rate=1000.0, method='barnes_hut', metric='e...,\n",
      "  max_iter=-1, probability=False, random_state=None, shrinking=True,\n",
      "  tol=0.001, verbose=False))])\n",
      "CPU times: user 8.17 s, sys: 1.27 s, total: 9.44 s\n",
      "Wall time: 5min 22s\n"
     ]
    },
    {
     "name": "stderr",
     "output_type": "stream",
     "text": [
      "/Users/cmshymansky/anaconda/lib/python2.7/site-packages/sklearn/metrics/classification.py:1113: UndefinedMetricWarning: Precision and F-score are ill-defined and being set to 0.0 in labels with no predicted samples.\n",
      "  'precision', 'predicted', average, warn_for)\n"
     ]
    }
   ],
   "source": [
    "%%time \n",
    "import data_science_lib\n",
    "reload(data_science_lib)\n",
    "        \n",
    "# Figure out best model\n",
    "pipeline = data_science_lib.train_model(X,y,\n",
    "                                        param_dist = {'feature_selection__k':range(2,16)},\n",
    "                                        scale_type='standard',\n",
    "                                        transform_type='t-sne',                                        \n",
    "                                        feature_selection_type='select_k_best',\n",
    "                                        estimator='svm',\n",
    "                                        num_parameter_combos=[],\n",
    "                                        use_default_param_dist=True)"
   ]
  },
  {
   "cell_type": "markdown",
   "metadata": {},
   "source": [
    "## Scale, SelectKBest, Multilayer Perceptron"
   ]
  },
  {
   "cell_type": "code",
   "execution_count": 70,
   "metadata": {
    "collapsed": false
   },
   "outputs": [
    {
     "name": "stdout",
     "output_type": "stream",
     "text": [
      "Grid parameters:\n",
      "feature_selection__k : ['all']\n",
      "estimator__hidden_layer_sizes : [[3], [4], [5], [6], [7], [8], [9], [10], [11], [12], [13], [14], [15]]\n",
      "\n",
      "Training set classification accuracy:  0.828651685393\n",
      "\n",
      "Test set classification accuracy:  0.810055865922\n",
      "Confusion matrix: \n",
      "\n",
      "[[100  11]\n",
      " [ 23  45]]\n",
      "\n",
      "Normalized confusion matrix: \n",
      "\n",
      "[[ 0.55865922  0.06145251]\n",
      " [ 0.12849162  0.25139665]]\n",
      "\n",
      "Classification report: \n",
      "\n",
      "             precision    recall  f1-score   support\n",
      "\n",
      "          0       0.81      0.90      0.85       111\n",
      "          1       0.80      0.66      0.73        68\n",
      "\n",
      "avg / total       0.81      0.81      0.81       179\n",
      "\n",
      "\n",
      "Best parameters:\n",
      "\n",
      "{'feature_selection__k': 'all', 'estimator__hidden_layer_sizes': [4]}\n",
      "\n",
      "Pipeline(steps=[('scaler', StandardScaler(copy=True, with_mean=True, with_std=True)), ('feature_selection', SelectKBest(k='all', score_func=<function f_classif at 0x119860e60>)), ('estimator', MLPClassifier(activation='relu', alpha=1e-05, batch_size='auto', beta_1=0.9,\n",
      "       beta_2=0.999, early_stopping=Fal...True, solver='lbfgs', tol=0.0001, validation_fraction=0.1,\n",
      "       verbose=False, warm_start=False))])\n",
      "CPU times: user 1.34 s, sys: 103 ms, total: 1.44 s\n",
      "Wall time: 10.2 s\n"
     ]
    }
   ],
   "source": [
    "%%time \n",
    "import data_science_lib\n",
    "reload(data_science_lib)\n",
    "        \n",
    "# Figure out best model\n",
    "pipeline = data_science_lib.train_model(X,y,\n",
    "                                        scale_type='standard', \n",
    "                                        feature_selection_type='select_k_best',\n",
    "                                        estimator='multilayer_perceptron',                                    \n",
    "                                        num_parameter_combos=[],\n",
    "                                        use_default_param_dist=True)"
   ]
  },
  {
   "cell_type": "markdown",
   "metadata": {},
   "source": [
    "## Scale, Feature interaction, SelectKBest, Multilayer Perceptron"
   ]
  },
  {
   "cell_type": "code",
   "execution_count": 80,
   "metadata": {
    "collapsed": false,
    "scrolled": false
   },
   "outputs": [
    {
     "name": "stdout",
     "output_type": "stream",
     "text": [
      "Grid parameters:\n",
      "feature_interactions__degree : [1]\n",
      "estimator__hidden_layer_sizes : [[3], [4], [5], [6], [7], [8], [9], [10], [11], [12], [13], [14], [15]]\n",
      "\n",
      "Training set classification accuracy:  0.808988764045\n",
      "\n",
      "Test set classification accuracy:  0.804469273743\n",
      "Confusion matrix: \n",
      "\n",
      "[[99 12]\n",
      " [23 45]]\n",
      "\n",
      "Normalized confusion matrix: \n",
      "\n",
      "[[ 0.55307263  0.06703911]\n",
      " [ 0.12849162  0.25139665]]\n",
      "\n",
      "Classification report: \n",
      "\n",
      "             precision    recall  f1-score   support\n",
      "\n",
      "          0       0.81      0.89      0.85       111\n",
      "          1       0.79      0.66      0.72        68\n",
      "\n",
      "avg / total       0.80      0.80      0.80       179\n",
      "\n",
      "\n",
      "Best parameters:\n",
      "\n",
      "{'feature_interactions__degree': 1, 'estimator__hidden_layer_sizes': [10]}\n",
      "\n",
      "Pipeline(steps=[('feature_interactions', PolynomialFeatures(degree=1, include_bias=True, interaction_only=False)), ('feature_selection', SelectKBest(k=10, score_func=<function f_classif at 0x119860e60>)), ('estimator', MLPClassifier(activation='relu', alpha=1e-05, batch_size='auto', beta_1=0.9,\n",
      "       beta_2...True, solver='lbfgs', tol=0.0001, validation_fraction=0.1,\n",
      "       verbose=False, warm_start=False))])\n",
      "CPU times: user 1.38 s, sys: 265 ms, total: 1.65 s\n",
      "Wall time: 11.2 s\n"
     ]
    }
   ],
   "source": [
    "%%time \n",
    "import data_science_lib\n",
    "reload(data_science_lib)\n",
    "        \n",
    "# Figure out best model\n",
    "pipeline = data_science_lib.train_model(X,y, \n",
    "                                        param_dist={'feature_interactions__degree':[1]},\n",
    "                                        feature_interactions=True,\n",
    "                                        feature_selection_type='select_k_best',\n",
    "                                        estimator='multilayer_perceptron',                                    \n",
    "                                        num_parameter_combos=[],\n",
    "                                        use_default_param_dist=True)"
   ]
  },
  {
   "cell_type": "code",
   "execution_count": 78,
   "metadata": {
    "collapsed": false,
    "scrolled": false
   },
   "outputs": [
    {
     "name": "stdout",
     "output_type": "stream",
     "text": [
      "Grid parameters:\n",
      "feature_interactions__degree : [2]\n",
      "estimator__hidden_layer_sizes : [[3], [4], [5], [6], [7], [8], [9], [10], [11], [12], [13], [14], [15]]\n",
      "\n",
      "Training set classification accuracy:  0.787921348315\n",
      "\n",
      "Test set classification accuracy:  0.798882681564\n",
      "Confusion matrix: \n",
      "\n",
      "[[98 24]\n",
      " [12 45]]\n",
      "\n",
      "Normalized confusion matrix: \n",
      "\n",
      "[[ 0.54748603  0.13407821]\n",
      " [ 0.06703911  0.25139665]]\n",
      "\n",
      "Classification report: \n",
      "\n",
      "             precision    recall  f1-score   support\n",
      "\n",
      "          0       0.89      0.80      0.84       122\n",
      "          1       0.65      0.79      0.71        57\n",
      "\n",
      "avg / total       0.81      0.80      0.80       179\n",
      "\n",
      "\n",
      "Best parameters:\n",
      "\n",
      "{'feature_interactions__degree': 2, 'estimator__hidden_layer_sizes': [6]}\n",
      "\n",
      "Pipeline(steps=[('feature_interactions', PolynomialFeatures(degree=2, include_bias=True, interaction_only=False)), ('feature_selection', SelectKBest(k=10, score_func=<function f_classif at 0x119860e60>)), ('estimator', MLPClassifier(activation='relu', alpha=1e-05, batch_size='auto', beta_1=0.9,\n",
      "       beta_2...True, solver='lbfgs', tol=0.0001, validation_fraction=0.1,\n",
      "       verbose=False, warm_start=False))])\n",
      "CPU times: user 1.27 s, sys: 107 ms, total: 1.38 s\n",
      "Wall time: 8 s\n"
     ]
    },
    {
     "name": "stderr",
     "output_type": "stream",
     "text": [
      "/Users/cmshymansky/anaconda/lib/python2.7/site-packages/sklearn/feature_selection/univariate_selection.py:113: UserWarning: Features [  0  63  68  86  88  92  94  98 109 110 111 112 113 114 116 117 118 119\n",
      " 120 122 123 124 125 127 128 129 131 132 134] are constant.\n",
      "  UserWarning)\n",
      "/Users/cmshymansky/anaconda/lib/python2.7/site-packages/sklearn/feature_selection/univariate_selection.py:113: UserWarning: Features [  0  63  68  86  88  92  94  98 109 110 111 112 113 114 116 117 118 119\n",
      " 120 122 123 124 125 127 128 129 131 132 134] are constant.\n",
      "  UserWarning)\n",
      "/Users/cmshymansky/anaconda/lib/python2.7/site-packages/sklearn/feature_selection/univariate_selection.py:113: UserWarning: Features [  0  56  63  68  86  88  92  94  98 109 110 111 112 113 114 116 117 118\n",
      " 119 120 122 123 124 125 127 128 129 131 132 134] are constant.\n",
      "  UserWarning)\n",
      "/Users/cmshymansky/anaconda/lib/python2.7/site-packages/sklearn/feature_selection/univariate_selection.py:113: UserWarning: Features [  0  63  68  86  88  92  94  98 109 110 111 112 113 114 116 117 118 119\n",
      " 120 122 123 124 125 127 128 129 131 132 134] are constant.\n",
      "  UserWarning)\n",
      "/Users/cmshymansky/anaconda/lib/python2.7/site-packages/sklearn/feature_selection/univariate_selection.py:113: UserWarning: Features [  0  63  68  86  88  92  94  98 109 110 111 112 113 114 116 117 118 119\n",
      " 120 122 123 124 125 127 128 129 131 132 134] are constant.\n",
      "  UserWarning)\n",
      "/Users/cmshymansky/anaconda/lib/python2.7/site-packages/sklearn/feature_selection/univariate_selection.py:113: UserWarning: Features [  0  52  57  63  64  68  69  86  88  92  94  98 109 110 111 112 113 114\n",
      " 116 117 118 119 120 122 123 124 125 127 128 129 131 132 134] are constant.\n",
      "  UserWarning)\n",
      "/Users/cmshymansky/anaconda/lib/python2.7/site-packages/sklearn/feature_selection/univariate_selection.py:113: UserWarning: Features [  0  63  68  86  88  92  93  94  98 109 110 111 112 113 114 116 117 118\n",
      " 119 120 122 123 124 125 127 128 129 131 132 134] are constant.\n",
      "  UserWarning)\n",
      "/Users/cmshymansky/anaconda/lib/python2.7/site-packages/sklearn/feature_selection/univariate_selection.py:113: UserWarning: Features [  0  63  68  86  88  92  94  98  99 109 110 111 112 113 114 116 117 118\n",
      " 119 120 122 123 124 125 127 128 129 131 132 134] are constant.\n",
      "  UserWarning)\n",
      "/Users/cmshymansky/anaconda/lib/python2.7/site-packages/sklearn/feature_selection/univariate_selection.py:113: UserWarning: Features [  0  52  57  63  64  68  69  86  88  92  94  98 109 110 111 112 113 114\n",
      " 116 117 118 119 120 122 123 124 125 127 128 129 131 132 134] are constant.\n",
      "  UserWarning)\n",
      "/Users/cmshymansky/anaconda/lib/python2.7/site-packages/sklearn/feature_selection/univariate_selection.py:113: UserWarning: Features [  0  63  68  86  88  92  94  98  99 109 110 111 112 113 114 116 117 118\n",
      " 119 120 122 123 124 125 127 128 129 131 132 134] are constant.\n",
      "  UserWarning)\n",
      "/Users/cmshymansky/anaconda/lib/python2.7/site-packages/sklearn/feature_selection/univariate_selection.py:113: UserWarning: Features [  0  63  68  86  88  92  94  98 109 110 111 112 113 114 116 117 118 119\n",
      " 120 122 123 124 125 127 128 129 131 132 134] are constant.\n",
      "  UserWarning)\n",
      "/Users/cmshymansky/anaconda/lib/python2.7/site-packages/sklearn/feature_selection/univariate_selection.py:113: UserWarning: Features [  0  56  63  68  86  88  92  94  98 109 110 111 112 113 114 116 117 118\n",
      " 119 120 122 123 124 125 127 128 129 131 132 134] are constant.\n",
      "  UserWarning)\n",
      "/Users/cmshymansky/anaconda/lib/python2.7/site-packages/sklearn/feature_selection/univariate_selection.py:113: UserWarning: Features [  0  63  68  86  88  92  94  98  99 109 110 111 112 113 114 116 117 118\n",
      " 119 120 122 123 124 125 127 128 129 131 132 134] are constant.\n",
      "  UserWarning)\n",
      "/Users/cmshymansky/anaconda/lib/python2.7/site-packages/sklearn/feature_selection/univariate_selection.py:113: UserWarning: Features [  0  56  63  68  86  88  92  94  98 109 110 111 112 113 114 116 117 118\n",
      " 119 120 122 123 124 125 127 128 129 131 132 134] are constant.\n",
      "  UserWarning)\n",
      "/Users/cmshymansky/anaconda/lib/python2.7/site-packages/sklearn/feature_selection/univariate_selection.py:113: UserWarning: Features [  0  52  57  63  64  68  69  86  88  92  94  98 109 110 111 112 113 114\n",
      " 116 117 118 119 120 122 123 124 125 127 128 129 131 132 134] are constant.\n",
      "  UserWarning)\n",
      "/Users/cmshymansky/anaconda/lib/python2.7/site-packages/sklearn/feature_selection/univariate_selection.py:113: UserWarning: Features [  0  63  68  86  88  92  93  94  98 109 110 111 112 113 114 116 117 118\n",
      " 119 120 122 123 124 125 127 128 129 131 132 134] are constant.\n",
      "  UserWarning)\n",
      "/Users/cmshymansky/anaconda/lib/python2.7/site-packages/sklearn/feature_selection/univariate_selection.py:113: UserWarning: Features [  0  63  68  86  88  92  93  94  98 109 110 111 112 113 114 116 117 118\n",
      " 119 120 122 123 124 125 127 128 129 131 132 134] are constant.\n",
      "  UserWarning)\n",
      "/Users/cmshymansky/anaconda/lib/python2.7/site-packages/sklearn/feature_selection/univariate_selection.py:113: UserWarning: Features [  0  63  68  86  88  92  93  94  98 109 110 111 112 113 114 116 117 118\n",
      " 119 120 122 123 124 125 127 128 129 131 132 134] are constant.\n",
      "  UserWarning)\n",
      "/Users/cmshymansky/anaconda/lib/python2.7/site-packages/sklearn/feature_selection/univariate_selection.py:113: UserWarning: Features [  0  63  68  86  88  92  94  98  99 109 110 111 112 113 114 116 117 118\n",
      " 119 120 122 123 124 125 127 128 129 131 132 134] are constant.\n",
      "  UserWarning)\n",
      "/Users/cmshymansky/anaconda/lib/python2.7/site-packages/sklearn/feature_selection/univariate_selection.py:113: UserWarning: Features [  0  52  57  63  64  68  69  86  88  92  94  98 109 110 111 112 113 114\n",
      " 116 117 118 119 120 122 123 124 125 127 128 129 131 132 134] are constant.\n",
      "  UserWarning)\n",
      "/Users/cmshymansky/anaconda/lib/python2.7/site-packages/sklearn/feature_selection/univariate_selection.py:113: UserWarning: Features [  0  56  63  68  86  88  92  94  98 109 110 111 112 113 114 116 117 118\n",
      " 119 120 122 123 124 125 127 128 129 131 132 134] are constant.\n",
      "  UserWarning)\n"
     ]
    }
   ],
   "source": [
    "%%time \n",
    "import data_science_lib\n",
    "reload(data_science_lib)\n",
    "        \n",
    "# Figure out best model\n",
    "pipeline = data_science_lib.train_model(X,y, \n",
    "                                        param_dist={'feature_interactions__degree':[2]},\n",
    "                                        feature_interactions=True,\n",
    "                                        feature_selection_type='select_k_best',\n",
    "                                        estimator='multilayer_perceptron',                                    \n",
    "                                        num_parameter_combos=[],\n",
    "                                        use_default_param_dist=True)"
   ]
  },
  {
   "cell_type": "markdown",
   "metadata": {},
   "source": [
    "## Scale, PCA, SelectKBest, Multilayer Perceptron"
   ]
  },
  {
   "cell_type": "code",
   "execution_count": 65,
   "metadata": {
    "collapsed": false
   },
   "outputs": [
    {
     "name": "stdout",
     "output_type": "stream",
     "text": [
      "Grid parameters:\n",
      "feature_selection__k : ['all']\n",
      "estimator__hidden_layer_sizes : [[3], [4], [5], [6], [7], [8], [9], [10], [11], [12], [13], [14], [15]]\n",
      "\n",
      "Training set classification accuracy:  0.828651685393\n",
      "\n",
      "Test set classification accuracy:  0.776536312849\n",
      "Confusion matrix: \n",
      "\n",
      "[[103  23]\n",
      " [ 17  36]]\n",
      "\n",
      "Normalized confusion matrix: \n",
      "\n",
      "[[ 0.57541899  0.12849162]\n",
      " [ 0.09497207  0.20111732]]\n",
      "\n",
      "Classification report: \n",
      "\n",
      "             precision    recall  f1-score   support\n",
      "\n",
      "          0       0.86      0.82      0.84       126\n",
      "          1       0.61      0.68      0.64        53\n",
      "\n",
      "avg / total       0.78      0.78      0.78       179\n",
      "\n",
      "\n",
      "Best parameters:\n",
      "\n",
      "{'feature_selection__k': 'all', 'estimator__hidden_layer_sizes': [4]}\n",
      "\n",
      "Pipeline(steps=[('scaler', StandardScaler(copy=True, with_mean=True, with_std=True)), ('transform', PCA(copy=True, iterated_power='auto', n_components=None, random_state=None,\n",
      "  svd_solver='auto', tol=0.0, whiten=False)), ('feature_selection', SelectKBest(k='all', score_func=<function f_classif at 0x119860e6...True, solver='lbfgs', tol=0.0001, validation_fraction=0.1,\n",
      "       verbose=False, warm_start=False))])\n",
      "CPU times: user 1.57 s, sys: 119 ms, total: 1.69 s\n",
      "Wall time: 8.91 s\n"
     ]
    }
   ],
   "source": [
    "%%time \n",
    "import data_science_lib\n",
    "reload(data_science_lib)\n",
    "        \n",
    "# Figure out best model\n",
    "pipeline = data_science_lib.train_model(X,y,\n",
    "                                        scale_type='standard', \n",
    "                                        transform_type='pca',\n",
    "                                        feature_selection_type='select_k_best',\n",
    "                                        estimator='multilayer_perceptron',                                    \n",
    "                                        num_parameter_combos=[],\n",
    "                                        use_default_param_dist=True)"
   ]
  },
  {
   "cell_type": "markdown",
   "metadata": {},
   "source": [
    "## Scale, SelectKBest, Random forest"
   ]
  },
  {
   "cell_type": "code",
   "execution_count": 38,
   "metadata": {
    "collapsed": false
   },
   "outputs": [
    {
     "name": "stdout",
     "output_type": "stream",
     "text": [
      "Grid parameters:\n",
      "feature_selection__k : [1, 2, 3, 4, 5, 6, 7, 8, 9, 10, 11, 12, 13, 14, 15]\n",
      "estimator__n_estimators : [90, 91, 92, 93, 94, 95, 96, 97, 98, 99]\n",
      "\n",
      "Training set classification accuracy:  0.825842696629\n",
      "\n",
      "Test set classification accuracy:  0.804469273743\n",
      "Confusion matrix: \n",
      "\n",
      "[[90 17]\n",
      " [18 54]]\n",
      "\n",
      "Normalized confusion matrix: \n",
      "\n",
      "[[ 0.5027933   0.09497207]\n",
      " [ 0.10055866  0.30167598]]\n",
      "\n",
      "Classification report: \n",
      "\n",
      "             precision    recall  f1-score   support\n",
      "\n",
      "          0       0.83      0.84      0.84       107\n",
      "          1       0.76      0.75      0.76        72\n",
      "\n",
      "avg / total       0.80      0.80      0.80       179\n",
      "\n",
      "\n",
      "Best parameters:\n",
      "\n",
      "{'feature_selection__k': 11, 'estimator__n_estimators': 98}\n",
      "\n",
      "Pipeline(steps=[('scaler', StandardScaler(copy=True, with_mean=True, with_std=True)), ('feature_selection', SelectKBest(k=11, score_func=<function f_classif at 0x119860e60>)), ('estimator', RandomForestClassifier(bootstrap=True, class_weight=None, criterion='gini',\n",
      "            max_depth=None, max_features='a...imators=98, n_jobs=1, oob_score=False, random_state=None,\n",
      "            verbose=0, warm_start=False))])\n",
      "CPU times: user 2.33 s, sys: 286 ms, total: 2.61 s\n",
      "Wall time: 44.2 s\n"
     ]
    }
   ],
   "source": [
    "%%time \n",
    "import data_science_lib\n",
    "reload(data_science_lib)\n",
    "        \n",
    "# Figure out best model\n",
    "pipeline = data_science_lib.train_model(X,y,\n",
    "                                        scale_type='standard', \n",
    "                                        feature_selection_type='select_k_best',\n",
    "                                        estimator='random_forest',                                    \n",
    "                                        num_parameter_combos=20,\n",
    "                                        use_default_param_dist=True)"
   ]
  },
  {
   "cell_type": "markdown",
   "metadata": {},
   "source": [
    "## ExtraTreesClassifier"
   ]
  },
  {
   "cell_type": "code",
   "execution_count": 39,
   "metadata": {
    "collapsed": false
   },
   "outputs": [
    {
     "ename": "TypeError",
     "evalue": "__init__() got an unexpected keyword argument 'learning_rate'",
     "output_type": "error",
     "traceback": [
      "\u001b[0;31m---------------------------------------------------------------------------\u001b[0m",
      "\u001b[0;31mTypeError\u001b[0m                                 Traceback (most recent call last)",
      "\u001b[0;32m<ipython-input-39-274995fa7b5b>\u001b[0m in \u001b[0;36m<module>\u001b[0;34m()\u001b[0m\n\u001b[0;32m----> 1\u001b[0;31m \u001b[0mget_ipython\u001b[0m\u001b[0;34m(\u001b[0m\u001b[0;34m)\u001b[0m\u001b[0;34m.\u001b[0m\u001b[0mrun_cell_magic\u001b[0m\u001b[0;34m(\u001b[0m\u001b[0;34mu'time'\u001b[0m\u001b[0;34m,\u001b[0m \u001b[0;34mu''\u001b[0m\u001b[0;34m,\u001b[0m \u001b[0;34mu\"\\n# Set output feature\\noutput_feature = 'Survived'\\n\\n# Get all column names\\ncolumn_names = list(simulation_df.columns)\\n\\n# Exclude one of every categorical variable since the other one-hot encodings cover everything\\ninput_features = [x for x in column_names if x != output_feature]\\n\\n# Split into features and responses\\nX = simulation_df[input_features].copy()\\ny = simulation_df[output_feature].copy()\\n\\n# Scalers\\nfrom sklearn.preprocessing import StandardScaler\\nfrom sklearn.preprocessing import MinMaxScaler\\nfrom sklearn.preprocessing import Normalizer\\nfrom sklearn.preprocessing import Binarizer\\n\\n# Feature selection tools\\nfrom sklearn.feature_selection import SelectKBest, f_classif\\n\\n# Classifiers\\nfrom sklearn.naive_bayes import MultinomialNB\\nfrom sklearn.neighbors import KNeighborsClassifier\\nfrom sklearn.linear_model import LogisticRegression\\nfrom sklearn.svm import SVC, LinearSVC\\nfrom sklearn.ensemble import RandomForestClassifier\\nfrom sklearn.ensemble import ExtraTreesClassifier\\nfrom sklearn.neural_network import MLPClassifier\\n\\n# Regression tools\\nfrom sklearn.preprocessing import PolynomialFeatures\\nfrom sklearn.linear_model import LinearRegression\\n\\n# Unsupervised learning tools\\nfrom sklearn.decomposition import PCA\\nfrom sklearn.lda import LDA\\n\\n# Cross validation tools\\nfrom sklearn.cross_validation import train_test_split\\nfrom sklearn.pipeline import Pipeline\\nfrom sklearn.grid_search import GridSearchCV\\n\\n# Classification metrics\\nfrom sklearn.metrics import confusion_matrix\\nfrom sklearn.metrics import classification_report\\n\\n# Form pipeline\\npipeline = Pipeline([\\n        ('scaler', StandardScaler()),\\n        ('feature_selection', SelectKBest(f_classif)),         \\n        ('classifier', ExtraTreesClassifier(max_depth=4,learning_rate=0.01,min_samples_split=1))\\n    ])\\n\\n# Initialize grid search with pipeline\\ngrid_search = GridSearchCV(pipeline, {\\n        'classifier__n_estimators': [300],\\n        'classifier__loss' : [ 'ls', 'lad' ],\\n        'feature_selection__k': range(1,len(input_features))\\n#         'unsupervised__n_components': range(1,5)\\n    },\\n    cv=10, \\n    scoring='accuracy',\\n    n_jobs=-1)\\n\\n# Print grid_search parameters\\nprint grid_search\\n\\n# Split data into train and test sets\\nX_train, X_test, y_train, y_test = \\\\\\n    train_test_split(X, y, test_size=0.2)\\n\\n# Perform grid serach using above parameters\\ngrid_search.fit(X_train, y_train)\\n\\n# Make prediction based on model\\ny_pred = grid_search.best_estimator_.predict(X_test)\\n\\n# Calculate confusion matrix\\nconf_mat = confusion_matrix(y_test, y_pred)\\n\\n# Print out metrics and best parameters\\nprint 'Confusion matrix: \\\\n\\\\n',conf_mat\\n\\nprint '\\\\nNormalized confusion matrix: \\\\n\\\\n',conf_mat/float(conf_mat.sum())\\n\\nprint '\\\\nClassification report: \\\\n\\\\n',classification_report(y_test, y_pred)\\n\\nprint '\\\\nTraining set classification accuracy: ',grid_search.best_score_\\nprint '\\\\nTest set classification accuracy: ',conf_mat.trace()/float(conf_mat.sum())\\nprint '\\\\nBest parameters:\\\\n'\\nprint grid_search.best_params_\\n\\n# Fit pipeline with best parameters obtained from grid search using all data\\npipeline.set_params(**grid_search.best_params_).fit(X, y)\\n\\ny_pred_pipe = pipeline.predict(X_test)\\n\\n# Calculate confusion matrix\\nconf_mat_pipe = confusion_matrix(y_test, y_pred_pipe)\\nprint conf_mat_pipe\"\u001b[0m\u001b[0;34m)\u001b[0m\u001b[0;34m\u001b[0m\u001b[0m\n\u001b[0m",
      "\u001b[0;32m/Users/cmshymansky/anaconda/lib/python2.7/site-packages/IPython/core/interactiveshell.pyc\u001b[0m in \u001b[0;36mrun_cell_magic\u001b[0;34m(self, magic_name, line, cell)\u001b[0m\n\u001b[1;32m   2118\u001b[0m             \u001b[0mmagic_arg_s\u001b[0m \u001b[0;34m=\u001b[0m \u001b[0mself\u001b[0m\u001b[0;34m.\u001b[0m\u001b[0mvar_expand\u001b[0m\u001b[0;34m(\u001b[0m\u001b[0mline\u001b[0m\u001b[0;34m,\u001b[0m \u001b[0mstack_depth\u001b[0m\u001b[0;34m)\u001b[0m\u001b[0;34m\u001b[0m\u001b[0m\n\u001b[1;32m   2119\u001b[0m             \u001b[0;32mwith\u001b[0m \u001b[0mself\u001b[0m\u001b[0;34m.\u001b[0m\u001b[0mbuiltin_trap\u001b[0m\u001b[0;34m:\u001b[0m\u001b[0;34m\u001b[0m\u001b[0m\n\u001b[0;32m-> 2120\u001b[0;31m                 \u001b[0mresult\u001b[0m \u001b[0;34m=\u001b[0m \u001b[0mfn\u001b[0m\u001b[0;34m(\u001b[0m\u001b[0mmagic_arg_s\u001b[0m\u001b[0;34m,\u001b[0m \u001b[0mcell\u001b[0m\u001b[0;34m)\u001b[0m\u001b[0;34m\u001b[0m\u001b[0m\n\u001b[0m\u001b[1;32m   2121\u001b[0m             \u001b[0;32mreturn\u001b[0m \u001b[0mresult\u001b[0m\u001b[0;34m\u001b[0m\u001b[0m\n\u001b[1;32m   2122\u001b[0m \u001b[0;34m\u001b[0m\u001b[0m\n",
      "\u001b[0;32m/Users/cmshymansky/anaconda/lib/python2.7/site-packages/IPython/core/magics/execution.pyc\u001b[0m in \u001b[0;36mtime\u001b[0;34m(self, line, cell, local_ns)\u001b[0m\n",
      "\u001b[0;32m/Users/cmshymansky/anaconda/lib/python2.7/site-packages/IPython/core/magic.pyc\u001b[0m in \u001b[0;36m<lambda>\u001b[0;34m(f, *a, **k)\u001b[0m\n\u001b[1;32m    191\u001b[0m     \u001b[0;31m# but it's overkill for just that one bit of state.\u001b[0m\u001b[0;34m\u001b[0m\u001b[0;34m\u001b[0m\u001b[0m\n\u001b[1;32m    192\u001b[0m     \u001b[0;32mdef\u001b[0m \u001b[0mmagic_deco\u001b[0m\u001b[0;34m(\u001b[0m\u001b[0marg\u001b[0m\u001b[0;34m)\u001b[0m\u001b[0;34m:\u001b[0m\u001b[0;34m\u001b[0m\u001b[0m\n\u001b[0;32m--> 193\u001b[0;31m         \u001b[0mcall\u001b[0m \u001b[0;34m=\u001b[0m \u001b[0;32mlambda\u001b[0m \u001b[0mf\u001b[0m\u001b[0;34m,\u001b[0m \u001b[0;34m*\u001b[0m\u001b[0ma\u001b[0m\u001b[0;34m,\u001b[0m \u001b[0;34m**\u001b[0m\u001b[0mk\u001b[0m\u001b[0;34m:\u001b[0m \u001b[0mf\u001b[0m\u001b[0;34m(\u001b[0m\u001b[0;34m*\u001b[0m\u001b[0ma\u001b[0m\u001b[0;34m,\u001b[0m \u001b[0;34m**\u001b[0m\u001b[0mk\u001b[0m\u001b[0;34m)\u001b[0m\u001b[0;34m\u001b[0m\u001b[0m\n\u001b[0m\u001b[1;32m    194\u001b[0m \u001b[0;34m\u001b[0m\u001b[0m\n\u001b[1;32m    195\u001b[0m         \u001b[0;32mif\u001b[0m \u001b[0mcallable\u001b[0m\u001b[0;34m(\u001b[0m\u001b[0marg\u001b[0m\u001b[0;34m)\u001b[0m\u001b[0;34m:\u001b[0m\u001b[0;34m\u001b[0m\u001b[0m\n",
      "\u001b[0;32m/Users/cmshymansky/anaconda/lib/python2.7/site-packages/IPython/core/magics/execution.pyc\u001b[0m in \u001b[0;36mtime\u001b[0;34m(self, line, cell, local_ns)\u001b[0m\n\u001b[1;32m   1175\u001b[0m         \u001b[0;32melse\u001b[0m\u001b[0;34m:\u001b[0m\u001b[0;34m\u001b[0m\u001b[0m\n\u001b[1;32m   1176\u001b[0m             \u001b[0mst\u001b[0m \u001b[0;34m=\u001b[0m \u001b[0mclock2\u001b[0m\u001b[0;34m(\u001b[0m\u001b[0;34m)\u001b[0m\u001b[0;34m\u001b[0m\u001b[0m\n\u001b[0;32m-> 1177\u001b[0;31m             \u001b[0;32mexec\u001b[0m\u001b[0;34m(\u001b[0m\u001b[0mcode\u001b[0m\u001b[0;34m,\u001b[0m \u001b[0mglob\u001b[0m\u001b[0;34m,\u001b[0m \u001b[0mlocal_ns\u001b[0m\u001b[0;34m)\u001b[0m\u001b[0;34m\u001b[0m\u001b[0m\n\u001b[0m\u001b[1;32m   1178\u001b[0m             \u001b[0mend\u001b[0m \u001b[0;34m=\u001b[0m \u001b[0mclock2\u001b[0m\u001b[0;34m(\u001b[0m\u001b[0;34m)\u001b[0m\u001b[0;34m\u001b[0m\u001b[0m\n\u001b[1;32m   1179\u001b[0m             \u001b[0mout\u001b[0m \u001b[0;34m=\u001b[0m \u001b[0mNone\u001b[0m\u001b[0;34m\u001b[0m\u001b[0m\n",
      "\u001b[0;32m<timed exec>\u001b[0m in \u001b[0;36m<module>\u001b[0;34m()\u001b[0m\n",
      "\u001b[0;31mTypeError\u001b[0m: __init__() got an unexpected keyword argument 'learning_rate'"
     ]
    }
   ],
   "source": [
    "%%time \n",
    "\n",
    "# Set output feature\n",
    "output_feature = 'Survived'\n",
    "\n",
    "# Get all column names\n",
    "column_names = list(simulation_df.columns)\n",
    "\n",
    "# Exclude one of every categorical variable since the other one-hot encodings cover everything\n",
    "input_features = [x for x in column_names if x != output_feature]\n",
    "\n",
    "# Split into features and responses\n",
    "X = simulation_df[input_features].copy()\n",
    "y = simulation_df[output_feature].copy()\n",
    "\n",
    "# Scalers\n",
    "from sklearn.preprocessing import StandardScaler\n",
    "from sklearn.preprocessing import MinMaxScaler\n",
    "from sklearn.preprocessing import Normalizer\n",
    "from sklearn.preprocessing import Binarizer\n",
    "\n",
    "# Feature selection tools\n",
    "from sklearn.feature_selection import SelectKBest, f_classif\n",
    "\n",
    "# Classifiers\n",
    "from sklearn.naive_bayes import MultinomialNB\n",
    "from sklearn.neighbors import KNeighborsClassifier\n",
    "from sklearn.linear_model import LogisticRegression\n",
    "from sklearn.svm import SVC, LinearSVC\n",
    "from sklearn.ensemble import RandomForestClassifier\n",
    "from sklearn.ensemble import ExtraTreesClassifier\n",
    "from sklearn.neural_network import MLPClassifier\n",
    "\n",
    "# Regression tools\n",
    "from sklearn.preprocessing import PolynomialFeatures\n",
    "from sklearn.linear_model import LinearRegression\n",
    "\n",
    "# Unsupervised learning tools\n",
    "from sklearn.decomposition import PCA\n",
    "from sklearn.lda import LDA\n",
    "\n",
    "# Cross validation tools\n",
    "from sklearn.cross_validation import train_test_split\n",
    "from sklearn.pipeline import Pipeline\n",
    "from sklearn.grid_search import GridSearchCV\n",
    "\n",
    "# Classification metrics\n",
    "from sklearn.metrics import confusion_matrix\n",
    "from sklearn.metrics import classification_report\n",
    "\n",
    "# Form pipeline\n",
    "pipeline = Pipeline([\n",
    "        ('scaler', StandardScaler()),\n",
    "        ('feature_selection', SelectKBest(f_classif)),         \n",
    "        ('classifier', ExtraTreesClassifier(max_depth=4,learning_rate=0.01,min_samples_split=1))\n",
    "    ])\n",
    "\n",
    "# Initialize grid search with pipeline\n",
    "grid_search = GridSearchCV(pipeline, {\n",
    "        'classifier__n_estimators': [300],\n",
    "        'classifier__loss' : [ 'ls', 'lad' ],\n",
    "        'feature_selection__k': range(1,len(input_features))\n",
    "#         'unsupervised__n_components': range(1,5)\n",
    "    },\n",
    "    cv=10, \n",
    "    scoring='accuracy',\n",
    "    n_jobs=-1)\n",
    "\n",
    "# Print grid_search parameters\n",
    "print grid_search\n",
    "\n",
    "# Split data into train and test sets\n",
    "X_train, X_test, y_train, y_test = \\\n",
    "    train_test_split(X, y, test_size=0.2)\n",
    "\n",
    "# Perform grid serach using above parameters\n",
    "grid_search.fit(X_train, y_train)\n",
    "\n",
    "# Make prediction based on model\n",
    "y_pred = grid_search.best_estimator_.predict(X_test)\n",
    "\n",
    "# Calculate confusion matrix\n",
    "conf_mat = confusion_matrix(y_test, y_pred)\n",
    "\n",
    "# Print out metrics and best parameters\n",
    "print 'Confusion matrix: \\n\\n',conf_mat\n",
    "\n",
    "print '\\nNormalized confusion matrix: \\n\\n',conf_mat/float(conf_mat.sum())\n",
    "\n",
    "print '\\nClassification report: \\n\\n',classification_report(y_test, y_pred)\n",
    "\n",
    "print '\\nTraining set classification accuracy: ',grid_search.best_score_\n",
    "print '\\nTest set classification accuracy: ',conf_mat.trace()/float(conf_mat.sum())\n",
    "print '\\nBest parameters:\\n'\n",
    "print grid_search.best_params_\n",
    "\n",
    "# Fit pipeline with best parameters obtained from grid search using all data\n",
    "pipeline.set_params(**grid_search.best_params_).fit(X, y)\n",
    "\n",
    "y_pred_pipe = pipeline.predict(X_test)\n",
    "\n",
    "# Calculate confusion matrix\n",
    "conf_mat_pipe = confusion_matrix(y_test, y_pred_pipe)\n",
    "print conf_mat_pipe"
   ]
  },
  {
   "cell_type": "markdown",
   "metadata": {},
   "source": [
    "## Gradient booster"
   ]
  },
  {
   "cell_type": "code",
   "execution_count": null,
   "metadata": {
    "collapsed": true
   },
   "outputs": [],
   "source": [
    "%%time \n",
    "\n",
    "# Set output feature\n",
    "output_feature = 'Survived'\n",
    "\n",
    "# Get all column names\n",
    "column_names = list(simulation_df.columns)\n",
    "\n",
    "# Exclude one of every categorical variable since the other one-hot encodings cover everything\n",
    "input_features = [x for x in column_names if x != output_feature]\n",
    "\n",
    "# Split into features and responses\n",
    "X = simulation_df[input_features].copy()\n",
    "y = simulation_df[output_feature].copy()\n",
    "\n",
    "# Scalers\n",
    "from sklearn.preprocessing import StandardScaler\n",
    "from sklearn.preprocessing import MinMaxScaler\n",
    "from sklearn.preprocessing import Normalizer\n",
    "from sklearn.preprocessing import Binarizer\n",
    "\n",
    "# Feature selection tools\n",
    "from sklearn.feature_selection import SelectKBest, f_classif\n",
    "\n",
    "# Classifiers\n",
    "from sklearn.naive_bayes import MultinomialNB\n",
    "from sklearn.neighbors import KNeighborsClassifier\n",
    "from sklearn.linear_model import LogisticRegression\n",
    "from sklearn.svm import SVC, LinearSVC\n",
    "from sklearn.ensemble import RandomForestClassifier\n",
    "from sklearn.ensemble import ExtraTreesClassifier\n",
    "from sklearn.neural_network import MLPClassifier\n",
    "from sklearn.ensemble import GradientBoostingRegressor\n",
    "\n",
    "# Regression tools\n",
    "from sklearn.preprocessing import PolynomialFeatures\n",
    "from sklearn.linear_model import LinearRegression\n",
    "\n",
    "# Unsupervised learning tools\n",
    "from sklearn.decomposition import PCA\n",
    "from sklearn.lda import LDA\n",
    "\n",
    "# Cross validation tools\n",
    "from sklearn.cross_validation import train_test_split\n",
    "from sklearn.pipeline import Pipeline\n",
    "from sklearn.grid_search import GridSearchCV\n",
    "\n",
    "# Classification metrics\n",
    "from sklearn.metrics import confusion_matrix\n",
    "from sklearn.metrics import classification_report\n",
    "\n",
    "# Form pipeline\n",
    "pipeline = Pipeline([\n",
    "        ('scaler', StandardScaler()),\n",
    "        ('feature_selection', SelectKBest(f_classif)),         \n",
    "        ('classifier', GradientBoostingRegressor())\n",
    "    ])\n",
    "\n",
    "# Initialize grid search with pipeline\n",
    "grid_search = GridSearchCV(pipeline, {\n",
    "        'classifier__n_estimators': [x for x in range(190,210)],\n",
    "        'feature_selection__k': range(1,len(input_features))\n",
    "#         'unsupervised__n_components': range(1,5)\n",
    "    },\n",
    "    cv=10, \n",
    "    scoring='accuracy',\n",
    "    n_jobs=-1)\n",
    "\n",
    "# Print grid_search parameters\n",
    "print grid_search\n",
    "\n",
    "# Split data into train and test sets\n",
    "X_train, X_test, y_train, y_test = \\\n",
    "    train_test_split(X, y, test_size=0.2)\n",
    "\n",
    "# Perform grid serach using above parameters\n",
    "grid_search.fit(X_train, y_train)\n",
    "\n",
    "# Make prediction based on model\n",
    "y_pred = grid_search.best_estimator_.predict(X_test)\n",
    "\n",
    "# Calculate confusion matrix\n",
    "conf_mat = confusion_matrix(y_test, y_pred)\n",
    "\n",
    "# Print out metrics and best parameters\n",
    "print 'Confusion matrix: \\n\\n',conf_mat\n",
    "\n",
    "print '\\nNormalized confusion matrix: \\n\\n',conf_mat/float(conf_mat.sum())\n",
    "\n",
    "print '\\nClassification report: \\n\\n',classification_report(y_test, y_pred)\n",
    "\n",
    "print '\\nTraining set classification accuracy: ',grid_search.best_score_\n",
    "print '\\nTest set classification accuracy: ',conf_mat.trace()/float(conf_mat.sum())\n",
    "print '\\nBest parameters:\\n'\n",
    "print grid_search.best_params_\n",
    "\n",
    "# Fit pipeline with best parameters obtained from grid search using all data\n",
    "pipeline.set_params(**grid_search.best_params_).fit(X, y)\n",
    "\n",
    "y_pred_pipe = pipeline.predict(X_test)\n",
    "\n",
    "# Calculate confusion matrix\n",
    "conf_mat_pipe = confusion_matrix(y_test, y_pred_pipe)\n",
    "print conf_mat_pipe"
   ]
  },
  {
   "cell_type": "markdown",
   "metadata": {},
   "source": [
    "This one apparently can't handle a mix of binary and continuous variables."
   ]
  },
  {
   "cell_type": "code",
   "execution_count": null,
   "metadata": {
    "collapsed": false,
    "scrolled": false
   },
   "outputs": [],
   "source": [
    "reload(dataframe_visualization_lib)\n",
    "dataframe_visualization_lib.continuous_pair_grid_vs_label(simulation_df,hue_feature='Survived',\n",
    "                              plot_medians=True,plot_vars=['Age','Fare'],plot_means=True)"
   ]
  },
  {
   "cell_type": "markdown",
   "metadata": {},
   "source": [
    "## Delete remaining fields with too much missing data"
   ]
  },
  {
   "cell_type": "markdown",
   "metadata": {},
   "source": [
    "Here I delete the Cabin data:"
   ]
  },
  {
   "cell_type": "code",
   "execution_count": null,
   "metadata": {
    "collapsed": false
   },
   "outputs": [],
   "source": [
    "del df['Cabin']\n",
    "df.info()"
   ]
  },
  {
   "cell_type": "markdown",
   "metadata": {},
   "source": [
    "# Create classfier for survival"
   ]
  },
  {
   "cell_type": "markdown",
   "metadata": {},
   "source": [
    "## Trim data for machine learning packages"
   ]
  },
  {
   "cell_type": "code",
   "execution_count": null,
   "metadata": {
    "collapsed": false
   },
   "outputs": [],
   "source": [
    "trimmed_df = df.copy()\n",
    "\n",
    "del trimmed_df['Name']\n",
    "del trimmed_df['Ticket']\n",
    "del trimmed_df['PassengerId']\n",
    "\n",
    "print trimmed_df.head()"
   ]
  },
  {
   "cell_type": "markdown",
   "metadata": {},
   "source": [
    "## One-hot encode categorical data"
   ]
  },
  {
   "cell_type": "code",
   "execution_count": null,
   "metadata": {
    "collapsed": true
   },
   "outputs": [],
   "source": [
    "encoded_df = pd.get_dummies(trimmed_df)"
   ]
  },
  {
   "cell_type": "markdown",
   "metadata": {},
   "source": [
    "## Set the output feature name and the input feature names and split into training and target data sets"
   ]
  },
  {
   "cell_type": "code",
   "execution_count": null,
   "metadata": {
    "collapsed": true
   },
   "outputs": [],
   "source": [
    "output_feature = 'Survived'\n",
    "column_names = list(encoded_df.columns)\n",
    "\n",
    "# Exclude one of every categorical variable since the other one-hot encodings cover everything\n",
    "input_features = [column_name for column_name in column_names if column_name not in ['Survived','Sex_male','Embarked_S']]\n",
    "\n",
    "# Split into features and responses\n",
    "X = encoded_df[input_features].copy()\n",
    "y = encoded_df[output_feature].copy()"
   ]
  },
  {
   "cell_type": "markdown",
   "metadata": {},
   "source": [
    "## Figure out null accuracy baseline"
   ]
  },
  {
   "cell_type": "code",
   "execution_count": null,
   "metadata": {
    "collapsed": false
   },
   "outputs": [],
   "source": [
    "encoded_df['Survived'].value_counts().values/float(encoded_df['Survived'].value_counts().values.sum())"
   ]
  },
  {
   "cell_type": "markdown",
   "metadata": {},
   "source": [
    "Most died. So a null model of always predicting death would result in a 62% null accuracy."
   ]
  },
  {
   "cell_type": "markdown",
   "metadata": {},
   "source": [
    "## Naive Bayes with SelectKBest"
   ]
  },
  {
   "cell_type": "code",
   "execution_count": null,
   "metadata": {
    "collapsed": false
   },
   "outputs": [],
   "source": [
    "%%time \n",
    "\n",
    "from sklearn.cross_validation import train_test_split\n",
    "from sklearn.pipeline import Pipeline\n",
    "from sklearn.grid_search import GridSearchCV\n",
    "from sklearn.feature_selection import SelectKBest, f_classif\n",
    "\n",
    "from sklearn.naive_bayes import MultinomialNB\n",
    "from sklearn.neighbors import KNeighborsClassifier\n",
    "from sklearn.linear_model import LogisticRegression\n",
    "from sklearn.svm import SVC, LinearSVC\n",
    "\n",
    "from sklearn.metrics import confusion_matrix,classification_report\n",
    "\n",
    "# Form pipeline\n",
    "pipeline = Pipeline([('kbest', SelectKBest(f_classif)), ('nb', MultinomialNB())])\n",
    "\n",
    "print pipeline\n",
    "\n",
    "# Initialize grid search with pipeline\n",
    "grid_search = GridSearchCV(pipeline, \n",
    "                           {'kbest__k': range(1,len(input_features)),'nb__alpha': np.arange(0.0,1.0,0.1)},                           \n",
    "                           cv=10, scoring='accuracy') #,n_jobs=-1\n",
    "# Print grid_search parameters\n",
    "print grid_search\n",
    "\n",
    "# Split data into train and test sets\n",
    "X_train, X_test, y_train, y_test = \\\n",
    "    train_test_split(X, y, test_size=0.2)\n",
    "\n",
    "# Perform grid serach using above parameters\n",
    "grid_search.fit(X_train, y_train)\n",
    "\n",
    "# Make prediction based on model\n",
    "y_pred = grid_search.best_estimator_.predict(X_test)\n",
    "\n",
    "# Calculate confusion matrix\n",
    "conf_mat = confusion_matrix(y_test, y_pred)\n",
    "\n",
    "# Print out metrics and best parameters\n",
    "print 'Confusion matrix: \\n\\n',conf_mat\n",
    "\n",
    "print '\\nNormalized confusion matrix: \\n\\n',conf_mat/float(conf_mat.sum())\n",
    "\n",
    "print '\\nClassification report: \\n\\n',classification_report(y_test, y_pred)\n",
    "\n",
    "print '\\nTraining set classification accuracy: ',grid_search.best_score_\n",
    "print '\\nTest set classification accuracy: ',conf_mat.trace()/float(conf_mat.sum())\n",
    "print '\\nBest parameters:\\n'\n",
    "print grid_search.best_params_\n",
    "\n",
    "# Fit pipeline with best parameters obtained from grid search using all data\n",
    "pipeline.set_params(**grid_search.best_params_).fit(X, y)\n",
    "\n",
    "y_pred_pipe = pipeline.predict(X_test)\n",
    "\n",
    "# Calculate confusion matrix\n",
    "conf_mat_pipe = confusion_matrix(y_test, y_pred_pipe)\n",
    "print conf_mat_pipe"
   ]
  },
  {
   "cell_type": "markdown",
   "metadata": {},
   "source": [
    "# Scale data then use classifiers"
   ]
  },
  {
   "cell_type": "code",
   "execution_count": null,
   "metadata": {
    "collapsed": false,
    "scrolled": false
   },
   "outputs": [],
   "source": [
    "%%time \n",
    "\n",
    "from sklearn.cross_validation import train_test_split\n",
    "from sklearn.pipeline import Pipeline\n",
    "from sklearn.grid_search import GridSearchCV\n",
    "from sklearn.feature_selection import SelectKBest, f_classif\n",
    "\n",
    "from sklearn.naive_bayes import MultinomialNB\n",
    "from sklearn.neighbors import KNeighborsClassifier\n",
    "from sklearn.linear_model import LogisticRegression\n",
    "from sklearn.svm import SVC, LinearSVC\n",
    "\n",
    "from sklearn.metrics import confusion_matrix,classification_report\n",
    "\n",
    "from sklearn.preprocessing import StandardScaler\n",
    "from sklearn.preprocessing import MinMaxScaler\n",
    "from sklearn.preprocessing import Normalizer\n",
    "from sklearn.preprocessing import Binarizer\n",
    "\n",
    "# rescaled_X = StandardScaler().fit(X).transform(X)        \n",
    "\n",
    "# Pipeline([('scaler', StandardScaler()), ('clf', LinearSVC())])\n",
    "# Form pipeline \n",
    "pipeline = Pipeline([('kbest', SelectKBest(f_classif)),\n",
    "                     ('scaler', StandardScaler()), \n",
    "                     ('classifier', KNeighborsClassifier())])\n",
    "\n",
    "# pipeline = Pipeline([('scaler', MinMaxScaler()), ('classifier', KNeighborsClassifier())])\n",
    "# pipeline = Pipeline([('scaler', Normalizer()), ('classifier', KNeighborsClassifier())])\n",
    "# pipeline = Pipeline([('scaler', Binarizer()), ('classifier', KNeighborsClassifier())])\n",
    "\n",
    "print pipeline\n",
    "\n",
    "# Initialize grid search with pipeline\n",
    "grid_search = GridSearchCV(pipeline, \n",
    "                           {'kbest__k': range(1,len(input_features)),                            \n",
    "                            'classifier__n_neighbors': range(1,31),\n",
    "                           'classifier__weights': ['uniform','distance']},\n",
    "                           cv=10, \n",
    "                           scoring='accuracy',\n",
    "                           n_jobs=-1)\n",
    "\n",
    "# Print grid_search parameters\n",
    "print grid_search\n",
    "\n",
    "# Split data into train and test sets\n",
    "X_train, X_test, y_train, y_test = \\\n",
    "    train_test_split(X, y, test_size=0.2)\n",
    "\n",
    "# Perform grid serach using above parameters\n",
    "grid_search.fit(X_train, y_train)\n",
    "\n",
    "# Make prediction based on model\n",
    "y_pred = grid_search.best_estimator_.predict(X_test)\n",
    "\n",
    "# Calculate confusion matrix\n",
    "conf_mat = confusion_matrix(y_test, y_pred)\n",
    "\n",
    "# Print out metrics and best parameters\n",
    "print 'Confusion matrix: \\n\\n',conf_mat\n",
    "\n",
    "print '\\nNormalized confusion matrix: \\n\\n',conf_mat/float(conf_mat.sum())\n",
    "\n",
    "print '\\nClassification report: \\n\\n',classification_report(y_test, y_pred)\n",
    "\n",
    "print '\\nTraining set classification accuracy: ',grid_search.best_score_\n",
    "print '\\nTest set classification accuracy: ',conf_mat.trace()/float(conf_mat.sum())\n",
    "print '\\nBest parameters:\\n'\n",
    "print grid_search.best_params_\n",
    "\n",
    "# Fit pipeline with best parameters obtained from grid search using all data\n",
    "pipeline.set_params(**grid_search.best_params_).fit(X, y)\n",
    "\n",
    "y_pred_pipe = pipeline.predict(X_test)\n",
    "\n",
    "# Calculate confusion matrix\n",
    "conf_mat_pipe = confusion_matrix(y_test, y_pred_pipe)\n",
    "print conf_mat_pipe"
   ]
  },
  {
   "cell_type": "markdown",
   "metadata": {},
   "source": [
    "## KNN"
   ]
  },
  {
   "cell_type": "markdown",
   "metadata": {},
   "source": [
    "## Random forest"
   ]
  },
  {
   "cell_type": "code",
   "execution_count": null,
   "metadata": {
    "collapsed": false
   },
   "outputs": [],
   "source": [
    "%%time \n",
    "\n",
    "from sklearn.cross_validation import train_test_split\n",
    "from sklearn.pipeline import Pipeline\n",
    "from sklearn.grid_search import GridSearchCV\n",
    "from sklearn.feature_selection import SelectKBest, f_classif\n",
    "\n",
    "from sklearn.naive_bayes import MultinomialNB\n",
    "from sklearn.neighbors import KNeighborsClassifier\n",
    "from sklearn.linear_model import LogisticRegression\n",
    "from sklearn.svm import SVC, LinearSVC\n",
    "from sklearn.ensemble import RandomForestClassifier\n",
    "\n",
    "from sklearn.metrics import confusion_matrix,classification_report\n",
    "\n",
    "from sklearn.preprocessing import StandardScaler\n",
    "from sklearn.preprocessing import MinMaxScaler\n",
    "from sklearn.preprocessing import Normalizer\n",
    "from sklearn.preprocessing import Binarizer\n",
    "RandomForestClassifier(n_estimators=100)\n",
    "\n",
    "\n",
    "# rescaled_X = StandardScaler().fit(X).transform(X)        \n",
    "\n",
    "# Pipeline([('scaler', StandardScaler()), ('clf', LinearSVC())])\n",
    "# Form pipeline \n",
    "pipeline = Pipeline([('kbest', SelectKBest(f_classif)),\n",
    "                     ('scaler', StandardScaler()), \n",
    "                     ('classifier', RandomForestClassifier())])\n",
    "\n",
    "pipeline = Pipeline([('classifier', RandomForestClassifier())])\n",
    "\n",
    "# pipeline = Pipeline([('scaler', MinMaxScaler()), ('classifier', KNeighborsClassifier())])\n",
    "# pipeline = Pipeline([('scaler', Normalizer()), ('classifier', KNeighborsClassifier())])\n",
    "# pipeline = Pipeline([('scaler', Binarizer()), ('classifier', KNeighborsClassifier())])\n",
    "\n",
    "print pipeline\n",
    "\n",
    "# Initialize grid search with pipeline\n",
    "grid_search = GridSearchCV(pipeline, \n",
    "                           {'classifier__n_estimators': range(90,100)},\n",
    "                           cv=10, \n",
    "                           scoring='accuracy',\n",
    "                           n_jobs=-1)\n",
    "\n",
    "# Print grid_search parameters\n",
    "print grid_search\n",
    "print y\n",
    "# Split data into train and test sets\n",
    "X_train, X_test, y_train, y_test = \\\n",
    "    train_test_split(X, y, test_size=0.2)\n",
    "\n",
    "# Perform grid serach using above parameters\n",
    "grid_search.fit(X_train, y_train)\n",
    "\n",
    "# Make prediction based on model\n",
    "y_pred = grid_search.best_estimator_.predict(X_test)\n",
    "\n",
    "# Calculate confusion matrix\n",
    "conf_mat = confusion_matrix(y_test, y_pred)\n",
    "\n",
    "# Print out metrics and best parameters\n",
    "print 'Confusion matrix: \\n\\n',conf_mat\n",
    "\n",
    "print '\\nNormalized confusion matrix: \\n\\n',conf_mat/float(conf_mat.sum())\n",
    "\n",
    "print '\\nClassification report: \\n\\n',classification_report(y_test, y_pred)\n",
    "\n",
    "print '\\nTraining set classification accuracy: ',grid_search.best_score_\n",
    "print '\\nTest set classification accuracy: ',conf_mat.trace()/float(conf_mat.sum())\n",
    "print '\\nBest parameters:\\n'\n",
    "print grid_search.best_params_\n",
    "\n",
    "# Fit pipeline with best parameters obtained from grid search using all data\n",
    "pipeline.set_params(**grid_search.best_params_).fit(X, y)\n",
    "\n",
    "y_pred_pipe = pipeline.predict(X_test)\n",
    "\n",
    "# Calculate confusion matrix\n",
    "conf_mat_pipe = confusion_matrix(y_test, y_pred_pipe)\n",
    "print conf_mat_pipe"
   ]
  },
  {
   "cell_type": "markdown",
   "metadata": {},
   "source": [
    "## Multi-layer Perceptron"
   ]
  },
  {
   "cell_type": "code",
   "execution_count": null,
   "metadata": {
    "collapsed": false,
    "scrolled": false
   },
   "outputs": [],
   "source": [
    "%%time \n",
    "\n",
    "from sklearn.cross_validation import train_test_split\n",
    "from sklearn.pipeline import Pipeline\n",
    "from sklearn.grid_search import GridSearchCV\n",
    "from sklearn.feature_selection import SelectKBest, f_classif\n",
    "\n",
    "from sklearn.naive_bayes import MultinomialNB\n",
    "from sklearn.neighbors import KNeighborsClassifier\n",
    "from sklearn.linear_model import LogisticRegression\n",
    "from sklearn.svm import SVC, LinearSVC\n",
    "from sklearn.ensemble import RandomForestClassifier\n",
    "from sklearn.neural_network import MLPClassifier\n",
    "\n",
    "from sklearn.metrics import confusion_matrix,classification_report\n",
    "\n",
    "from sklearn.preprocessing import StandardScaler\n",
    "from sklearn.preprocessing import MinMaxScaler\n",
    "from sklearn.preprocessing import Normalizer\n",
    "from sklearn.preprocessing import Binarizer\n",
    "RandomForestClassifier(n_estimators=100)\n",
    "\n",
    "\n",
    "# rescaled_X = StandardScaler().fit(X).transform(X)        \n",
    "\n",
    "# Pipeline([('scaler', StandardScaler()), ('clf', LinearSVC())])\n",
    "# Form pipeline \n",
    "# pipeline = Pipeline([('kbest', SelectKBest(f_classif)),\n",
    "#                      ('scaler', StandardScaler()), \n",
    "#                      ('classifier', RandomForestClassifier())])\n",
    "\n",
    "# pipeline = Pipeline([('classifier', RandomForestClassifier())])\n",
    "pipeline = Pipeline([('scaler', StandardScaler()),('classifier', MLPClassifier(solver='lbfgs',alpha=1e-5))]) #, alpha=1e-5,hidden_layer_sizes=(5, 2)\n",
    "\n",
    "\n",
    "# pipeline = Pipeline([('scaler', MinMaxScaler()), ('classifier', KNeighborsClassifier())])\n",
    "# pipeline = Pipeline([('scaler', Normalizer()), ('classifier', KNeighborsClassifier())])\n",
    "# pipeline = Pipeline([('scaler', Binarizer()), ('classifier', KNeighborsClassifier())])\n",
    "\n",
    "print pipeline\n",
    "\n",
    "# Initialize grid search with pipeline\n",
    "grid_search = GridSearchCV(pipeline, \n",
    "                           {'classifier__hidden_layer_sizes': [[x] for x in range(1,100)]},\n",
    "                           cv=10, \n",
    "                           scoring='accuracy',\n",
    "                           n_jobs=-1)\n",
    "\n",
    "# Print grid_search parameters\n",
    "print grid_search\n",
    "\n",
    "# Split data into train and test sets\n",
    "X_train, X_test, y_train, y_test = \\\n",
    "    train_test_split(X, y, test_size=0.2)\n",
    "\n",
    "# Perform grid serach using above parameters\n",
    "grid_search.fit(X_train, y_train)\n",
    "\n",
    "# Make prediction based on model\n",
    "y_pred = grid_search.best_estimator_.predict(X_test)\n",
    "\n",
    "# Calculate confusion matrix\n",
    "conf_mat = confusion_matrix(y_test, y_pred)\n",
    "\n",
    "# Print out metrics and best parameters\n",
    "print 'Confusion matrix: \\n\\n',conf_mat\n",
    "\n",
    "print '\\nNormalized confusion matrix: \\n\\n',conf_mat/float(conf_mat.sum())\n",
    "\n",
    "print '\\nClassification report: \\n\\n',classification_report(y_test, y_pred)\n",
    "\n",
    "print '\\nTraining set classification accuracy: ',grid_search.best_score_\n",
    "print '\\nTest set classification accuracy: ',conf_mat.trace()/float(conf_mat.sum())\n",
    "print '\\nBest parameters:\\n'\n",
    "print grid_search.best_params_\n",
    "\n",
    "# Fit pipeline with best parameters obtained from grid search using all data\n",
    "pipeline.set_params(**grid_search.best_params_).fit(X, y)\n",
    "\n",
    "y_pred_pipe = pipeline.predict(X_test)\n",
    "\n",
    "# Calculate confusion matrix\n",
    "conf_mat_pipe = confusion_matrix(y_test, y_pred_pipe)\n",
    "print conf_mat_pipe\n"
   ]
  }
 ],
 "metadata": {
  "anaconda-cloud": {},
  "kernelspec": {
   "display_name": "Python [default]",
   "language": "python",
   "name": "python2"
  },
  "language_info": {
   "codemirror_mode": {
    "name": "ipython",
    "version": 2
   },
   "file_extension": ".py",
   "mimetype": "text/x-python",
   "name": "python",
   "nbconvert_exporter": "python",
   "pygments_lexer": "ipython2",
   "version": "2.7.12"
  }
 },
 "nbformat": 4,
 "nbformat_minor": 0
}
