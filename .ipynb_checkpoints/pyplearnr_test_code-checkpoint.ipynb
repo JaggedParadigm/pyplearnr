{
 "cells": [
  {
   "cell_type": "markdown",
   "metadata": {},
   "source": [
    "# pyplearnr demo\n",
    "Here I demonstrate pyplearnr, a wrapper for building/training/validating scikit learn pipelines using GridSearchCV or RandomizedSearchCV.\n",
    "\n",
    "Quick keyword arguments give access to optional feature selection (e.g. SelectKBest), scaling (e.g. standard scaling), use of feature interactions, and data transformations (e.g. PCA, t-SNE) before being fed to a classifier/regressor.\n",
    "\n",
    "After building the pipeline, data can be used to perform a nested (stratified if classification) k-folds cross-validation and output an object containing data from the process, including the best model.\n",
    "\n",
    "Various default pipeline step parameters for the grid-search are available for quick iteration over different pipelines, with the option to ignore/override them in a flexible way.\n",
    "\n",
    "This is an on-going project that I intend to update with more models and pre-processing options and also with corresponding defaults.\n",
    "\n",
    "## Titanic dataset example\n",
    "Here I use the Titanic dataset I've cleaned and pickled in a separate tutorial.\n",
    "\n",
    "### Import data"
   ]
  },
  {
   "cell_type": "code",
   "execution_count": 2,
   "metadata": {
    "collapsed": false
   },
   "outputs": [
    {
     "name": "stdout",
     "output_type": "stream",
     "text": [
      "<class 'pandas.core.frame.DataFrame'>\n",
      "Int64Index: 890 entries, 0 to 890\n",
      "Data columns (total 9 columns):\n",
      "Survived    890 non-null int64\n",
      "Pclass      890 non-null int64\n",
      "Sex         890 non-null object\n",
      "Age         890 non-null float64\n",
      "SibSp       890 non-null int64\n",
      "Parch       890 non-null int64\n",
      "Fare        890 non-null float64\n",
      "Embarked    890 non-null object\n",
      "Title       890 non-null object\n",
      "dtypes: float64(2), int64(4), object(3)\n",
      "memory usage: 69.5+ KB\n"
     ]
    }
   ],
   "source": [
    "import pandas as pd\n",
    "\n",
    "df = pd.read_pickle('trimmed_titanic_data.pkl')\n",
    "\n",
    "df.info()"
   ]
  },
  {
   "cell_type": "markdown",
   "metadata": {},
   "source": [
    "By \"cleaned\" I mean I've derived titles (e.g. \"Mr.\", \"Mrs.\", \"Dr.\", etc) from the passenger names, imputed the missing Age values using polynomial regression with grid-searched 10-fold cross-validation, filled in the 3 missing Embarked values with the mode, and removed all fields that could be considered an id for that individual.\n",
    "\n",
    "Thus, there is no missing/null data.\n",
    "\n",
    "## Set categorical features as type 'category'\n",
    "In order to one-hot encode categorical data, its best to set the features that are considered categorical:"
   ]
  },
  {
   "cell_type": "code",
   "execution_count": 3,
   "metadata": {
    "collapsed": false
   },
   "outputs": [
    {
     "name": "stdout",
     "output_type": "stream",
     "text": [
      "<class 'pandas.core.frame.DataFrame'>\n",
      "Int64Index: 890 entries, 0 to 890\n",
      "Data columns (total 9 columns):\n",
      "Survived    890 non-null category\n",
      "Pclass      890 non-null category\n",
      "Sex         890 non-null category\n",
      "Age         890 non-null float64\n",
      "SibSp       890 non-null int64\n",
      "Parch       890 non-null int64\n",
      "Fare        890 non-null float64\n",
      "Embarked    890 non-null category\n",
      "Title       890 non-null category\n",
      "dtypes: category(5), float64(2), int64(2)\n",
      "memory usage: 39.3 KB\n"
     ]
    }
   ],
   "source": [
    "simulation_df = df.copy()\n",
    "\n",
    "categorical_features = ['Survived','Pclass','Sex','Embarked','Title']\n",
    "\n",
    "for feature in categorical_features:\n",
    "    simulation_df[feature] = simulation_df[feature].astype('category')\n",
    "    \n",
    "simulation_df.info()"
   ]
  },
  {
   "cell_type": "markdown",
   "metadata": {},
   "source": [
    "## One-hot encode categorical features"
   ]
  },
  {
   "cell_type": "code",
   "execution_count": 4,
   "metadata": {
    "collapsed": false
   },
   "outputs": [
    {
     "name": "stdout",
     "output_type": "stream",
     "text": [
      "<class 'pandas.core.frame.DataFrame'>\n",
      "Int64Index: 890 entries, 0 to 890\n",
      "Data columns (total 17 columns):\n",
      "Age               890 non-null float64\n",
      "SibSp             890 non-null int64\n",
      "Parch             890 non-null int64\n",
      "Fare              890 non-null float64\n",
      "Survived_1        890 non-null uint8\n",
      "Pclass_2          890 non-null uint8\n",
      "Pclass_3          890 non-null uint8\n",
      "Sex_male          890 non-null uint8\n",
      "Embarked_Q        890 non-null uint8\n",
      "Embarked_S        890 non-null uint8\n",
      "Title_Dr          890 non-null uint8\n",
      "Title_Military    890 non-null uint8\n",
      "Title_Miss        890 non-null uint8\n",
      "Title_Mr          890 non-null uint8\n",
      "Title_Mrs         890 non-null uint8\n",
      "Title_Noble       890 non-null uint8\n",
      "Title_Rev         890 non-null uint8\n",
      "dtypes: float64(2), int64(2), uint8(13)\n",
      "memory usage: 46.1 KB\n"
     ]
    }
   ],
   "source": [
    "simulation_df = pd.get_dummies(simulation_df,drop_first=True)\n",
    "\n",
    "simulation_df.info()"
   ]
  },
  {
   "cell_type": "markdown",
   "metadata": {},
   "source": [
    "Now we have 17 features.\n",
    "\n",
    "### Split into input/output data"
   ]
  },
  {
   "cell_type": "code",
   "execution_count": 5,
   "metadata": {
    "collapsed": true
   },
   "outputs": [],
   "source": [
    "# Set output feature\n",
    "output_feature = 'Survived_1'\n",
    "\n",
    "# Get all column names\n",
    "column_names = list(simulation_df.columns)\n",
    "\n",
    "# Get input features\n",
    "input_features = [x for x in column_names if x != output_feature]\n",
    "\n",
    "# Split into features and responses\n",
    "X = simulation_df[input_features].copy()\n",
    "y = simulation_df[output_feature].copy()"
   ]
  },
  {
   "cell_type": "markdown",
   "metadata": {},
   "source": [
    "### Null model"
   ]
  },
  {
   "cell_type": "code",
   "execution_count": 6,
   "metadata": {
    "collapsed": false
   },
   "outputs": [
    {
     "data": {
      "text/plain": [
       "array([ 0.61573034,  0.38426966])"
      ]
     },
     "execution_count": 6,
     "metadata": {},
     "output_type": "execute_result"
    }
   ],
   "source": [
    "simulation_df['Survived_1'].value_counts().values/float(simulation_df['Survived_1'].value_counts().values.sum())"
   ]
  },
  {
   "cell_type": "markdown",
   "metadata": {},
   "source": [
    "Thus, null accuracy of ~62% if always predict death.\n",
    "\n",
    "### Import pyplearnr and initialize optimized pipeline collection"
   ]
  },
  {
   "cell_type": "code",
   "execution_count": 7,
   "metadata": {
    "collapsed": false
   },
   "outputs": [],
   "source": [
    "%matplotlib inline\n",
    "\n",
    "import sys\n",
    "\n",
    "sys.path.append(\"./code\")\n",
    "\n",
    "import pyplearnr as ppl\n",
    "\n",
    "\n",
    "\n",
    "optimized_pipelines = {}"
   ]
  },
  {
   "cell_type": "code",
   "execution_count": 107,
   "metadata": {
    "collapsed": false,
    "scrolled": true
   },
   "outputs": [
    {
     "name": "stdout",
     "output_type": "stream",
     "text": [
      "12\n",
      "0\n",
      "\t0\n",
      "\t\t0\n",
      "\t\t\t0.988290932811 0.691081517353\n",
      "\t\t1\n",
      "\t\t\t0.988290932811 0.691081517353\n",
      "\t\t2\n",
      "\t\t\t0.799086757991 0.74485472155\n",
      "\t\t3\n",
      "\t\t\t0.986301369863 0.697033898305\n",
      "\t\t4\n",
      "\t\t\t0.5 0.5\n",
      "\t\t5\n",
      "\t\t\t0.64060665362 0.622578692494\n",
      "\t\t6\n",
      "\t\t\t0.988290932811 0.771690879742\n",
      "\t\t7\n",
      "\t\t\t0.988290932811 0.771690879742\n",
      "\t\t8\n",
      "\t\t\t0.844748858447 0.838075060533\n",
      "\t\t9\n",
      "\t\t\t0.986301369863 0.789548022599\n",
      "\t\t10\n",
      "\t\t\t0.5 0.5\n",
      "\t\t11\n",
      "\t\t\t0.818741030659 0.856638418079\n",
      "\t1\n",
      "\t\t0\n",
      "\t\t\t0.996248087778 0.648717948718\n",
      "\t\t1\n",
      "\t\t\t0.996248087778 0.648717948718\n",
      "\t\t2\n",
      "\t\t\t0.807511737089 0.642307692308\n",
      "\t\t3\n",
      "\t\t\t0.995305164319 0.648717948718\n",
      "\t\t4\n",
      "\t\t\t0.5 0.5\n",
      "\t\t5\n",
      "\t\t\t0.639658173762 0.59358974359\n",
      "\t\t6\n",
      "\t\t\t0.995305164319 0.708974358974\n",
      "\t\t7\n",
      "\t\t\t0.995305164319 0.708974358974\n",
      "\t\t8\n",
      "\t\t\t0.849765258216 0.691025641026\n",
      "\t\t9\n",
      "\t\t\t0.995305164319 0.708974358974\n",
      "\t\t10\n",
      "\t\t\t0.5 0.5\n",
      "\t\t11\n",
      "\t\t\t0.842802131139 0.762820512821\n",
      "\t2\n",
      "\t\t0\n",
      "\t\t\t0.989766081871 0.73847826087\n",
      "\t\t1\n",
      "\t\t\t0.989766081871 0.73847826087\n",
      "\t\t2\n",
      "\t\t\t0.804824561404 0.701086956522\n",
      "\t\t3\n",
      "\t\t\t0.989035087719 0.73847826087\n",
      "\t\t4\n",
      "\t\t\t0.5 0.5\n",
      "\t\t5\n",
      "\t\t\t0.639619883041 0.663913043478\n",
      "\t\t6\n",
      "\t\t\t0.991959064327 0.779347826087\n",
      "\t\t7\n",
      "\t\t\t0.991959064327 0.779347826087\n",
      "\t\t8\n",
      "\t\t\t0.844298245614 0.792826086957\n",
      "\t\t9\n",
      "\t\t\t0.989035087719 0.784782608696\n",
      "\t\t10\n",
      "\t\t\t0.5 0.5\n",
      "\t\t11\n",
      "\t\t\t0.815058479532 0.839130434783\n",
      "\t3\n",
      "\t\t0\n",
      "\t\t\t0.995548961424 0.650515463918\n",
      "\t\t1\n",
      "\t\t\t0.995548961424 0.650515463918\n",
      "\t\t2\n",
      "\t\t\t0.81330472103 0.67147766323\n",
      "\t\t3\n",
      "\t\t\t0.995708154506 0.655670103093\n",
      "\t\t4\n",
      "\t\t\t0.5 0.5\n",
      "\t\t5\n",
      "\t\t\t0.661708332803 0.608018327606\n",
      "\t\t6\n",
      "\t\t\t0.995548961424 0.730240549828\n",
      "\t\t7\n",
      "\t\t\t0.995548961424 0.730240549828\n",
      "\t\t8\n",
      "\t\t\t0.858369098712 0.720274914089\n",
      "\t\t9\n",
      "\t\t\t0.995708154506 0.730240549828\n",
      "\t\t10\n",
      "\t\t\t0.5 0.5\n",
      "\t\t11\n",
      "\t\t\t0.843080195107 0.775830469645\n",
      "\t4\n",
      "\t\t0\n",
      "\t\t\t0.993443390704 0.753522564836\n",
      "\t\t1\n",
      "\t\t\t0.993443390704 0.753522564836\n",
      "\t\t2\n",
      "\t\t\t0.808219178082 0.739942822136\n",
      "\t\t3\n",
      "\t\t\t0.990867579909 0.759546661221\n",
      "\t\t4\n",
      "\t\t\t0.5 0.5\n",
      "\t\t5\n",
      "\t\t\t0.613160051516 0.683071268123\n",
      "\t\t6\n",
      "\t\t\t0.992018889279 0.78742086992\n",
      "\t\t7\n",
      "\t\t\t0.992018889279 0.78742086992\n",
      "\t\t8\n",
      "\t\t\t0.840182648402 0.802838472534\n",
      "\t\t9\n",
      "\t\t\t0.990867579909 0.793444966306\n",
      "\t\t10\n",
      "\t\t\t0.5 0.5\n",
      "\t\t11\n",
      "\t\t\t0.823108145026 0.827139064734\n",
      "0.827139064734 11\n",
      "0.76329495614 0.824503530816\n",
      "1\n",
      "\t0\n",
      "\t\t0\n",
      "\t\t\t0.991494347216 0.732389937107\n",
      "\t\t1\n",
      "\t\t\t0.991494347216 0.732389937107\n",
      "\t\t2\n",
      "\t\t\t0.800947867299 0.71750524109\n",
      "\t\t3\n",
      "\t\t\t0.990521327014 0.737945492662\n",
      "\t\t4\n",
      "\t\t\t0.5 0.5\n",
      "\t\t5\n",
      "\t\t\t0.627948846938 0.672536687631\n",
      "\t\t6\n",
      "\t\t\t0.991494347216 0.755136268344\n",
      "\t\t7\n",
      "\t\t\t0.991494347216 0.755136268344\n",
      "\t\t8\n",
      "\t\t\t0.843601895735 0.744129979036\n",
      "\t\t9\n",
      "\t\t\t0.990521327014 0.755136268344\n",
      "\t\t10\n",
      "\t\t\t0.5 0.5\n",
      "\t\t11\n",
      "\t\t\t0.829463316476 0.750209643606\n",
      "\t1\n",
      "\t\t0\n",
      "\t\t\t0.994822110124 0.638208894329\n",
      "\t\t1\n",
      "\t\t\t0.994822110124 0.638208894329\n",
      "\t\t2\n",
      "\t\t\t0.828502415459 0.634944920441\n",
      "\t\t3\n",
      "\t\t\t0.992753623188 0.638208894329\n",
      "\t\t4\n",
      "\t\t\t0.5 0.5\n",
      "\t\t5\n",
      "\t\t\t0.655576907679 0.579457364341\n",
      "\t\t6\n",
      "\t\t\t0.993787866656 0.722868217054\n",
      "\t\t7\n",
      "\t\t\t0.993787866656 0.722868217054\n",
      "\t\t8\n",
      "\t\t\t0.852657004831 0.672786617707\n",
      "\t\t9\n",
      "\t\t\t0.992753623188 0.71409628723\n",
      "\t\t10\n",
      "\t\t\t0.5 0.5\n",
      "\t\t11\n",
      "\t\t\t0.816064803694 0.763463892289\n",
      "\t2\n",
      "\t\t0\n",
      "\t\t\t0.992990654206 0.709347826087\n",
      "\t\t1\n",
      "\t\t\t0.992990654206 0.709347826087\n",
      "\t\t2\n",
      "\t\t\t0.822429906542 0.66652173913\n",
      "\t\t3\n",
      "\t\t\t0.992990654206 0.709347826087\n",
      "\t\t4\n",
      "\t\t\t0.5 0.5\n",
      "\t\t5\n",
      "\t\t\t0.641919563163 0.663913043478\n",
      "\t\t6\n",
      "\t\t\t0.993922608422 0.781086956522\n",
      "\t\t7\n",
      "\t\t\t0.993922608422 0.781086956522\n",
      "\t\t8\n",
      "\t\t\t0.857476635514 0.799130434783\n",
      "\t\t9\n",
      "\t\t\t0.992990654206 0.781086956522\n",
      "\t\t10\n",
      "\t\t\t0.5 0.5\n",
      "\t\t11\n",
      "\t\t\t0.805536595611 0.839130434783\n",
      "\t3\n",
      "\t\t0\n",
      "\t\t\t0.996292393553 0.62313860252\n",
      "\t\t1\n",
      "\t\t\t0.996292393553 0.62313860252\n",
      "\t\t2\n",
      "\t\t\t0.84703196347 0.654410080183\n",
      "\t\t3\n",
      "\t\t\t0.995433789954 0.62313860252\n",
      "\t\t4\n",
      "\t\t\t0.5 0.5\n",
      "\t\t5\n",
      "\t\t\t0.664500643953 0.613172966781\n",
      "\t\t6\n",
      "\t\t\t0.996292393553 0.740549828179\n",
      "\t\t7\n",
      "\t\t\t0.996292393553 0.740549828179\n",
      "\t\t8\n",
      "\t\t\t0.860730593607 0.720274914089\n",
      "\t\t9\n",
      "\t\t\t0.995433789954 0.740549828179\n",
      "\t\t10\n",
      "\t\t\t0.5 0.5\n",
      "\t\t11\n",
      "\t\t\t0.829118370214 0.759564719359\n",
      "\t4\n",
      "\t\t0\n",
      "\t\t\t0.995890410959 0.803042679191\n",
      "\t\t1\n",
      "\t\t\t0.995890410959 0.803042679191\n",
      "\t\t2\n",
      "\t\t\t0.807317073171 0.74106595875\n",
      "\t\t3\n",
      "\t\t\t0.992682926829 0.809066775577\n",
      "\t\t4\n",
      "\t\t\t0.5 0.5\n",
      "\t\t5\n",
      "\t\t\t0.617641162713 0.674596691852\n",
      "\t\t6\n",
      "\t\t\t0.994821249582 0.833367367776\n",
      "\t\t7\n",
      "\t\t\t0.994821249582 0.833367367776\n",
      "\t\t8\n",
      "\t\t\t0.831707317073 0.794363896263\n",
      "\t\t9\n",
      "\t\t\t0.992682926829 0.839391464162\n",
      "\t\t10\n",
      "\t\t\t0.5 0.5\n",
      "\t\t11\n",
      "\t\t\t0.815436017374 0.827139064734\n",
      "0.763463892289 11\n",
      "0.826794871795 0.817234848485\n",
      "2\n",
      "\t0\n",
      "\t\t0\n",
      "\t\t\t0.987652844232 0.719077568134\n",
      "\t\t1\n",
      "\t\t\t0.987652844232 0.719077568134\n",
      "\t\t2\n",
      "\t\t\t0.789473684211 0.693081761006\n",
      "\t\t3\n",
      "\t\t\t0.985645933014 0.719077568134\n",
      "\t\t4\n",
      "\t\t\t0.5 0.5\n",
      "\t\t5\n",
      "\t\t\t0.624800637959 0.672536687631\n",
      "\t\t6\n",
      "\t\t\t0.987267410952 0.786268343816\n",
      "\t\t7\n",
      "\t\t\t0.987267410952 0.786268343816\n",
      "\t\t8\n",
      "\t\t\t0.849282296651 0.72358490566\n",
      "\t\t9\n",
      "\t\t\t0.985645933014 0.791823899371\n",
      "\t\t10\n",
      "\t\t\t0.5 0.5\n",
      "\t\t11\n",
      "\t\t\t0.821119085593 0.772431865828\n",
      "\t1\n",
      "\t\t0\n",
      "\t\t\t0.989674071328 0.683290707587\n",
      "\t\t1\n",
      "\t\t\t0.989674071328 0.683290707587\n",
      "\t\t2\n",
      "\t\t\t0.808056872038 0.68094629156\n",
      "\t\t3\n",
      "\t\t\t0.985781990521 0.688725490196\n",
      "\t\t4\n",
      "\t\t\t0.5 0.5\n",
      "\t\t5\n",
      "\t\t\t0.652492785088 0.608056265985\n",
      "\t\t6\n",
      "\t\t\t0.987304403082 0.763853367434\n",
      "\t\t7\n",
      "\t\t\t0.987304403082 0.763853367434\n",
      "\t\t8\n",
      "\t\t\t0.867298578199 0.710358056266\n",
      "\t\t9\n",
      "\t\t\t0.985781990521 0.769288150043\n",
      "\t\t10\n",
      "\t\t\t0.5 0.5\n",
      "\t\t11\n",
      "\t\t\t0.800901533003 0.809462915601\n",
      "\t2\n",
      "\t\t0\n",
      "\t\t\t0.996214938377 0.706018518519\n",
      "\t\t1\n",
      "\t\t\t0.996214938377 0.706018518519\n",
      "\t\t2\n",
      "\t\t\t0.817307692308 0.639730639731\n",
      "\t\t3\n",
      "\t\t\t0.995192307692 0.7117003367\n",
      "\t\t4\n",
      "\t\t\t0.5 0.5\n",
      "\t\t5\n",
      "\t\t\t0.644522949426 0.612794612795\n",
      "\t\t6\n",
      "\t\t\t0.995192307692 0.798611111111\n",
      "\t\t7\n",
      "\t\t\t0.995192307692 0.798611111111\n",
      "\t\t8\n",
      "\t\t\t0.862980769231 0.76430976431\n",
      "\t\t9\n",
      "\t\t\t0.995192307692 0.798611111111\n",
      "\t\t10\n",
      "\t\t\t0.5 0.5\n",
      "\t\t11\n",
      "\t\t\t0.810959413515 0.810606060606\n",
      "\t3\n",
      "\t\t0\n",
      "\t\t\t0.988479262673 0.661626575029\n",
      "\t\t1\n",
      "\t\t\t0.988479262673 0.661626575029\n",
      "\t\t2\n",
      "\t\t\t0.822580645161 0.6313860252\n",
      "\t\t3\n",
      "\t\t\t0.988479262673 0.661626575029\n",
      "\t\t4\n",
      "\t\t\t0.5 0.5\n",
      "\t\t5\n",
      "\t\t\t0.6650892286 0.613172966781\n",
      "\t\t6\n",
      "\t\t\t0.98972598269 0.782588774341\n",
      "\t\t7\n",
      "\t\t\t0.98972598269 0.782588774341\n",
      "\t\t8\n",
      "\t\t\t0.877880184332 0.735738831615\n",
      "\t\t9\n",
      "\t\t\t0.988479262673 0.787743413517\n",
      "\t\t10\n",
      "\t\t\t0.5 0.5\n",
      "\t\t11\n",
      "\t\t\t0.82741739664 0.759564719359\n",
      "\t4\n",
      "\t\t0\n",
      "\t\t\t0.991248439618 0.757096181336\n",
      "\t\t1\n",
      "\t\t\t0.991248439618 0.757096181336\n",
      "\t\t2\n",
      "\t\t\t0.800492610837 0.703594037166\n",
      "\t\t3\n",
      "\t\t\t0.990147783251 0.757096181336\n",
      "\t\t4\n",
      "\t\t\t0.5 0.5\n",
      "\t\t5\n",
      "\t\t\t0.600991932994 0.623749234225\n",
      "\t\t6\n",
      "\t\t\t0.990986698165 0.810394118848\n",
      "\t\t7\n",
      "\t\t\t0.990986698165 0.810394118848\n",
      "\t\t8\n",
      "\t\t\t0.847290640394 0.814886665305\n",
      "\t\t9\n",
      "\t\t\t0.990147783251 0.810394118848\n",
      "\t\t10\n",
      "\t\t\t0.5 0.5\n",
      "\t\t11\n",
      "\t\t\t0.795358451564 0.80528895242\n",
      "0.80528895242 11\n",
      "0.805739795918 0.811603053435\n",
      "3\n",
      "\t0\n",
      "\t\t0\n",
      "\t\t\t0.989495798319 0.807337526205\n",
      "\t\t1\n",
      "\t\t\t0.989495798319 0.807337526205\n",
      "\t\t2\n",
      "\t\t\t0.808823529412 0.730817610063\n",
      "\t\t3\n",
      "\t\t\t0.989495798319 0.807337526205\n",
      "\t\t4\n",
      "\t\t\t0.5 0.5\n",
      "\t\t5\n",
      "\t\t\t0.658185026276 0.680293501048\n",
      "\t\t6\n",
      "\t\t\t0.991266597273 0.774004192872\n",
      "\t\t7\n",
      "\t\t\t0.991266597273 0.774004192872\n",
      "\t\t8\n",
      "\t\t\t0.857142857143 0.757442348008\n",
      "\t\t9\n",
      "\t\t\t0.989495798319 0.774004192872\n",
      "\t\t10\n",
      "\t\t\t0.5 0.5\n",
      "\t\t11\n",
      "\t\t\t0.841497626241 0.75964360587\n",
      "\t1\n",
      "\t\t0\n",
      "\t\t\t0.991274062817 0.695225916454\n",
      "\t\t1\n",
      "\t\t\t0.991274062817 0.695225916454\n",
      "\t\t2\n",
      "\t\t\t0.860416666667 0.705988917306\n",
      "\t\t3\n",
      "\t\t\t0.989583333333 0.695225916454\n",
      "\t\t4\n",
      "\t\t\t0.5 0.5\n",
      "\t\t5\n",
      "\t\t\t0.681389311044 0.606990622336\n",
      "\t\t6\n",
      "\t\t\t0.991274062817 0.808503836317\n",
      "\t\t7\n",
      "\t\t\t0.991274062817 0.808503836317\n",
      "\t\t8\n",
      "\t\t\t0.866666666667 0.834505541347\n",
      "\t\t9\n",
      "\t\t\t0.989583333333 0.813938618926\n",
      "\t\t10\n",
      "\t\t\t0.5 0.5\n",
      "\t\t11\n",
      "\t\t\t0.822764690983 0.841112531969\n",
      "\t2\n",
      "\t\t0\n",
      "\t\t\t0.995652173913 0.686602870813\n",
      "\t\t1\n",
      "\t\t\t0.995652173913 0.686602870813\n",
      "\t\t2\n",
      "\t\t\t0.84 0.726674641148\n",
      "\t\t3\n",
      "\t\t\t0.993333333333 0.693181818182\n",
      "\t\t4\n",
      "\t\t\t0.5 0.5\n",
      "\t\t5\n",
      "\t\t\t0.65729468599 0.673046251994\n",
      "\t\t6\n",
      "\t\t\t0.994106280193 0.779106858054\n",
      "\t\t7\n",
      "\t\t\t0.994106280193 0.779106858054\n",
      "\t\t8\n",
      "\t\t\t0.862222222222 0.774720893142\n",
      "\t\t9\n",
      "\t\t\t0.993333333333 0.785685805423\n",
      "\t\t10\n",
      "\t\t\t0.5 0.5\n",
      "\t\t11\n",
      "\t\t\t0.831980676329 0.813995215311\n",
      "\t3\n",
      "\t\t0\n",
      "\t\t\t0.993417766907 0.654637096774\n",
      "\t\t1\n",
      "\t\t\t0.993417766907 0.654637096774\n",
      "\t\t2\n",
      "\t\t\t0.842794759825 0.690120967742\n",
      "\t\t3\n",
      "\t\t\t0.991266375546 0.667137096774\n",
      "\t\t4\n",
      "\t\t\t0.5 0.5\n",
      "\t\t5\n",
      "\t\t\t0.670478556519 0.633870967742\n",
      "\t\t6\n",
      "\t\t\t0.992700636453 0.743951612903\n",
      "\t\t7\n",
      "\t\t\t0.992700636453 0.743951612903\n",
      "\t\t8\n",
      "\t\t\t0.882096069869 0.757258064516\n",
      "\t\t9\n",
      "\t\t\t0.991266375546 0.743951612903\n",
      "\t\t10\n",
      "\t\t\t0.5 0.5\n",
      "\t\t11\n",
      "\t\t\t0.827094725249 0.828024193548\n",
      "\t4\n",
      "\t\t0\n",
      "\t\t\t0.994210365232 0.777618950378\n",
      "\t\t1\n",
      "\t\t\t0.994210365232 0.777618950378\n",
      "\t\t2\n",
      "\t\t\t0.840517241379 0.74106595875\n",
      "\t\t3\n",
      "\t\t\t0.993534482759 0.783643046763\n",
      "\t\t4\n",
      "\t\t\t0.5 0.5\n",
      "\t\t5\n",
      "\t\t\t0.649114976535 0.708494996937\n",
      "\t\t6\n",
      "\t\t\t0.994886247705 0.817745558505\n",
      "\t\t7\n",
      "\t\t\t0.994886247705 0.817745558505\n",
      "\t\t8\n",
      "\t\t\t0.851293103448 0.819787625077\n",
      "\t\t9\n",
      "\t\t\t0.993534482759 0.823769654891\n",
      "\t\t10\n",
      "\t\t\t0.5 0.5\n",
      "\t\t11\n",
      "\t\t\t0.829817894307 0.835613641005\n",
      "0.828024193548 11\n",
      "0.788019144666 0.826937989242\n",
      "4\n",
      "\t0\n",
      "\t\t0\n",
      "\t\t\t0.994021880698 0.741823899371\n",
      "\t\t1\n",
      "\t\t\t0.994021880698 0.741823899371\n",
      "\t\t2\n",
      "\t\t\t0.811363636364 0.706394129979\n",
      "\t\t3\n",
      "\t\t\t0.993181818182 0.747379454927\n",
      "\t\t4\n",
      "\t\t\t0.5 0.5\n",
      "\t\t5\n",
      "\t\t\t0.61176738734 0.644234800839\n",
      "\t\t6\n",
      "\t\t\t0.993429278458 0.734591194969\n",
      "\t\t7\n",
      "\t\t\t0.993429278458 0.734591194969\n",
      "\t\t8\n",
      "\t\t\t0.840909090909 0.748008385744\n",
      "\t\t9\n",
      "\t\t\t0.993181818182 0.740146750524\n",
      "\t\t10\n",
      "\t\t\t0.5 0.5\n",
      "\t\t11\n",
      "\t\t\t0.826732221933 0.755765199161\n",
      "\t1\n",
      "\t\t0\n",
      "\t\t\t0.990361398863 0.695225916454\n",
      "\t\t1\n",
      "\t\t\t0.990361398863 0.695225916454\n",
      "\t\t2\n",
      "\t\t\t0.81981981982 0.661338448423\n",
      "\t\t3\n",
      "\t\t\t0.990990990991 0.695225916454\n",
      "\t\t4\n",
      "\t\t\t0.5 0.5\n",
      "\t\t5\n",
      "\t\t\t0.627145156684 0.613491048593\n",
      "\t\t6\n",
      "\t\t\t0.991172728925 0.789961636829\n",
      "\t\t7\n",
      "\t\t\t0.991172728925 0.789961636829\n",
      "\t\t8\n",
      "\t\t\t0.837837837838 0.820332480818\n",
      "\t\t9\n",
      "\t\t\t0.990990990991 0.789961636829\n",
      "\t\t10\n",
      "\t\t\t0.5 0.5\n",
      "\t\t11\n",
      "\t\t\t0.810642054158 0.838874680307\n",
      "\t2\n",
      "\t\t0\n",
      "\t\t\t0.996207130594 0.677033492823\n",
      "\t\t1\n",
      "\t\t\t0.996207130594 0.677033492823\n",
      "\t\t2\n",
      "\t\t\t0.816425120773 0.682216905901\n",
      "\t\t3\n",
      "\t\t\t0.995169082126 0.677033492823\n",
      "\t\t4\n",
      "\t\t\t0.5 0.5\n",
      "\t\t5\n",
      "\t\t\t0.611610172875 0.603867623604\n",
      "\t\t6\n",
      "\t\t\t0.996207130594 0.77711323764\n",
      "\t\t7\n",
      "\t\t\t0.996207130594 0.77711323764\n",
      "\t\t8\n",
      "\t\t\t0.840579710145 0.761562998405\n",
      "\t\t9\n",
      "\t\t\t0.995169082126 0.776116427432\n",
      "\t\t10\n",
      "\t\t\t0.5 0.5\n",
      "\t\t11\n",
      "\t\t\t0.817163732183 0.788277511962\n",
      "\t3\n",
      "\t\t0\n",
      "\t\t\t0.991557186255 0.675203252033\n",
      "\t\t1\n",
      "\t\t\t0.991557186255 0.675203252033\n",
      "\t\t2\n",
      "\t\t\t0.819248826291 0.667886178862\n",
      "\t\t3\n",
      "\t\t\t0.990610328638 0.681300813008\n",
      "\t\t4\n",
      "\t\t\t0.5 0.5\n",
      "\t\t5\n",
      "\t\t\t0.617351165818 0.624593495935\n",
      "\t\t6\n",
      "\t\t\t0.992504043871 0.751219512195\n",
      "\t\t7\n",
      "\t\t\t0.992504043871 0.751219512195\n",
      "\t\t8\n",
      "\t\t\t0.852112676056 0.762804878049\n",
      "\t\t9\n",
      "\t\t\t0.990610328638 0.757317073171\n",
      "\t\t10\n",
      "\t\t\t0.5 0.5\n",
      "\t\t11\n",
      "\t\t\t0.801574150787 0.816666666667\n",
      "\t4\n",
      "\t\t0\n",
      "\t\t\t0.995588235294 0.69779187221\n",
      "\t\t1\n",
      "\t\t\t0.995588235294 0.69779187221\n",
      "\t\t2\n",
      "\t\t\t0.834782608696 0.637068357999\n",
      "\t\t3\n",
      "\t\t\t0.995652173913 0.707892882311\n",
      "\t\t4\n",
      "\t\t\t0.5 0.5\n",
      "\t\t5\n",
      "\t\t\t0.651023017903 0.59819121447\n",
      "\t\t6\n",
      "\t\t\t0.994884910486 0.757928118393\n",
      "\t\t7\n",
      "\t\t\t0.994884910486 0.757928118393\n",
      "\t\t8\n",
      "\t\t\t0.854347826087 0.728564716937\n",
      "\t\t9\n",
      "\t\t\t0.995652173913 0.757928118393\n",
      "\t\t10\n",
      "\t\t\t0.5 0.5\n",
      "\t\t11\n",
      "\t\t\t0.831329923274 0.770025839793\n",
      "0.788277511962 11\n",
      "0.813788060098 0.819065141389\n",
      "1\n",
      "11\n",
      "1\n",
      "[1] ModeResult(mode=array([1]), count=array([1]))\n",
      "CPU times: user 6.24 s, sys: 445 ms, total: 6.69 s\n",
      "Wall time: 7.22 s\n"
     ]
    }
   ],
   "source": [
    "%%time \n",
    "\n",
    "reload(ppl)\n",
    "\n",
    "import numpy as np\n",
    "\n",
    "kfcv = ppl.NestedKFoldCrossValidation(outer_loop_fold_count=5, inner_loop_fold_count=5, shuffle_flag=True)\n",
    "\n",
    "pipeline_bundle_schematic = [\n",
    "    {'scaler': {\n",
    "        'standard': {},\n",
    "        'normal': {}\n",
    "    }},\n",
    "    {'estimator': {\n",
    "        'knn': {\n",
    "            'n_neighbors': range(1,3),\n",
    "            'weights': ['uniform', 'distance']\n",
    "        }\n",
    "#         'svm': {\n",
    "#             'C': np.array([1.00000000e-05, 1.00000000e+00])\n",
    "        }\n",
    "    }}\n",
    "]\n",
    "\n",
    "pipelines = ppl.PipelineBundle().build_pipeline_bundle(pipeline_bundle_schematic)\n",
    "print len(pipelines)\n",
    "# pipelines = [pipelines[5], pipelines[3]]\n",
    "\n",
    "kfcv.fit(X.values, y.values, pipelines)"
   ]
  },
  {
   "cell_type": "code",
   "execution_count": 14,
   "metadata": {
    "collapsed": false
   },
   "outputs": [
    {
     "name": "stdout",
     "output_type": "stream",
     "text": [
      "['__abstractmethods__', '__class__', '__delattr__', '__dict__', '__doc__', '__format__', '__getattribute__', '__getstate__', '__hash__', '__init__', '__module__', '__new__', '__reduce__', '__reduce_ex__', '__repr__', '__setattr__', '__setstate__', '__sizeof__', '__str__', '__subclasshook__', '__weakref__', '_abc_cache', '_abc_negative_cache', '_abc_negative_cache_version', '_abc_registry', '_estimator_type', '_final_estimator', '_fit', '_get_param_names', '_get_params', '_inverse_transform', '_pairwise', '_replace_step', '_set_params', '_transform', '_validate_names', '_validate_steps', 'classes_', 'decision_function', 'fit', 'fit_predict', 'fit_transform', 'get_params', 'inverse_transform', 'named_steps', 'predict', 'predict_log_proba', 'predict_proba', 'score', 'set_params', 'steps', 'transform']\n"
     ]
    },
    {
     "ename": "AttributeError",
     "evalue": "'Pipeline' object has no attribute 'score_'",
     "output_type": "error",
     "traceback": [
      "\u001b[0;31m---------------------------------------------------------------------------\u001b[0m",
      "\u001b[0;31mAttributeError\u001b[0m                            Traceback (most recent call last)",
      "\u001b[0;32m<ipython-input-14-5a3e06be7cb9>\u001b[0m in \u001b[0;36m<module>\u001b[0;34m()\u001b[0m\n\u001b[1;32m      1\u001b[0m \u001b[0;32mprint\u001b[0m \u001b[0mdir\u001b[0m\u001b[0;34m(\u001b[0m\u001b[0mkfcv\u001b[0m\u001b[0;34m.\u001b[0m\u001b[0mpipelines\u001b[0m\u001b[0;34m[\u001b[0m\u001b[0;36m0\u001b[0m\u001b[0;34m]\u001b[0m\u001b[0;34m)\u001b[0m\u001b[0;34m\u001b[0m\u001b[0m\n\u001b[0;32m----> 2\u001b[0;31m \u001b[0;32mprint\u001b[0m \u001b[0mkfcv\u001b[0m\u001b[0;34m.\u001b[0m\u001b[0mpipelines\u001b[0m\u001b[0;34m[\u001b[0m\u001b[0;36m0\u001b[0m\u001b[0;34m]\u001b[0m\u001b[0;34m.\u001b[0m\u001b[0mscore_\u001b[0m\u001b[0;34m\u001b[0m\u001b[0m\n\u001b[0m",
      "\u001b[0;31mAttributeError\u001b[0m: 'Pipeline' object has no attribute 'score_'"
     ]
    }
   ],
   "source": [
    "print dir(kfcv.pipelines[0])\n",
    "print kfcv.pipelines[0].score_"
   ]
  },
  {
   "cell_type": "code",
   "execution_count": null,
   "metadata": {
    "collapsed": false
   },
   "outputs": [],
   "source": [
    "len(pipelines)"
   ]
  },
  {
   "cell_type": "code",
   "execution_count": null,
   "metadata": {
    "collapsed": false
   },
   "outputs": [],
   "source": [
    "for x in pipelines:\n",
    "    for step in x.steps:\n",
    "        print step\n",
    "    print '\\n'"
   ]
  },
  {
   "cell_type": "code",
   "execution_count": null,
   "metadata": {
    "collapsed": false
   },
   "outputs": [],
   "source": [
    "%%time\n",
    "import itertools\n",
    "\n",
    "estimators = ['logistic_regression','svm']\n",
    "feature_selection_options = [None,'select_k_best']\n",
    "scaling_options = [None,'standard','normal','min_max','binary']\n",
    "transformations = [None,'pca']\n",
    "\n",
    "pipeline_steps = [feature_selection_options,scaling_options,\n",
    "                  transformations,estimators]\n",
    "\n",
    "pipeline_options = itertools.product(*pipeline_steps)\n",
    "\n",
    "PipelineBundle.get_default_pipeline_step_parameters(feature_count)\n",
    "\n",
    "for x in pipeline_options:\n",
    "    print x"
   ]
  },
  {
   "cell_type": "code",
   "execution_count": null,
   "metadata": {
    "collapsed": false
   },
   "outputs": [],
   "source": [
    "%%time\n",
    "\n",
    "import itertools\n",
    "\n",
    "estimators = ['knn','logistic_regression','svm',\n",
    "              'multilayer_perceptron','random_forest','adaboost']\n",
    "\n",
    "feature_interaction_options = [True,False]\n",
    "feature_selection_options = [None,'select_k_best']\n",
    "scaling_options = [None,'standard','normal','min_max','binary']\n",
    "transformations = [None,'pca']\n",
    "\n",
    "pipeline_steps = [feature_interaction_options,feature_selection_options,scaling_options,\n",
    "                  transformations,estimators]\n",
    "\n",
    "pipeline_options = list(itertools.product(*pipeline_steps))\n",
    "\n",
    "optimized_pipelines = {}\n",
    "\n",
    "for pipeline_step_combo in pipeline_options:\n",
    "    model_name = []\n",
    "    \n",
    "    feature_interactions = pipeline_step_combo[0]\n",
    "    \n",
    "    if feature_interactions:\n",
    "        model_name.append('interactions')\n",
    "        \n",
    "    feature_selection_type = pipeline_step_combo[1]\n",
    "    \n",
    "    if feature_selection_type:\n",
    "        model_name.append('select')\n",
    "    \n",
    "    scale_type = pipeline_step_combo[2]\n",
    "    \n",
    "    if scale_type:\n",
    "        model_name.append(scale_type)\n",
    "        \n",
    "    transform_type = pipeline_step_combo[3]\n",
    "    \n",
    "    if transform_type:\n",
    "        model_name.append(transform_type)\n",
    "        \n",
    "    estimator = pipeline_step_combo[4]\n",
    "    \n",
    "    model_name.append(estimator)\n",
    "    \n",
    "    model_name = '_'.join(model_name)\n",
    "    \n",
    "    print model_name\n",
    "    \n",
    "    # Set pipeline keyword arguments\n",
    "    optimized_pipeline_kwargs = {\n",
    "        'feature_selection_type': feature_selection_type,\n",
    "        'scale_type': scale_type,\n",
    "        'feature_interactions': feature_interactions,\n",
    "        'transform_type': transform_type\n",
    "        }\n",
    "\n",
    "    # Initialize pipeline\n",
    "    optimized_pipeline = ppl.OptimizedPipeline(estimator,**optimized_pipeline_kwargs)\n",
    "\n",
    "    # Set pipeline fitting parameters\n",
    "    fit_kwargs = {\n",
    "        'cv': 10,\n",
    "        'num_parameter_combos': None,\n",
    "        'n_jobs': -1,\n",
    "        'random_state': None,\n",
    "        'suppress_output': True,\n",
    "        'use_default_param_dist': True,\n",
    "        'param_dist': None,\n",
    "        'test_size': 0.2 # 20% saved as test set\n",
    "    }\n",
    "\n",
    "    # Fit data\n",
    "    optimized_pipeline.fit(X,y,**fit_kwargs)\n",
    "\n",
    "    # Save optimized pipeline\n",
    "    optimized_pipelines[model_name] = optimized_pipeline"
   ]
  },
  {
   "cell_type": "markdown",
   "metadata": {},
   "source": [
    "### KNN with and without pre-processing and various options\n",
    "#### Basic KNN\n",
    "Here we do a K-nearest neighbors (KNN) classification with stratified 10-fold (default) cross-validation with a grid search over the default of 1 to 30 nearest neighbors and the use of either \"uniform\" or \"distance\" weights:"
   ]
  },
  {
   "cell_type": "code",
   "execution_count": null,
   "metadata": {
    "collapsed": false
   },
   "outputs": [],
   "source": [
    "%%time\n",
    "\n",
    "estimator = 'knn'\n",
    "\n",
    "# Set pipeline keyword arguments\n",
    "optimized_pipeline_kwargs = {\n",
    "    'feature_selection_type': None,\n",
    "    'scale_type': None,\n",
    "    'transform_type': None\n",
    "    }\n",
    "\n",
    "# Initialize pipeline\n",
    "optimized_pipeline = ppl.PipelineOptimization(estimator,**optimized_pipeline_kwargs)\n",
    "\n",
    "# Set pipeline fitting parameters\n",
    "fit_kwargs = {\n",
    "    'cv': 10,\n",
    "    'num_parameter_combos': None,\n",
    "    'n_jobs': -1,\n",
    "    'random_state': 6,\n",
    "    'suppress_output': True,\n",
    "    'use_default_param_dist': True,\n",
    "    'param_dist': None,\n",
    "    'test_size': 0.2 # 20% saved as test set\n",
    "}\n",
    "\n",
    "# Fit data\n",
    "optimized_pipeline.fit(X,y,**fit_kwargs)\n",
    "\n",
    "# Save \n",
    "optimized_pipelines[estimator] = optimized_pipeline"
   ]
  },
  {
   "cell_type": "markdown",
   "metadata": {},
   "source": [
    "Note the default OptimizedPipeline parameters and those for its fit() method.\n",
    "\n",
    "The OptimizedPipeline class contains all of the data associated with the nested stratified k-folds cross-validation.\n",
    "\n",
    "After use of the fit() method, this includes the data, its test/train splits (based on the test_size percentage keyword argument), the GridSearchCV or RandomizedGridSearchCV object, the Pipeline object that has been retrained using all of the data with the best parameters, test/train scores, and validation metrics/reports.\n",
    "\n",
    "A report can be printed immediately after the fit by setting the suppress_output keyword argument to True. \n",
    "\n",
    "Printing the OptimizedPipeline instance also shows the report:"
   ]
  },
  {
   "cell_type": "code",
   "execution_count": null,
   "metadata": {
    "collapsed": false
   },
   "outputs": [],
   "source": [
    "print optimized_pipeline"
   ]
  },
  {
   "cell_type": "markdown",
   "metadata": {},
   "source": [
    "The report lists the steps in the pipeline, their optimized settings, the test/training accuracy (or L2 regression score), the grid search parameters, and the best parameters.\n",
    "\n",
    "If the estimator used is a classifier it also includes the confusion matrix, normalized confusion matrix, and a classification report containing precision/recall/f1-score for each class.\n",
    "\n",
    "Turns out that the best settings for this optimized pipeline are 12 neighbors and the use of the 'uniform' weight.\n",
    "\n",
    "Note how I've set the random_state keyword agument to 6 so that the models can be compared using the same test/train split.\n",
    "\n",
    "#### Default pipeline step grid parameters\n",
    "The default parameters to grid-search over for k-nearest neighbors are 1 to 30 neighbors and either the 'uniform' or 'distance' weight.\n",
    "\n",
    "The defaults for the pre-processing steps, classifiers, and regressors can be viewed by using the get_default_pipeline_step_parameters() method with the number of features as the input:"
   ]
  },
  {
   "cell_type": "code",
   "execution_count": null,
   "metadata": {
    "collapsed": false,
    "scrolled": false
   },
   "outputs": [],
   "source": [
    "pre_processing_grid_parameters,classifier_grid_parameters,regression_grid_parameters = \\\n",
    "optimized_pipeline.get_default_pipeline_step_parameters(X.shape[0])\n",
    "\n",
    "classifier_grid_parameters['knn']"
   ]
  },
  {
   "cell_type": "markdown",
   "metadata": {},
   "source": [
    "#### KNN with custom pipeline step grid parameters\n",
    "These default parameters can be ignored by setting the use_default_param_dist keyword argument to False. \n",
    "\n",
    "The param_dist keyword argument can be used to keep default parameters (if use_default_param_dist set to True) or to be used as the sole source of parameters (if use_default_param_dist set to False). \n",
    "\n",
    "Here is a demonstration of generation of default parameters with those in param_dist being overridden:"
   ]
  },
  {
   "cell_type": "code",
   "execution_count": null,
   "metadata": {
    "collapsed": false
   },
   "outputs": [],
   "source": [
    "%%time\n",
    "\n",
    "estimator_name = 'knn'\n",
    "\n",
    "model_name = 'custom_override_%s'%(estimator_name)\n",
    "\n",
    "# Set custom parameters\n",
    "param_dist = {\n",
    "    'estimator__n_neighbors': range(30,500)\n",
    "}\n",
    "\n",
    "# Initialize pipeline\n",
    "optimized_pipeline = ppl.OptimizedPipeline(estimator)\n",
    "\n",
    "# Set pipeline fitting parameters\n",
    "fit_kwargs = {\n",
    "    'random_state': 6,\n",
    "    'param_dist': param_dist,\n",
    "}\n",
    "\n",
    "# Fit data\n",
    "optimized_pipeline.fit(X,y,**fit_kwargs)\n",
    "\n",
    "# Save \n",
    "optimized_pipelines[model_name] = optimized_pipeline"
   ]
  },
  {
   "cell_type": "markdown",
   "metadata": {},
   "source": [
    "Note how the n_neighbors parameter was 30 to 499 instead of 1 to 30.\n",
    "\n",
    "Here's an example of only using param_dist for parameters:"
   ]
  },
  {
   "cell_type": "code",
   "execution_count": null,
   "metadata": {
    "collapsed": false
   },
   "outputs": [],
   "source": [
    "%%time\n",
    "\n",
    "model_name = 'from_scratch_%s'%(estimator_name)\n",
    "\n",
    "# Set custom parameters\n",
    "param_dist = {\n",
    "    'estimator__n_neighbors': range(10,30)\n",
    "}\n",
    "\n",
    "estimator = 'knn'\n",
    "\n",
    "# Initialize pipeline\n",
    "optimized_pipeline = ppl.OptimizedPipeline(estimator)\n",
    "\n",
    "# Set pipeline fitting parameters\n",
    "fit_kwargs = {\n",
    "    'random_state': 6,\n",
    "    'use_default_param_dist': False,\n",
    "    'param_dist': param_dist,\n",
    "}\n",
    "\n",
    "# Fit data\n",
    "optimized_pipeline.fit(X,y,**fit_kwargs)\n",
    "\n",
    "# Save \n",
    "optimized_pipelines[model_name] = optimized_pipeline"
   ]
  },
  {
   "cell_type": "markdown",
   "metadata": {},
   "source": [
    "Note how the estimator\\_\\_weights parameter isn't set for the KNN estimator.\n",
    "\n",
    "### KNN with scaling\n",
    "The currently supported scaling options are standard, normal, min-max, and binary using scikit-learn's StandardScaler, Normalizer, MinMaxScaler, and Binarizer, respectively. These are set by the pipeline initialization kwarg 'scale_type' like this:"
   ]
  },
  {
   "cell_type": "code",
   "execution_count": null,
   "metadata": {
    "collapsed": false
   },
   "outputs": [],
   "source": [
    "%%time\n",
    "\n",
    "estimator = 'knn'\n",
    "\n",
    "scaling_options = ['standard','normal','min-max','binary']\n",
    "\n",
    "for scaling_option in scaling_options:\n",
    "    model_name = '%s_%s'%(scaling_option,estimator_name)\n",
    "    \n",
    "    optimized_pipeline_kwargs = {\n",
    "        'scale_type': scaling_option\n",
    "    }\n",
    "\n",
    "    # Initialize pipeline\n",
    "    optimized_pipeline = ppl.OptimizedPipeline(estimator,**optimized_pipeline_kwargs)\n",
    "\n",
    "    # Set pipeline fitting parameters\n",
    "    fit_kwargs = {\n",
    "        'random_state': 6,\n",
    "        'use_default_param_dist': True,\n",
    "        'suppress_output': True\n",
    "        \n",
    "    }\n",
    "\n",
    "    # Fit data\n",
    "    optimized_pipeline.fit(X,y,**fit_kwargs)\n",
    "\n",
    "    # Save \n",
    "    optimized_pipelines[model_name] = optimized_pipeline"
   ]
  },
  {
   "cell_type": "markdown",
   "metadata": {},
   "source": [
    "Let's compare the pipelines so far:"
   ]
  },
  {
   "cell_type": "code",
   "execution_count": null,
   "metadata": {
    "collapsed": false
   },
   "outputs": [],
   "source": [
    "pipeline_keys = optimized_pipelines.keys()\n",
    "\n",
    "test_scores = [optimized_pipelines[key].test_score_ for key in pipeline_keys]\n",
    "\n",
    "ax = pd.Series(test_scores,index=pipeline_keys).sort_values().plot(kind='barh',color='black')"
   ]
  },
  {
   "cell_type": "markdown",
   "metadata": {},
   "source": [
    "Binary scaling fed into a KNN classifier appears to have the best training score.\n",
    "\n",
    "#### KNN with custom min-max and binary scaling settings\n",
    "MinMaxScaler scales each feature value to between 0 and 1 by default. Different scaling ranges can be gridded over by setting the 'scaler\\_\\_feature_range' keyword argument in param_dist.\n",
    "\n",
    "Binarizer sets each value to 0 or 1 depending on a threshold. The default for pyplearnr is 0.5. This can be changed by setting 'scaler\\_\\_threshold' using param_dist.\n",
    "\n",
    "Here is an example of setting both:"
   ]
  },
  {
   "cell_type": "code",
   "execution_count": null,
   "metadata": {
    "collapsed": false
   },
   "outputs": [],
   "source": [
    "%%time\n",
    "\n",
    "reload(ppl)\n",
    "\n",
    "estimator = 'knn'\n",
    "\n",
    "scaling_options = ['min_max','binary']\n",
    "\n",
    "param_dists = {\n",
    "    'min_max': {\n",
    "        'scaler__feature_range': [(1,2),(3,4)]\n",
    "    },\n",
    "    'binary': {\n",
    "        'scaler__threshold': np.arange(0,1,0.1)\n",
    "    }\n",
    "}\n",
    "\n",
    "for scaling_option in scaling_options:\n",
    "    model_name = 'custom_%s_%s'%(scaling_option,estimator_name)\n",
    "    \n",
    "    optimized_pipeline_kwargs = {\n",
    "        'scale_type': scaling_option\n",
    "    }\n",
    "\n",
    "    # Initialize pipeline\n",
    "    optimized_pipeline = ppl.OptimizedPipeline(estimator,**optimized_pipeline_kwargs)\n",
    "    \n",
    "    # Set pipeline fitting parameters\n",
    "    fit_kwargs = {\n",
    "        'random_state': 6,\n",
    "        'use_default_param_dist': True,\n",
    "        'suppress_output': True,\n",
    "        'param_dist': param_dists[scaling_option]\n",
    "        \n",
    "    }\n",
    "\n",
    "    # Fit data\n",
    "    optimized_pipeline.fit(X,y,**fit_kwargs)\n",
    "\n",
    "    # Save \n",
    "    optimized_pipelines[model_name] = optimized_pipeline\n",
    "    \n",
    "# Visualize results\n",
    "pipeline_keys = optimized_pipelines.keys()\n",
    "\n",
    "test_scores = [optimized_pipelines[key].test_score_ for key in pipeline_keys]\n",
    "\n",
    "ax = pd.Series(test_scores,index=pipeline_keys).sort_values().plot(kind='barh',color='black')"
   ]
  },
  {
   "cell_type": "markdown",
   "metadata": {},
   "source": [
    "Switching the range for min_max scaling boosted it to rank 1 for pipeline training scores:"
   ]
  },
  {
   "cell_type": "code",
   "execution_count": null,
   "metadata": {
    "collapsed": false
   },
   "outputs": [],
   "source": [
    "print optimized_pipelines['custom_min_max_knn']"
   ]
  },
  {
   "cell_type": "markdown",
   "metadata": {},
   "source": [
    "The range of 1 to 2 for the MinMaxScaler appeared to be the best."
   ]
  },
  {
   "cell_type": "markdown",
   "metadata": {},
   "source": [
    "### KNN with feature selection using SelectKBest with f_classif\n",
    "Currently only one form of feature selection, SelectKBest with f_classif, is supported. This is set using the 'feature_selection_type' keyword argument."
   ]
  },
  {
   "cell_type": "code",
   "execution_count": null,
   "metadata": {
    "collapsed": false
   },
   "outputs": [],
   "source": [
    "%%time\n",
    "\n",
    "reload(ppl)\n",
    "\n",
    "estimator = 'knn'\n",
    "\n",
    "model_name = 'select_%s'%(estimator_name)\n",
    "\n",
    "optimized_pipeline_kwargs = {\n",
    "    'feature_selection_type': 'select_k_best'\n",
    "}\n",
    "\n",
    "# Initialize pipeline\n",
    "optimized_pipeline = ppl.OptimizedPipeline(estimator,**optimized_pipeline_kwargs)\n",
    "\n",
    "# Set pipeline fitting parameters\n",
    "fit_kwargs = {\n",
    "    'random_state': 6,\n",
    "    'use_default_param_dist': True,\n",
    "    'suppress_output': True\n",
    "}\n",
    "\n",
    "# Fit data\n",
    "optimized_pipeline.fit(X,y,**fit_kwargs)\n",
    "\n",
    "# Save \n",
    "optimized_pipelines[model_name] = optimized_pipeline\n",
    "    \n",
    "# Visualize results\n",
    "pipeline_keys = optimized_pipelines.keys()\n",
    "\n",
    "test_scores = [optimized_pipelines[key].test_score_ for key in pipeline_keys]\n",
    "\n",
    "ax = pd.Series(test_scores,index=pipeline_keys).sort_values().plot(kind='barh',color='black')"
   ]
  },
  {
   "cell_type": "markdown",
   "metadata": {},
   "source": [
    "Feature selection and KNN did had a mid-level training score:"
   ]
  },
  {
   "cell_type": "code",
   "execution_count": null,
   "metadata": {
    "collapsed": false
   },
   "outputs": [],
   "source": [
    "print optimized_pipelines['select_knn']"
   ]
  },
  {
   "cell_type": "markdown",
   "metadata": {},
   "source": [
    "SelectKBest with f_classif chose 5 features as the best to use in the model.\n",
    "\n",
    "The features selected by SelectKBest can be accessed normally, using the mask obtained from the get_support() method on the columns:"
   ]
  },
  {
   "cell_type": "code",
   "execution_count": null,
   "metadata": {
    "collapsed": false
   },
   "outputs": [],
   "source": [
    "feature_selection_mask = optimized_pipelines['select_knn'].pipeline.named_steps['feature_selection'].get_support()\n",
    "\n",
    "print np.array(X.columns)[feature_selection_mask]"
   ]
  },
  {
   "cell_type": "markdown",
   "metadata": {},
   "source": [
    "Thus, Pclass 3, being male, and the titles Miss, Mr, and Mrs were considered the most important features by SelectKBest using f_classif.\n",
    "\n",
    "#### Setting custom feature selection\n",
    "The default number of features is 1 to all of them. This can be gridded over different values by setting 'feature_selection\\_\\_k' in param_dist:"
   ]
  },
  {
   "cell_type": "code",
   "execution_count": null,
   "metadata": {
    "collapsed": false
   },
   "outputs": [],
   "source": [
    "%%time\n",
    "\n",
    "reload(ppl)\n",
    "\n",
    "estimator = 'knn'\n",
    "\n",
    "model_name = 'custom_select_%s'%(estimator_name)\n",
    "\n",
    "optimized_pipeline_kwargs = {\n",
    "    'feature_selection_type': 'select_k_best'\n",
    "}\n",
    "\n",
    "# Initialize pipeline\n",
    "optimized_pipeline = ppl.OptimizedPipeline(estimator,**optimized_pipeline_kwargs)\n",
    "\n",
    "param_dist = {\n",
    "    'feature_selection__k': [5,7,8]\n",
    "}\n",
    "\n",
    "# Set pipeline fitting parameters\n",
    "fit_kwargs = {\n",
    "    'random_state': 6,\n",
    "    'use_default_param_dist': True,\n",
    "    'suppress_output': True,\n",
    "    'param_dist': param_dist\n",
    "}\n",
    "\n",
    "# Fit data\n",
    "optimized_pipeline.fit(X,y,**fit_kwargs)\n",
    "\n",
    "# Save \n",
    "optimized_pipelines[model_name] = optimized_pipeline\n",
    "    \n",
    "# Visualize results\n",
    "pipeline_keys = optimized_pipelines.keys()\n",
    "\n",
    "test_scores = [optimized_pipelines[key].test_score_ for key in pipeline_keys]\n",
    "\n",
    "ax = pd.Series(test_scores,index=pipeline_keys).sort_values().plot(kind='barh',color='black')"
   ]
  },
  {
   "cell_type": "code",
   "execution_count": null,
   "metadata": {
    "collapsed": false
   },
   "outputs": [],
   "source": [
    "print optimized_pipelines['custom_select_knn']"
   ]
  },
  {
   "cell_type": "markdown",
   "metadata": {},
   "source": [
    "### KNN using feature interactions\n",
    "Feature products of different degrees can be used as additional features by setting the 'feature_interaction' OptimizedPipeline keyword argument to True:"
   ]
  },
  {
   "cell_type": "code",
   "execution_count": null,
   "metadata": {
    "collapsed": false
   },
   "outputs": [],
   "source": [
    "%%time\n",
    "\n",
    "reload(ppl)\n",
    "\n",
    "estimator = 'knn'\n",
    "\n",
    "model_name = 'interaction_%s'%(estimator_name)\n",
    "\n",
    "optimized_pipeline_kwargs = {\n",
    "    'feature_interactions': True\n",
    "}\n",
    "\n",
    "# Initialize pipeline\n",
    "optimized_pipeline = ppl.OptimizedPipeline(estimator,**optimized_pipeline_kwargs)\n",
    "\n",
    "# Set pipeline fitting parameters\n",
    "fit_kwargs = {\n",
    "    'random_state': 6,\n",
    "    'use_default_param_dist': True,\n",
    "    'suppress_output': True\n",
    "}\n",
    "\n",
    "# Fit data\n",
    "optimized_pipeline.fit(X,y,**fit_kwargs)\n",
    "\n",
    "# Save \n",
    "optimized_pipelines[model_name] = optimized_pipeline\n",
    "    \n",
    "# Visualize results\n",
    "pipeline_keys = optimized_pipelines.keys()\n",
    "\n",
    "test_scores = [optimized_pipelines[key].test_score_ for key in pipeline_keys]\n",
    "\n",
    "ax = pd.Series(test_scores,index=pipeline_keys).sort_values().plot(kind='barh',color='black')"
   ]
  },
  {
   "cell_type": "code",
   "execution_count": null,
   "metadata": {
    "collapsed": false
   },
   "outputs": [],
   "source": [
    "print optimized_pipelines['interaction_knn']"
   ]
  },
  {
   "cell_type": "markdown",
   "metadata": {},
   "source": [
    "The optimal number of interactions (number of features multiplied by each other at once) was found to be 1.\n",
    "\n",
    "#### KNN using custom number of feature interactions\n",
    "The 'feature_interactions__degree' dictates the number of interactions. The default setting is to try no interactions (degree 1) and 2 interactions. Setting this in param_dist allows custom numbers:"
   ]
  },
  {
   "cell_type": "code",
   "execution_count": null,
   "metadata": {
    "collapsed": false
   },
   "outputs": [],
   "source": [
    "%%time\n",
    "\n",
    "reload(ppl)\n",
    "\n",
    "estimator = 'knn'\n",
    "\n",
    "model_name = 'custom_interaction_%s'%(estimator_name)\n",
    "\n",
    "optimized_pipeline_kwargs = {\n",
    "    'feature_interactions': True\n",
    "}\n",
    "\n",
    "# Initialize pipeline\n",
    "optimized_pipeline = ppl.OptimizedPipeline(estimator,**optimized_pipeline_kwargs)\n",
    "\n",
    "param_dist = {\n",
    "    'feature_interactions__degree': [2,3,4]\n",
    "}\n",
    "\n",
    "# Set pipeline fitting parameters\n",
    "fit_kwargs = {\n",
    "    'random_state': 6,\n",
    "    'use_default_param_dist': True,\n",
    "    'suppress_output': True,\n",
    "    'param_dist': param_dist\n",
    "}\n",
    "\n",
    "# Fit data\n",
    "optimized_pipeline.fit(X,y,**fit_kwargs)\n",
    "\n",
    "# Save \n",
    "optimized_pipelines[model_name] = optimized_pipeline\n",
    "    \n",
    "# Visualize results\n",
    "pipeline_keys = optimized_pipelines.keys()\n",
    "\n",
    "test_scores = [optimized_pipelines[key].test_score_ for key in pipeline_keys]\n",
    "\n",
    "ax = pd.Series(test_scores,index=pipeline_keys).sort_values().plot(kind='barh',color='black')"
   ]
  },
  {
   "cell_type": "code",
   "execution_count": null,
   "metadata": {
    "collapsed": false
   },
   "outputs": [],
   "source": [
    "print optimized_pipelines['custom_interaction_knn']"
   ]
  },
  {
   "cell_type": "markdown",
   "metadata": {},
   "source": [
    "### KNN with pre-processing transforms\n",
    "Currently Principal Component Analysis (PCA) and t-distributed stochastic neighbor embedding (t-SNE) are supported as pre-processing options.\n",
    "\n",
    "#### KNN with PCA pre-processing"
   ]
  },
  {
   "cell_type": "code",
   "execution_count": null,
   "metadata": {
    "collapsed": false
   },
   "outputs": [],
   "source": [
    "%%time\n",
    "\n",
    "reload(ppl)\n",
    "\n",
    "estimator = 'knn'\n",
    "\n",
    "model_name = 'pca_%s'%(estimator_name)\n",
    "\n",
    "optimized_pipeline_kwargs = {\n",
    "    'transform_type': 'pca'\n",
    "}\n",
    "\n",
    "# Initialize pipeline\n",
    "optimized_pipeline = ppl.OptimizedPipeline(estimator,**optimized_pipeline_kwargs)\n",
    "\n",
    "# Set pipeline fitting parameters\n",
    "fit_kwargs = {\n",
    "    'random_state': 6,\n",
    "    'use_default_param_dist': True,\n",
    "    'suppress_output': True\n",
    "}\n",
    "\n",
    "# Fit data\n",
    "optimized_pipeline.fit(X,y,**fit_kwargs)\n",
    "\n",
    "# Save \n",
    "optimized_pipelines[model_name] = optimized_pipeline\n",
    "    \n",
    "# Visualize results\n",
    "pipeline_keys = optimized_pipelines.keys()\n",
    "\n",
    "test_scores = [optimized_pipelines[key].test_score_ for key in pipeline_keys]\n",
    "\n",
    "ax = pd.Series(test_scores,index=pipeline_keys).sort_values().plot(kind='barh',color='black')"
   ]
  },
  {
   "cell_type": "code",
   "execution_count": null,
   "metadata": {
    "collapsed": false
   },
   "outputs": [],
   "source": [
    "print optimized_pipelines['pca_knn']"
   ]
  },
  {
   "cell_type": "markdown",
   "metadata": {},
   "source": [
    "We can look at the transformed data after PCA normally:"
   ]
  },
  {
   "cell_type": "code",
   "execution_count": null,
   "metadata": {
    "collapsed": false
   },
   "outputs": [],
   "source": [
    "transformed_data = optimized_pipelines['pca_knn'].pipeline.named_steps['transform'].transform(X.values)\n",
    "\n",
    "column_names = ['PCA_%d'%(feature_ind+1) for feature_ind in range(transformed_data.shape[1])]\n",
    "\n",
    "pca_df = pd.DataFrame(transformed_data,columns=column_names)\n",
    "\n",
    "pca_df.plot(x='PCA_1',y='PCA_2',style='ro')"
   ]
  },
  {
   "cell_type": "markdown",
   "metadata": {},
   "source": [
    "This is currently a very manual process and would be difficult with more and more processing steps. I'm thinking of automating this with a class containing all optimized pipelines in the future.\n",
    "\n",
    "Any of the parameters displayed in the pipeline section of the report (iterated_power, random_state, whiten, n_components, etc) can be set in param_dist by 'transform\\__setting' as done previously."
   ]
  },
  {
   "cell_type": "markdown",
   "metadata": {},
   "source": [
    "#### KNN with t-SNE pre-processing\n",
    "The t-SNE algorithm can be used as a pre-processing algorithm as well by setting the 'transform_type' keyword argument to 't-sne':"
   ]
  },
  {
   "cell_type": "code",
   "execution_count": null,
   "metadata": {
    "collapsed": false
   },
   "outputs": [],
   "source": [
    "%%time\n",
    "\n",
    "reload(ppl)\n",
    "\n",
    "estimator = 'knn'\n",
    "\n",
    "model_name = 't-sne_%s'%(estimator_name)\n",
    "\n",
    "optimized_pipeline_kwargs = {\n",
    "    'transform_type': 't-sne'\n",
    "}\n",
    "\n",
    "# Initialize pipeline\n",
    "optimized_pipeline = ppl.OptimizedPipeline(estimator,**optimized_pipeline_kwargs)\n",
    "\n",
    "# Set pipeline fitting parameters\n",
    "fit_kwargs = {\n",
    "    'random_state': 6,\n",
    "    'use_default_param_dist': True,\n",
    "    'suppress_output': True\n",
    "}\n",
    "\n",
    "# Fit data\n",
    "optimized_pipeline.fit(X,y,**fit_kwargs)\n",
    "\n",
    "# Save \n",
    "optimized_pipelines[model_name] = optimized_pipeline\n",
    "    \n",
    "# Visualize results\n",
    "pipeline_keys = optimized_pipelines.keys()\n",
    "\n",
    "test_scores = [optimized_pipelines[key].test_score_ for key in pipeline_keys]\n",
    "\n",
    "ax = pd.Series(test_scores,index=pipeline_keys).sort_values().plot(kind='barh',color='black')"
   ]
  },
  {
   "cell_type": "markdown",
   "metadata": {},
   "source": [
    "This t-SNE step takes longer than most in pyplearnr unfortunately. It also resulted in the worst score. I'll try to optimize this in the future.\n",
    "\n",
    "### Reducing the number of grid combinations\n",
    "Setting the 'num_parameter_combos' fit() method keyword argument to an integer will limit the number of grid combinations to perform using RandomizedSearchCV instead of GridSearchCV:"
   ]
  },
  {
   "cell_type": "code",
   "execution_count": null,
   "metadata": {
    "collapsed": false
   },
   "outputs": [],
   "source": [
    "%%time\n",
    "\n",
    "reload(ppl)\n",
    "\n",
    "estimator = 'knn'\n",
    "\n",
    "model_name = 'less_combos_%s'%(estimator_name)\n",
    "\n",
    "optimized_pipeline_kwargs = {}\n",
    "\n",
    "# Initialize pipeline\n",
    "optimized_pipeline = ppl.OptimizedPipeline(estimator,**optimized_pipeline_kwargs)\n",
    "\n",
    "# Set pipeline fitting parameters\n",
    "fit_kwargs = {\n",
    "    'random_state': 6,\n",
    "    'use_default_param_dist': True,\n",
    "    'suppress_output': True,\n",
    "    'num_parameter_combos': 5\n",
    "}\n",
    "\n",
    "# Fit data\n",
    "optimized_pipeline.fit(X,y,**fit_kwargs)\n",
    "\n",
    "# Save \n",
    "optimized_pipelines[model_name] = optimized_pipeline\n",
    "    \n",
    "# Visualize results\n",
    "pipeline_keys = optimized_pipelines.keys()\n",
    "\n",
    "test_scores = [optimized_pipelines[key].test_score_ for key in pipeline_keys]\n",
    "\n",
    "ax = pd.Series(test_scores,index=pipeline_keys).sort_values().plot(kind='barh',color='black')"
   ]
  },
  {
   "cell_type": "markdown",
   "metadata": {},
   "source": [
    "This is a good way to speed up computations and give you an idea as to how long a particular pipeline takes to train. \n",
    "\n",
    "Here's the corresponding report:"
   ]
  },
  {
   "cell_type": "code",
   "execution_count": null,
   "metadata": {
    "collapsed": false
   },
   "outputs": [],
   "source": [
    "print optimized_pipelines['less_combos_knn']"
   ]
  },
  {
   "cell_type": "markdown",
   "metadata": {},
   "source": [
    "The best parameter combination, of those attempted by RandomizedSearchCV, was 12 nearest neighbors with the 'uniform' weight."
   ]
  },
  {
   "cell_type": "markdown",
   "metadata": {},
   "source": [
    "### Other models\n",
    "\n",
    "This code currently supports K-nearest neighbors, logistic regression, support vector machines, multilayer perceptrons, random forest, and adaboost:"
   ]
  },
  {
   "cell_type": "code",
   "execution_count": null,
   "metadata": {
    "collapsed": false,
    "scrolled": false
   },
   "outputs": [],
   "source": [
    "%%time\n",
    "\n",
    "classifiers = ['knn','logistic_regression','svm',\n",
    "               'multilayer_perceptron','random_forest','adaboost']\n",
    "\n",
    "for estimator in classifiers:\n",
    "    # Set pipeline keyword arguments\n",
    "    optimized_pipeline_kwargs = {}\n",
    "\n",
    "    # Initialize pipeline\n",
    "    optimized_pipeline = ppl.OptimizedPipeline(estimator,**optimized_pipeline_kwargs)\n",
    "    \n",
    "    # Set pipeline fitting parameters\n",
    "    fit_kwargs = {\n",
    "        'random_state': 6,\n",
    "        'suppress_output': True,\n",
    "        'use_default_param_dist': True\n",
    "    }\n",
    "    \n",
    "    # Fit data\n",
    "    optimized_pipeline.fit(X,y,**fit_kwargs)\n",
    "    \n",
    "    # Save \n",
    "    optimized_pipelines[estimator] = optimized_pipeline\n",
    "    \n",
    "# Visualize results\n",
    "pipeline_keys = optimized_pipelines.keys()\n",
    "\n",
    "test_scores = [optimized_pipelines[key].test_score_ for key in pipeline_keys]\n",
    "\n",
    "ax = pd.Series(test_scores,index=pipeline_keys).sort_values().plot(kind='barh',color='black')"
   ]
  },
  {
   "cell_type": "markdown",
   "metadata": {},
   "source": [
    "Logistic regression, random forest, multilayer perceptron, and adaboost outperform KNN, even with all of the attempted pre-processing so far.\n",
    "\n",
    "### Putting it all together\n",
    "Different combinations of these options can be strung together simultaneously to iterate over multiple models:"
   ]
  },
  {
   "cell_type": "code",
   "execution_count": null,
   "metadata": {
    "collapsed": false,
    "scrolled": true
   },
   "outputs": [],
   "source": [
    "%%time\n",
    "\n",
    "import itertools\n",
    "\n",
    "estimators = ['knn','logistic_regression','svm',\n",
    "              'multilayer_perceptron','random_forest','adaboost']\n",
    "\n",
    "feature_interaction_options = [True,False]\n",
    "feature_selection_options = [None,'select_k_best']\n",
    "scaling_options = [None,'standard','normal','min_max','binary']\n",
    "transformations = [None,'pca']\n",
    "\n",
    "pipeline_steps = [feature_interaction_options,feature_selection_options,scaling_options,\n",
    "                  transformations,estimators]\n",
    "\n",
    "pipeline_options = list(itertools.product(*pipeline_steps))\n",
    "\n",
    "optimized_pipelines = {}\n",
    "\n",
    "for pipeline_step_combo in pipeline_options:\n",
    "    model_name = []\n",
    "    \n",
    "    feature_interactions = pipeline_step_combo[0]\n",
    "    \n",
    "    if feature_interactions:\n",
    "        model_name.append('interactions')\n",
    "        \n",
    "    feature_selection_type = pipeline_step_combo[1]\n",
    "    \n",
    "    if feature_selection_type:\n",
    "        model_name.append('select')\n",
    "    \n",
    "    scale_type = pipeline_step_combo[2]\n",
    "    \n",
    "    if scale_type:\n",
    "        model_name.append(scale_type)\n",
    "        \n",
    "    transform_type = pipeline_step_combo[3]\n",
    "    \n",
    "    if transform_type:\n",
    "        model_name.append(transform_type)\n",
    "        \n",
    "    estimator = pipeline_step_combo[4]\n",
    "    \n",
    "    model_name.append(estimator)\n",
    "    \n",
    "    model_name = '_'.join(model_name)\n",
    "    \n",
    "    print model_name\n",
    "    \n",
    "    # Set pipeline keyword arguments\n",
    "    optimized_pipeline_kwargs = {\n",
    "        'feature_selection_type': feature_selection_type,\n",
    "        'scale_type': scale_type,\n",
    "        'feature_interactions': feature_interactions,\n",
    "        'transform_type': transform_type\n",
    "        }\n",
    "\n",
    "    # Initialize pipeline\n",
    "    optimized_pipeline = ppl.OptimizedPipeline(estimator,**optimized_pipeline_kwargs)\n",
    "\n",
    "    # Set pipeline fitting parameters\n",
    "    fit_kwargs = {\n",
    "        'cv': 10,\n",
    "        'num_parameter_combos': None,\n",
    "        'n_jobs': -1,\n",
    "        'random_state': None,\n",
    "        'suppress_output': True,\n",
    "        'use_default_param_dist': True,\n",
    "        'param_dist': None,\n",
    "        'test_size': 0.2 # 20% saved as test set\n",
    "    }\n",
    "\n",
    "    # Fit data\n",
    "    optimized_pipeline.fit(X,y,**fit_kwargs)\n",
    "\n",
    "    # Save optimized pipeline\n",
    "    optimized_pipelines[model_name] = optimized_pipeline"
   ]
  },
  {
   "cell_type": "code",
   "execution_count": null,
   "metadata": {
    "collapsed": false,
    "scrolled": false
   },
   "outputs": [],
   "source": [
    "# Visualize results\n",
    "pipeline_keys = optimized_pipelines.keys()\n",
    "\n",
    "test_scores = [optimized_pipelines[key].test_score_ for key in pipeline_keys]\n",
    "\n",
    "ax = pd.Series(test_scores,index=pipeline_keys).sort_values().plot(kind='barh',color='black',figsize=(10,40))"
   ]
  },
  {
   "cell_type": "code",
   "execution_count": null,
   "metadata": {
    "collapsed": false
   },
   "outputs": [],
   "source": [
    "print optimized_pipelines['min_max_pca_multilayer_perceptron']"
   ]
  },
  {
   "cell_type": "code",
   "execution_count": null,
   "metadata": {
    "collapsed": false
   },
   "outputs": [],
   "source": [
    "len(optimized_pipelines.keys())"
   ]
  },
  {
   "cell_type": "markdown",
   "metadata": {},
   "source": [
    "Out of 240 different possible pipelines, best pipeline, with a test score of 0.899, appears to be min-max scaling between 0 and 1 funneled into a PCA and then into a multilayer perceptron with one hidden layer of size 5.\n",
    "\n",
    "It took roughly 3 hours to find it."
   ]
  },
  {
   "cell_type": "markdown",
   "metadata": {},
   "source": [
    "### Predicting survival with the optimal model\n",
    "All one has to do to make a prediction is use the .predict method of the pipeline in the .pipeline field.\n",
    "\n",
    "Here's an example of predicting whether I would survive on the Titanic. I'm 32, would probably have one family member with me, might be Pclass1 (I'd hope), male, have a Ph.D (if that's what they mean by Dr.). I'm using the median Fare for Pclass 1 and randomly chose a city to have embarked from:"
   ]
  },
  {
   "cell_type": "code",
   "execution_count": null,
   "metadata": {
    "collapsed": false
   },
   "outputs": [],
   "source": [
    "personal_stats = [32,1,0,df[df['Pclass']==1]['Fare'].median(),0,0,1,1,0,1,0,0,0,0,0,0]\n",
    "\n",
    "zip(personal_stats,X.columns)"
   ]
  },
  {
   "cell_type": "code",
   "execution_count": null,
   "metadata": {
    "collapsed": false
   },
   "outputs": [],
   "source": [
    "optimized_pipelines['min_max_pca_multilayer_perceptron'].pipeline.predict(personal_stats)"
   ]
  },
  {
   "cell_type": "markdown",
   "metadata": {},
   "source": [
    "Looks like I died!\n",
    "\n",
    "Let's look at my predicted probability of surviving:"
   ]
  },
  {
   "cell_type": "code",
   "execution_count": null,
   "metadata": {
    "collapsed": false
   },
   "outputs": [],
   "source": [
    "optimized_pipelines['min_max_pca_multilayer_perceptron'].pipeline.predict_proba(personal_stats)"
   ]
  },
  {
   "cell_type": "markdown",
   "metadata": {},
   "source": [
    "I would have a 0.77% chance of survival."
   ]
  },
  {
   "cell_type": "markdown",
   "metadata": {},
   "source": [
    "## Summary\n",
    "I've shown how to use pyplearnr to try out 240 different pipeline combinations validated with stratified 10-folds cross-validation using a combination of simple keyword arguments with some additional customization options. Also, I've shown how to access the model parameters, predict survival, and check the actual predicted probability according to the optimized pipeline.\n",
    "\n",
    "Please let me know if you have any questions or suggestions about how to improve this tool, my code, the approach I'm taking, etc."
   ]
  },
  {
   "cell_type": "code",
   "execution_count": null,
   "metadata": {
    "collapsed": false
   },
   "outputs": [],
   "source": [
    "%%time\n",
    "\n",
    "%matplotlib inline\n",
    "\n",
    "import pyplearnr as ppl\n",
    "\n",
    "repeated_k_folds = []\n",
    "\n",
    "for i in range(100):\n",
    "    # Alert user of step number\n",
    "    print('Step %d/%d'%(i+1,100))\n",
    "    \n",
    "    # Set custom parameters\n",
    "    param_dist = {}\n",
    "\n",
    "    estimator = 'knn'\n",
    "\n",
    "    # Initialize pipeline\n",
    "    optimized_pipeline = ppl.PipelineOptimization(estimator)\n",
    "\n",
    "    # Set pipeline fitting parameters\n",
    "    fit_kwargs = {\n",
    "        'use_default_param_dist': True,\n",
    "        'param_dist': param_dist,\n",
    "    }\n",
    "\n",
    "    # Fit data\n",
    "    optimized_pipeline.fit(X,y,**fit_kwargs)\n",
    "\n",
    "    # Save \n",
    "    repeated_k_folds.append(optimized_pipeline)"
   ]
  },
  {
   "cell_type": "code",
   "execution_count": null,
   "metadata": {
    "collapsed": false
   },
   "outputs": [],
   "source": [
    "data = {\n",
    "    'train scores': [pipeline_optimization.train_score_ \n",
    "                     for pipeline_optimization in repeated_k_folds],\n",
    "    'test scores': [pipeline_optimization.test_score_ \n",
    "                     for pipeline_optimization in repeated_k_folds],\n",
    "}"
   ]
  },
  {
   "cell_type": "code",
   "execution_count": null,
   "metadata": {
    "collapsed": false
   },
   "outputs": [],
   "source": [
    "repeated_kfcv_df = pd.DataFrame(data)"
   ]
  },
  {
   "cell_type": "code",
   "execution_count": null,
   "metadata": {
    "collapsed": false
   },
   "outputs": [],
   "source": [
    "repeated_kfcv_df['test scores'].plot(kind='hist',bins=8,color='grey')\n",
    "repeated_kfcv_df['train scores'].plot(kind='hist',bins=8,color='white')"
   ]
  },
  {
   "cell_type": "code",
   "execution_count": null,
   "metadata": {
    "collapsed": false
   },
   "outputs": [],
   "source": [
    "%%time\n",
    "\n",
    "reload(ppl)\n",
    "\n",
    "%matplotlib inline\n",
    "\n",
    "import pyplearnr as ppl\n",
    "\n",
    "repeated_five_folds = []\n",
    "\n",
    "for i in range(100):\n",
    "    # Alert user of step number\n",
    "    print('Step %d/%d'%(i+1,100))\n",
    "    \n",
    "    # Set custom parameters\n",
    "    param_dist = {}\n",
    "\n",
    "    estimator = 'knn'\n",
    "\n",
    "    # Initialize pipeline\n",
    "    optimized_pipeline = ppl.PipelineOptimization(estimator)\n",
    "\n",
    "    # Set pipeline fitting parameters\n",
    "    fit_kwargs = {\n",
    "        'use_default_param_dist': True,\n",
    "        'param_dist': param_dist,\n",
    "        'cv': 5,\n",
    "        'suppress_output': True\n",
    "    }\n",
    "\n",
    "    # Fit data\n",
    "    optimized_pipeline.fit(X,y,**fit_kwargs)\n",
    "\n",
    "    # Save \n",
    "    repeated_five_folds.append(optimized_pipeline)"
   ]
  },
  {
   "cell_type": "code",
   "execution_count": null,
   "metadata": {
    "collapsed": true
   },
   "outputs": [],
   "source": [
    "data = {\n",
    "    'train scores': [pipeline_optimization.train_score_ \n",
    "                     for pipeline_optimization in repeated_five_folds],\n",
    "    'test scores': [pipeline_optimization.test_score_ \n",
    "                     for pipeline_optimization in repeated_five_folds],\n",
    "}\n",
    "\n",
    "repeated_fivefcv_df = pd.DataFrame(data)"
   ]
  },
  {
   "cell_type": "code",
   "execution_count": null,
   "metadata": {
    "collapsed": false
   },
   "outputs": [],
   "source": [
    "\n",
    "repeated_kfcv_df['test scores'].plot(kind='hist',bins=8,color='grey')\n",
    "repeated_fivefcv_df['test scores'].plot(kind='hist',bins=8,color='red')\n",
    "repeated_kfcv_df['train scores'].plot(kind='hist',bins=8,color='white')\n",
    "\n",
    "repeated_fivefcv_df['train scores'].plot(kind='hist',bins=8,color='blue')"
   ]
  },
  {
   "cell_type": "code",
   "execution_count": null,
   "metadata": {
    "collapsed": false
   },
   "outputs": [],
   "source": [
    "repeated_fivefcv_df['test scores'].plot(kind='hist',bins=8,color='red')\n",
    "repeated_kfcv_df['test scores'].plot(kind='hist',bins=8,color='grey')\n",
    "repeated_kfcv_df['train scores'].plot(kind='hist',bins=8,color='white')\n",
    "\n",
    "repeated_fivefcv_df['train scores'].plot(kind='hist',bins=8,color='blue')"
   ]
  },
  {
   "cell_type": "code",
   "execution_count": null,
   "metadata": {
    "collapsed": true
   },
   "outputs": [],
   "source": [
    "import sys\n",
    "\n",
    "sys.path.append('/Users/cmshymansky/documents/code/library/pairplotr')\n",
    "\n",
    "import pairplotr as ppr"
   ]
  },
  {
   "cell_type": "code",
   "execution_count": null,
   "metadata": {
    "collapsed": false
   },
   "outputs": [],
   "source": [
    "repeated_fivefcv_df.info()"
   ]
  },
  {
   "cell_type": "code",
   "execution_count": null,
   "metadata": {
    "collapsed": false
   },
   "outputs": [],
   "source": [
    "reload(ppr)\n",
    "\n",
    "ppr.compare_data(repeated_fivefcv_df,bins=8,marker_size=10,plot_medians=True)"
   ]
  },
  {
   "cell_type": "code",
   "execution_count": null,
   "metadata": {
    "collapsed": false
   },
   "outputs": [],
   "source": [
    "reload(ppr)\n",
    "\n",
    "ppr.compare_data(repeated_fivefcv_df,bins=8,marker_size=10,plot_medians=True)"
   ]
  },
  {
   "cell_type": "code",
   "execution_count": null,
   "metadata": {
    "collapsed": false
   },
   "outputs": [],
   "source": [
    "repeated_fivefcv_df['train scores'].describe()"
   ]
  },
  {
   "cell_type": "code",
   "execution_count": null,
   "metadata": {
    "collapsed": false
   },
   "outputs": [],
   "source": [
    "from matplotlib import pylab as plt\n",
    "\n",
    "ax = plt.subplot(111)\n",
    "print ax\n",
    "\n",
    "# repeated_fivefcv_df.plot(ax=ax,x='train scores',y='test scores',style='bo')\n",
    "repeated_kfcv_df.plot(ax=ax,x='train scores',y='test scores',style='ro')"
   ]
  },
  {
   "cell_type": "code",
   "execution_count": null,
   "metadata": {
    "collapsed": false
   },
   "outputs": [],
   "source": [
    "print dir(repeated_k_folds[0].grid_search)\n",
    "\n",
    "all_scores = []\n",
    "for x in repeated_k_folds[0].grid_search.grid_scores_:\n",
    "    all_scores.extend(list(x.cv_validation_scores))\n",
    "    print max(x.cv_validation_scores),x.best_score_"
   ]
  },
  {
   "cell_type": "code",
   "execution_count": null,
   "metadata": {
    "collapsed": false
   },
   "outputs": [],
   "source": [
    "\n",
    "print repeated_k_folds[0].grid_search.cv_results_"
   ]
  },
  {
   "cell_type": "code",
   "execution_count": null,
   "metadata": {
    "collapsed": false
   },
   "outputs": [],
   "source": [
    "pd.Series(all_scores).plot(kind='hist',color='grey',bins=8)"
   ]
  },
  {
   "cell_type": "code",
   "execution_count": null,
   "metadata": {
    "collapsed": true
   },
   "outputs": [],
   "source": [
    "def get_bootstrapped_datasets(orig_data_set, num_samples=100, points_per_sample=50):\n",
    "    import random\n",
    "\n",
    "    data_sets = []\n",
    "\n",
    "    for i in range(num_samples):\n",
    "        sample = [random.choice(orig_data_set) for x in range(points_per_sample)]\n",
    "        \n",
    "        data_sets.append(sample)\n",
    "\n",
    "    return data_sets\n",
    "\n",
    "def cdf(aList, x):\n",
    "    ''' 'aList' must be sorted (low to high) '''\n",
    "\n",
    "    returnVal=0\n",
    "    \n",
    "    for v in aList:\n",
    "        if v<=x:\n",
    "            returnVal+=1\n",
    "    \n",
    "    return returnVal/float(len(aList))\n",
    "\n",
    "def inv_cdf(aList, percentile):\n",
    "    ''' 'percentile' is between 0 and 1.\n",
    "        'aList' must be sorted (low to high)\n",
    "    '''\n",
    "    \n",
    "    returnVal = 0\n",
    "    \n",
    "    for i in xrange(len(aList)):\n",
    "        if cdf(aList, aList[i])>=percentile:\n",
    "            returnVal = aList[i]\n",
    "            break\n",
    "    \n",
    "    return returnVal\n",
    "\n",
    "def conf_interval(data_set, alpha=0.05):\n",
    "    data_set.sort()\n",
    "\n",
    "    low_end = inv_cdf(data_set, alpha)\n",
    "    high_end = inv_cdf(data_set, 1-alpha)\n",
    "\n",
    "    return (low_end, high_end)"
   ]
  },
  {
   "cell_type": "code",
   "execution_count": null,
   "metadata": {
    "collapsed": false
   },
   "outputs": [],
   "source": [
    "from matplotlib import pylab as plt\n",
    "\n",
    "bootstrapped_samples = get_bootstrapped_datasets(repeated_fivefcv_df['test scores'].values)\n",
    "\n",
    "avg_vals = [float(sum(l))/len(l) for l in bootstrapped_samples]\n",
    "\n",
    "conf_10000 = conf_interval(avg_vals)\n",
    "\n",
    "pd.Series(avg_vals).hist(bins=10, normed=True)\n",
    "\n",
    "plt.axvspan(conf_10000[0],conf_10000[1],alpha=0.5,color='red')"
   ]
  },
  {
   "cell_type": "code",
   "execution_count": null,
   "metadata": {
    "collapsed": false
   },
   "outputs": [],
   "source": [
    "from sklearn.learning_curve import learning_curve\n",
    "import numpy as np\n",
    "\n",
    "fig, ax = plt.subplots(1,1, figsize=(16, 6))\n",
    "fig.subplots_adjust(left=0.0625, right=0.95, wspace=0.1)\n",
    "\n",
    "\n",
    "N, train_lc, val_lc = learning_curve(optimized_pipeline.pipeline,\n",
    "                                     X, y, cv=5,\n",
    "                                     train_sizes=np.linspace(0.3, 1, 25))\n",
    "\n",
    "ax.plot(N, np.mean(train_lc, 1), color='blue', label='training score')\n",
    "ax.plot(N, np.mean(val_lc, 1), color='red', label='validation score')\n",
    "ax.hlines(np.mean([train_lc[-1], val_lc[-1]]), N[0], N[-1],\n",
    "             color='gray', linestyle='dashed')\n",
    "\n",
    "ax.set_ylim(0, 1)\n",
    "ax.set_xlim(N[0], N[-1])\n",
    "ax.set_xlabel('training size')\n",
    "ax.set_ylabel('score')\n",
    "ax.legend(loc='best')\n",
    "\n",
    "\n",
    "# ax[i].plot(N, np.mean(train_lc, 1), color='blue', label='training score')\n",
    "# ax[i].plot(N, np.mean(val_lc, 1), color='red', label='validation score')\n",
    "# ax[i].hlines(np.mean([train_lc[-1], val_lc[-1]]), N[0], N[-1],\n",
    "#              color='gray', linestyle='dashed')\n",
    "\n",
    "# ax[i].set_ylim(0, 1)\n",
    "# ax[i].set_xlim(N[0], N[-1])\n",
    "# ax[i].set_xlabel('training size')\n",
    "# ax[i].set_ylabel('score')\n",
    "# ax[i].set_title('degree = {0}'.format(degree), size=14)\n",
    "# ax[i].legend(loc='best')"
   ]
  },
  {
   "cell_type": "code",
   "execution_count": null,
   "metadata": {
    "collapsed": false
   },
   "outputs": [],
   "source": []
  },
  {
   "cell_type": "code",
   "execution_count": null,
   "metadata": {
    "collapsed": false
   },
   "outputs": [],
   "source": [
    "train_lc"
   ]
  },
  {
   "cell_type": "code",
   "execution_count": null,
   "metadata": {
    "collapsed": true
   },
   "outputs": [],
   "source": [
    "# Set output feature\n",
    "output_feature = 'diabetes'\n",
    "\n",
    "# Get input features\n",
    "input_features = [x for x in X_interaction.columns if x != output_feature]\n",
    "\n",
    "# Split into features and responses\n",
    "X = X_interaction.copy()\n",
    "y = test_df[output_feature].copy()\n"
   ]
  },
  {
   "cell_type": "code",
   "execution_count": null,
   "metadata": {
    "collapsed": false
   },
   "outputs": [],
   "source": [
    "reload(ppl)\n",
    "\n",
    "ppl.OptimizationBundle().get_options()"
   ]
  },
  {
   "cell_type": "code",
   "execution_count": null,
   "metadata": {
    "collapsed": false
   },
   "outputs": [],
   "source": [
    "%%time\n",
    "\n",
    "estimator = 'knn'\n",
    "\n",
    "# Initialize pipeline\n",
    "optimized_pipeline = ppl.PipelineOptimization(estimator)\n",
    "\n",
    "# Fit data\n",
    "optimized_pipeline.fit(X,y,random_state=6)"
   ]
  },
  {
   "cell_type": "code",
   "execution_count": null,
   "metadata": {
    "collapsed": false
   },
   "outputs": [],
   "source": [
    "import numpy as np\n",
    "\n",
    "from sklearn.cross_validation import train_test_split\n",
    "from sklearn.neighbors import KNeighborsClassifier\n",
    "from sklearn.pipeline import Pipeline\n",
    "\n",
    "import sklearn.metrics as sklearn_metrics\n",
    "\n",
    "X_array = X.copy().values\n",
    "y_array = y.copy().values\n",
    "\n",
    "param_grid = {\n",
    "    'estimator__n_neighbors': range(31), \n",
    "    'estimator__weights': ['uniform', 'distance']\n",
    "}\n",
    "\n",
    "X_train, X_val, y_train, y_val = \\\n",
    "    train_test_split(X_array,y_array,test_size=0.2,random_state=6,stratify=y_array)\n",
    "\n",
    "from sklearn.model_selection import StratifiedKFold\n",
    "\n",
    "kfolds_kwargs = dict(\n",
    "    n_splits=10, \n",
    "    shuffle=True, \n",
    "    random_state=6    \n",
    ")\n",
    "\n",
    "skf = StratifiedKFold(**kfolds_kwargs)\n",
    "\n",
    "fold_optimizations = {}\n",
    "for fold_ind, data_inds in enumerate(skf.split(X_train, y_train)):\n",
    "    fold_optimizations[fold_ind] = {}\n",
    "    \n",
    "    train_index, test_index = data_inds[0],data_inds[1]\n",
    "    \n",
    "    X_train_inner, X_test_inner = X_array[train_index], X_array[test_index]\n",
    "    y_train_inner, y_test_inner = y_array[train_index], y_array[test_index]\n",
    "    \n",
    "    pipeline = Pipeline([('estimator',KNeighborsClassifier(n_neighbors=11,weights='distance'))])\n",
    "    \n",
    "    pipeline.fit(X_train_inner,y_train_inner)\n",
    "    \n",
    "    y_pred_inner = pipeline.predict(X_test_inner)\n",
    "    \n",
    "    confusion_matrix = sklearn_metrics.confusion_matrix(y_test_inner, y_pred_inner)\n",
    "    \n",
    "    score = confusion_matrix.trace()/float(confusion_matrix.sum())\n",
    "    \n",
    "    fold_optimizations[fold_ind]['confusion_matrix'] = confusion_matrix\n",
    "    \n",
    "    fold_optimizations[fold_ind]['score'] = confusion_matrix.trace()/float(confusion_matrix.sum())\n",
    "    fold_optimizations[fold_ind]['pipeline'] = pipeline\n",
    "    \n",
    "print np.array([fold_optimizations[fold_ind]['score'] for fold_ind in fold_optimizations]).mean()\n",
    "\n",
    "y_pred = pipeline.predict(X_val)\n",
    "\n",
    "test_confusion_matrix = sklearn_metrics.confusion_matrix(y_val, y_pred)\n",
    "\n",
    "score = test_confusion_matrix.trace()/float(test_confusion_matrix.sum())\n",
    "\n",
    "print score\n",
    "    \n",
    "# TRAIN: [1 3] TEST: [0 2]\n",
    "# TRAIN: [0 2] TEST: [1 3]"
   ]
  },
  {
   "cell_type": "code",
   "execution_count": null,
   "metadata": {
    "collapsed": false
   },
   "outputs": [],
   "source": []
  },
  {
   "cell_type": "code",
   "execution_count": null,
   "metadata": {
    "collapsed": false
   },
   "outputs": [],
   "source": [
    "fold_optimizations"
   ]
  },
  {
   "cell_type": "code",
   "execution_count": null,
   "metadata": {
    "collapsed": false
   },
   "outputs": [],
   "source": [
    "print dir(optimized_pipeline.grid_search.best_estimator_)"
   ]
  },
  {
   "cell_type": "code",
   "execution_count": null,
   "metadata": {
    "collapsed": false
   },
   "outputs": [],
   "source": [
    "dir(folds[0].named_steps['estimator'])\n"
   ]
  },
  {
   "cell_type": "code",
   "execution_count": null,
   "metadata": {
    "collapsed": true
   },
   "outputs": [],
   "source": []
  }
 ],
 "metadata": {
  "anaconda-cloud": {},
  "kernelspec": {
   "display_name": "Python [default]",
   "language": "python",
   "name": "python2"
  },
  "language_info": {
   "codemirror_mode": {
    "name": "ipython",
    "version": 2
   },
   "file_extension": ".py",
   "mimetype": "text/x-python",
   "name": "python",
   "nbconvert_exporter": "python",
   "pygments_lexer": "ipython2",
   "version": "2.7.12"
  }
 },
 "nbformat": 4,
 "nbformat_minor": 0
}
